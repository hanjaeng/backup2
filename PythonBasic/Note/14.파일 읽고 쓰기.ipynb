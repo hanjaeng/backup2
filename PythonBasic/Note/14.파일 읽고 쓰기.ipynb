{
 "cells": [
  {
   "cell_type": "markdown",
   "metadata": {},
   "source": [
    "### 파일 읽고 쓰기:\n",
    "파일 객체 = open(파일이름, 파일열기 모드)\n",
    "- 파일 열기모드 : r,w,a"
   ]
  },
  {
   "cell_type": "code",
   "execution_count": 3,
   "metadata": {},
   "outputs": [],
   "source": [
    "# 파일을 쓰기모드로 열어 출력값 저장하기\n",
    "f = open(\"../Data/new.txt\", \"w\")\n",
    "for i in range(1,11):\n",
    "    data = f\"{i}번쨰 줄 입니다.\\n\"\n",
    "    f.write(data)\n",
    "\n",
    "f.close()"
   ]
  },
  {
   "cell_type": "code",
   "execution_count": 4,
   "metadata": {},
   "outputs": [
    {
     "name": "stdout",
     "output_type": "stream",
     "text": [
      "1번쨰 줄 입니다.\n",
      "\n",
      "2번쨰 줄 입니다.\n",
      "\n",
      "3번쨰 줄 입니다.\n",
      "\n",
      "4번쨰 줄 입니다.\n",
      "\n",
      "5번쨰 줄 입니다.\n",
      "\n",
      "6번쨰 줄 입니다.\n",
      "\n",
      "7번쨰 줄 입니다.\n",
      "\n",
      "8번쨰 줄 입니다.\n",
      "\n",
      "9번쨰 줄 입니다.\n",
      "\n",
      "10번쨰 줄 입니다.\n",
      "\n"
     ]
    }
   ],
   "source": [
    "f = open(\"../Data/new.txt\", \"r\")\n",
    "\n",
    "while True:\n",
    "    line = f.readline()\n",
    "    if not line:\n",
    "        break\n",
    "    print(line)\n",
    "\n",
    "f.close()"
   ]
  },
  {
   "cell_type": "code",
   "execution_count": 5,
   "metadata": {},
   "outputs": [
    {
     "name": "stdout",
     "output_type": "stream",
     "text": [
      "1번쨰 줄 입니다.\n",
      "\n",
      "2번쨰 줄 입니다.\n",
      "\n",
      "3번쨰 줄 입니다.\n",
      "\n",
      "4번쨰 줄 입니다.\n",
      "\n",
      "5번쨰 줄 입니다.\n",
      "\n",
      "6번쨰 줄 입니다.\n",
      "\n",
      "7번쨰 줄 입니다.\n",
      "\n",
      "8번쨰 줄 입니다.\n",
      "\n",
      "9번쨰 줄 입니다.\n",
      "\n",
      "10번쨰 줄 입니다.\n",
      "\n"
     ]
    }
   ],
   "source": [
    "f = open(\"../Data/new.txt\", \"r\")\n",
    "\n",
    "lines = f.readlines()\n",
    "f.close()\n",
    "\n",
    "for line in lines:\n",
    "    print(line)"
   ]
  },
  {
   "cell_type": "code",
   "execution_count": 6,
   "metadata": {},
   "outputs": [
    {
     "name": "stdout",
     "output_type": "stream",
     "text": [
      "1번쨰 줄 입니다.\n",
      "2번쨰 줄 입니다.\n",
      "3번쨰 줄 입니다.\n",
      "4번쨰 줄 입니다.\n",
      "5번쨰 줄 입니다.\n",
      "6번쨰 줄 입니다.\n",
      "7번쨰 줄 입니다.\n",
      "8번쨰 줄 입니다.\n",
      "9번쨰 줄 입니다.\n",
      "10번쨰 줄 입니다.\n",
      "\n"
     ]
    }
   ],
   "source": [
    "f = open(\"../Data/new.txt\", \"r\")\n",
    "\n",
    "data = f.read()\n",
    "f.close()\n",
    "print(data)"
   ]
  },
  {
   "cell_type": "code",
   "execution_count": null,
   "metadata": {},
   "outputs": [],
   "source": [
    "# 파일에 새로운 내용 추가하기\n",
    "f = open(\"../Data/new.txt\", \"a\")"
   ]
  },
  {
   "cell_type": "markdown",
   "metadata": {},
   "source": [
    "---\n",
    "### with문\n",
    ": 파일의 열고 닫음을 자동으로 처리하기 위해 사용되면 with문을 벗어나면 자동으로 close()"
   ]
  },
  {
   "cell_type": "code",
   "execution_count": 12,
   "metadata": {},
   "outputs": [],
   "source": [
    "with open(\"../Data/new2.txt\", \"w\") as f:\n",
    "    for i in range(1,11):\n",
    "        data = f\"{i}번쨰 줄입니다. \\n\"\n",
    "        f.write(data)"
   ]
  },
  {
   "cell_type": "code",
   "execution_count": 13,
   "metadata": {},
   "outputs": [
    {
     "name": "stdout",
     "output_type": "stream",
     "text": [
      "1번쨰 줄입니다. \n",
      "2번쨰 줄입니다. \n",
      "3번쨰 줄입니다. \n",
      "4번쨰 줄입니다. \n",
      "5번쨰 줄입니다. \n",
      "6번쨰 줄입니다. \n",
      "7번쨰 줄입니다. \n",
      "8번쨰 줄입니다. \n",
      "9번쨰 줄입니다. \n",
      "10번쨰 줄입니다. \n",
      "\n"
     ]
    }
   ],
   "source": [
    "# 파일 읽기\n",
    "with open(\"../Data/new2.txt\", \"r\") as f:\n",
    "    data = f.read()\n",
    "    print(data)"
   ]
  },
  {
   "cell_type": "markdown",
   "metadata": {},
   "source": [
    "### Pandas로 불러오기"
   ]
  },
  {
   "cell_type": "code",
   "execution_count": 14,
   "metadata": {},
   "outputs": [],
   "source": [
    "import pandas as pd"
   ]
  },
  {
   "cell_type": "code",
   "execution_count": 16,
   "metadata": {},
   "outputs": [
    {
     "data": {
      "text/html": [
       "<div>\n",
       "<style scoped>\n",
       "    .dataframe tbody tr th:only-of-type {\n",
       "        vertical-align: middle;\n",
       "    }\n",
       "\n",
       "    .dataframe tbody tr th {\n",
       "        vertical-align: top;\n",
       "    }\n",
       "\n",
       "    .dataframe thead th {\n",
       "        text-align: right;\n",
       "    }\n",
       "</style>\n",
       "<table border=\"1\" class=\"dataframe\">\n",
       "  <thead>\n",
       "    <tr style=\"text-align: right;\">\n",
       "      <th></th>\n",
       "      <th>0</th>\n",
       "    </tr>\n",
       "  </thead>\n",
       "  <tbody>\n",
       "    <tr>\n",
       "      <th>0</th>\n",
       "      <td>1번쨰 줄입니다.</td>\n",
       "    </tr>\n",
       "    <tr>\n",
       "      <th>1</th>\n",
       "      <td>2번쨰 줄입니다.</td>\n",
       "    </tr>\n",
       "    <tr>\n",
       "      <th>2</th>\n",
       "      <td>3번쨰 줄입니다.</td>\n",
       "    </tr>\n",
       "    <tr>\n",
       "      <th>3</th>\n",
       "      <td>4번쨰 줄입니다.</td>\n",
       "    </tr>\n",
       "    <tr>\n",
       "      <th>4</th>\n",
       "      <td>5번쨰 줄입니다.</td>\n",
       "    </tr>\n",
       "    <tr>\n",
       "      <th>5</th>\n",
       "      <td>6번쨰 줄입니다.</td>\n",
       "    </tr>\n",
       "    <tr>\n",
       "      <th>6</th>\n",
       "      <td>7번쨰 줄입니다.</td>\n",
       "    </tr>\n",
       "    <tr>\n",
       "      <th>7</th>\n",
       "      <td>8번쨰 줄입니다.</td>\n",
       "    </tr>\n",
       "    <tr>\n",
       "      <th>8</th>\n",
       "      <td>9번쨰 줄입니다.</td>\n",
       "    </tr>\n",
       "    <tr>\n",
       "      <th>9</th>\n",
       "      <td>10번쨰 줄입니다.</td>\n",
       "    </tr>\n",
       "  </tbody>\n",
       "</table>\n",
       "</div>"
      ],
      "text/plain": [
       "             0\n",
       "0   1번쨰 줄입니다. \n",
       "1   2번쨰 줄입니다. \n",
       "2   3번쨰 줄입니다. \n",
       "3   4번쨰 줄입니다. \n",
       "4   5번쨰 줄입니다. \n",
       "5   6번쨰 줄입니다. \n",
       "6   7번쨰 줄입니다. \n",
       "7   8번쨰 줄입니다. \n",
       "8   9번쨰 줄입니다. \n",
       "9  10번쨰 줄입니다. "
      ]
     },
     "execution_count": 16,
     "metadata": {},
     "output_type": "execute_result"
    }
   ],
   "source": [
    "# txt file 불러오기\n",
    "txtSample = pd.read_table(\"../Data/new.txt\", header= None)\n",
    "txtSample"
   ]
  },
  {
   "cell_type": "code",
   "execution_count": 17,
   "metadata": {},
   "outputs": [],
   "source": [
    "# txt file로 저장하기\n",
    "txtSample.to_string(\"../Data/sample.txt\", index = False, header=None)"
   ]
  },
  {
   "cell_type": "code",
   "execution_count": null,
   "metadata": {},
   "outputs": [],
   "source": []
  }
 ],
 "metadata": {
  "kernelspec": {
   "display_name": "base",
   "language": "python",
   "name": "python3"
  },
  "language_info": {
   "codemirror_mode": {
    "name": "ipython",
    "version": 3
   },
   "file_extension": ".py",
   "mimetype": "text/x-python",
   "name": "python",
   "nbconvert_exporter": "python",
   "pygments_lexer": "ipython3",
   "version": "3.12.4"
  }
 },
 "nbformat": 4,
 "nbformat_minor": 2
}
