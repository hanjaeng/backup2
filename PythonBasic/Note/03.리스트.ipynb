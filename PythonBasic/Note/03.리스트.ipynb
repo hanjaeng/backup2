{
 "cells": [
  {
   "cell_type": "markdown",
   "metadata": {},
   "source": [
    "### 리스트(List) 자료형\n",
    "- 숫자나 문자의 모음을 하나의 자료형으로 표현하기 위해 사용\n",
    "- 표현 방법 : 리스트명 = [요소1, 요소2, ...]"
   ]
  },
  {
   "cell_type": "code",
   "execution_count": 7,
   "metadata": {},
   "outputs": [
    {
     "name": "stdout",
     "output_type": "stream",
     "text": [
      "[]\n",
      "[1, 2, 3]\n",
      "['I', 'have', 'a', 'dream']\n",
      "[1, 2, 'Dream', True]\n",
      "[1, 2, ['Dream', True]]\n"
     ]
    }
   ],
   "source": [
    "var01 = []\n",
    "var02 = [1,2,3]\n",
    "var03 = ['I','have','a','dream']\n",
    "var04 = [1,2,'Dream',True]\n",
    "var05 = [1,2,['Dream', True]]\n",
    "print(var01)\n",
    "print(var02)\n",
    "print(var03)\n",
    "print(var04)\n",
    "print(var05)\n"
   ]
  },
  {
   "cell_type": "code",
   "execution_count": 8,
   "metadata": {},
   "outputs": [
    {
     "name": "stdout",
     "output_type": "stream",
     "text": [
      "Dream\n"
     ]
    }
   ],
   "source": [
    "print(var05[2][0])"
   ]
  },
  {
   "cell_type": "code",
   "execution_count": 9,
   "metadata": {},
   "outputs": [
    {
     "data": {
      "text/plain": [
       "3"
      ]
     },
     "execution_count": 9,
     "metadata": {},
     "output_type": "execute_result"
    }
   ],
   "source": [
    "# 리스트의 계산\n",
    "var02[0] + var02[1]"
   ]
  },
  {
   "cell_type": "code",
   "execution_count": 21,
   "metadata": {},
   "outputs": [
    {
     "name": "stdout",
     "output_type": "stream",
     "text": [
      "Dream\n"
     ]
    }
   ],
   "source": [
    "var = [1,2, ['a', 'b', ['Dream', True]]]\n",
    "print(var[2][2][0])"
   ]
  },
  {
   "cell_type": "code",
   "execution_count": 20,
   "metadata": {},
   "outputs": [
    {
     "name": "stdout",
     "output_type": "stream",
     "text": [
      "[1, 2]\n"
     ]
    }
   ],
   "source": [
    "# [1,2]\n",
    "print(var[0:2])"
   ]
  },
  {
   "cell_type": "code",
   "execution_count": 23,
   "metadata": {},
   "outputs": [
    {
     "name": "stdout",
     "output_type": "stream",
     "text": [
      "[['a', 'b', ['Dream', True]]]\n"
     ]
    }
   ],
   "source": [
    "# [['a','b',['Dream', True]]]\n",
    "# 인덱싱과 슬라이싱은 출력이 다르다?\n",
    "#print(var[-1]) >> ['a', 'b', ['Dream', True]]\n",
    "print(var[2:3])"
   ]
  },
  {
   "cell_type": "code",
   "execution_count": 18,
   "metadata": {},
   "outputs": [
    {
     "name": "stdout",
     "output_type": "stream",
     "text": [
      "b\n"
     ]
    }
   ],
   "source": [
    "# b\n",
    "print(var[-1][1])"
   ]
  },
  {
   "cell_type": "markdown",
   "metadata": {},
   "source": [
    "## 리스트의 연산자"
   ]
  },
  {
   "cell_type": "code",
   "execution_count": 26,
   "metadata": {},
   "outputs": [
    {
     "data": {
      "text/plain": [
       "[1, 2, 3, 4, 5, 6]"
      ]
     },
     "execution_count": 26,
     "metadata": {},
     "output_type": "execute_result"
    }
   ],
   "source": [
    "# 리스트의 숫자 합치기\n",
    "var01 = [1,2,3]\n",
    "var02 = [4,5,6]\n",
    "var01 + var02"
   ]
  },
  {
   "cell_type": "code",
   "execution_count": 29,
   "metadata": {},
   "outputs": [
    {
     "name": "stdout",
     "output_type": "stream",
     "text": [
      "5\n",
      "7\n",
      "9\n"
     ]
    }
   ],
   "source": [
    "for i in range(0, len(var01)):\n",
    "    print(var01[i] + var02[i])"
   ]
  },
  {
   "cell_type": "code",
   "execution_count": 31,
   "metadata": {},
   "outputs": [
    {
     "name": "stdout",
     "output_type": "stream",
     "text": [
      "[1, 2, 3]\n",
      "[1, 2, 3, 1, 2, 3, 1, 2, 3]\n"
     ]
    }
   ],
   "source": [
    "# 리스트의 반복 숫자\n",
    "\n",
    "# 값을 건드릴떄는 [](index?)로만 접근 가능\n",
    "print(var01)\n",
    "print(var01 * 3)"
   ]
  },
  {
   "cell_type": "code",
   "execution_count": 36,
   "metadata": {},
   "outputs": [
    {
     "name": "stdout",
     "output_type": "stream",
     "text": [
      "10\n",
      "20\n",
      "30\n"
     ]
    }
   ],
   "source": [
    "# 리스트의 곱셈\n",
    "# 1,2,3 -> 10,20,30\n",
    "q1 = [1,2,3]\n",
    "for i in range(len(q1)):\n",
    "    print(q1[i]*10)"
   ]
  },
  {
   "cell_type": "code",
   "execution_count": 38,
   "metadata": {},
   "outputs": [
    {
     "data": {
      "text/plain": [
       "['a', 'b', 'c', 'a', 'b', 'c', 'a', 'b', 'c']"
      ]
     },
     "execution_count": 38,
     "metadata": {},
     "output_type": "execute_result"
    }
   ],
   "source": [
    "var01 = ['a', 'b', 'c']\n",
    "var02 = ['e', 'f', 'g']\n",
    "var01+var02\n",
    "var01 *3"
   ]
  },
  {
   "cell_type": "code",
   "execution_count": 40,
   "metadata": {},
   "outputs": [
    {
     "data": {
      "text/plain": [
       "'3hi'"
      ]
     },
     "execution_count": 40,
     "metadata": {},
     "output_type": "execute_result"
    }
   ],
   "source": [
    "# '3hi'\n",
    "var = [1,2,3]\n",
    "str(var[2]) + \"hi\" # 숫자와 문자 합치기 불가\n"
   ]
  },
  {
   "cell_type": "code",
   "execution_count": 42,
   "metadata": {},
   "outputs": [
    {
     "name": "stdout",
     "output_type": "stream",
     "text": [
      "True\n",
      "False\n"
     ]
    }
   ],
   "source": [
    "#리스트 요소 존재 여부 확인\n",
    "list01 = [1,2,3,4,5]\n",
    "\n",
    "print(3 in list01)\n",
    "print(7 in list01)"
   ]
  },
  {
   "cell_type": "markdown",
   "metadata": {},
   "source": [
    "### 리스트의 수정과 삭제\n"
   ]
  },
  {
   "cell_type": "code",
   "execution_count": 44,
   "metadata": {},
   "outputs": [
    {
     "data": {
      "text/plain": [
       "[1, 2, 4]"
      ]
     },
     "execution_count": 44,
     "metadata": {},
     "output_type": "execute_result"
    }
   ],
   "source": [
    "var = [1,2,3]\n",
    "var[2] = 4\n",
    "var"
   ]
  },
  {
   "cell_type": "code",
   "execution_count": 45,
   "metadata": {},
   "outputs": [
    {
     "data": {
      "text/plain": [
       "[1, ['a', 'b', 'c'], 4]"
      ]
     },
     "execution_count": 45,
     "metadata": {},
     "output_type": "execute_result"
    }
   ],
   "source": [
    "var[1] = ['a','b','c']\n",
    "var"
   ]
  },
  {
   "cell_type": "code",
   "execution_count": 46,
   "metadata": {},
   "outputs": [
    {
     "data": {
      "text/plain": [
       "[1, 'a', 'b', 'c', 4]"
      ]
     },
     "execution_count": 46,
     "metadata": {},
     "output_type": "execute_result"
    }
   ],
   "source": [
    "var[1:2] = ['a','b','c'] # 범위와 요소는 다르다. 범위 : 데이터, 요소 : 인덱스\n",
    "var"
   ]
  },
  {
   "cell_type": "code",
   "execution_count": 47,
   "metadata": {},
   "outputs": [
    {
     "data": {
      "text/plain": [
       "[1, 'c', 4]"
      ]
     },
     "execution_count": 47,
     "metadata": {},
     "output_type": "execute_result"
    }
   ],
   "source": [
    "var[1:3] = []\n",
    "var"
   ]
  },
  {
   "cell_type": "code",
   "execution_count": 48,
   "metadata": {},
   "outputs": [
    {
     "data": {
      "text/plain": [
       "[1, 4]"
      ]
     },
     "execution_count": 48,
     "metadata": {},
     "output_type": "execute_result"
    }
   ],
   "source": [
    "del var[1]\n",
    "var"
   ]
  },
  {
   "cell_type": "code",
   "execution_count": 55,
   "metadata": {},
   "outputs": [
    {
     "name": "stdout",
     "output_type": "stream",
     "text": [
      "[100, 200, 300, 400, 500, 600, 700]\n"
     ]
    }
   ],
   "source": [
    "# [100,200,300,400,500,600,700]\n",
    "varEx = list(range(100, 701, 100))\n",
    "print(varEx)"
   ]
  },
  {
   "cell_type": "code",
   "execution_count": 59,
   "metadata": {},
   "outputs": [
    {
     "name": "stdout",
     "output_type": "stream",
     "text": [
      "[100, 300, 400, 500, 600, 700]\n"
     ]
    }
   ],
   "source": [
    "# 200 삭제하기\n",
    "del varEx[1]\n",
    "print(varEx)"
   ]
  },
  {
   "cell_type": "code",
   "execution_count": 60,
   "metadata": {},
   "outputs": [
    {
     "name": "stdout",
     "output_type": "stream",
     "text": [
      "[100, 600, 700]\n"
     ]
    }
   ],
   "source": [
    "# 300,400,500 삭제하기\n",
    "del varEx[1:4]\n",
    "print(varEx)"
   ]
  },
  {
   "cell_type": "code",
   "execution_count": 65,
   "metadata": {},
   "outputs": [
    {
     "name": "stdout",
     "output_type": "stream",
     "text": [
      "[100, 200, 300, 400, 500, 600, 700]\n"
     ]
    }
   ],
   "source": [
    "del varEx[6]\n",
    "print(varEx)"
   ]
  },
  {
   "cell_type": "code",
   "execution_count": 63,
   "metadata": {},
   "outputs": [
    {
     "name": "stdout",
     "output_type": "stream",
     "text": [
      "[100, 200, 300, 400, 500, 600, 300, 400, 500, 600, 700]\n"
     ]
    }
   ],
   "source": [
    "# 원래 상태로 복원하기\n",
    "del varEx[6:9]\n",
    "varEx[1:2] = [200,300,400,500,600]\n",
    "print(varEx)"
   ]
  },
  {
   "cell_type": "code",
   "execution_count": 66,
   "metadata": {},
   "outputs": [
    {
     "data": {
      "text/plain": [
       "[1, 2, 3, 4]"
      ]
     },
     "execution_count": 66,
     "metadata": {},
     "output_type": "execute_result"
    }
   ],
   "source": [
    "# 리스트에 요소 추가 : 정수\n",
    "var = [1,2,3]\n",
    "var.append(4)\n",
    "var"
   ]
  },
  {
   "cell_type": "code",
   "execution_count": 67,
   "metadata": {},
   "outputs": [
    {
     "data": {
      "text/plain": [
       "[1, 2, 3, 4, [5, 6]]"
      ]
     },
     "execution_count": 67,
     "metadata": {},
     "output_type": "execute_result"
    }
   ],
   "source": [
    "# 리스트에 요소 추가 : 리스트\n",
    "var.append([5,6])\n",
    "var"
   ]
  },
  {
   "cell_type": "code",
   "execution_count": 70,
   "metadata": {},
   "outputs": [
    {
     "name": "stdout",
     "output_type": "stream",
     "text": [
      "[1, 4, 3, 2]\n",
      "[1, 2, 3, 4]\n",
      "[4, 3, 2, 1]\n"
     ]
    }
   ],
   "source": [
    "# 리스트 정수 정렬\n",
    "var = [1,4,3,2]\n",
    "print(var)\n",
    "\n",
    "# 오름차순 정렬\n",
    "var.sort()\n",
    "print(var)\n",
    "\n",
    "# 내림 차순 정렬\n",
    "var.reverse()\n",
    "print(var)"
   ]
  },
  {
   "cell_type": "code",
   "execution_count": 71,
   "metadata": {},
   "outputs": [
    {
     "name": "stdout",
     "output_type": "stream",
     "text": [
      "['a', 'c', 'b']\n",
      "['a', 'b', 'c']\n",
      "['c', 'b', 'a']\n"
     ]
    }
   ],
   "source": [
    "# 리스트 문자 정렬\n",
    "var = ['a','c','b']\n",
    "print(var)\n",
    "\n",
    "# 오름차순 정렬\n",
    "var.sort()\n",
    "print(var)\n",
    "\n",
    "# 내림 차순 정렬\n",
    "var.reverse()\n",
    "print(var)"
   ]
  },
  {
   "cell_type": "code",
   "execution_count": 72,
   "metadata": {},
   "outputs": [
    {
     "name": "stdout",
     "output_type": "stream",
     "text": [
      "['대', '한', '민', '국']\n",
      "['국', '대', '민', '한']\n",
      "['한', '민', '대', '국']\n"
     ]
    }
   ],
   "source": [
    "# 리스트 한글 정렬\n",
    "var = ['대','한','민', '국']\n",
    "print(var)\n",
    "\n",
    "# 오름차순 정렬\n",
    "var.sort()\n",
    "print(var)\n",
    "\n",
    "# 내림 차순 정렬\n",
    "var.reverse()\n",
    "print(var)"
   ]
  },
  {
   "cell_type": "code",
   "execution_count": 73,
   "metadata": {},
   "outputs": [
    {
     "data": {
      "text/plain": [
       "1"
      ]
     },
     "execution_count": 73,
     "metadata": {},
     "output_type": "execute_result"
    }
   ],
   "source": [
    "# 리스트의 위치 정보\n",
    "var = [4,5,6]\n",
    "var.index(5)"
   ]
  },
  {
   "cell_type": "code",
   "execution_count": 74,
   "metadata": {},
   "outputs": [
    {
     "name": "stdout",
     "output_type": "stream",
     "text": [
      "[4, 1, 2, 3]\n"
     ]
    }
   ],
   "source": [
    "# 리스트에 요소 삽입\n",
    "var = [1,2,3]\n",
    "var.insert(0, 4) #(인덱스, 넣을 값)\n",
    "print(var)"
   ]
  },
  {
   "cell_type": "code",
   "execution_count": 75,
   "metadata": {},
   "outputs": [
    {
     "data": {
      "text/plain": [
       "[1, 3]"
      ]
     },
     "execution_count": 75,
     "metadata": {},
     "output_type": "execute_result"
    }
   ],
   "source": [
    "# 리스트에 요소 제거\n",
    "var = [1,2,3]\n",
    "var.remove(2) # ('값이 2인 요소를 제거')\n",
    "var"
   ]
  },
  {
   "cell_type": "code",
   "execution_count": 76,
   "metadata": {},
   "outputs": [
    {
     "name": "stdout",
     "output_type": "stream",
     "text": [
      "3\n",
      "[1, 2]\n"
     ]
    }
   ],
   "source": [
    "# 리스트 요소 끄집어 내기\n",
    "var = [1,2,3]\n",
    "print(var.pop()) # pop() 맨 끝 없앰\n",
    "print(var)"
   ]
  },
  {
   "cell_type": "code",
   "execution_count": 77,
   "metadata": {},
   "outputs": [
    {
     "name": "stdout",
     "output_type": "stream",
     "text": [
      "3\n",
      "[1, 2]\n",
      "2\n",
      "[1]\n",
      "1\n",
      "[]\n"
     ]
    }
   ],
   "source": [
    "var = [1,2,3]\n",
    "for i in range(0,3):\n",
    "    print(var.pop())\n",
    "    print(var)"
   ]
  },
  {
   "cell_type": "code",
   "execution_count": 78,
   "metadata": {},
   "outputs": [
    {
     "name": "stdout",
     "output_type": "stream",
     "text": [
      "2\n",
      "[1, 3]\n"
     ]
    }
   ],
   "source": [
    "# 원하는 위치를 pop 하기\n",
    "var = [1,2,3]\n",
    "print(var.pop(1)) # 1번 인덱스 값 제거\n",
    "print(var)"
   ]
  },
  {
   "cell_type": "code",
   "execution_count": 80,
   "metadata": {},
   "outputs": [
    {
     "name": "stdout",
     "output_type": "stream",
     "text": [
      "2\n",
      "5\n"
     ]
    }
   ],
   "source": [
    "# 리스트의 요소 개수 세기\n",
    "var = [1,2,3,4,4]\n",
    "print(var.count(4))\n",
    "print(len(var))"
   ]
  },
  {
   "cell_type": "code",
   "execution_count": 81,
   "metadata": {},
   "outputs": [
    {
     "data": {
      "text/plain": [
       "[1, 2, 3, 4, 5, 6]"
      ]
     },
     "execution_count": 81,
     "metadata": {},
     "output_type": "execute_result"
    }
   ],
   "source": [
    "# 리스트의 확장\n",
    "var = [1,2,3]\n",
    "var.extend([4,5,6])\n",
    "var"
   ]
  },
  {
   "cell_type": "code",
   "execution_count": 82,
   "metadata": {},
   "outputs": [
    {
     "data": {
      "text/plain": [
       "55"
      ]
     },
     "execution_count": 82,
     "metadata": {},
     "output_type": "execute_result"
    }
   ],
   "source": [
    "evenVar = list(range(2,11,2))\n",
    "oddVar = list(range(1,10,2))\n",
    "evenVar.extend(oddVar)\n",
    "sum(evenVar)"
   ]
  },
  {
   "cell_type": "code",
   "execution_count": 84,
   "metadata": {},
   "outputs": [
    {
     "name": "stdout",
     "output_type": "stream",
     "text": [
      "Hello World! My name is Alice and I'm 30 years old.\n"
     ]
    }
   ],
   "source": [
    "# Hello World! My name is Alice and I'm 30 years old. <- 출력\n",
    "list01 = [1, 3.14, 'Hello World!', True, [170,50,30], ['Alice', 'Cathy']]\n",
    "\n",
    "print(f\"{list01[2]} My name is {list01[5][0]} and I'm {list01[4][2]} years old.\")"
   ]
  },
  {
   "cell_type": "markdown",
   "metadata": {},
   "source": [
    "### 리스트의 복사"
   ]
  },
  {
   "cell_type": "code",
   "execution_count": 85,
   "metadata": {},
   "outputs": [
    {
     "name": "stdout",
     "output_type": "stream",
     "text": [
      "1 1\n"
     ]
    }
   ],
   "source": [
    "var01 = 1\n",
    "var02 = 1\n",
    "print(var01, var02)"
   ]
  },
  {
   "cell_type": "code",
   "execution_count": 86,
   "metadata": {},
   "outputs": [
    {
     "name": "stdout",
     "output_type": "stream",
     "text": [
      "1 1\n",
      "3 1\n"
     ]
    }
   ],
   "source": [
    "var01 = var02 = 1\n",
    "print(var01, var02)\n",
    "\n",
    "var01 = 3\n",
    "print(var01, var02)"
   ]
  },
  {
   "cell_type": "markdown",
   "metadata": {},
   "source": [
    "1. Call by Reference"
   ]
  },
  {
   "cell_type": "code",
   "execution_count": 87,
   "metadata": {},
   "outputs": [],
   "source": [
    "var01 = [1,2,3,4]\n",
    "var02 = var01"
   ]
  },
  {
   "cell_type": "code",
   "execution_count": 88,
   "metadata": {},
   "outputs": [
    {
     "data": {
      "text/plain": [
       "[10, 2, 3, 4]"
      ]
     },
     "execution_count": 88,
     "metadata": {},
     "output_type": "execute_result"
    }
   ],
   "source": [
    "var02[0] = 10\n",
    "var01"
   ]
  },
  {
   "cell_type": "markdown",
   "metadata": {},
   "source": [
    "2. Call by Value"
   ]
  },
  {
   "cell_type": "code",
   "execution_count": 92,
   "metadata": {},
   "outputs": [],
   "source": [
    "var01 = [1,2,3,4]\n",
    "var02 = var01.copy()\n"
   ]
  },
  {
   "cell_type": "code",
   "execution_count": 93,
   "metadata": {},
   "outputs": [
    {
     "name": "stdout",
     "output_type": "stream",
     "text": [
      "[1, 2, 3, 4]\n",
      "[10, 2, 3, 4]\n"
     ]
    }
   ],
   "source": [
    "var02[0] = 10\n",
    "print(var01)\n",
    "print(var02)"
   ]
  },
  {
   "cell_type": "code",
   "execution_count": null,
   "metadata": {},
   "outputs": [],
   "source": []
  }
 ],
 "metadata": {
  "kernelspec": {
   "display_name": "base",
   "language": "python",
   "name": "python3"
  },
  "language_info": {
   "codemirror_mode": {
    "name": "ipython",
    "version": 3
   },
   "file_extension": ".py",
   "mimetype": "text/x-python",
   "name": "python",
   "nbconvert_exporter": "python",
   "pygments_lexer": "ipython3",
   "version": "3.12.4"
  }
 },
 "nbformat": 4,
 "nbformat_minor": 2
}
