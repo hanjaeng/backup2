{
 "cells": [
  {
   "cell_type": "markdown",
   "metadata": {},
   "source": [
    "### 동전의 앞면 뒷면"
   ]
  },
  {
   "cell_type": "code",
   "execution_count": 1,
   "metadata": {},
   "outputs": [],
   "source": [
    "import random"
   ]
  },
  {
   "cell_type": "code",
   "execution_count": 2,
   "metadata": {},
   "outputs": [
    {
     "data": {
      "text/plain": [
       "10"
      ]
     },
     "execution_count": 2,
     "metadata": {},
     "output_type": "execute_result"
    }
   ],
   "source": [
    "random.randint(1,10)"
   ]
  },
  {
   "cell_type": "code",
   "execution_count": 41,
   "metadata": {},
   "outputs": [],
   "source": [
    "def coinF(n):\n",
    "    x = []\n",
    "    frontcount = 0\n",
    "    backcount = 0\n",
    "    for i in (1,n+1):\n",
    "        x = random.randint(1,2)\n",
    "        if x == 1:\n",
    "            frontcount +=1\n",
    "        else:\n",
    "            backcount +=1\n",
    "    print(\"%7d번 시도시 동전의 앞면은 %6d번이고 동전의 뒷면은 %6d번 입니다.\"%(n, frontcount, backcount))"
   ]
  },
  {
   "cell_type": "code",
   "execution_count": 33,
   "metadata": {},
   "outputs": [
    {
     "name": "stdout",
     "output_type": "stream",
     "text": [
      "뒷면\n"
     ]
    }
   ],
   "source": [
    "x = random.randint(1,2)\n",
    "if x == 1:\n",
    "    result = \"앞면\"\n",
    "else:\n",
    "    result = \"뒷면\"\n",
    "print(result)"
   ]
  },
  {
   "cell_type": "code",
   "execution_count": 42,
   "metadata": {},
   "outputs": [
    {
     "name": "stdout",
     "output_type": "stream",
     "text": [
      "     10번 시도시 동전의 앞면은      0번이고 동전의 뒷면은      2번 입니다.\n",
      "    100번 시도시 동전의 앞면은      1번이고 동전의 뒷면은      1번 입니다.\n",
      "   1000번 시도시 동전의 앞면은      1번이고 동전의 뒷면은      1번 입니다.\n",
      "  10000번 시도시 동전의 앞면은      1번이고 동전의 뒷면은      1번 입니다.\n"
     ]
    }
   ],
   "source": [
    "coinF(10)\n",
    "coinF(100)\n",
    "coinF(1000)\n",
    "coinF(10000)"
   ]
  },
  {
   "cell_type": "markdown",
   "metadata": {},
   "source": [
    "### 주사위"
   ]
  },
  {
   "cell_type": "code",
   "execution_count": 77,
   "metadata": {},
   "outputs": [],
   "source": [
    "def dice(n):\n",
    "    dicecount = [0,0,0,0,0,0]\n",
    "\n",
    "\n",
    "    for i in range(1, n+1):\n",
    "        x = random.randint(1,6)\n",
    "        dicecount[x-1] += 1\n",
    "\n",
    "    print(f\"{n}번 시도시 ==>\")\n",
    "    for i in range(0,6,3):\n",
    "        print(f\"{i+1}은 {dicecount[i]}번 검출 | {i+2}은 {dicecount[i+1]}번 검출 | {i+3}은 {dicecount[i+2]}번 검출\")\n",
    "\n",
    "    print(\"-\"*60)\n"
   ]
  },
  {
   "cell_type": "code",
   "execution_count": 78,
   "metadata": {},
   "outputs": [
    {
     "name": "stdout",
     "output_type": "stream",
     "text": [
      "10번 시도시 ==>\n",
      "1은 1번 검출 | 2은 3번 검출 | 3은 0번 검출\n",
      "4은 4번 검출 | 5은 1번 검출 | 6은 1번 검출\n",
      "------------------------------------------------------------\n",
      "100번 시도시 ==>\n",
      "1은 12번 검출 | 2은 19번 검출 | 3은 19번 검출\n",
      "4은 19번 검출 | 5은 17번 검출 | 6은 14번 검출\n",
      "------------------------------------------------------------\n",
      "1000번 시도시 ==>\n",
      "1은 177번 검출 | 2은 154번 검출 | 3은 150번 검출\n",
      "4은 167번 검출 | 5은 164번 검출 | 6은 188번 검출\n",
      "------------------------------------------------------------\n",
      "10000번 시도시 ==>\n",
      "1은 1665번 검출 | 2은 1714번 검출 | 3은 1666번 검출\n",
      "4은 1635번 검출 | 5은 1652번 검출 | 6은 1668번 검출\n",
      "------------------------------------------------------------\n",
      "100000번 시도시 ==>\n",
      "1은 16632번 검출 | 2은 16615번 검출 | 3은 16660번 검출\n",
      "4은 16713번 검출 | 5은 16459번 검출 | 6은 16921번 검출\n",
      "------------------------------------------------------------\n",
      "1000000번 시도시 ==>\n",
      "1은 166704번 검출 | 2은 165929번 검출 | 3은 166666번 검출\n",
      "4은 167244번 검출 | 5은 166518번 검출 | 6은 166939번 검출\n",
      "------------------------------------------------------------\n"
     ]
    }
   ],
   "source": [
    "dice(10)\n",
    "dice(100)\n",
    "dice(1000)\n",
    "dice(10000)\n",
    "dice(100000)\n",
    "dice(1000000)"
   ]
  },
  {
   "cell_type": "code",
   "execution_count": null,
   "metadata": {},
   "outputs": [],
   "source": []
  }
 ],
 "metadata": {
  "kernelspec": {
   "display_name": "base",
   "language": "python",
   "name": "python3"
  },
  "language_info": {
   "codemirror_mode": {
    "name": "ipython",
    "version": 3
   },
   "file_extension": ".py",
   "mimetype": "text/x-python",
   "name": "python",
   "nbconvert_exporter": "python",
   "pygments_lexer": "ipython3",
   "version": "3.12.4"
  }
 },
 "nbformat": 4,
 "nbformat_minor": 2
}
