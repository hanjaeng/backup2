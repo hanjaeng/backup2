{
 "cells": [
  {
   "cell_type": "markdown",
   "metadata": {},
   "source": [
    "### while문"
   ]
  },
  {
   "cell_type": "code",
   "execution_count": 1,
   "metadata": {},
   "outputs": [
    {
     "name": "stdout",
     "output_type": "stream",
     "text": [
      "나무를 1번 찍었습니다.\n",
      "나무를 2번 찍었습니다.\n",
      "나무를 3번 찍었습니다.\n",
      "나무를 4번 찍었습니다.\n",
      "나무를 5번 찍었습니다.\n",
      "나무를 6번 찍었습니다.\n",
      "나무를 7번 찍었습니다.\n",
      "나무를 8번 찍었습니다.\n",
      "나무를 9번 찍었습니다.\n",
      "나무를 10번 찍었습니다.\n",
      "나무 넘어갑니다.\n"
     ]
    }
   ],
   "source": [
    "treeHit = 0\n",
    "\n",
    "while treeHit < 10:\n",
    "    treeHit += 1\n",
    "    print(f\"나무를 {treeHit}번 찍었습니다.\")\n",
    "    if treeHit == 10:\n",
    "        print(\"나무 넘어갑니다.\")"
   ]
  },
  {
   "cell_type": "code",
   "execution_count": 2,
   "metadata": {},
   "outputs": [
    {
     "name": "stdout",
     "output_type": "stream",
     "text": [
      "나무를 1번 찍었습니다.\n",
      "나무를 2번 찍었습니다.\n",
      "나무를 3번 찍었습니다.\n",
      "나무를 4번 찍었습니다.\n",
      "나무를 5번 찍었습니다.\n",
      "나무를 6번 찍었습니다.\n",
      "나무를 7번 찍었습니다.\n",
      "나무를 8번 찍었습니다.\n",
      "나무를 9번 찍었습니다.\n",
      "나무를 10번 찍었습니다.\n",
      "나무 넘어갑니다.\n"
     ]
    }
   ],
   "source": [
    "treeHit = 0\n",
    "\n",
    "# Python의 while은 while을 탈출할때 else를 사용 가능\n",
    "# But break로 탈출하면 else는 실행 안됨\n",
    "\n",
    "while treeHit < 10:\n",
    "    treeHit += 1\n",
    "    print(f\"나무를 {treeHit}번 찍었습니다.\")\n",
    "else:\n",
    "    print(\"나무 넘어갑니다.\")"
   ]
  },
  {
   "cell_type": "markdown",
   "metadata": {},
   "source": [
    "커피 자판기\n",
    "커피를 5잔만 판매 가능\n",
    "커피값은 300원 \n",
    "1) 300원 : 커피 <- 커피 -1 , 커피를 제공\n",
    "2) 300원 이상 : 커피 <- 커피 -1, 잔돈,커피 제공\n",
    "3) 300원 미만 : 돈 반납, 커피 X\n",
    "4) 커피가 5가 되면 커피가 다 떨어졌습니다 메시지 출력"
   ]
  },
  {
   "cell_type": "code",
   "execution_count": 5,
   "metadata": {},
   "outputs": [
    {
     "name": "stdout",
     "output_type": "stream",
     "text": [
      "커피를 수령해주세요.\n",
      "남은 커피 : 4잔\n",
      "커피를 수령해주세요.\n",
      "남은 커피 : 3잔\n",
      "커피와 잔돈 100원을 수령해주세요.\n",
      "남은 커피 : 2잔\n",
      "200원은 커피금액보다 부족합니다.\n",
      "남은 커피 : 2잔\n",
      "커피를 수령해주세요.\n",
      "남은 커피 : 1잔\n",
      "커피를 수령해주세요.\n",
      "남은 커피 : 0잔\n",
      "커피가 다 떨어졌습니다. 판매를 중단합니다.\n"
     ]
    }
   ],
   "source": [
    "coffee =5\n",
    "while coffee > 0:\n",
    "    money = int(input(\"돈을 넣어 주세요.\"))\n",
    "    if money == 300:\n",
    "        coffee -= 1\n",
    "        print(\"커피를 수령해주세요.\")\n",
    "    elif money > 300:\n",
    "        coffee -= 1\n",
    "        print(f\"커피와 잔돈 {money-300}원을 수령해주세요.\")\n",
    "    else:\n",
    "        print(f\"{money}원은 커피금액보다 부족합니다.\")\n",
    "    print(f\"남은 커피 : {coffee}잔\")\n",
    "        \n",
    "else:\n",
    "    print(\"커피가 다 떨어졌습니다. 판매를 중단합니다.\")"
   ]
  },
  {
   "cell_type": "code",
   "execution_count": null,
   "metadata": {},
   "outputs": [],
   "source": [
    "# 점수가 80점 이상이면 우수, 나머지는 노력으로 출력\n",
    "score = [78,85,95,65]\n",
    "\n",
    "count = 0\n",
    "\n",
    "while count < len(score):\n",
    "    if scores[count] >= 80:\n",
    "        print(\"우수\")\n",
    "    else:\n",
    "        print(\"노력\")\n",
    "\n",
    "    count += 1\n",
    "        "
   ]
  },
  {
   "cell_type": "code",
   "execution_count": 7,
   "metadata": {},
   "outputs": [
    {
     "name": "stdout",
     "output_type": "stream",
     "text": [
      "78점은 노력\n",
      "85점은 우수\n",
      "95점은 우수\n",
      "65점은 노력\n"
     ]
    }
   ],
   "source": [
    "# 점수가 80점 이상이면 우수, 나머지는 노력으로 출력\n",
    "score = [78,85,95,65]\n",
    "\n",
    "count = 0\n",
    "\n",
    "while score:\n",
    "    print(f\"{score.pop(count)}점은 우수\") if score[count] >= 80 else print(f\"{score.pop(count)}점은 노력\")\n",
    "        "
   ]
  },
  {
   "cell_type": "code",
   "execution_count": 8,
   "metadata": {},
   "outputs": [
    {
     "name": "stdout",
     "output_type": "stream",
     "text": [
      "80.75\n"
     ]
    }
   ],
   "source": [
    "# 평균 구하기\n",
    "scores = [78,85,95,65]\n",
    "total = 0\n",
    "list_length = len(scores)\n",
    "\n",
    "while scores:\n",
    "    total += scores.pop()\n",
    "\n",
    "print(total / list_length)"
   ]
  },
  {
   "cell_type": "code",
   "execution_count": 9,
   "metadata": {},
   "outputs": [],
   "source": [
    "import numpy as np"
   ]
  },
  {
   "cell_type": "code",
   "execution_count": 12,
   "metadata": {},
   "outputs": [
    {
     "data": {
      "text/plain": [
       "10.917302780449024"
      ]
     },
     "execution_count": 12,
     "metadata": {},
     "output_type": "execute_result"
    }
   ],
   "source": [
    "# 평균 구하기\n",
    "scores = [78,85,95,65]\n",
    "np.mean(scores)\n",
    "np.std(scores)"
   ]
  },
  {
   "cell_type": "code",
   "execution_count": 15,
   "metadata": {},
   "outputs": [
    {
     "name": "stdout",
     "output_type": "stream",
     "text": [
      "10.917302780449024\n"
     ]
    }
   ],
   "source": [
    "# 표준편차 (표준편차 : 평균과 각 데이터 차이의 제곱한 것의 합의 제곱근을 구한것)\n",
    "import math\n",
    "# 평균 구하기\n",
    "scores = [78,85,95,65]\n",
    "total = 0\n",
    "list_length = len(scores)\n",
    "count = 0\n",
    "\n",
    "while count < len(scores):\n",
    "    total += scores[count]\n",
    "    count += 1\n",
    "\n",
    "avg = total / list_length\n",
    "\n",
    "# 각 데이터와 평균의 차이의 제곱의 합의 평균 구하기\n",
    "total = 0\n",
    "count = 0\n",
    "while count < len(scores):\n",
    "    total += (scores[count] - avg) ** 2\n",
    "    count += 1\n",
    "avg = total / len(scores)\n",
    "\n",
    "print(math.sqrt(avg))"
   ]
  },
  {
   "cell_type": "code",
   "execution_count": null,
   "metadata": {},
   "outputs": [],
   "source": []
  }
 ],
 "metadata": {
  "kernelspec": {
   "display_name": "base",
   "language": "python",
   "name": "python3"
  },
  "language_info": {
   "codemirror_mode": {
    "name": "ipython",
    "version": 3
   },
   "file_extension": ".py",
   "mimetype": "text/x-python",
   "name": "python",
   "nbconvert_exporter": "python",
   "pygments_lexer": "ipython3",
   "version": "3.12.4"
  }
 },
 "nbformat": 4,
 "nbformat_minor": 2
}
