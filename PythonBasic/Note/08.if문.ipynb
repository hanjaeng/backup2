{
 "cells": [
  {
   "cell_type": "code",
   "execution_count": 2,
   "metadata": {},
   "outputs": [
    {
     "name": "stdout",
     "output_type": "stream",
     "text": [
      "점수는 78이고 C학점 입니다.\n"
     ]
    }
   ],
   "source": [
    "# 사용자로부터 점수를 입력받아 학점 계산하기\n",
    "score = int(input(\"점수를 입력하세요\"))\n",
    "\n",
    "grade = ''\n",
    "if score >= 90:\n",
    "    grade = 'A'\n",
    "elif score >= 80:\n",
    "    grade = 'B'\n",
    "elif score >= 70:\n",
    "    grade = 'C'\n",
    "elif score >= 60:\n",
    "    grade = 'D'\n",
    "else:\n",
    "    grade ='F'\n",
    "\n",
    "print(f\"점수는 {score}이고 {grade}학점 입니다.\")"
   ]
  },
  {
   "cell_type": "markdown",
   "metadata": {},
   "source": [
    "---\n",
    "## match case\n",
    ": 3.10 도입"
   ]
  },
  {
   "cell_type": "code",
   "execution_count": 3,
   "metadata": {},
   "outputs": [
    {
     "name": "stdout",
     "output_type": "stream",
     "text": [
      "13는 홀수 입니다.\n"
     ]
    }
   ],
   "source": [
    "x = int(input(\"숫자를 입력하세요\"))\n",
    "\n",
    "match x % 2 :\n",
    "    case 0:\n",
    "        print(f\"{x}는 짝수 입니다.\")\n",
    "    case 1:\n",
    "        print(f\"{x}는 홀수 입니다.\")"
   ]
  },
  {
   "cell_type": "code",
   "execution_count": 4,
   "metadata": {},
   "outputs": [
    {
     "name": "stdout",
     "output_type": "stream",
     "text": [
      "24는 짝수 입니다.\n"
     ]
    }
   ],
   "source": [
    "x = int(input(\"숫자를 입력하세요\"))\n",
    "\n",
    "match x:\n",
    "    case x if x%2 == 0:\n",
    "        print(f\"{x}는 짝수 입니다.\")\n",
    "    case _:\n",
    "        print(f\"{x}는 홀수 입니다.\")"
   ]
  },
  {
   "cell_type": "code",
   "execution_count": 7,
   "metadata": {},
   "outputs": [
    {
     "name": "stdout",
     "output_type": "stream",
     "text": [
      "10의 배수\n"
     ]
    }
   ],
   "source": [
    "x = int(input(\"숫자를 입력하세요\"))\n",
    "\n",
    "match x:\n",
    "    case 0:\n",
    "        print(\"0\")\n",
    "    case 88 | 99:\n",
    "        print(\"88이거나 99\")\n",
    "    case x if x % 10 == 0:\n",
    "        print(\"10의 배수\")\n",
    "    case x if x > 0:\n",
    "        print(\"양수\")\n",
    "    case x if x < 0:\n",
    "        print(\"음수\")\n",
    "    case _:\n",
    "        print(\"~~~\")"
   ]
  },
  {
   "cell_type": "code",
   "execution_count": 11,
   "metadata": {},
   "outputs": [
    {
     "name": "stdout",
     "output_type": "stream",
     "text": [
      "점수는 73이고 C학점 입니다.\n"
     ]
    }
   ],
   "source": [
    "# 사용자로부터 점수를 입력받아 학점 계산하기\n",
    "score = int(input(\"점수를 입력하세요\"))\n",
    "\n",
    "grade = ''\n",
    "\n",
    "match score:\n",
    "    case score if score > 100 or score < 0:\n",
    "        grade =\"*\"\n",
    "    case score if score >= 90:\n",
    "        grade =\"A\"\n",
    "    case score if score >= 80:\n",
    "        grade =\"B\"\n",
    "    case score if score >= 70:\n",
    "        grade =\"C\"\n",
    "    case score if score >= 60:\n",
    "        grade =\"D\"\n",
    "    case _:\n",
    "        grade =\"F\"\n",
    "\n",
    "if grade != '*':\n",
    "    print(f\"점수는 {score}이고 {grade}학점 입니다.\")\n",
    "else:\n",
    "    print('올바른 점수를 입력하세요.')"
   ]
  },
  {
   "cell_type": "markdown",
   "metadata": {},
   "source": [
    "### 삼항 연산자\n",
    "\n",
    "변수 = 참인 경우 if(조건문) else 거짓인 경우"
   ]
  },
  {
   "cell_type": "code",
   "execution_count": 12,
   "metadata": {},
   "outputs": [
    {
     "name": "stdout",
     "output_type": "stream",
     "text": [
      "홀수\n"
     ]
    }
   ],
   "source": [
    "num = int(input(\"숫자를 입력하세요.\"))\n",
    "result = \"짝수\" if num %2 == 0 else \"홀수\"\n",
    "print(result)"
   ]
  },
  {
   "cell_type": "code",
   "execution_count": 1,
   "metadata": {},
   "outputs": [
    {
     "name": "stdout",
     "output_type": "stream",
     "text": [
      "18\n"
     ]
    }
   ],
   "source": [
    "# 사용자로 부터 숫자 입력을 받아 5보다 크면 숫자의 2배를 구하고 아니면 2만 더한다.\n",
    "num = int(input(\"숫자를 입력하세요.\"))\n",
    "result = num * 2 if num > 5 else num + 2\n",
    "print(result)"
   ]
  },
  {
   "cell_type": "code",
   "execution_count": null,
   "metadata": {},
   "outputs": [],
   "source": []
  }
 ],
 "metadata": {
  "kernelspec": {
   "display_name": "base",
   "language": "python",
   "name": "python3"
  },
  "language_info": {
   "codemirror_mode": {
    "name": "ipython",
    "version": 3
   },
   "file_extension": ".py",
   "mimetype": "text/x-python",
   "name": "python",
   "nbconvert_exporter": "python",
   "pygments_lexer": "ipython3",
   "version": "3.9.6"
  }
 },
 "nbformat": 4,
 "nbformat_minor": 2
}
