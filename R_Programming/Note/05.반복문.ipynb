{
 "cells": [
  {
   "cell_type": "code",
   "execution_count": 16,
   "metadata": {
    "vscode": {
     "languageId": "r"
    }
   },
   "outputs": [
    {
     "data": {
      "text/html": [
       "'ko_KR.UTF-8/ko_KR.UTF-8/ko_KR.UTF-8/C/ko_KR.UTF-8/C'"
      ],
      "text/latex": [
       "'ko\\_KR.UTF-8/ko\\_KR.UTF-8/ko\\_KR.UTF-8/C/ko\\_KR.UTF-8/C'"
      ],
      "text/markdown": [
       "'ko_KR.UTF-8/ko_KR.UTF-8/ko_KR.UTF-8/C/ko_KR.UTF-8/C'"
      ],
      "text/plain": [
       "[1] \"ko_KR.UTF-8/ko_KR.UTF-8/ko_KR.UTF-8/C/ko_KR.UTF-8/C\""
      ]
     },
     "metadata": {},
     "output_type": "display_data"
    }
   ],
   "source": [
    "Sys.setlocale(category = 'LC_ALL' , locale = 'ko_KR.UTF-8') ## 한글보이기"
   ]
  },
  {
   "cell_type": "markdown",
   "metadata": {},
   "source": [
    "for문"
   ]
  },
  {
   "cell_type": "code",
   "execution_count": 2,
   "metadata": {
    "vscode": {
     "languageId": "r"
    }
   },
   "outputs": [
    {
     "name": "stdout",
     "output_type": "stream",
     "text": [
      "[1] 1\n",
      "[1] 2\n",
      "[1] 3\n",
      "[1] 4\n",
      "[1] 5\n",
      "[1] 6\n",
      "[1] 7\n",
      "[1] 8\n",
      "[1] 9\n",
      "[1] 10\n"
     ]
    }
   ],
   "source": [
    "#1~10까지 출력\n",
    "for(i in 1:10){\n",
    "    print(i)\n",
    "}"
   ]
  },
  {
   "cell_type": "code",
   "execution_count": 1,
   "metadata": {
    "vscode": {
     "languageId": "r"
    }
   },
   "outputs": [
    {
     "name": "stdout",
     "output_type": "stream",
     "text": [
      "[1] 1\n",
      "[1] 3\n",
      "[1] 5\n"
     ]
    }
   ],
   "source": [
    "for(i in c(1,3,5)){\n",
    "    print(i)\n",
    "}"
   ]
  },
  {
   "cell_type": "code",
   "execution_count": 6,
   "metadata": {
    "vscode": {
     "languageId": "r"
    }
   },
   "outputs": [
    {
     "data": {
      "text/html": [
       "<style>\n",
       ".list-inline {list-style: none; margin:0; padding: 0}\n",
       ".list-inline>li {display: inline-block}\n",
       ".list-inline>li:not(:last-child)::after {content: \"\\00b7\"; padding: 0 .5ex}\n",
       "</style>\n",
       "<ol class=list-inline><li>1</li><li>3</li><li>5</li><li>7</li><li>9</li><li>11</li><li>13</li><li>15</li><li>17</li><li>19</li><li>21</li><li>23</li><li>25</li><li>27</li><li>29</li><li>31</li><li>33</li><li>35</li><li>37</li><li>39</li><li>41</li><li>43</li><li>45</li><li>47</li><li>49</li><li>51</li><li>53</li><li>55</li><li>57</li><li>59</li><li>61</li><li>63</li><li>65</li><li>67</li><li>69</li><li>71</li><li>73</li><li>75</li><li>77</li><li>79</li><li>81</li><li>83</li><li>85</li><li>87</li><li>89</li><li>91</li><li>93</li><li>95</li><li>97</li><li>99</li></ol>\n"
      ],
      "text/latex": [
       "\\begin{enumerate*}\n",
       "\\item 1\n",
       "\\item 3\n",
       "\\item 5\n",
       "\\item 7\n",
       "\\item 9\n",
       "\\item 11\n",
       "\\item 13\n",
       "\\item 15\n",
       "\\item 17\n",
       "\\item 19\n",
       "\\item 21\n",
       "\\item 23\n",
       "\\item 25\n",
       "\\item 27\n",
       "\\item 29\n",
       "\\item 31\n",
       "\\item 33\n",
       "\\item 35\n",
       "\\item 37\n",
       "\\item 39\n",
       "\\item 41\n",
       "\\item 43\n",
       "\\item 45\n",
       "\\item 47\n",
       "\\item 49\n",
       "\\item 51\n",
       "\\item 53\n",
       "\\item 55\n",
       "\\item 57\n",
       "\\item 59\n",
       "\\item 61\n",
       "\\item 63\n",
       "\\item 65\n",
       "\\item 67\n",
       "\\item 69\n",
       "\\item 71\n",
       "\\item 73\n",
       "\\item 75\n",
       "\\item 77\n",
       "\\item 79\n",
       "\\item 81\n",
       "\\item 83\n",
       "\\item 85\n",
       "\\item 87\n",
       "\\item 89\n",
       "\\item 91\n",
       "\\item 93\n",
       "\\item 95\n",
       "\\item 97\n",
       "\\item 99\n",
       "\\end{enumerate*}\n"
      ],
      "text/markdown": [
       "1. 1\n",
       "2. 3\n",
       "3. 5\n",
       "4. 7\n",
       "5. 9\n",
       "6. 11\n",
       "7. 13\n",
       "8. 15\n",
       "9. 17\n",
       "10. 19\n",
       "11. 21\n",
       "12. 23\n",
       "13. 25\n",
       "14. 27\n",
       "15. 29\n",
       "16. 31\n",
       "17. 33\n",
       "18. 35\n",
       "19. 37\n",
       "20. 39\n",
       "21. 41\n",
       "22. 43\n",
       "23. 45\n",
       "24. 47\n",
       "25. 49\n",
       "26. 51\n",
       "27. 53\n",
       "28. 55\n",
       "29. 57\n",
       "30. 59\n",
       "31. 61\n",
       "32. 63\n",
       "33. 65\n",
       "34. 67\n",
       "35. 69\n",
       "36. 71\n",
       "37. 73\n",
       "38. 75\n",
       "39. 77\n",
       "40. 79\n",
       "41. 81\n",
       "42. 83\n",
       "43. 85\n",
       "44. 87\n",
       "45. 89\n",
       "46. 91\n",
       "47. 93\n",
       "48. 95\n",
       "49. 97\n",
       "50. 99\n",
       "\n",
       "\n"
      ],
      "text/plain": [
       " [1]  1  3  5  7  9 11 13 15 17 19 21 23 25 27 29 31 33 35 37 39 41 43 45 47 49\n",
       "[26] 51 53 55 57 59 61 63 65 67 69 71 73 75 77 79 81 83 85 87 89 91 93 95 97 99"
      ]
     },
     "metadata": {},
     "output_type": "display_data"
    },
    {
     "name": "stdout",
     "output_type": "stream",
     "text": [
      "[1] 1\n",
      "[1] 3\n",
      "[1] 5\n",
      "[1] 7\n",
      "[1] 9\n",
      "[1] 11\n",
      "[1] 13\n",
      "[1] 15\n",
      "[1] 17\n",
      "[1] 19\n",
      "[1] 21\n",
      "[1] 23\n",
      "[1] 25\n",
      "[1] 27\n",
      "[1] 29\n",
      "[1] 31\n",
      "[1] 33\n",
      "[1] 35\n",
      "[1] 37\n",
      "[1] 39\n",
      "[1] 41\n",
      "[1] 43\n",
      "[1] 45\n",
      "[1] 47\n",
      "[1] 49\n",
      "[1] 51\n",
      "[1] 53\n",
      "[1] 55\n",
      "[1] 57\n",
      "[1] 59\n",
      "[1] 61\n",
      "[1] 63\n",
      "[1] 65\n",
      "[1] 67\n",
      "[1] 69\n",
      "[1] 71\n",
      "[1] 73\n",
      "[1] 75\n",
      "[1] 77\n",
      "[1] 79\n",
      "[1] 81\n",
      "[1] 83\n",
      "[1] 85\n",
      "[1] 87\n",
      "[1] 89\n",
      "[1] 91\n",
      "[1] 93\n",
      "[1] 95\n",
      "[1] 97\n",
      "[1] 99\n"
     ]
    }
   ],
   "source": [
    "#1~10까지의 수중 홀수만 출력하기\n",
    "seq(1,100,2)\n",
    "\n",
    "for(i in(seq(1,100,2))){\n",
    "    print(i)\n",
    "}"
   ]
  },
  {
   "cell_type": "code",
   "execution_count": 45,
   "metadata": {
    "vscode": {
     "languageId": "r"
    }
   },
   "outputs": [
    {
     "data": {
      "text/html": [
       "<style>\n",
       ".list-inline {list-style: none; margin:0; padding: 0}\n",
       ".list-inline>li {display: inline-block}\n",
       ".list-inline>li:not(:last-child)::after {content: \"\\00b7\"; padding: 0 .5ex}\n",
       "</style>\n",
       "<ol class=list-inline><li>1</li><li>1.4142135623731</li><li>1.73205080756888</li><li>2</li><li>2.23606797749979</li><li>2.44948974278318</li><li>2.64575131106459</li><li>2.82842712474619</li><li>3</li><li>3.16227766016838</li></ol>\n"
      ],
      "text/latex": [
       "\\begin{enumerate*}\n",
       "\\item 1\n",
       "\\item 1.4142135623731\n",
       "\\item 1.73205080756888\n",
       "\\item 2\n",
       "\\item 2.23606797749979\n",
       "\\item 2.44948974278318\n",
       "\\item 2.64575131106459\n",
       "\\item 2.82842712474619\n",
       "\\item 3\n",
       "\\item 3.16227766016838\n",
       "\\end{enumerate*}\n"
      ],
      "text/markdown": [
       "1. 1\n",
       "2. 1.4142135623731\n",
       "3. 1.73205080756888\n",
       "4. 2\n",
       "5. 2.23606797749979\n",
       "6. 2.44948974278318\n",
       "7. 2.64575131106459\n",
       "8. 2.82842712474619\n",
       "9. 3\n",
       "10. 3.16227766016838\n",
       "\n",
       "\n"
      ],
      "text/plain": [
       " [1] 1.000000 1.414214 1.732051 2.000000 2.236068 2.449490 2.645751 2.828427\n",
       " [9] 3.000000 3.162278"
      ]
     },
     "metadata": {},
     "output_type": "display_data"
    },
    {
     "name": "stdout",
     "output_type": "stream",
     "text": [
      "[ 1 ] => 1 \n",
      "[ 2 ] => 1.414214 \n",
      "[ 3 ] => 1.732051 \n",
      "[ 4 ] => 2 \n",
      "[ 5 ] => 2.236068 \n",
      "[ 6 ] => 2.44949 \n",
      "[ 7 ] => 2.645751 \n",
      "[ 8 ] => 2.828427 \n",
      "[ 9 ] => 3 \n",
      "[ 10 ] => 3.162278 \n"
     ]
    }
   ],
   "source": [
    "#1~10까지 제곱근\n",
    "sqrt(seq(1,10,1))\n",
    "\n",
    "for(i in(1:10)){\n",
    "    cat('[',i,']', \"=>\", sqrt(i), \"\\n\")\n",
    "}\n"
   ]
  },
  {
   "cell_type": "code",
   "execution_count": 13,
   "metadata": {
    "vscode": {
     "languageId": "r"
    }
   },
   "outputs": [
    {
     "data": {
      "text/html": [
       "<table class=\"dataframe\">\n",
       "<caption>A data.frame: 6 x 5</caption>\n",
       "<thead>\n",
       "\t<tr><th></th><th scope=col>q1</th><th scope=col>q2</th><th scope=col>q3</th><th scope=col>q4</th><th scope=col>q5</th></tr>\n",
       "\t<tr><th></th><th scope=col>&lt;int&gt;</th><th scope=col>&lt;int&gt;</th><th scope=col>&lt;int&gt;</th><th scope=col>&lt;int&gt;</th><th scope=col>&lt;int&gt;</th></tr>\n",
       "</thead>\n",
       "<tbody>\n",
       "\t<tr><th scope=row>1</th><td>2</td><td>4</td><td>4</td><td>2</td><td>2</td></tr>\n",
       "\t<tr><th scope=row>2</th><td>1</td><td>2</td><td>2</td><td>2</td><td>2</td></tr>\n",
       "\t<tr><th scope=row>3</th><td>2</td><td>3</td><td>4</td><td>3</td><td>3</td></tr>\n",
       "\t<tr><th scope=row>4</th><td>3</td><td>5</td><td>5</td><td>3</td><td>3</td></tr>\n",
       "\t<tr><th scope=row>5</th><td>3</td><td>2</td><td>4</td><td>4</td><td>4</td></tr>\n",
       "\t<tr><th scope=row>6</th><td>4</td><td>3</td><td>3</td><td>4</td><td>2</td></tr>\n",
       "</tbody>\n",
       "</table>\n"
      ],
      "text/latex": [
       "A data.frame: 6 x 5\n",
       "\\begin{tabular}{r|lllll}\n",
       "  & q1 & q2 & q3 & q4 & q5\\\\\n",
       "  & <int> & <int> & <int> & <int> & <int>\\\\\n",
       "\\hline\n",
       "\t1 & 2 & 4 & 4 & 2 & 2\\\\\n",
       "\t2 & 1 & 2 & 2 & 2 & 2\\\\\n",
       "\t3 & 2 & 3 & 4 & 3 & 3\\\\\n",
       "\t4 & 3 & 5 & 5 & 3 & 3\\\\\n",
       "\t5 & 3 & 2 & 4 & 4 & 4\\\\\n",
       "\t6 & 4 & 3 & 3 & 4 & 2\\\\\n",
       "\\end{tabular}\n"
      ],
      "text/markdown": [
       "\n",
       "A data.frame: 6 x 5\n",
       "\n",
       "| <!--/--> | q1 &lt;int&gt; | q2 &lt;int&gt; | q3 &lt;int&gt; | q4 &lt;int&gt; | q5 &lt;int&gt; |\n",
       "|---|---|---|---|---|---|\n",
       "| 1 | 2 | 4 | 4 | 2 | 2 |\n",
       "| 2 | 1 | 2 | 2 | 2 | 2 |\n",
       "| 3 | 2 | 3 | 4 | 3 | 3 |\n",
       "| 4 | 3 | 5 | 5 | 3 | 3 |\n",
       "| 5 | 3 | 2 | 4 | 4 | 4 |\n",
       "| 6 | 4 | 3 | 3 | 4 | 2 |\n",
       "\n"
      ],
      "text/plain": [
       "  q1 q2 q3 q4 q5\n",
       "1 2  4  4  2  2 \n",
       "2 1  2  2  2  2 \n",
       "3 2  3  4  3  3 \n",
       "4 3  5  5  3  3 \n",
       "5 3  2  4  4  4 \n",
       "6 4  3  3  4  2 "
      ]
     },
     "metadata": {},
     "output_type": "display_data"
    }
   ],
   "source": [
    "excel <- read.csv(\"../Data/excel.csv\")\n",
    "head(excel)"
   ]
  },
  {
   "cell_type": "code",
   "execution_count": 26,
   "metadata": {
    "vscode": {
     "languageId": "r"
    }
   },
   "outputs": [
    {
     "name": "stdout",
     "output_type": "stream",
     "text": [
      "홀수의 합은 604 짝수의 합은 852 입니다"
     ]
    },
    {
     "data": {
      "text/html": [
       "852"
      ],
      "text/latex": [
       "852"
      ],
      "text/markdown": [
       "852"
      ],
      "text/plain": [
       "[1] 852"
      ]
     },
     "metadata": {},
     "output_type": "display_data"
    },
    {
     "data": {
      "text/html": [
       "604"
      ],
      "text/latex": [
       "604"
      ],
      "text/markdown": [
       "604"
      ],
      "text/plain": [
       "[1] 604"
      ]
     },
     "metadata": {},
     "output_type": "display_data"
    },
    {
     "name": "stdout",
     "output_type": "stream",
     "text": [
      "짝수의 합은 852 이고홀수의 합은 604 입니다."
     ]
    }
   ],
   "source": [
    "#excel의 q3컬럼 데이터의 홀수의 합과 짝수의 합 구하기\n",
    "# 출력 예: 홀수의 합은 __이고, 짝수의 합은 ___입니다.\n",
    "\n",
    "\n",
    "#for문으로!!\n",
    "data <- excel$q3\n",
    "sumEven <-0; sumOdd <-0\n",
    "\n",
    "for(i in data){\n",
    "    if(i %% 2 == 0){\n",
    "        sumEven = sumEven + i\n",
    "    }else{\n",
    "        sumOdd = sumOdd +i\n",
    "    }\n",
    "}\n",
    "cat(\"홀수의 합은\",sumOdd, \"짝수의 합은\" ,sumEven, \"입니다\")\n",
    "\n",
    "\n",
    "#3항연산!!\n",
    "sum(ifelse(data%%2 ==0, data, 0))\n",
    "sum(ifelse(data%%2 ==1, data, 0))\n",
    "cat(\"짝수의 합은\", sum(ifelse(data%%2 ==0, data, 0)),\"이고\")\n",
    "cat(\"홀수의 합은\", sum(ifelse(data%%2 ==1, data, 0)), \"입니다.\")\n"
   ]
  },
  {
   "cell_type": "code",
   "execution_count": 27,
   "metadata": {
    "vscode": {
     "languageId": "r"
    }
   },
   "outputs": [
    {
     "name": "stdout",
     "output_type": "stream",
     "text": [
      "2 X 1 = 2 \n",
      "2 X 2 = 2 \n",
      "2 X 3 = 2 \n",
      "2 X 4 = 2 \n",
      "2 X 5 = 2 \n",
      "2 X 6 = 2 \n",
      "2 X 7 = 2 \n",
      "2 X 8 = 2 \n",
      "2 X 9 = 2 \n"
     ]
    }
   ],
   "source": [
    "#구구단 2단 출력하기\n",
    "for(i in 1:9){\n",
    "    cat(\"2 X\", i, \"=\", 2*1, \"\\n\")\n",
    "}"
   ]
  },
  {
   "cell_type": "code",
   "execution_count": 32,
   "metadata": {
    "vscode": {
     "languageId": "r"
    }
   },
   "outputs": [
    {
     "name": "stdout",
     "output_type": "stream",
     "text": [
      "5 X 1 = 5 \n",
      "5 X 2 = 10 \n",
      "5 X 3 = 15 \n",
      "5 X 4 = 20 \n",
      "5 X 5 = 25 \n",
      "5 X 6 = 30 \n",
      "5 X 7 = 35 \n",
      "5 X 8 = 40 \n",
      "5 X 9 = 45 \n"
     ]
    }
   ],
   "source": [
    "# 사용자로부터 몇단을 출력할지 단수를 입력받아 구구단 출력하기\n",
    "dan <- as.integer(readline(\"단을 입력하세요\"))\n",
    "\n",
    "for(i in 1:9){\n",
    "    cat(dan, \"X\", i, \"=\", dan*i, \"\\n\")\n",
    "}"
   ]
  },
  {
   "cell_type": "code",
   "execution_count": 38,
   "metadata": {
    "vscode": {
     "languageId": "r"
    }
   },
   "outputs": [
    {
     "name": "stdout",
     "output_type": "stream",
     "text": [
      "3 X 1 = 3 \n",
      "3 X 2 = 6 \n",
      "3 X 3 = 9 \n",
      "3 X 4 = 12 \n",
      "3 X 5 = 15 \n",
      "3 X 6 = 18 \n",
      "3 X 7 = 21 \n",
      "3 X 8 = 24 \n",
      "3 X 9 = 27 \n"
     ]
    }
   ],
   "source": [
    "# 구구단 함수 만들기 -1\n",
    "gugu <- function(){\n",
    "  dan <- as.integer(readline(\"단을 입력하세요\"))\n",
    "\n",
    "  for(i in 1:9){\n",
    "      cat(dan, \"X\", i, \"=\", dan*i, \"\\n\")\n",
    "  }\n",
    "}\n",
    "\n",
    "gugu()"
   ]
  },
  {
   "cell_type": "code",
   "execution_count": 47,
   "metadata": {
    "vscode": {
     "languageId": "r"
    }
   },
   "outputs": [
    {
     "name": "stdout",
     "output_type": "stream",
     "text": [
      "8 X 1 = 8 \n",
      "8 X 2 = 16 \n",
      "8 X 3 = 24 \n",
      "8 X 4 = 32 \n",
      "8 X 5 = 40 \n",
      "8 X 6 = 48 \n",
      "8 X 7 = 56 \n",
      "8 X 8 = 64 \n",
      "8 X 9 = 72 \n"
     ]
    },
    {
     "name": "stdout",
     "output_type": "stream",
     "text": [
      "12 X 1 = 12 \n",
      "12 X 2 = 24 \n",
      "12 X 3 = 36 \n",
      "12 X 4 = 48 \n",
      "12 X 5 = 60 \n",
      "12 X 6 = 72 \n",
      "12 X 7 = 84 \n",
      "12 X 8 = 96 \n",
      "12 X 9 = 108 \n"
     ]
    }
   ],
   "source": [
    "#구구단 함수 만들기 -2\n",
    "gugu2 <- function(dandan){\n",
    "  for(i in 1:9){\n",
    "      cat(dandan, \"X\", i, \"=\", dandan*i, \"\\n\")\n",
    "  }\n",
    "}\n",
    "\n",
    "gugu2(8)\n",
    "gugu2(12)"
   ]
  },
  {
   "cell_type": "code",
   "execution_count": 57,
   "metadata": {
    "vscode": {
     "languageId": "r"
    }
   },
   "outputs": [
    {
     "name": "stdout",
     "output_type": "stream",
     "text": [
      "2 X 1 = 2 \n",
      "2 X 2 = 4 \n",
      "2 X 3 = 6 \n",
      "2 X 4 = 8 \n",
      "2 X 5 = 10 \n",
      "2 X 6 = 12 \n",
      "2 X 7 = 14 \n",
      "2 X 8 = 16 \n",
      "2 X 9 = 18 \n",
      "2 X 10 = 20 \n",
      "2 X 11 = 22 \n",
      "2 X 12 = 24 \n"
     ]
    }
   ],
   "source": [
    "gugu3 <- function(a,i){\n",
    "    for(i in 1:12){\n",
    "      cat(a, \"X\", i, \"=\", a*i, \"\\n\")\n",
    "    }\n",
    "}\n",
    "gugu3(2,12)"
   ]
  },
  {
   "cell_type": "code",
   "execution_count": 7,
   "metadata": {
    "vscode": {
     "languageId": "r"
    }
   },
   "outputs": [
    {
     "name": "stdout",
     "output_type": "stream",
     "text": [
      "2 x 2 = 4 \n",
      "2 x 3 = 6 \n",
      "2 x 4 = 8 \n",
      "2 x 5 = 10 \n",
      "2 x 6 = 12 \n",
      "2 x 7 = 14 \n",
      "2 x 8 = 16 \n",
      "2 x 9 = 18 \n"
     ]
    }
   ],
   "source": [
    "gugu4 <- function(dan,a,b){\n",
    "   for(i in a:b){\n",
    "     cat(dan, \"x\", i, \"=\", a*i, \"\\n\")\n",
    "   }\n",
    "}\n",
    "gugu4(2,2,9)"
   ]
  },
  {
   "cell_type": "code",
   "execution_count": 15,
   "metadata": {
    "vscode": {
     "languageId": "r"
    }
   },
   "outputs": [
    {
     "name": "stdout",
     "output_type": "stream",
     "text": [
      "2 X 2 = 4 \n",
      "2 X 3 = 6 \n",
      "2 X 4 = 8 \n",
      "2 X 5 = 10 \n",
      "2 X 6 = 12 \n",
      "2 X 7 = 14 \n",
      "2 X 8 = 16 \n",
      "2 X 9 = 18 \n"
     ]
    },
    {
     "data": {
      "text/html": [
       "'-----------------'"
      ],
      "text/latex": [
       "'-----------------'"
      ],
      "text/markdown": [
       "'-----------------'"
      ],
      "text/plain": [
       "[1] \"-----------------\""
      ]
     },
     "metadata": {},
     "output_type": "display_data"
    },
    {
     "name": "stdout",
     "output_type": "stream",
     "text": [
      "3 X 3 = 9 \n",
      "3 X 5 = 15 \n",
      "3 X 7 = 21 \n",
      "3 X 9 = 27 \n"
     ]
    }
   ],
   "source": [
    "#gugu5(2,2,9,\"even\") #2단의 곱해지는 수 2부터 9까지의 결과갑이 짝수만 출력하겠다.\n",
    "#gugu5(3,2,9,\"odd\") #3단의 곱해지는 수 2부터 9까지의 결과갑이 홀수만 출력하겠다.\n",
    "\n",
    "gugu5 <- function(dan,a,b,evenodd){\n",
    "    for(i in a:b){\n",
    "       if((i*as.integer(dan)) %% 2 == 0 && evenodd ==\"even\"){\n",
    "        cat(dan,\"X\", i, \"=\", paste(i*as.integer(dan), \"\\n\"))\n",
    "       }       \n",
    "     }\n",
    "     for(i in a:b){\n",
    "       if((i*as.integer(dan)) %% 2 == 1 && evenodd ==\"odd\"){\n",
    "        cat(dan,\"X\", i, \"=\", paste(i*as.integer(dan), \"\\n\"))\n",
    "       }       \n",
    "     }\n",
    "\n",
    "}\n",
    "\n",
    "\n",
    "\n",
    "gugu5(2,2,9,\"even\")\n",
    "'-----------------'\n",
    "gugu5(3,2,9,\"odd\")"
   ]
  },
  {
   "cell_type": "code",
   "execution_count": null,
   "metadata": {
    "vscode": {
     "languageId": "r"
    }
   },
   "outputs": [],
   "source": []
  },
  {
   "cell_type": "markdown",
   "metadata": {
    "vscode": {
     "languageId": "r"
    }
   },
   "source": [
    "While"
   ]
  },
  {
   "cell_type": "code",
   "execution_count": 88,
   "metadata": {
    "vscode": {
     "languageId": "r"
    }
   },
   "outputs": [
    {
     "name": "stdout",
     "output_type": "stream",
     "text": [
      "[1] 1\n",
      "[1] 2\n",
      "[1] 3\n",
      "[1] 4\n",
      "[1] 5\n",
      "[1] 6\n",
      "[1] 7\n",
      "[1] 8\n",
      "[1] 9\n",
      "[1] 10\n"
     ]
    }
   ],
   "source": [
    "i <-0\n",
    "while (i < 10){\n",
    "    i = i + 1\n",
    "    print(i)\n",
    "}"
   ]
  },
  {
   "cell_type": "markdown",
   "metadata": {
    "vscode": {
     "languageId": "r"
    }
   },
   "source": [
    "repeat"
   ]
  },
  {
   "cell_type": "code",
   "execution_count": 89,
   "metadata": {
    "vscode": {
     "languageId": "r"
    }
   },
   "outputs": [
    {
     "name": "stdout",
     "output_type": "stream",
     "text": [
      "[1] 1\n",
      "[1] 2\n",
      "[1] 3\n",
      "[1] 4\n",
      "[1] 5\n",
      "[1] 6\n",
      "[1] 7\n",
      "[1] 8\n",
      "[1] 9\n",
      "[1] 10\n"
     ]
    }
   ],
   "source": [
    "i <- 0\n",
    "repeat{\n",
    "    i = i + 1\n",
    "    if(i > 10){\n",
    "        break()\n",
    "    }\n",
    "    print(i)\n",
    "}"
   ]
  }
 ],
 "metadata": {
  "kernelspec": {
   "display_name": "R",
   "language": "R",
   "name": "r"
  },
  "language_info": {
   "codemirror_mode": "r",
   "file_extension": ".r",
   "mimetype": "text/x-r-source",
   "name": "R",
   "pygments_lexer": "r",
   "version": "4.4.1"
  }
 },
 "nbformat": 4,
 "nbformat_minor": 2
}
