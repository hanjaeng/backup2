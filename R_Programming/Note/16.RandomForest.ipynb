{
 "cells": [
  {
   "cell_type": "markdown",
   "metadata": {},
   "source": [
    "### RandomForest"
   ]
  },
  {
   "cell_type": "code",
   "execution_count": 4,
   "metadata": {
    "vscode": {
     "languageId": "r"
    }
   },
   "outputs": [
    {
     "name": "stdout",
     "output_type": "stream",
     "text": [
      "\n",
      "The downloaded binary packages are in\n",
      "\t/var/folders/1z/wqwl5n1552l1vkv_646ktfm00000gn/T//RtmpsY2Rpl/downloaded_packages\n"
     ]
    }
   ],
   "source": [
    "install.packages(\"randomForest\")"
   ]
  },
  {
   "cell_type": "code",
   "execution_count": 8,
   "metadata": {
    "vscode": {
     "languageId": "r"
    }
   },
   "outputs": [
    {
     "name": "stderr",
     "output_type": "stream",
     "text": [
      "randomForest 4.7-1.1\n",
      "\n"
     ]
    },
    {
     "name": "stderr",
     "output_type": "stream",
     "text": [
      "Type rfNews() to see new features/changes/bug fixes.\n",
      "\n"
     ]
    }
   ],
   "source": [
    "library(randomForest)"
   ]
  },
  {
   "cell_type": "code",
   "execution_count": 3,
   "metadata": {
    "vscode": {
     "languageId": "r"
    }
   },
   "outputs": [],
   "source": [
    "#Samplin: 학습용과 검증용\n",
    "set.seed(1234)"
   ]
  },
  {
   "cell_type": "code",
   "execution_count": 7,
   "metadata": {
    "vscode": {
     "languageId": "r"
    }
   },
   "outputs": [
    {
     "name": "stderr",
     "output_type": "stream",
     "text": [
      "also installing the dependencies 'listenv', 'parallelly', 'future', 'globals', 'shape', 'future.apply', 'numDeriv', 'progressr', 'SQUAREM', 'colorspace', 'diagram', 'lava', 'farver', 'labeling', 'munsell', 'RColorBrewer', 'viridisLite', 'tzdb', 'prodlim', 'timechange', 'gtable', 'isoband', 'scales', 'proxy', 'iterators', 'Rcpp', 'data.table', 'clock', 'gower', 'hardhat', 'ipred', 'lubridate', 'tidyr', 'timeDate', 'ggplot2', 'e1071', 'foreach', 'ModelMetrics', 'plyr', 'pROC', 'recipes', 'reshape2'\n",
      "\n",
      "\n"
     ]
    },
    {
     "name": "stdout",
     "output_type": "stream",
     "text": [
      "\n",
      "The downloaded binary packages are in\n",
      "\t/var/folders/1z/wqwl5n1552l1vkv_646ktfm00000gn/T//RtmpsY2Rpl/downloaded_packages\n"
     ]
    }
   ],
   "source": [
    "install.packages(\"caret\")"
   ]
  },
  {
   "cell_type": "code",
   "execution_count": 9,
   "metadata": {
    "vscode": {
     "languageId": "r"
    }
   },
   "outputs": [
    {
     "name": "stderr",
     "output_type": "stream",
     "text": [
      "Loading required package: ggplot2\n",
      "\n",
      "\n",
      "Attaching package: 'ggplot2'\n",
      "\n",
      "\n",
      "The following object is masked from 'package:randomForest':\n",
      "\n",
      "    margin\n",
      "\n",
      "\n",
      "Loading required package: lattice\n",
      "\n"
     ]
    }
   ],
   "source": [
    "library(caret)"
   ]
  },
  {
   "cell_type": "code",
   "execution_count": 13,
   "metadata": {
    "vscode": {
     "languageId": "r"
    }
   },
   "outputs": [],
   "source": [
    "#Samplin: 학습용과 검증용\n",
    "set.seed(1234)\n",
    "samp <- createDataPartition(iris$Species, p = 0.7, list = F)\n",
    "\n",
    "#학습용\n",
    "data.tr <- iris[samp,]\n",
    "\n",
    "#검증용\n",
    "data.test <- iris[-samp,]"
   ]
  },
  {
   "cell_type": "code",
   "execution_count": 17,
   "metadata": {
    "vscode": {
     "languageId": "r"
    }
   },
   "outputs": [],
   "source": [
    "# 문제 및 정답 만들기\n",
    "x <- subset(data.test, select =-Species)\n",
    "y <- data.test$Species"
   ]
  },
  {
   "cell_type": "code",
   "execution_count": 59,
   "metadata": {
    "vscode": {
     "languageId": "r"
    }
   },
   "outputs": [],
   "source": [
    "# 학습하기\n",
    "rf <- randomForest(Species ~ ., data = data.tr, ntree =100)"
   ]
  },
  {
   "cell_type": "code",
   "execution_count": 60,
   "metadata": {
    "vscode": {
     "languageId": "r"
    }
   },
   "outputs": [
    {
     "data": {
      "text/html": [
       "<style>\n",
       ".dl-inline {width: auto; margin:0; padding: 0}\n",
       ".dl-inline>dt, .dl-inline>dd {float: none; width: auto; display: inline-block}\n",
       ".dl-inline>dt::after {content: \":\\0020\"; padding-right: .5ex}\n",
       ".dl-inline>dt:not(:first-of-type) {padding-left: .5ex}\n",
       "</style><dl class=dl-inline><dt>1</dt><dd>setosa</dd><dt>7</dt><dd>setosa</dd><dt>10</dt><dd>setosa</dd><dt>11</dt><dd>setosa</dd><dt>13</dt><dd>setosa</dd><dt>17</dt><dd>setosa</dd><dt>18</dt><dd>setosa</dd><dt>19</dt><dd>setosa</dd><dt>23</dt><dd>setosa</dd><dt>25</dt><dd>setosa</dd><dt>27</dt><dd>setosa</dd><dt>33</dt><dd>setosa</dd><dt>36</dt><dd>setosa</dd><dt>43</dt><dd>setosa</dd><dt>45</dt><dd>setosa</dd><dt>51</dt><dd>versicolor</dd><dt>54</dt><dd>versicolor</dd><dt>55</dt><dd>versicolor</dd><dt>57</dt><dd>versicolor</dd><dt>61</dt><dd>versicolor</dd><dt>64</dt><dd>versicolor</dd><dt>70</dt><dd>versicolor</dd><dt>71</dt><dd>virginica</dd><dt>74</dt><dd>versicolor</dd><dt>77</dt><dd>versicolor</dd><dt>78</dt><dd>virginica</dd><dt>81</dt><dd>versicolor</dd><dt>83</dt><dd>versicolor</dd><dt>84</dt><dd>virginica</dd><dt>94</dt><dd>versicolor</dd><dt>105</dt><dd>virginica</dd><dt>114</dt><dd>virginica</dd><dt>115</dt><dd>virginica</dd><dt>118</dt><dd>virginica</dd><dt>123</dt><dd>virginica</dd><dt>125</dt><dd>virginica</dd><dt>134</dt><dd>virginica</dd><dt>138</dt><dd>virginica</dd><dt>140</dt><dd>virginica</dd><dt>142</dt><dd>virginica</dd><dt>143</dt><dd>virginica</dd><dt>145</dt><dd>virginica</dd><dt>148</dt><dd>virginica</dd><dt>149</dt><dd>virginica</dd><dt>150</dt><dd>virginica</dd></dl>\n",
       "\n",
       "<details>\n",
       "\t<summary style=display:list-item;cursor:pointer>\n",
       "\t\t<strong>Levels</strong>:\n",
       "\t</summary>\n",
       "\t<style>\n",
       "\t.list-inline {list-style: none; margin:0; padding: 0}\n",
       "\t.list-inline>li {display: inline-block}\n",
       "\t.list-inline>li:not(:last-child)::after {content: \"\\00b7\"; padding: 0 .5ex}\n",
       "\t</style>\n",
       "\t<ol class=list-inline><li>'setosa'</li><li>'versicolor'</li><li>'virginica'</li></ol>\n",
       "</details>"
      ],
      "text/latex": [
       "\\begin{description*}\n",
       "\\item[1] setosa\n",
       "\\item[7] setosa\n",
       "\\item[10] setosa\n",
       "\\item[11] setosa\n",
       "\\item[13] setosa\n",
       "\\item[17] setosa\n",
       "\\item[18] setosa\n",
       "\\item[19] setosa\n",
       "\\item[23] setosa\n",
       "\\item[25] setosa\n",
       "\\item[27] setosa\n",
       "\\item[33] setosa\n",
       "\\item[36] setosa\n",
       "\\item[43] setosa\n",
       "\\item[45] setosa\n",
       "\\item[51] versicolor\n",
       "\\item[54] versicolor\n",
       "\\item[55] versicolor\n",
       "\\item[57] versicolor\n",
       "\\item[61] versicolor\n",
       "\\item[64] versicolor\n",
       "\\item[70] versicolor\n",
       "\\item[71] virginica\n",
       "\\item[74] versicolor\n",
       "\\item[77] versicolor\n",
       "\\item[78] virginica\n",
       "\\item[81] versicolor\n",
       "\\item[83] versicolor\n",
       "\\item[84] virginica\n",
       "\\item[94] versicolor\n",
       "\\item[105] virginica\n",
       "\\item[114] virginica\n",
       "\\item[115] virginica\n",
       "\\item[118] virginica\n",
       "\\item[123] virginica\n",
       "\\item[125] virginica\n",
       "\\item[134] virginica\n",
       "\\item[138] virginica\n",
       "\\item[140] virginica\n",
       "\\item[142] virginica\n",
       "\\item[143] virginica\n",
       "\\item[145] virginica\n",
       "\\item[148] virginica\n",
       "\\item[149] virginica\n",
       "\\item[150] virginica\n",
       "\\end{description*}\n",
       "\n",
       "\\emph{Levels}: \\begin{enumerate*}\n",
       "\\item 'setosa'\n",
       "\\item 'versicolor'\n",
       "\\item 'virginica'\n",
       "\\end{enumerate*}\n"
      ],
      "text/markdown": [
       "1\n",
       ":   setosa7\n",
       ":   setosa10\n",
       ":   setosa11\n",
       ":   setosa13\n",
       ":   setosa17\n",
       ":   setosa18\n",
       ":   setosa19\n",
       ":   setosa23\n",
       ":   setosa25\n",
       ":   setosa27\n",
       ":   setosa33\n",
       ":   setosa36\n",
       ":   setosa43\n",
       ":   setosa45\n",
       ":   setosa51\n",
       ":   versicolor54\n",
       ":   versicolor55\n",
       ":   versicolor57\n",
       ":   versicolor61\n",
       ":   versicolor64\n",
       ":   versicolor70\n",
       ":   versicolor71\n",
       ":   virginica74\n",
       ":   versicolor77\n",
       ":   versicolor78\n",
       ":   virginica81\n",
       ":   versicolor83\n",
       ":   versicolor84\n",
       ":   virginica94\n",
       ":   versicolor105\n",
       ":   virginica114\n",
       ":   virginica115\n",
       ":   virginica118\n",
       ":   virginica123\n",
       ":   virginica125\n",
       ":   virginica134\n",
       ":   virginica138\n",
       ":   virginica140\n",
       ":   virginica142\n",
       ":   virginica143\n",
       ":   virginica145\n",
       ":   virginica148\n",
       ":   virginica149\n",
       ":   virginica150\n",
       ":   virginica\n",
       "\n",
       "\n",
       "**Levels**: 1. 'setosa'\n",
       "2. 'versicolor'\n",
       "3. 'virginica'\n",
       "\n",
       "\n"
      ],
      "text/plain": [
       "         1          7         10         11         13         17         18 \n",
       "    setosa     setosa     setosa     setosa     setosa     setosa     setosa \n",
       "        19         23         25         27         33         36         43 \n",
       "    setosa     setosa     setosa     setosa     setosa     setosa     setosa \n",
       "        45         51         54         55         57         61         64 \n",
       "    setosa versicolor versicolor versicolor versicolor versicolor versicolor \n",
       "        70         71         74         77         78         81         83 \n",
       "versicolor  virginica versicolor versicolor  virginica versicolor versicolor \n",
       "        84         94        105        114        115        118        123 \n",
       " virginica versicolor  virginica  virginica  virginica  virginica  virginica \n",
       "       125        134        138        140        142        143        145 \n",
       " virginica  virginica  virginica  virginica  virginica  virginica  virginica \n",
       "       148        149        150 \n",
       " virginica  virginica  virginica \n",
       "Levels: setosa versicolor virginica"
      ]
     },
     "metadata": {},
     "output_type": "display_data"
    }
   ],
   "source": [
    "# 검증하기\n",
    "pred <- predict(rf, x)\n",
    "pred\n"
   ]
  },
  {
   "cell_type": "code",
   "execution_count": 127,
   "metadata": {
    "vscode": {
     "languageId": "r"
    }
   },
   "outputs": [
    {
     "data": {
      "text/html": [
       "0.911111111111111"
      ],
      "text/latex": [
       "0.911111111111111"
      ],
      "text/markdown": [
       "0.911111111111111"
      ],
      "text/plain": [
       "[1] 0.9111111"
      ]
     },
     "metadata": {},
     "output_type": "display_data"
    },
    {
     "data": {
      "text/plain": [
       "            y\n",
       "pred         setosa versicolor virginica\n",
       "  setosa         15          0         0\n",
       "  versicolor      0         12         1\n",
       "  virginica       0          3        14"
      ]
     },
     "metadata": {},
     "output_type": "display_data"
    }
   ],
   "source": [
    "# 학습하기\n",
    "rf <- randomForest(Species ~ ., data = data.tr, ntree =100)\n",
    "# 검증하기\n",
    "pred <- predict(rf, x)\n",
    "# 예측력과 오분류표\n",
    "mean(pred == y)\n",
    "table(pred, y)"
   ]
  },
  {
   "cell_type": "code",
   "execution_count": 131,
   "metadata": {
    "vscode": {
     "languageId": "r"
    }
   },
   "outputs": [
    {
     "name": "stdout",
     "output_type": "stream",
     "text": [
      "[1] 1\n",
      "[1] 2\n",
      "[1] 3\n",
      "[1] 4\n",
      "[1] 5\n"
     ]
    }
   ],
   "source": [
    "# 예측력을 제출 : 5번 반복해서  평균값을 제출\n",
    "for(i in(seq(1,5,1))){print(i)}\n",
    "\n"
   ]
  },
  {
   "cell_type": "code",
   "execution_count": 130,
   "metadata": {
    "vscode": {
     "languageId": "r"
    }
   },
   "outputs": [
    {
     "ename": "ERROR",
     "evalue": "Error in eval(expr, envir, enclos): object 'randomForestFoldCrossValidation' not found\n",
     "output_type": "error",
     "traceback": [
      "Error in eval(expr, envir, enclos): object 'randomForestFoldCrossValidation' not found\nTraceback:\n"
     ]
    }
   ],
   "source": [
    "randomForestFoldCrossValidation"
   ]
  },
  {
   "cell_type": "code",
   "execution_count": 115,
   "metadata": {
    "vscode": {
     "languageId": "r"
    }
   },
   "outputs": [
    {
     "ename": "ERROR",
     "evalue": "Error in parse(text = x, srcfile = src): <text>:4:28: unexpected '{'\n3: randomForestFoldCrossValidation <- function(n){\n4:     for(i in 1:n){print(i)}{\n                              ^\n",
     "output_type": "error",
     "traceback": [
      "Error in parse(text = x, srcfile = src): <text>:4:28: unexpected '{'\n3: randomForestFoldCrossValidation <- function(n){\n4:     for(i in 1:n){print(i)}{\n                              ^\nTraceback:\n"
     ]
    }
   ],
   "source": [
    "set.seed(1234)\n",
    "\n",
    "randomForestFoldCrossValidation <- function(n){\n",
    "    for(i in 1:n){print(i)}{\n",
    "        result <- c()\n",
    "    }\n",
    "    return(result)\n",
    "}\n",
    "\n",
    "samp <- randomForestFoldCrossValidation(iris$Species, p = 0.7, list = F)\n",
    "\n",
    "#학습용\n",
    "data.tr <- iris[samp,]\n",
    "\n",
    "#검증용\n",
    "data.test <- iris[-samp,]"
   ]
  },
  {
   "cell_type": "markdown",
   "metadata": {
    "vscode": {
     "languageId": "r"
    }
   },
   "source": [
    "학습시킨 머신러닝 사용하기"
   ]
  },
  {
   "cell_type": "markdown",
   "metadata": {
    "vscode": {
     "languageId": "r"
    }
   },
   "source": [
    "길거리를 지나가다가 iris를 발견했음\n",
    "Sepal.Length = 5.3\n",
    "Sepal.Width = 3.3\n",
    "Petal.Length = 1.6\n",
    "Petal.Width = 0.3 의 품종은??\n",
    "\n",
    "data(iris)\n",
    "\n",
    "set.seed(1234)\n",
    "samp <- createData(iris$Species, p = 0.7, list = F)\n",
    "\n",
    "#학습용\n",
    "data.tr <- iris[samp,]\n",
    "\n",
    "#검증용\n",
    "data.test <- iris[-samp,]\n",
    "\n",
    "\n"
   ]
  },
  {
   "cell_type": "code",
   "execution_count": 137,
   "metadata": {
    "vscode": {
     "languageId": "r"
    }
   },
   "outputs": [],
   "source": [
    "rf <- randomForest(Species ~ ., data = data.tr, ntree = 100)"
   ]
  },
  {
   "cell_type": "code",
   "execution_count": 147,
   "metadata": {
    "vscode": {
     "languageId": "r"
    }
   },
   "outputs": [
    {
     "data": {
      "text/html": [
       "<table class=\"dataframe\">\n",
       "<caption>A data.frame: 1 x 4</caption>\n",
       "<thead>\n",
       "\t<tr><th scope=col>Sepal.Length</th><th scope=col>Separ.Width</th><th scope=col>Petal.Length</th><th scope=col>Petal.width</th></tr>\n",
       "\t<tr><th scope=col>&lt;dbl&gt;</th><th scope=col>&lt;dbl&gt;</th><th scope=col>&lt;dbl&gt;</th><th scope=col>&lt;dbl&gt;</th></tr>\n",
       "</thead>\n",
       "<tbody>\n",
       "\t<tr><td>5.3</td><td>3.3</td><td>1.6</td><td>0.3</td></tr>\n",
       "</tbody>\n",
       "</table>\n"
      ],
      "text/latex": [
       "A data.frame: 1 x 4\n",
       "\\begin{tabular}{llll}\n",
       " Sepal.Length & Separ.Width & Petal.Length & Petal.width\\\\\n",
       " <dbl> & <dbl> & <dbl> & <dbl>\\\\\n",
       "\\hline\n",
       "\t 5.3 & 3.3 & 1.6 & 0.3\\\\\n",
       "\\end{tabular}\n"
      ],
      "text/markdown": [
       "\n",
       "A data.frame: 1 x 4\n",
       "\n",
       "| Sepal.Length &lt;dbl&gt; | Separ.Width &lt;dbl&gt; | Petal.Length &lt;dbl&gt; | Petal.width &lt;dbl&gt; |\n",
       "|---|---|---|---|\n",
       "| 5.3 | 3.3 | 1.6 | 0.3 |\n",
       "\n"
      ],
      "text/plain": [
       "  Sepal.Length Separ.Width Petal.Length Petal.width\n",
       "1 5.3          3.3         1.6          0.3        "
      ]
     },
     "metadata": {},
     "output_type": "display_data"
    },
    {
     "ename": "ERROR",
     "evalue": "Error in eval(predvars, data, env): object 'Sepal.Width' not found\n",
     "output_type": "error",
     "traceback": [
      "Error in eval(predvars, data, env): object 'Sepal.Width' not found\nTraceback:\n",
      "1. predict(rf, a)",
      "2. predict.randomForest(rf, a)",
      "3. model.frame(Terms, newdata, na.action = na.omit)",
      "4. model.frame.default(Terms, newdata, na.action = na.omit)",
      "5. eval(predvars, data, env)",
      "6. eval(predvars, data, env)"
     ]
    }
   ],
   "source": [
    "a <- data.frame(\n",
    "    Sepal.Length = 5.3,\n",
    "    Separ.Width = 3.3,\n",
    "    Petal.Length = 1.6,\n",
    "    Petal.width = 0.3\n",
    ")\n",
    "a\n",
    "\n",
    "predict(rf, a)"
   ]
  },
  {
   "cell_type": "code",
   "execution_count": 136,
   "metadata": {
    "vscode": {
     "languageId": "r"
    }
   },
   "outputs": [
    {
     "ename": "ERROR",
     "evalue": "Error in eval(predvars, data, env): object 'Sepal.Width' not found\n",
     "output_type": "error",
     "traceback": [
      "Error in eval(predvars, data, env): object 'Sepal.Width' not found\nTraceback:\n",
      "1. predict(rf, a)",
      "2. predict.randomForest(rf, a)",
      "3. model.frame(Terms, newdata, na.action = na.omit)",
      "4. model.frame.default(Terms, newdata, na.action = na.omit)",
      "5. eval(predvars, data, env)",
      "6. eval(predvars, data, env)"
     ]
    }
   ],
   "source": [
    "predict(rf,a)"
   ]
  },
  {
   "cell_type": "code",
   "execution_count": null,
   "metadata": {
    "vscode": {
     "languageId": "r"
    }
   },
   "outputs": [],
   "source": []
  },
  {
   "cell_type": "code",
   "execution_count": null,
   "metadata": {
    "vscode": {
     "languageId": "r"
    }
   },
   "outputs": [],
   "source": [
    "길거리를 지나가다가 iris를 발견했음\n",
    "Sepal.Length = 9.3\n",
    "Sepal.Width = 2.2\n",
    "Petal.Length = 7.5\n",
    "Petal.Width = 3.5 의 품종은??\n"
   ]
  },
  {
   "cell_type": "code",
   "execution_count": 145,
   "metadata": {
    "vscode": {
     "languageId": "r"
    }
   },
   "outputs": [
    {
     "data": {
      "text/html": [
       "<table class=\"dataframe\">\n",
       "<caption>A data.frame: 1 x 4</caption>\n",
       "<thead>\n",
       "\t<tr><th scope=col>Sepal.Length</th><th scope=col>Sepal.Width</th><th scope=col>Petal.Length</th><th scope=col>Petal.Width</th></tr>\n",
       "\t<tr><th scope=col>&lt;dbl&gt;</th><th scope=col>&lt;dbl&gt;</th><th scope=col>&lt;dbl&gt;</th><th scope=col>&lt;dbl&gt;</th></tr>\n",
       "</thead>\n",
       "<tbody>\n",
       "\t<tr><td>9.3</td><td>2.2</td><td>7.5</td><td>3.5</td></tr>\n",
       "</tbody>\n",
       "</table>\n"
      ],
      "text/latex": [
       "A data.frame: 1 x 4\n",
       "\\begin{tabular}{llll}\n",
       " Sepal.Length & Sepal.Width & Petal.Length & Petal.Width\\\\\n",
       " <dbl> & <dbl> & <dbl> & <dbl>\\\\\n",
       "\\hline\n",
       "\t 9.3 & 2.2 & 7.5 & 3.5\\\\\n",
       "\\end{tabular}\n"
      ],
      "text/markdown": [
       "\n",
       "A data.frame: 1 x 4\n",
       "\n",
       "| Sepal.Length &lt;dbl&gt; | Sepal.Width &lt;dbl&gt; | Petal.Length &lt;dbl&gt; | Petal.Width &lt;dbl&gt; |\n",
       "|---|---|---|---|\n",
       "| 9.3 | 2.2 | 7.5 | 3.5 |\n",
       "\n"
      ],
      "text/plain": [
       "  Sepal.Length Sepal.Width Petal.Length Petal.Width\n",
       "1 9.3          2.2         7.5          3.5        "
      ]
     },
     "metadata": {},
     "output_type": "display_data"
    },
    {
     "data": {
      "text/html": [
       "<strong>1:</strong> virginica\n",
       "<details>\n",
       "\t<summary style=display:list-item;cursor:pointer>\n",
       "\t\t<strong>Levels</strong>:\n",
       "\t</summary>\n",
       "\t<style>\n",
       "\t.list-inline {list-style: none; margin:0; padding: 0}\n",
       "\t.list-inline>li {display: inline-block}\n",
       "\t.list-inline>li:not(:last-child)::after {content: \"\\00b7\"; padding: 0 .5ex}\n",
       "\t</style>\n",
       "\t<ol class=list-inline><li>'setosa'</li><li>'versicolor'</li><li>'virginica'</li></ol>\n",
       "</details>"
      ],
      "text/latex": [
       "\\textbf{1:} virginica\n",
       "\\emph{Levels}: \\begin{enumerate*}\n",
       "\\item 'setosa'\n",
       "\\item 'versicolor'\n",
       "\\item 'virginica'\n",
       "\\end{enumerate*}\n"
      ],
      "text/markdown": [
       "**1:** virginica\n",
       "**Levels**: 1. 'setosa'\n",
       "2. 'versicolor'\n",
       "3. 'virginica'\n",
       "\n",
       "\n"
      ],
      "text/plain": [
       "        1 \n",
       "virginica \n",
       "Levels: setosa versicolor virginica"
      ]
     },
     "metadata": {},
     "output_type": "display_data"
    }
   ],
   "source": [
    "rf <- randomForest(Species ~ ., data = data.tr, ntree = 100)\n",
    "b <- data.frame(\n",
    "    Sepal.Length = 9.3,\n",
    "    Sepal.Width = 2.2,\n",
    "    Petal.Length = 7.5,\n",
    "    Petal.Width = 3.5 \n",
    ")\n",
    "b\n",
    "predict(rf,b)"
   ]
  }
 ],
 "metadata": {
  "kernelspec": {
   "display_name": "R",
   "language": "R",
   "name": "r"
  },
  "language_info": {
   "codemirror_mode": "r",
   "file_extension": ".r",
   "mimetype": "text/x-r-source",
   "name": "R",
   "pygments_lexer": "r",
   "version": "4.4.1"
  }
 },
 "nbformat": 4,
 "nbformat_minor": 2
}
