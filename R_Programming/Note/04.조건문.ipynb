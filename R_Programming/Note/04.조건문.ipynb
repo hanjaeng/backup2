{
 "cells": [
  {
   "cell_type": "code",
   "execution_count": 58,
   "metadata": {
    "vscode": {
     "languageId": "r"
    }
   },
   "outputs": [
    {
     "data": {
      "text/html": [
       "'ko_KR.UTF-8/ko_KR.UTF-8/ko_KR.UTF-8/C/ko_KR.UTF-8/C'"
      ],
      "text/latex": [
       "'ko\\_KR.UTF-8/ko\\_KR.UTF-8/ko\\_KR.UTF-8/C/ko\\_KR.UTF-8/C'"
      ],
      "text/markdown": [
       "'ko_KR.UTF-8/ko_KR.UTF-8/ko_KR.UTF-8/C/ko_KR.UTF-8/C'"
      ],
      "text/plain": [
       "[1] \"ko_KR.UTF-8/ko_KR.UTF-8/ko_KR.UTF-8/C/ko_KR.UTF-8/C\""
      ]
     },
     "metadata": {},
     "output_type": "display_data"
    }
   ],
   "source": [
    "Sys.setlocale(category = 'LC_ALL' , locale = 'ko_KR.UTF-8') ## 한글보이기"
   ]
  },
  {
   "cell_type": "markdown",
   "metadata": {
    "vscode": {
     "languageId": "r"
    }
   },
   "source": [
    "조건문(Conditional Statement)"
   ]
  },
  {
   "cell_type": "code",
   "execution_count": 59,
   "metadata": {
    "vscode": {
     "languageId": "r"
    }
   },
   "outputs": [
    {
     "name": "stdout",
     "output_type": "stream",
     "text": [
      "x < runif()\n",
      "72 \n"
     ]
    },
    {
     "name": "stdout",
     "output_type": "stream",
     "text": [
      "[1] \"--END---\"\n"
     ]
    }
   ],
   "source": [
    "x <-10\n",
    "y<-trunc(runif(1) * 100)\n",
    "\n",
    "if(x > y){\n",
    "    cat(\"x > runif()\\n\")\n",
    "    cat(y, \"\\n\")\n",
    "}else if(x < y) {\n",
    "    cat(\"x < runif()\\n\")\n",
    "    cat(y, \"\\n\")\n",
    "}else{\n",
    "    cat(\"x <= 10 \\n\")\n",
    "    cat(y, \"\\n\")\n",
    "}\n",
    "\n",
    "print(\"--END---\")"
   ]
  },
  {
   "cell_type": "markdown",
   "metadata": {},
   "source": []
  },
  {
   "cell_type": "markdown",
   "metadata": {
    "vscode": {
     "languageId": "r"
    }
   },
   "source": [
    "홀수 짝수 구분"
   ]
  },
  {
   "cell_type": "code",
   "execution_count": 60,
   "metadata": {
    "vscode": {
     "languageId": "r"
    }
   },
   "outputs": [
    {
     "name": "stdout",
     "output_type": "stream",
     "text": [
      "8 는 짝수 입니다."
     ]
    }
   ],
   "source": [
    "a <- 8    #변수하나에 데이터 하나(스칼라변수)\n",
    "\n",
    "if(a %% 2 == 0){\n",
    "    cat(a, \"는 짝수 입니다.\")\n",
    "}else{\n",
    "    cat(a, \"는 홀수 입니다.\")\n",
    "}"
   ]
  },
  {
   "cell_type": "code",
   "execution_count": 61,
   "metadata": {
    "vscode": {
     "languageId": "r"
    }
   },
   "outputs": [
    {
     "data": {
      "text/html": [
       "<style>\n",
       ".list-inline {list-style: none; margin:0; padding: 0}\n",
       ".list-inline>li {display: inline-block}\n",
       ".list-inline>li:not(:last-child)::after {content: \"\\00b7\"; padding: 0 .5ex}\n",
       "</style>\n",
       "<ol class=list-inline><li>'짝수'</li><li>'홀수'</li><li>'짝수'</li></ol>\n"
      ],
      "text/latex": [
       "\\begin{enumerate*}\n",
       "\\item '짝수'\n",
       "\\item '홀수'\n",
       "\\item '짝수'\n",
       "\\end{enumerate*}\n"
      ],
      "text/markdown": [
       "1. '짝수'\n",
       "2. '홀수'\n",
       "3. '짝수'\n",
       "\n",
       "\n"
      ],
      "text/plain": [
       "[1] \"짝수\" \"홀수\" \"짝수\""
      ]
     },
     "metadata": {},
     "output_type": "display_data"
    },
    {
     "data": {
      "text/html": [
       "<style>\n",
       ".list-inline {list-style: none; margin:0; padding: 0}\n",
       ".list-inline>li {display: inline-block}\n",
       ".list-inline>li:not(:last-child)::after {content: \"\\00b7\"; padding: 0 .5ex}\n",
       "</style>\n",
       "<ol class=list-inline><li>'8 :짝수'</li><li>'9 :홀수'</li><li>'10 :짝수'</li></ol>\n"
      ],
      "text/latex": [
       "\\begin{enumerate*}\n",
       "\\item '8 :짝수'\n",
       "\\item '9 :홀수'\n",
       "\\item '10 :짝수'\n",
       "\\end{enumerate*}\n"
      ],
      "text/markdown": [
       "1. '8 :짝수'\n",
       "2. '9 :홀수'\n",
       "3. '10 :짝수'\n",
       "\n",
       "\n"
      ],
      "text/plain": [
       "[1] \"8 :짝수\"  \"9 :홀수\"  \"10 :짝수\""
      ]
     },
     "metadata": {},
     "output_type": "display_data"
    }
   ],
   "source": [
    "a <- c(8,9,10)\n",
    "ifelse(a %% 2 == 0, \"짝수\", \"홀수\")  #3항 연산자\n",
    "\n",
    "ifelse(a %% 2 == 0, paste(a, \":짝수\"), paste(a, \":홀수\"))  \n",
    "#a가 뭔지 모를때 paste로 벡터를 만들어 넣기\n"
   ]
  },
  {
   "cell_type": "code",
   "execution_count": null,
   "metadata": {
    "vscode": {
     "languageId": "r"
    }
   },
   "outputs": [],
   "source": []
  },
  {
   "cell_type": "markdown",
   "metadata": {
    "vscode": {
     "languageId": "r"
    }
   },
   "source": [
    "readline"
   ]
  },
  {
   "cell_type": "code",
   "execution_count": 62,
   "metadata": {
    "vscode": {
     "languageId": "r"
    }
   },
   "outputs": [
    {
     "data": {
      "text/html": [
       "15"
      ],
      "text/latex": [
       "15"
      ],
      "text/markdown": [
       "15"
      ],
      "text/plain": [
       "[1] 15"
      ]
     },
     "metadata": {},
     "output_type": "display_data"
    }
   ],
   "source": [
    "num1 <- as.integer(readline(\"숫자를 입력 하세요 :\"))\n",
    "num1"
   ]
  },
  {
   "cell_type": "code",
   "execution_count": 83,
   "metadata": {
    "vscode": {
     "languageId": "r"
    }
   },
   "outputs": [
    {
     "data": {
      "text/html": [
       "16"
      ],
      "text/latex": [
       "16"
      ],
      "text/markdown": [
       "16"
      ],
      "text/plain": [
       "[1] 16"
      ]
     },
     "metadata": {},
     "output_type": "display_data"
    },
    {
     "data": {
      "text/html": [
       "'16 :짝수'"
      ],
      "text/latex": [
       "'16 :짝수'"
      ],
      "text/markdown": [
       "'16 :짝수'"
      ],
      "text/plain": [
       "[1] \"16 :짝수\""
      ]
     },
     "metadata": {},
     "output_type": "display_data"
    },
    {
     "data": {
      "text/html": [
       "'입력하신 숫자는 16 이고 16 :짝수 입니다'"
      ],
      "text/latex": [
       "'입력하신 숫자는 16 이고 16 :짝수 입니다'"
      ],
      "text/markdown": [
       "'입력하신 숫자는 16 이고 16 :짝수 입니다'"
      ],
      "text/plain": [
       "[1] \"입력하신 숫자는 16 이고 16 :짝수 입니다\""
      ]
     },
     "metadata": {},
     "output_type": "display_data"
    }
   ],
   "source": [
    "# 사용자가 입력한 정수가 홀수인지 짝수인지 판단하기\n",
    "# 출력예시 : 입력하신 숫자는 12이고 짝수입니다.\n",
    "\n",
    "num2 <- as.integer(readline(\"숫자를 입력하세요\"))\n",
    "num2\n",
    "\n",
    "result <- ifelse(num2 %% 2 == 0, paste(num2, \":짝수\"), paste(num2, \":홀수\")) \n",
    "result\n",
    "\n",
    "paste(\"입력하신 숫자는\", num2, \"이고\", result, \"입니다\")"
   ]
  },
  {
   "cell_type": "code",
   "execution_count": 70,
   "metadata": {
    "vscode": {
     "languageId": "r"
    }
   },
   "outputs": [
    {
     "data": {
      "text/html": [
       "<table class=\"dataframe\">\n",
       "<caption>A data.frame: 403 x 5</caption>\n",
       "<thead>\n",
       "\t<tr><th scope=col>V1</th><th scope=col>V2</th><th scope=col>V3</th><th scope=col>V4</th><th scope=col>V5</th></tr>\n",
       "\t<tr><th scope=col>&lt;chr&gt;</th><th scope=col>&lt;chr&gt;</th><th scope=col>&lt;chr&gt;</th><th scope=col>&lt;chr&gt;</th><th scope=col>&lt;chr&gt;</th></tr>\n",
       "</thead>\n",
       "<tbody>\n",
       "\t<tr><td>q1</td><td>q2</td><td>q3</td><td>q4</td><td>q5</td></tr>\n",
       "\t<tr><td>2 </td><td>4 </td><td>4 </td><td>2 </td><td>2 </td></tr>\n",
       "\t<tr><td>1 </td><td>2 </td><td>2 </td><td>2 </td><td>2 </td></tr>\n",
       "\t<tr><td>2 </td><td>3 </td><td>4 </td><td>3 </td><td>3 </td></tr>\n",
       "\t<tr><td>3 </td><td>5 </td><td>5 </td><td>3 </td><td>3 </td></tr>\n",
       "\t<tr><td>3 </td><td>2 </td><td>4 </td><td>4 </td><td>4 </td></tr>\n",
       "\t<tr><td>4 </td><td>3 </td><td>3 </td><td>4 </td><td>2 </td></tr>\n",
       "\t<tr><td>3 </td><td>4 </td><td>4 </td><td>2 </td><td>2 </td></tr>\n",
       "\t<tr><td>4 </td><td>2 </td><td>4 </td><td>4 </td><td>4 </td></tr>\n",
       "\t<tr><td>4 </td><td>4 </td><td>5 </td><td>3 </td><td>4 </td></tr>\n",
       "\t<tr><td>4 </td><td>2 </td><td>4 </td><td>2 </td><td>3 </td></tr>\n",
       "\t<tr><td>4 </td><td>4 </td><td>4 </td><td>3 </td><td>3 </td></tr>\n",
       "\t<tr><td>3 </td><td>1 </td><td>4 </td><td>3 </td><td>4 </td></tr>\n",
       "\t<tr><td>3 </td><td>2 </td><td>4 </td><td>3 </td><td>4 </td></tr>\n",
       "\t<tr><td>3 </td><td>4 </td><td>3 </td><td>4 </td><td>5 </td></tr>\n",
       "\t<tr><td>1 </td><td>3 </td><td>2 </td><td>2 </td><td>3 </td></tr>\n",
       "\t<tr><td>3 </td><td>4 </td><td>2 </td><td>3 </td><td>4 </td></tr>\n",
       "\t<tr><td>3 </td><td>2 </td><td>1 </td><td>1 </td><td>3 </td></tr>\n",
       "\t<tr><td>3 </td><td>3 </td><td>3 </td><td>4 </td><td>3 </td></tr>\n",
       "\t<tr><td>2 </td><td>2 </td><td>4 </td><td>3 </td><td>2 </td></tr>\n",
       "\t<tr><td>3 </td><td>4 </td><td>4 </td><td>3 </td><td>4 </td></tr>\n",
       "\t<tr><td>3 </td><td>4 </td><td>5 </td><td>2 </td><td>4 </td></tr>\n",
       "\t<tr><td>4 </td><td>3 </td><td>4 </td><td>2 </td><td>3 </td></tr>\n",
       "\t<tr><td>2 </td><td>2 </td><td>2 </td><td>1 </td><td>4 </td></tr>\n",
       "\t<tr><td>2 </td><td>3 </td><td>4 </td><td>3 </td><td>5 </td></tr>\n",
       "\t<tr><td>3 </td><td>4 </td><td>4 </td><td>2 </td><td>4 </td></tr>\n",
       "\t<tr><td>4 </td><td>2 </td><td>3 </td><td>3 </td><td>2 </td></tr>\n",
       "\t<tr><td>4 </td><td>4 </td><td>4 </td><td>4 </td><td>3 </td></tr>\n",
       "\t<tr><td>4 </td><td>4 </td><td>5 </td><td>3 </td><td>3 </td></tr>\n",
       "\t<tr><td>3 </td><td>2 </td><td>2 </td><td>3 </td><td>4 </td></tr>\n",
       "\t<tr><td>...</td><td>...</td><td>...</td><td>...</td><td>...</td></tr>\n",
       "\t<tr><td>4</td><td>4</td><td>3</td><td>4</td><td>5</td></tr>\n",
       "\t<tr><td>2</td><td>3</td><td>4</td><td>3</td><td>3</td></tr>\n",
       "\t<tr><td>2</td><td>4</td><td>5</td><td>3</td><td>5</td></tr>\n",
       "\t<tr><td>3</td><td>3</td><td>4</td><td>2</td><td>3</td></tr>\n",
       "\t<tr><td>3</td><td>2</td><td>2</td><td>2</td><td>3</td></tr>\n",
       "\t<tr><td>3</td><td>2</td><td>4</td><td>2</td><td>3</td></tr>\n",
       "\t<tr><td>2</td><td>4</td><td>5</td><td>2</td><td>2</td></tr>\n",
       "\t<tr><td>1</td><td>2</td><td>3</td><td>1</td><td>3</td></tr>\n",
       "\t<tr><td>3</td><td>1</td><td>2</td><td>3</td><td>5</td></tr>\n",
       "\t<tr><td>4</td><td>3</td><td>3</td><td>3</td><td>5</td></tr>\n",
       "\t<tr><td>3</td><td>4</td><td>4</td><td>3</td><td>3</td></tr>\n",
       "\t<tr><td>3</td><td>4</td><td>3</td><td>4</td><td>3</td></tr>\n",
       "\t<tr><td>2</td><td>2</td><td>2</td><td>2</td><td>4</td></tr>\n",
       "\t<tr><td>4</td><td>3</td><td>5</td><td>4</td><td>2</td></tr>\n",
       "\t<tr><td>3</td><td>2</td><td>3</td><td>3</td><td>4</td></tr>\n",
       "\t<tr><td>2</td><td>4</td><td>4</td><td>3</td><td>2</td></tr>\n",
       "\t<tr><td>3</td><td>2</td><td>2</td><td>1</td><td>4</td></tr>\n",
       "\t<tr><td>3</td><td>2</td><td>4</td><td>2</td><td>4</td></tr>\n",
       "\t<tr><td>1</td><td>2</td><td>2</td><td>2</td><td>2</td></tr>\n",
       "\t<tr><td>3</td><td>2</td><td>4</td><td>3</td><td>4</td></tr>\n",
       "\t<tr><td>2</td><td>4</td><td>4</td><td>3</td><td>4</td></tr>\n",
       "\t<tr><td>4</td><td>3</td><td>5</td><td>3</td><td>2</td></tr>\n",
       "\t<tr><td>3</td><td>1</td><td>2</td><td>1</td><td>1</td></tr>\n",
       "\t<tr><td>3</td><td>4</td><td>4</td><td>3</td><td>2</td></tr>\n",
       "\t<tr><td>2</td><td>3</td><td>5</td><td>2</td><td>4</td></tr>\n",
       "\t<tr><td>4</td><td>3</td><td>3</td><td>2</td><td>4</td></tr>\n",
       "\t<tr><td>2</td><td>4</td><td>4</td><td>2</td><td>3</td></tr>\n",
       "\t<tr><td>2</td><td>2</td><td>5</td><td>2</td><td>4</td></tr>\n",
       "\t<tr><td>2</td><td>3</td><td>4</td><td>2</td><td>4</td></tr>\n",
       "\t<tr><td>2</td><td>2</td><td>4</td><td>2</td><td>4</td></tr>\n",
       "</tbody>\n",
       "</table>\n"
      ],
      "text/latex": [
       "A data.frame: 403 x 5\n",
       "\\begin{tabular}{lllll}\n",
       " V1 & V2 & V3 & V4 & V5\\\\\n",
       " <chr> & <chr> & <chr> & <chr> & <chr>\\\\\n",
       "\\hline\n",
       "\t q1 & q2 & q3 & q4 & q5\\\\\n",
       "\t 2  & 4  & 4  & 2  & 2 \\\\\n",
       "\t 1  & 2  & 2  & 2  & 2 \\\\\n",
       "\t 2  & 3  & 4  & 3  & 3 \\\\\n",
       "\t 3  & 5  & 5  & 3  & 3 \\\\\n",
       "\t 3  & 2  & 4  & 4  & 4 \\\\\n",
       "\t 4  & 3  & 3  & 4  & 2 \\\\\n",
       "\t 3  & 4  & 4  & 2  & 2 \\\\\n",
       "\t 4  & 2  & 4  & 4  & 4 \\\\\n",
       "\t 4  & 4  & 5  & 3  & 4 \\\\\n",
       "\t 4  & 2  & 4  & 2  & 3 \\\\\n",
       "\t 4  & 4  & 4  & 3  & 3 \\\\\n",
       "\t 3  & 1  & 4  & 3  & 4 \\\\\n",
       "\t 3  & 2  & 4  & 3  & 4 \\\\\n",
       "\t 3  & 4  & 3  & 4  & 5 \\\\\n",
       "\t 1  & 3  & 2  & 2  & 3 \\\\\n",
       "\t 3  & 4  & 2  & 3  & 4 \\\\\n",
       "\t 3  & 2  & 1  & 1  & 3 \\\\\n",
       "\t 3  & 3  & 3  & 4  & 3 \\\\\n",
       "\t 2  & 2  & 4  & 3  & 2 \\\\\n",
       "\t 3  & 4  & 4  & 3  & 4 \\\\\n",
       "\t 3  & 4  & 5  & 2  & 4 \\\\\n",
       "\t 4  & 3  & 4  & 2  & 3 \\\\\n",
       "\t 2  & 2  & 2  & 1  & 4 \\\\\n",
       "\t 2  & 3  & 4  & 3  & 5 \\\\\n",
       "\t 3  & 4  & 4  & 2  & 4 \\\\\n",
       "\t 4  & 2  & 3  & 3  & 2 \\\\\n",
       "\t 4  & 4  & 4  & 4  & 3 \\\\\n",
       "\t 4  & 4  & 5  & 3  & 3 \\\\\n",
       "\t 3  & 2  & 2  & 3  & 4 \\\\\n",
       "\t ... & ... & ... & ... & ...\\\\\n",
       "\t 4 & 4 & 3 & 4 & 5\\\\\n",
       "\t 2 & 3 & 4 & 3 & 3\\\\\n",
       "\t 2 & 4 & 5 & 3 & 5\\\\\n",
       "\t 3 & 3 & 4 & 2 & 3\\\\\n",
       "\t 3 & 2 & 2 & 2 & 3\\\\\n",
       "\t 3 & 2 & 4 & 2 & 3\\\\\n",
       "\t 2 & 4 & 5 & 2 & 2\\\\\n",
       "\t 1 & 2 & 3 & 1 & 3\\\\\n",
       "\t 3 & 1 & 2 & 3 & 5\\\\\n",
       "\t 4 & 3 & 3 & 3 & 5\\\\\n",
       "\t 3 & 4 & 4 & 3 & 3\\\\\n",
       "\t 3 & 4 & 3 & 4 & 3\\\\\n",
       "\t 2 & 2 & 2 & 2 & 4\\\\\n",
       "\t 4 & 3 & 5 & 4 & 2\\\\\n",
       "\t 3 & 2 & 3 & 3 & 4\\\\\n",
       "\t 2 & 4 & 4 & 3 & 2\\\\\n",
       "\t 3 & 2 & 2 & 1 & 4\\\\\n",
       "\t 3 & 2 & 4 & 2 & 4\\\\\n",
       "\t 1 & 2 & 2 & 2 & 2\\\\\n",
       "\t 3 & 2 & 4 & 3 & 4\\\\\n",
       "\t 2 & 4 & 4 & 3 & 4\\\\\n",
       "\t 4 & 3 & 5 & 3 & 2\\\\\n",
       "\t 3 & 1 & 2 & 1 & 1\\\\\n",
       "\t 3 & 4 & 4 & 3 & 2\\\\\n",
       "\t 2 & 3 & 5 & 2 & 4\\\\\n",
       "\t 4 & 3 & 3 & 2 & 4\\\\\n",
       "\t 2 & 4 & 4 & 2 & 3\\\\\n",
       "\t 2 & 2 & 5 & 2 & 4\\\\\n",
       "\t 2 & 3 & 4 & 2 & 4\\\\\n",
       "\t 2 & 2 & 4 & 2 & 4\\\\\n",
       "\\end{tabular}\n"
      ],
      "text/markdown": [
       "\n",
       "A data.frame: 403 x 5\n",
       "\n",
       "| V1 &lt;chr&gt; | V2 &lt;chr&gt; | V3 &lt;chr&gt; | V4 &lt;chr&gt; | V5 &lt;chr&gt; |\n",
       "|---|---|---|---|---|\n",
       "| q1 | q2 | q3 | q4 | q5 |\n",
       "| 2  | 4  | 4  | 2  | 2  |\n",
       "| 1  | 2  | 2  | 2  | 2  |\n",
       "| 2  | 3  | 4  | 3  | 3  |\n",
       "| 3  | 5  | 5  | 3  | 3  |\n",
       "| 3  | 2  | 4  | 4  | 4  |\n",
       "| 4  | 3  | 3  | 4  | 2  |\n",
       "| 3  | 4  | 4  | 2  | 2  |\n",
       "| 4  | 2  | 4  | 4  | 4  |\n",
       "| 4  | 4  | 5  | 3  | 4  |\n",
       "| 4  | 2  | 4  | 2  | 3  |\n",
       "| 4  | 4  | 4  | 3  | 3  |\n",
       "| 3  | 1  | 4  | 3  | 4  |\n",
       "| 3  | 2  | 4  | 3  | 4  |\n",
       "| 3  | 4  | 3  | 4  | 5  |\n",
       "| 1  | 3  | 2  | 2  | 3  |\n",
       "| 3  | 4  | 2  | 3  | 4  |\n",
       "| 3  | 2  | 1  | 1  | 3  |\n",
       "| 3  | 3  | 3  | 4  | 3  |\n",
       "| 2  | 2  | 4  | 3  | 2  |\n",
       "| 3  | 4  | 4  | 3  | 4  |\n",
       "| 3  | 4  | 5  | 2  | 4  |\n",
       "| 4  | 3  | 4  | 2  | 3  |\n",
       "| 2  | 2  | 2  | 1  | 4  |\n",
       "| 2  | 3  | 4  | 3  | 5  |\n",
       "| 3  | 4  | 4  | 2  | 4  |\n",
       "| 4  | 2  | 3  | 3  | 2  |\n",
       "| 4  | 4  | 4  | 4  | 3  |\n",
       "| 4  | 4  | 5  | 3  | 3  |\n",
       "| 3  | 2  | 2  | 3  | 4  |\n",
       "| ... | ... | ... | ... | ... |\n",
       "| 4 | 4 | 3 | 4 | 5 |\n",
       "| 2 | 3 | 4 | 3 | 3 |\n",
       "| 2 | 4 | 5 | 3 | 5 |\n",
       "| 3 | 3 | 4 | 2 | 3 |\n",
       "| 3 | 2 | 2 | 2 | 3 |\n",
       "| 3 | 2 | 4 | 2 | 3 |\n",
       "| 2 | 4 | 5 | 2 | 2 |\n",
       "| 1 | 2 | 3 | 1 | 3 |\n",
       "| 3 | 1 | 2 | 3 | 5 |\n",
       "| 4 | 3 | 3 | 3 | 5 |\n",
       "| 3 | 4 | 4 | 3 | 3 |\n",
       "| 3 | 4 | 3 | 4 | 3 |\n",
       "| 2 | 2 | 2 | 2 | 4 |\n",
       "| 4 | 3 | 5 | 4 | 2 |\n",
       "| 3 | 2 | 3 | 3 | 4 |\n",
       "| 2 | 4 | 4 | 3 | 2 |\n",
       "| 3 | 2 | 2 | 1 | 4 |\n",
       "| 3 | 2 | 4 | 2 | 4 |\n",
       "| 1 | 2 | 2 | 2 | 2 |\n",
       "| 3 | 2 | 4 | 3 | 4 |\n",
       "| 2 | 4 | 4 | 3 | 4 |\n",
       "| 4 | 3 | 5 | 3 | 2 |\n",
       "| 3 | 1 | 2 | 1 | 1 |\n",
       "| 3 | 4 | 4 | 3 | 2 |\n",
       "| 2 | 3 | 5 | 2 | 4 |\n",
       "| 4 | 3 | 3 | 2 | 4 |\n",
       "| 2 | 4 | 4 | 2 | 3 |\n",
       "| 2 | 2 | 5 | 2 | 4 |\n",
       "| 2 | 3 | 4 | 2 | 4 |\n",
       "| 2 | 2 | 4 | 2 | 4 |\n",
       "\n"
      ],
      "text/plain": [
       "    V1  V2  V3  V4  V5 \n",
       "1   q1  q2  q3  q4  q5 \n",
       "2   2   4   4   2   2  \n",
       "3   1   2   2   2   2  \n",
       "4   2   3   4   3   3  \n",
       "5   3   5   5   3   3  \n",
       "6   3   2   4   4   4  \n",
       "7   4   3   3   4   2  \n",
       "8   3   4   4   2   2  \n",
       "9   4   2   4   4   4  \n",
       "10  4   4   5   3   4  \n",
       "11  4   2   4   2   3  \n",
       "12  4   4   4   3   3  \n",
       "13  3   1   4   3   4  \n",
       "14  3   2   4   3   4  \n",
       "15  3   4   3   4   5  \n",
       "16  1   3   2   2   3  \n",
       "17  3   4   2   3   4  \n",
       "18  3   2   1   1   3  \n",
       "19  3   3   3   4   3  \n",
       "20  2   2   4   3   2  \n",
       "21  3   4   4   3   4  \n",
       "22  3   4   5   2   4  \n",
       "23  4   3   4   2   3  \n",
       "24  2   2   2   1   4  \n",
       "25  2   3   4   3   5  \n",
       "26  3   4   4   2   4  \n",
       "27  4   2   3   3   2  \n",
       "28  4   4   4   4   3  \n",
       "29  4   4   5   3   3  \n",
       "30  3   2   2   3   4  \n",
       "... ... ... ... ... ...\n",
       "374 4   4   3   4   5  \n",
       "375 2   3   4   3   3  \n",
       "376 2   4   5   3   5  \n",
       "377 3   3   4   2   3  \n",
       "378 3   2   2   2   3  \n",
       "379 3   2   4   2   3  \n",
       "380 2   4   5   2   2  \n",
       "381 1   2   3   1   3  \n",
       "382 3   1   2   3   5  \n",
       "383 4   3   3   3   5  \n",
       "384 3   4   4   3   3  \n",
       "385 3   4   3   4   3  \n",
       "386 2   2   2   2   4  \n",
       "387 4   3   5   4   2  \n",
       "388 3   2   3   3   4  \n",
       "389 2   4   4   3   2  \n",
       "390 3   2   2   1   4  \n",
       "391 3   2   4   2   4  \n",
       "392 1   2   2   2   2  \n",
       "393 3   2   4   3   4  \n",
       "394 2   4   4   3   4  \n",
       "395 4   3   5   3   2  \n",
       "396 3   1   2   1   1  \n",
       "397 3   4   4   3   2  \n",
       "398 2   3   5   2   4  \n",
       "399 4   3   3   2   4  \n",
       "400 2   4   4   2   3  \n",
       "401 2   2   5   2   4  \n",
       "402 2   3   4   2   4  \n",
       "403 2   2   4   2   4  "
      ]
     },
     "metadata": {},
     "output_type": "display_data"
    },
    {
     "name": "stdout",
     "output_type": "stream",
     "text": [
      "'data.frame':\t403 obs. of  5 variables:\n",
      " $ V1: chr  \"q1\" \"2\" \"1\" \"2\" ...\n",
      " $ V2: chr  \"q2\" \"4\" \"2\" \"3\" ...\n",
      " $ V3: chr  \"q3\" \"4\" \"2\" \"4\" ...\n",
      " $ V4: chr  \"q4\" \"2\" \"2\" \"3\" ...\n",
      " $ V5: chr  \"q5\" \"2\" \"2\" \"3\" ...\n"
     ]
    }
   ],
   "source": [
    "#excel.csv 불러오기\n",
    "excel <- read.csv(\"../Data/excel.csv\", header = F)\n",
    "excel\n",
    "str(excel)"
   ]
  },
  {
   "cell_type": "code",
   "execution_count": 84,
   "metadata": {
    "vscode": {
     "languageId": "r"
    }
   },
   "outputs": [
    {
     "ename": "ERROR",
     "evalue": "Error in `$<-.data.frame`(`*tmp*`, q6, value = c(2, 1, 2e+05, 1.732051, : replacement has 6 rows, data has 403\n",
     "output_type": "error",
     "traceback": [
      "Error in `$<-.data.frame`(`*tmp*`, q6, value = c(2, 1, 2e+05, 1.732051, : replacement has 6 rows, data has 403\nTraceback:\n",
      "1. `$<-`(`*tmp*`, q6, value = c(2, 1, 2e+05, 1.732051, 1.732051, \n . 2))",
      "2. `$<-.data.frame`(`*tmp*`, q6, value = c(2, 1, 2e+05, 1.732051, \n . 1.732051, 2))",
      "3. stop(sprintf(ngettext(N, \"replacement has %d row, data has %d\", \n .     \"replacement has %d rows, data has %d\"), N, nrows), domain = NA)"
     ]
    }
   ],
   "source": [
    "# excle의 q1컬럼에서 data가 3보가 크면 data의 제곱근을 출력하고 \n",
    "# 아니면 원래 data를 출력하기\n",
    "\n",
    "a <- ifelse(excel$q1 >= 3, sqrt(excel$q1), excel$q1)\n",
    "\n",
    "excel$q6 = c(2.00000, 1.00000, 200000, 1.732051, 1.732051, 2.00000)"
   ]
  }
 ],
 "metadata": {
  "kernelspec": {
   "display_name": "R",
   "language": "R",
   "name": "r"
  },
  "language_info": {
   "codemirror_mode": "r",
   "file_extension": ".r",
   "mimetype": "text/x-r-source",
   "name": "R",
   "pygments_lexer": "r",
   "version": "4.4.1"
  }
 },
 "nbformat": 4,
 "nbformat_minor": 2
}
