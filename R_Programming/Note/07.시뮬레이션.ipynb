{
 "cells": [
  {
   "cell_type": "code",
   "execution_count": 65,
   "metadata": {
    "vscode": {
     "languageId": "r"
    }
   },
   "outputs": [
    {
     "data": {
      "text/html": [
       "'ko_KR.UTF-8/ko_KR.UTF-8/ko_KR.UTF-8/C/ko_KR.UTF-8/C'"
      ],
      "text/latex": [
       "'ko\\_KR.UTF-8/ko\\_KR.UTF-8/ko\\_KR.UTF-8/C/ko\\_KR.UTF-8/C'"
      ],
      "text/markdown": [
       "'ko_KR.UTF-8/ko_KR.UTF-8/ko_KR.UTF-8/C/ko_KR.UTF-8/C'"
      ],
      "text/plain": [
       "[1] \"ko_KR.UTF-8/ko_KR.UTF-8/ko_KR.UTF-8/C/ko_KR.UTF-8/C\""
      ]
     },
     "metadata": {},
     "output_type": "display_data"
    }
   ],
   "source": [
    "Sys.setlocale(category = 'LC_ALL' , locale = 'ko_KR.UTF-8') ## 한글보이기"
   ]
  },
  {
   "cell_type": "markdown",
   "metadata": {
    "vscode": {
     "languageId": "r"
    }
   },
   "source": [
    "## 못테카틀로 시뮬레이션\n",
    ": Data가 없을때\n",
    "\n",
    "#### 동전의 앞면 뒷면 시뮬레이션"
   ]
  },
  {
   "cell_type": "code",
   "execution_count": 64,
   "metadata": {
    "vscode": {
     "languageId": "r"
    }
   },
   "outputs": [
    {
     "name": "stdout",
     "output_type": "stream",
     "text": [
      "[1] \"뒷면\"\n"
     ]
    }
   ],
   "source": [
    "x <- runif(1)\n",
    "if(x <= 1/2){\n",
    "    result <- \"앞면\"\n",
    "}else{\n",
    "    result <- \"뒷면\"\n",
    "}\n",
    "print(result)"
   ]
  },
  {
   "cell_type": "code",
   "execution_count": 77,
   "metadata": {
    "vscode": {
     "languageId": "r"
    }
   },
   "outputs": [],
   "source": [
    "coin <- function(n){\n",
    "    count1 <- 0 #앞면\n",
    "    count2 <- 0 #뒷면\n",
    "\n",
    "    for(i in 1:n){\n",
    "        if(runif(1) <= 1/2){  #50%의 함수\n",
    "            count1 = count1 + 1\n",
    "        }else{\n",
    "            count2 = count2 + 1\n",
    "        }\n",
    "    }\n",
    "    cat(\"앞면 : \", count1, \"\\n\")\n",
    "    cat(\"뒷면 : \", count2, \"\\n\")\n",
    "    cat(\"--------------\", \"\\n\")\n",
    "}"
   ]
  },
  {
   "cell_type": "code",
   "execution_count": 78,
   "metadata": {
    "vscode": {
     "languageId": "r"
    }
   },
   "outputs": [
    {
     "name": "stdout",
     "output_type": "stream",
     "text": [
      "앞면 :  4 \n",
      "뒷면 :  6 \n",
      "-------------- \n",
      "앞면 :  57 \n",
      "뒷면 :  43 \n",
      "-------------- \n",
      "앞면 :  481 \n",
      "뒷면 :  519 \n",
      "-------------- \n",
      "앞면 :  4960 \n",
      "뒷면 :  5040 \n",
      "-------------- \n",
      "앞면 :  49928 \n",
      "뒷면 :  50072 \n",
      "-------------- \n",
      "앞면 :  500249 \n",
      "뒷면 :  499751 \n",
      "-------------- \n"
     ]
    }
   ],
   "source": [
    "coin(10)\n",
    "coin(100)\n",
    "coin(1000)\n",
    "coin(10000)\n",
    "coin(100000)\n",
    "coin(1000000)"
   ]
  },
  {
   "cell_type": "markdown",
   "metadata": {
    "vscode": {
     "languageId": "r"
    }
   },
   "source": [
    "가위, 바위,보 시뮬레이션"
   ]
  },
  {
   "cell_type": "code",
   "execution_count": 100,
   "metadata": {
    "vscode": {
     "languageId": "r"
    }
   },
   "outputs": [],
   "source": [
    "rock <- function(n){\n",
    "    count1 <- 0 #가위\n",
    "    count2 <- 0 #바위\n",
    "    count3 <- 0 #보\n",
    "\n",
    "    for(i in 1:n){\n",
    "        x <- trunc(runif(1)*3) + 1\n",
    "        if(x==1) count1 = count1 + 1\n",
    "        if(x==2) count2 = count2 + 1\n",
    "        if(x==3) count3= count3 + 1\n",
    "    }\n",
    "    cat(\"가위 : \", count1, \"\\n\")\n",
    "    cat(\"바위 : \", count2, \"\\n\")\n",
    "    cat(\"보 : \", count3, \"\\n\")\n",
    "    cat(\"======================\", \"\\n\")\n",
    "}\n",
    "\n",
    "\n",
    "\n",
    "rock2 <- function(n){\n",
    "    rock2hands <- rep(0,3)\n",
    "    for(i in 1:n){\n",
    "        x <- trunc(runif(1)*3) +1\n",
    "        rock2hands[x] = rock2hands[x] +1\n",
    "    }\n",
    "    for(i in 1:length(rock2hands)){\n",
    "        cat(\"가위 : \", rock2hands[1], \"\\n\")\n",
    "        cat(\"바위 : \", rock2hands[2], \"\\n\")\n",
    "        cat(\"보 : \", rock2hands[3], \"\\n\")\n",
    "        cat(\"-------------------\\n\")\n",
    "    }\n",
    "    \n",
    "}\n"
   ]
  },
  {
   "cell_type": "code",
   "execution_count": 101,
   "metadata": {
    "vscode": {
     "languageId": "r"
    }
   },
   "outputs": [
    {
     "name": "stdout",
     "output_type": "stream",
     "text": [
      "가위 :  3 \n",
      "바위 :  4 \n",
      "보 :  3 \n",
      "====================== \n",
      "가위 :  35 \n",
      "바위 :  35 \n",
      "보 :  30 \n",
      "====================== \n",
      "가위 :  341 \n",
      "바위 :  332 \n",
      "보 :  327 \n",
      "====================== \n",
      "가위 :  0 \n",
      "바위 :  1 \n",
      "보 :  4 \n",
      "-------------------\n",
      "가위 :  0 \n",
      "바위 :  1 \n",
      "보 :  4 \n",
      "-------------------\n",
      "가위 :  0 \n",
      "바위 :  1 \n",
      "보 :  4 \n",
      "-------------------\n",
      "가위 :  5 \n",
      "바위 :  5 \n",
      "보 :  5 \n",
      "-------------------\n",
      "가위 :  5 \n",
      "바위 :  5 \n",
      "보 :  5 \n",
      "-------------------\n",
      "가위 :  5 \n",
      "바위 :  5 \n",
      "보 :  5 \n",
      "-------------------\n"
     ]
    }
   ],
   "source": [
    "rock(10)\n",
    "rock(100)\n",
    "rock(1000)\n",
    "\n",
    "rock2(5)\n",
    "rock2(15)"
   ]
  },
  {
   "cell_type": "markdown",
   "metadata": {
    "vscode": {
     "languageId": "r"
    }
   },
   "source": [
    "##주사위 시뮬레이션"
   ]
  },
  {
   "cell_type": "code",
   "execution_count": 89,
   "metadata": {
    "vscode": {
     "languageId": "r"
    }
   },
   "outputs": [],
   "source": [
    "## 지수 없애기\n",
    "options(scipen = 100)"
   ]
  },
  {
   "cell_type": "code",
   "execution_count": 90,
   "metadata": {
    "vscode": {
     "languageId": "r"
    }
   },
   "outputs": [],
   "source": [
    "dice <- function(n){\n",
    "    # count <- c(No1=0, No2=0, No3=0, No4=0, No5=0, No6=0)\n",
    "    diceFace <- rep(0, 6)\n",
    "    cat(\"Throw\", n, \"\\n\")\n",
    "    for(i in 1:n){\n",
    "        x <- trunc(runif(1)*6) + 1\n",
    "        diceFace[x] = diceFace[x] +1\n",
    "    }\n",
    "\n",
    "    for(i in 1:length(diceFace)){\n",
    "        cat(\"No\", i, \"=> \", diceFace[i], \"\\n\")\n",
    "    }\n",
    "\n",
    "    cat(\"--------------\", \"\\n\")\n",
    "}"
   ]
  },
  {
   "cell_type": "code",
   "execution_count": 91,
   "metadata": {
    "vscode": {
     "languageId": "r"
    }
   },
   "outputs": [
    {
     "name": "stdout",
     "output_type": "stream",
     "text": [
      "Throw 10 \n",
      "No 1 =>  1 \n",
      "No 2 =>  4 \n",
      "No 3 =>  1 \n",
      "No 4 =>  2 \n",
      "No 5 =>  2 \n",
      "No 6 =>  0 \n",
      "-------------- \n",
      "Throw 100 \n",
      "No 1 =>  17 \n",
      "No 2 =>  9 \n",
      "No 3 =>  20 \n",
      "No 4 =>  19 \n",
      "No 5 =>  18 \n",
      "No 6 =>  17 \n",
      "-------------- \n"
     ]
    },
    {
     "name": "stdout",
     "output_type": "stream",
     "text": [
      "Throw 1000 \n",
      "No 1 =>  173 \n",
      "No 2 =>  187 \n",
      "No 3 =>  149 \n",
      "No 4 =>  165 \n",
      "No 5 =>  183 \n",
      "No 6 =>  143 \n",
      "-------------- \n"
     ]
    }
   ],
   "source": [
    "dice(10)\n",
    "dice(100)\n",
    "dice(1000)"
   ]
  }
 ],
 "metadata": {
  "kernelspec": {
   "display_name": "R",
   "language": "R",
   "name": "r"
  },
  "language_info": {
   "codemirror_mode": "r",
   "file_extension": ".r",
   "mimetype": "text/x-r-source",
   "name": "R",
   "pygments_lexer": "r",
   "version": "4.4.1"
  }
 },
 "nbformat": 4,
 "nbformat_minor": 2
}
