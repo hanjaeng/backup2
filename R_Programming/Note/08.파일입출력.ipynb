{
 "cells": [
  {
   "cell_type": "code",
   "execution_count": 33,
   "metadata": {
    "vscode": {
     "languageId": "r"
    }
   },
   "outputs": [
    {
     "data": {
      "text/html": [
       "'ko_KR.UTF-8/ko_KR.UTF-8/ko_KR.UTF-8/C/ko_KR.UTF-8/C'"
      ],
      "text/latex": [
       "'ko\\_KR.UTF-8/ko\\_KR.UTF-8/ko\\_KR.UTF-8/C/ko\\_KR.UTF-8/C'"
      ],
      "text/markdown": [
       "'ko_KR.UTF-8/ko_KR.UTF-8/ko_KR.UTF-8/C/ko_KR.UTF-8/C'"
      ],
      "text/plain": [
       "[1] \"ko_KR.UTF-8/ko_KR.UTF-8/ko_KR.UTF-8/C/ko_KR.UTF-8/C\""
      ]
     },
     "metadata": {},
     "output_type": "display_data"
    }
   ],
   "source": [
    "Sys.setlocale(category = 'LC_ALL' , locale = 'ko_KR.UTF-8') ## 한글보이기"
   ]
  },
  {
   "cell_type": "code",
   "execution_count": 34,
   "metadata": {
    "vscode": {
     "languageId": "r"
    }
   },
   "outputs": [],
   "source": [
    "no <- 1:4\n",
    "name <- c(\"Apple\", \"Banana\", \"Peach\", \"Bearry\")\n",
    "price <- c(500,200,200,50)\n",
    "qty <- c(5,4,3,2)"
   ]
  },
  {
   "cell_type": "code",
   "execution_count": 35,
   "metadata": {
    "vscode": {
     "languageId": "r"
    }
   },
   "outputs": [
    {
     "data": {
      "text/html": [
       "<table class=\"dataframe\">\n",
       "<caption>A data.frame: 4 x 4</caption>\n",
       "<thead>\n",
       "\t<tr><th scope=col>번호</th><th scope=col>제품</th><th scope=col>금액</th><th scope=col>수량</th></tr>\n",
       "\t<tr><th scope=col>&lt;int&gt;</th><th scope=col>&lt;chr&gt;</th><th scope=col>&lt;dbl&gt;</th><th scope=col>&lt;dbl&gt;</th></tr>\n",
       "</thead>\n",
       "<tbody>\n",
       "\t<tr><td>1</td><td>Apple </td><td>500</td><td>5</td></tr>\n",
       "\t<tr><td>2</td><td>Banana</td><td>200</td><td>4</td></tr>\n",
       "\t<tr><td>3</td><td>Peach </td><td>200</td><td>3</td></tr>\n",
       "\t<tr><td>4</td><td>Bearry</td><td> 50</td><td>2</td></tr>\n",
       "</tbody>\n",
       "</table>\n"
      ],
      "text/latex": [
       "A data.frame: 4 x 4\n",
       "\\begin{tabular}{llll}\n",
       " 번호 & 제품 & 금액 & 수량\\\\\n",
       " <int> & <chr> & <dbl> & <dbl>\\\\\n",
       "\\hline\n",
       "\t 1 & Apple  & 500 & 5\\\\\n",
       "\t 2 & Banana & 200 & 4\\\\\n",
       "\t 3 & Peach  & 200 & 3\\\\\n",
       "\t 4 & Bearry &  50 & 2\\\\\n",
       "\\end{tabular}\n"
      ],
      "text/markdown": [
       "\n",
       "A data.frame: 4 x 4\n",
       "\n",
       "| 번호 &lt;int&gt; | 제품 &lt;chr&gt; | 금액 &lt;dbl&gt; | 수량 &lt;dbl&gt; |\n",
       "|---|---|---|---|\n",
       "| 1 | Apple  | 500 | 5 |\n",
       "| 2 | Banana | 200 | 4 |\n",
       "| 3 | Peach  | 200 | 3 |\n",
       "| 4 | Bearry |  50 | 2 |\n",
       "\n"
      ],
      "text/plain": [
       "  번호 제품   금액 수량\n",
       "1 1    Apple  500  5   \n",
       "2 2    Banana 200  4   \n",
       "3 3    Peach  200  3   \n",
       "4 4    Bearry  50  2   "
      ]
     },
     "metadata": {},
     "output_type": "display_data"
    }
   ],
   "source": [
    "fruit <- data.frame(번호=no, 제품=name, 금액=price, 수량=qty)\n",
    "fruit"
   ]
  },
  {
   "cell_type": "code",
   "execution_count": 36,
   "metadata": {
    "vscode": {
     "languageId": "r"
    }
   },
   "outputs": [
    {
     "data": {
      "text/html": [
       "<style>\n",
       ".list-inline {list-style: none; margin:0; padding: 0}\n",
       ".list-inline>li {display: inline-block}\n",
       ".list-inline>li:not(:last-child)::after {content: \"\\00b7\"; padding: 0 .5ex}\n",
       "</style>\n",
       "<ol class=list-inline><li>'fruit'</li><li>'i'</li><li>'name'</li><li>'no'</li><li>'price'</li><li>'qty'</li><li>'regionAcc.mean'</li><li>'seoul'</li></ol>\n"
      ],
      "text/latex": [
       "\\begin{enumerate*}\n",
       "\\item 'fruit'\n",
       "\\item 'i'\n",
       "\\item 'name'\n",
       "\\item 'no'\n",
       "\\item 'price'\n",
       "\\item 'qty'\n",
       "\\item 'regionAcc.mean'\n",
       "\\item 'seoul'\n",
       "\\end{enumerate*}\n"
      ],
      "text/markdown": [
       "1. 'fruit'\n",
       "2. 'i'\n",
       "3. 'name'\n",
       "4. 'no'\n",
       "5. 'price'\n",
       "6. 'qty'\n",
       "7. 'regionAcc.mean'\n",
       "8. 'seoul'\n",
       "\n",
       "\n"
      ],
      "text/plain": [
       "[1] \"fruit\"          \"i\"              \"name\"           \"no\"            \n",
       "[5] \"price\"          \"qty\"            \"regionAcc.mean\" \"seoul\"         "
      ]
     },
     "metadata": {},
     "output_type": "display_data"
    }
   ],
   "source": [
    "# 현재 메모리에 있는 변수 보기\n",
    "ls()"
   ]
  },
  {
   "cell_type": "code",
   "execution_count": 37,
   "metadata": {
    "vscode": {
     "languageId": "r"
    }
   },
   "outputs": [],
   "source": [
    "# 메모리 형태로 파일 보관\n",
    "save(no, fruit, name, file =\"../Data/testFruit.txt\")"
   ]
  },
  {
   "cell_type": "code",
   "execution_count": 38,
   "metadata": {
    "vscode": {
     "languageId": "r"
    }
   },
   "outputs": [],
   "source": [
    "rm(no, fruit, name) #메모리 지우기"
   ]
  },
  {
   "cell_type": "code",
   "execution_count": 39,
   "metadata": {
    "vscode": {
     "languageId": "r"
    }
   },
   "outputs": [
    {
     "ename": "ERROR",
     "evalue": "Error in eval(expr, envir, enclos): 객체 'fruit'를 찾을 수 없습니다\n",
     "output_type": "error",
     "traceback": [
      "Error in eval(expr, envir, enclos): 객체 'fruit'를 찾을 수 없습니다\nTraceback:\n"
     ]
    }
   ],
   "source": [
    "## fruit #지워서 데이터 안나옴"
   ]
  },
  {
   "cell_type": "code",
   "execution_count": 13,
   "metadata": {
    "vscode": {
     "languageId": "r"
    }
   },
   "outputs": [],
   "source": [
    "load(\"../Data/testFruit.txt\") #데이터 다시 저장"
   ]
  },
  {
   "cell_type": "code",
   "execution_count": 12,
   "metadata": {
    "vscode": {
     "languageId": "r"
    }
   },
   "outputs": [
    {
     "data": {
      "text/html": [
       "<table class=\"dataframe\">\n",
       "<caption>A data.frame: 4 x 4</caption>\n",
       "<thead>\n",
       "\t<tr><th scope=col>번호</th><th scope=col>제품</th><th scope=col>금액</th><th scope=col>수량</th></tr>\n",
       "\t<tr><th scope=col>&lt;int&gt;</th><th scope=col>&lt;chr&gt;</th><th scope=col>&lt;dbl&gt;</th><th scope=col>&lt;dbl&gt;</th></tr>\n",
       "</thead>\n",
       "<tbody>\n",
       "\t<tr><td>1</td><td>Apple </td><td>500</td><td>5</td></tr>\n",
       "\t<tr><td>2</td><td>Banana</td><td>200</td><td>4</td></tr>\n",
       "\t<tr><td>3</td><td>Peach </td><td>200</td><td>3</td></tr>\n",
       "\t<tr><td>4</td><td>Bearry</td><td> 50</td><td>2</td></tr>\n",
       "</tbody>\n",
       "</table>\n"
      ],
      "text/latex": [
       "A data.frame: 4 x 4\n",
       "\\begin{tabular}{llll}\n",
       " 번호 & 제품 & 금액 & 수량\\\\\n",
       " <int> & <chr> & <dbl> & <dbl>\\\\\n",
       "\\hline\n",
       "\t 1 & Apple  & 500 & 5\\\\\n",
       "\t 2 & Banana & 200 & 4\\\\\n",
       "\t 3 & Peach  & 200 & 3\\\\\n",
       "\t 4 & Bearry &  50 & 2\\\\\n",
       "\\end{tabular}\n"
      ],
      "text/markdown": [
       "\n",
       "A data.frame: 4 x 4\n",
       "\n",
       "| 번호 &lt;int&gt; | 제품 &lt;chr&gt; | 금액 &lt;dbl&gt; | 수량 &lt;dbl&gt; |\n",
       "|---|---|---|---|\n",
       "| 1 | Apple  | 500 | 5 |\n",
       "| 2 | Banana | 200 | 4 |\n",
       "| 3 | Peach  | 200 | 3 |\n",
       "| 4 | Bearry |  50 | 2 |\n",
       "\n"
      ],
      "text/plain": [
       "  번호 제품   금액 수량\n",
       "1 1    Apple  500  5   \n",
       "2 2    Banana 200  4   \n",
       "3 3    Peach  200  3   \n",
       "4 4    Bearry  50  2   "
      ]
     },
     "metadata": {},
     "output_type": "display_data"
    }
   ],
   "source": [
    "fruit"
   ]
  },
  {
   "cell_type": "code",
   "execution_count": 18,
   "metadata": {
    "vscode": {
     "languageId": "r"
    }
   },
   "outputs": [
    {
     "name": "stdout",
     "output_type": "stream",
     "text": [
      "  번호   제품 금액 수량\n",
      "1    1  Apple  500    5\n",
      "2    2 Banana  200    4\n",
      "3    3  Peach  200    3\n",
      "4    4 Bearry   50    2\n"
     ]
    }
   ],
   "source": [
    "print(fruit)"
   ]
  },
  {
   "cell_type": "code",
   "execution_count": 23,
   "metadata": {
    "vscode": {
     "languageId": "r"
    }
   },
   "outputs": [],
   "source": [
    "# fruit를 csv로 저장하기\n",
    "write.csv(fruit, \"../Data/fruit.csv\", row.names=F)   \n",
    "#row.names=F은 names를 false로 불러오지 않게 함"
   ]
  },
  {
   "cell_type": "code",
   "execution_count": 24,
   "metadata": {
    "vscode": {
     "languageId": "r"
    }
   },
   "outputs": [
    {
     "data": {
      "text/html": [
       "<table class=\"dataframe\">\n",
       "<caption>A data.frame: 4 x 4</caption>\n",
       "<thead>\n",
       "\t<tr><th scope=col>번호</th><th scope=col>제품</th><th scope=col>금액</th><th scope=col>수량</th></tr>\n",
       "\t<tr><th scope=col>&lt;int&gt;</th><th scope=col>&lt;chr&gt;</th><th scope=col>&lt;int&gt;</th><th scope=col>&lt;int&gt;</th></tr>\n",
       "</thead>\n",
       "<tbody>\n",
       "\t<tr><td>1</td><td>Apple </td><td>500</td><td>5</td></tr>\n",
       "\t<tr><td>2</td><td>Banana</td><td>200</td><td>4</td></tr>\n",
       "\t<tr><td>3</td><td>Peach </td><td>200</td><td>3</td></tr>\n",
       "\t<tr><td>4</td><td>Bearry</td><td> 50</td><td>2</td></tr>\n",
       "</tbody>\n",
       "</table>\n"
      ],
      "text/latex": [
       "A data.frame: 4 x 4\n",
       "\\begin{tabular}{llll}\n",
       " 번호 & 제품 & 금액 & 수량\\\\\n",
       " <int> & <chr> & <int> & <int>\\\\\n",
       "\\hline\n",
       "\t 1 & Apple  & 500 & 5\\\\\n",
       "\t 2 & Banana & 200 & 4\\\\\n",
       "\t 3 & Peach  & 200 & 3\\\\\n",
       "\t 4 & Bearry &  50 & 2\\\\\n",
       "\\end{tabular}\n"
      ],
      "text/markdown": [
       "\n",
       "A data.frame: 4 x 4\n",
       "\n",
       "| 번호 &lt;int&gt; | 제품 &lt;chr&gt; | 금액 &lt;int&gt; | 수량 &lt;int&gt; |\n",
       "|---|---|---|---|\n",
       "| 1 | Apple  | 500 | 5 |\n",
       "| 2 | Banana | 200 | 4 |\n",
       "| 3 | Peach  | 200 | 3 |\n",
       "| 4 | Bearry |  50 | 2 |\n",
       "\n"
      ],
      "text/plain": [
       "  번호 제품   금액 수량\n",
       "1 1    Apple  500  5   \n",
       "2 2    Banana 200  4   \n",
       "3 3    Peach  200  3   \n",
       "4 4    Bearry  50  2   "
      ]
     },
     "metadata": {},
     "output_type": "display_data"
    }
   ],
   "source": [
    "read.csv(\"../Data/fruit.csv\")"
   ]
  },
  {
   "cell_type": "code",
   "execution_count": null,
   "metadata": {
    "vscode": {
     "languageId": "r"
    }
   },
   "outputs": [],
   "source": []
  },
  {
   "cell_type": "markdown",
   "metadata": {
    "vscode": {
     "languageId": "r"
    }
   },
   "source": [
    "세계 GDP순위 데이터 정제 및 차트 만들기"
   ]
  },
  {
   "cell_type": "code",
   "execution_count": 78,
   "metadata": {
    "vscode": {
     "languageId": "r"
    }
   },
   "outputs": [
    {
     "data": {
      "text/html": [
       "<table class=\"dataframe\">\n",
       "<caption>A data.frame: 328 x 6</caption>\n",
       "<thead>\n",
       "\t<tr><th scope=col>X</th><th scope=col>Gross.domestic.product.2018</th><th scope=col>X.1</th><th scope=col>X.2</th><th scope=col>X.3</th><th scope=col>X.4</th></tr>\n",
       "\t<tr><th scope=col>&lt;chr&gt;</th><th scope=col>&lt;chr&gt;</th><th scope=col>&lt;lgl&gt;</th><th scope=col>&lt;chr&gt;</th><th scope=col>&lt;chr&gt;</th><th scope=col>&lt;chr&gt;</th></tr>\n",
       "</thead>\n",
       "<tbody>\n",
       "\t<tr><td>   </td><td>       </td><td>NA</td><td>                  </td><td>            </td><td> </td></tr>\n",
       "\t<tr><td>   </td><td>       </td><td>NA</td><td>                  </td><td>(millions of</td><td> </td></tr>\n",
       "\t<tr><td>   </td><td>Ranking</td><td>NA</td><td>Economy           </td><td>US dollars) </td><td> </td></tr>\n",
       "\t<tr><td>   </td><td>       </td><td>NA</td><td>                  </td><td>            </td><td> </td></tr>\n",
       "\t<tr><td>USA</td><td>1      </td><td>NA</td><td>United States     </td><td> 20,494,100 </td><td> </td></tr>\n",
       "\t<tr><td>CHN</td><td>2      </td><td>NA</td><td>China             </td><td> 13,608,152 </td><td> </td></tr>\n",
       "\t<tr><td>JPN</td><td>3      </td><td>NA</td><td>Japan             </td><td> 4,970,916  </td><td> </td></tr>\n",
       "\t<tr><td>DEU</td><td>4      </td><td>NA</td><td>Germany           </td><td> 3,996,759  </td><td> </td></tr>\n",
       "\t<tr><td>GBR</td><td>5      </td><td>NA</td><td>United Kingdom    </td><td> 2,825,208  </td><td> </td></tr>\n",
       "\t<tr><td>FRA</td><td>6      </td><td>NA</td><td>France            </td><td> 2,777,535  </td><td> </td></tr>\n",
       "\t<tr><td>IND</td><td>7      </td><td>NA</td><td>India             </td><td> 2,726,323  </td><td> </td></tr>\n",
       "\t<tr><td>ITA</td><td>8      </td><td>NA</td><td>Italy             </td><td> 2,073,902  </td><td> </td></tr>\n",
       "\t<tr><td>BRA</td><td>9      </td><td>NA</td><td>Brazil            </td><td> 1,868,626  </td><td> </td></tr>\n",
       "\t<tr><td>CAN</td><td>10     </td><td>NA</td><td>Canada            </td><td> 1,712,510  </td><td> </td></tr>\n",
       "\t<tr><td>RUS</td><td>11     </td><td>NA</td><td>Russian Federation</td><td> 1,657,554  </td><td>a</td></tr>\n",
       "\t<tr><td>KOR</td><td>12     </td><td>NA</td><td>Korea, Rep.       </td><td> 1,619,424  </td><td> </td></tr>\n",
       "\t<tr><td>AUS</td><td>13     </td><td>NA</td><td>Australia         </td><td> 1,432,195  </td><td> </td></tr>\n",
       "\t<tr><td>ESP</td><td>14     </td><td>NA</td><td>Spain             </td><td> 1,426,189  </td><td> </td></tr>\n",
       "\t<tr><td>MEX</td><td>15     </td><td>NA</td><td>Mexico            </td><td> 1,223,809  </td><td> </td></tr>\n",
       "\t<tr><td>IDN</td><td>16     </td><td>NA</td><td>Indonesia         </td><td> 1,042,173  </td><td> </td></tr>\n",
       "\t<tr><td>NLD</td><td>17     </td><td>NA</td><td>Netherlands       </td><td> 913,658    </td><td> </td></tr>\n",
       "\t<tr><td>SAU</td><td>18     </td><td>NA</td><td>Saudi Arabia      </td><td> 782,483    </td><td> </td></tr>\n",
       "\t<tr><td>TUR</td><td>19     </td><td>NA</td><td>Turkey            </td><td> 766,509    </td><td> </td></tr>\n",
       "\t<tr><td>CHE</td><td>20     </td><td>NA</td><td>Switzerland       </td><td> 705,501    </td><td> </td></tr>\n",
       "\t<tr><td>POL</td><td>21     </td><td>NA</td><td>Poland            </td><td> 585,783    </td><td> </td></tr>\n",
       "\t<tr><td>SWE</td><td>22     </td><td>NA</td><td>Sweden            </td><td> 551,032    </td><td> </td></tr>\n",
       "\t<tr><td>BEL</td><td>23     </td><td>NA</td><td>Belgium           </td><td> 531,767    </td><td> </td></tr>\n",
       "\t<tr><td>ARG</td><td>24     </td><td>NA</td><td>Argentina         </td><td> 518,475    </td><td>b</td></tr>\n",
       "\t<tr><td>THA</td><td>25     </td><td>NA</td><td>Thailand          </td><td> 504,993    </td><td> </td></tr>\n",
       "\t<tr><td>AUT</td><td>26     </td><td>NA</td><td>Austria           </td><td> 455,737    </td><td> </td></tr>\n",
       "\t<tr><td>...</td><td>...</td><td>...</td><td>...</td><td>...</td><td>...</td></tr>\n",
       "\t<tr><td></td><td></td><td>NA</td><td></td><td></td><td></td></tr>\n",
       "\t<tr><td></td><td></td><td>NA</td><td></td><td></td><td></td></tr>\n",
       "\t<tr><td></td><td></td><td>NA</td><td></td><td></td><td></td></tr>\n",
       "\t<tr><td></td><td></td><td>NA</td><td></td><td></td><td></td></tr>\n",
       "\t<tr><td></td><td></td><td>NA</td><td></td><td></td><td></td></tr>\n",
       "\t<tr><td></td><td></td><td>NA</td><td></td><td></td><td></td></tr>\n",
       "\t<tr><td></td><td></td><td>NA</td><td></td><td></td><td></td></tr>\n",
       "\t<tr><td></td><td></td><td>NA</td><td></td><td></td><td></td></tr>\n",
       "\t<tr><td></td><td></td><td>NA</td><td></td><td></td><td></td></tr>\n",
       "\t<tr><td></td><td></td><td>NA</td><td></td><td></td><td></td></tr>\n",
       "\t<tr><td></td><td></td><td>NA</td><td></td><td></td><td></td></tr>\n",
       "\t<tr><td></td><td></td><td>NA</td><td></td><td></td><td></td></tr>\n",
       "\t<tr><td></td><td></td><td>NA</td><td></td><td></td><td></td></tr>\n",
       "\t<tr><td></td><td></td><td>NA</td><td></td><td></td><td></td></tr>\n",
       "\t<tr><td></td><td></td><td>NA</td><td></td><td></td><td></td></tr>\n",
       "\t<tr><td></td><td></td><td>NA</td><td></td><td></td><td></td></tr>\n",
       "\t<tr><td></td><td></td><td>NA</td><td></td><td></td><td></td></tr>\n",
       "\t<tr><td></td><td></td><td>NA</td><td></td><td></td><td></td></tr>\n",
       "\t<tr><td></td><td></td><td>NA</td><td></td><td></td><td></td></tr>\n",
       "\t<tr><td></td><td></td><td>NA</td><td></td><td></td><td></td></tr>\n",
       "\t<tr><td></td><td></td><td>NA</td><td></td><td></td><td></td></tr>\n",
       "\t<tr><td></td><td></td><td>NA</td><td></td><td></td><td></td></tr>\n",
       "\t<tr><td></td><td></td><td>NA</td><td></td><td></td><td></td></tr>\n",
       "\t<tr><td></td><td></td><td>NA</td><td></td><td></td><td></td></tr>\n",
       "\t<tr><td></td><td></td><td>NA</td><td></td><td></td><td></td></tr>\n",
       "\t<tr><td></td><td></td><td>NA</td><td></td><td></td><td></td></tr>\n",
       "\t<tr><td></td><td></td><td>NA</td><td></td><td></td><td></td></tr>\n",
       "\t<tr><td></td><td></td><td>NA</td><td></td><td></td><td></td></tr>\n",
       "\t<tr><td></td><td></td><td>NA</td><td></td><td></td><td></td></tr>\n",
       "\t<tr><td></td><td></td><td>NA</td><td></td><td></td><td></td></tr>\n",
       "</tbody>\n",
       "</table>\n"
      ],
      "text/latex": [
       "A data.frame: 328 x 6\n",
       "\\begin{tabular}{llllll}\n",
       " X & Gross.domestic.product.2018 & X.1 & X.2 & X.3 & X.4\\\\\n",
       " <chr> & <chr> & <lgl> & <chr> & <chr> & <chr>\\\\\n",
       "\\hline\n",
       "\t     &         & NA &                    &              &  \\\\\n",
       "\t     &         & NA &                    & (millions of &  \\\\\n",
       "\t     & Ranking & NA & Economy            & US dollars)  &  \\\\\n",
       "\t     &         & NA &                    &              &  \\\\\n",
       "\t USA & 1       & NA & United States      &  20,494,100  &  \\\\\n",
       "\t CHN & 2       & NA & China              &  13,608,152  &  \\\\\n",
       "\t JPN & 3       & NA & Japan              &  4,970,916   &  \\\\\n",
       "\t DEU & 4       & NA & Germany            &  3,996,759   &  \\\\\n",
       "\t GBR & 5       & NA & United Kingdom     &  2,825,208   &  \\\\\n",
       "\t FRA & 6       & NA & France             &  2,777,535   &  \\\\\n",
       "\t IND & 7       & NA & India              &  2,726,323   &  \\\\\n",
       "\t ITA & 8       & NA & Italy              &  2,073,902   &  \\\\\n",
       "\t BRA & 9       & NA & Brazil             &  1,868,626   &  \\\\\n",
       "\t CAN & 10      & NA & Canada             &  1,712,510   &  \\\\\n",
       "\t RUS & 11      & NA & Russian Federation &  1,657,554   & a\\\\\n",
       "\t KOR & 12      & NA & Korea, Rep.        &  1,619,424   &  \\\\\n",
       "\t AUS & 13      & NA & Australia          &  1,432,195   &  \\\\\n",
       "\t ESP & 14      & NA & Spain              &  1,426,189   &  \\\\\n",
       "\t MEX & 15      & NA & Mexico             &  1,223,809   &  \\\\\n",
       "\t IDN & 16      & NA & Indonesia          &  1,042,173   &  \\\\\n",
       "\t NLD & 17      & NA & Netherlands        &  913,658     &  \\\\\n",
       "\t SAU & 18      & NA & Saudi Arabia       &  782,483     &  \\\\\n",
       "\t TUR & 19      & NA & Turkey             &  766,509     &  \\\\\n",
       "\t CHE & 20      & NA & Switzerland        &  705,501     &  \\\\\n",
       "\t POL & 21      & NA & Poland             &  585,783     &  \\\\\n",
       "\t SWE & 22      & NA & Sweden             &  551,032     &  \\\\\n",
       "\t BEL & 23      & NA & Belgium            &  531,767     &  \\\\\n",
       "\t ARG & 24      & NA & Argentina          &  518,475     & b\\\\\n",
       "\t THA & 25      & NA & Thailand           &  504,993     &  \\\\\n",
       "\t AUT & 26      & NA & Austria            &  455,737     &  \\\\\n",
       "\t ... & ... & ... & ... & ... & ...\\\\\n",
       "\t  &  & NA &  &  & \\\\\n",
       "\t  &  & NA &  &  & \\\\\n",
       "\t  &  & NA &  &  & \\\\\n",
       "\t  &  & NA &  &  & \\\\\n",
       "\t  &  & NA &  &  & \\\\\n",
       "\t  &  & NA &  &  & \\\\\n",
       "\t  &  & NA &  &  & \\\\\n",
       "\t  &  & NA &  &  & \\\\\n",
       "\t  &  & NA &  &  & \\\\\n",
       "\t  &  & NA &  &  & \\\\\n",
       "\t  &  & NA &  &  & \\\\\n",
       "\t  &  & NA &  &  & \\\\\n",
       "\t  &  & NA &  &  & \\\\\n",
       "\t  &  & NA &  &  & \\\\\n",
       "\t  &  & NA &  &  & \\\\\n",
       "\t  &  & NA &  &  & \\\\\n",
       "\t  &  & NA &  &  & \\\\\n",
       "\t  &  & NA &  &  & \\\\\n",
       "\t  &  & NA &  &  & \\\\\n",
       "\t  &  & NA &  &  & \\\\\n",
       "\t  &  & NA &  &  & \\\\\n",
       "\t  &  & NA &  &  & \\\\\n",
       "\t  &  & NA &  &  & \\\\\n",
       "\t  &  & NA &  &  & \\\\\n",
       "\t  &  & NA &  &  & \\\\\n",
       "\t  &  & NA &  &  & \\\\\n",
       "\t  &  & NA &  &  & \\\\\n",
       "\t  &  & NA &  &  & \\\\\n",
       "\t  &  & NA &  &  & \\\\\n",
       "\t  &  & NA &  &  & \\\\\n",
       "\\end{tabular}\n"
      ],
      "text/markdown": [
       "\n",
       "A data.frame: 328 x 6\n",
       "\n",
       "| X &lt;chr&gt; | Gross.domestic.product.2018 &lt;chr&gt; | X.1 &lt;lgl&gt; | X.2 &lt;chr&gt; | X.3 &lt;chr&gt; | X.4 &lt;chr&gt; |\n",
       "|---|---|---|---|---|---|\n",
       "| <!----> | <!----> | NA | <!----> | <!----> | <!----> |\n",
       "| <!----> | <!----> | NA | <!----> | (millions of | <!----> |\n",
       "| <!----> | Ranking | NA | Economy            | US dollars)  | <!----> |\n",
       "| <!----> | <!----> | NA | <!----> | <!----> | <!----> |\n",
       "| USA | 1       | NA | United States      |  20,494,100  | <!----> |\n",
       "| CHN | 2       | NA | China              |  13,608,152  | <!----> |\n",
       "| JPN | 3       | NA | Japan              |  4,970,916   | <!----> |\n",
       "| DEU | 4       | NA | Germany            |  3,996,759   | <!----> |\n",
       "| GBR | 5       | NA | United Kingdom     |  2,825,208   | <!----> |\n",
       "| FRA | 6       | NA | France             |  2,777,535   | <!----> |\n",
       "| IND | 7       | NA | India              |  2,726,323   | <!----> |\n",
       "| ITA | 8       | NA | Italy              |  2,073,902   | <!----> |\n",
       "| BRA | 9       | NA | Brazil             |  1,868,626   | <!----> |\n",
       "| CAN | 10      | NA | Canada             |  1,712,510   | <!----> |\n",
       "| RUS | 11      | NA | Russian Federation |  1,657,554   | a |\n",
       "| KOR | 12      | NA | Korea, Rep.        |  1,619,424   | <!----> |\n",
       "| AUS | 13      | NA | Australia          |  1,432,195   | <!----> |\n",
       "| ESP | 14      | NA | Spain              |  1,426,189   | <!----> |\n",
       "| MEX | 15      | NA | Mexico             |  1,223,809   | <!----> |\n",
       "| IDN | 16      | NA | Indonesia          |  1,042,173   | <!----> |\n",
       "| NLD | 17      | NA | Netherlands        |  913,658     | <!----> |\n",
       "| SAU | 18      | NA | Saudi Arabia       |  782,483     | <!----> |\n",
       "| TUR | 19      | NA | Turkey             |  766,509     | <!----> |\n",
       "| CHE | 20      | NA | Switzerland        |  705,501     | <!----> |\n",
       "| POL | 21      | NA | Poland             |  585,783     | <!----> |\n",
       "| SWE | 22      | NA | Sweden             |  551,032     | <!----> |\n",
       "| BEL | 23      | NA | Belgium            |  531,767     | <!----> |\n",
       "| ARG | 24      | NA | Argentina          |  518,475     | b |\n",
       "| THA | 25      | NA | Thailand           |  504,993     | <!----> |\n",
       "| AUT | 26      | NA | Austria            |  455,737     | <!----> |\n",
       "| ... | ... | ... | ... | ... | ... |\n",
       "| <!----> | <!----> | NA | <!----> | <!----> | <!----> |\n",
       "| <!----> | <!----> | NA | <!----> | <!----> | <!----> |\n",
       "| <!----> | <!----> | NA | <!----> | <!----> | <!----> |\n",
       "| <!----> | <!----> | NA | <!----> | <!----> | <!----> |\n",
       "| <!----> | <!----> | NA | <!----> | <!----> | <!----> |\n",
       "| <!----> | <!----> | NA | <!----> | <!----> | <!----> |\n",
       "| <!----> | <!----> | NA | <!----> | <!----> | <!----> |\n",
       "| <!----> | <!----> | NA | <!----> | <!----> | <!----> |\n",
       "| <!----> | <!----> | NA | <!----> | <!----> | <!----> |\n",
       "| <!----> | <!----> | NA | <!----> | <!----> | <!----> |\n",
       "| <!----> | <!----> | NA | <!----> | <!----> | <!----> |\n",
       "| <!----> | <!----> | NA | <!----> | <!----> | <!----> |\n",
       "| <!----> | <!----> | NA | <!----> | <!----> | <!----> |\n",
       "| <!----> | <!----> | NA | <!----> | <!----> | <!----> |\n",
       "| <!----> | <!----> | NA | <!----> | <!----> | <!----> |\n",
       "| <!----> | <!----> | NA | <!----> | <!----> | <!----> |\n",
       "| <!----> | <!----> | NA | <!----> | <!----> | <!----> |\n",
       "| <!----> | <!----> | NA | <!----> | <!----> | <!----> |\n",
       "| <!----> | <!----> | NA | <!----> | <!----> | <!----> |\n",
       "| <!----> | <!----> | NA | <!----> | <!----> | <!----> |\n",
       "| <!----> | <!----> | NA | <!----> | <!----> | <!----> |\n",
       "| <!----> | <!----> | NA | <!----> | <!----> | <!----> |\n",
       "| <!----> | <!----> | NA | <!----> | <!----> | <!----> |\n",
       "| <!----> | <!----> | NA | <!----> | <!----> | <!----> |\n",
       "| <!----> | <!----> | NA | <!----> | <!----> | <!----> |\n",
       "| <!----> | <!----> | NA | <!----> | <!----> | <!----> |\n",
       "| <!----> | <!----> | NA | <!----> | <!----> | <!----> |\n",
       "| <!----> | <!----> | NA | <!----> | <!----> | <!----> |\n",
       "| <!----> | <!----> | NA | <!----> | <!----> | <!----> |\n",
       "| <!----> | <!----> | NA | <!----> | <!----> | <!----> |\n",
       "\n"
      ],
      "text/plain": [
       "    X   Gross.domestic.product.2018 X.1 X.2                X.3          X.4\n",
       "1                                   NA                                     \n",
       "2                                   NA                     (millions of    \n",
       "3       Ranking                     NA  Economy            US dollars)     \n",
       "4                                   NA                                     \n",
       "5   USA 1                           NA  United States       20,494,100     \n",
       "6   CHN 2                           NA  China               13,608,152     \n",
       "7   JPN 3                           NA  Japan               4,970,916      \n",
       "8   DEU 4                           NA  Germany             3,996,759      \n",
       "9   GBR 5                           NA  United Kingdom      2,825,208      \n",
       "10  FRA 6                           NA  France              2,777,535      \n",
       "11  IND 7                           NA  India               2,726,323      \n",
       "12  ITA 8                           NA  Italy               2,073,902      \n",
       "13  BRA 9                           NA  Brazil              1,868,626      \n",
       "14  CAN 10                          NA  Canada              1,712,510      \n",
       "15  RUS 11                          NA  Russian Federation  1,657,554   a  \n",
       "16  KOR 12                          NA  Korea, Rep.         1,619,424      \n",
       "17  AUS 13                          NA  Australia           1,432,195      \n",
       "18  ESP 14                          NA  Spain               1,426,189      \n",
       "19  MEX 15                          NA  Mexico              1,223,809      \n",
       "20  IDN 16                          NA  Indonesia           1,042,173      \n",
       "21  NLD 17                          NA  Netherlands         913,658        \n",
       "22  SAU 18                          NA  Saudi Arabia        782,483        \n",
       "23  TUR 19                          NA  Turkey              766,509        \n",
       "24  CHE 20                          NA  Switzerland         705,501        \n",
       "25  POL 21                          NA  Poland              585,783        \n",
       "26  SWE 22                          NA  Sweden              551,032        \n",
       "27  BEL 23                          NA  Belgium             531,767        \n",
       "28  ARG 24                          NA  Argentina           518,475     b  \n",
       "29  THA 25                          NA  Thailand            504,993        \n",
       "30  AUT 26                          NA  Austria             455,737        \n",
       "... ... ...                         ... ...                ...          ...\n",
       "299                                 NA                                     \n",
       "300                                 NA                                     \n",
       "301                                 NA                                     \n",
       "302                                 NA                                     \n",
       "303                                 NA                                     \n",
       "304                                 NA                                     \n",
       "305                                 NA                                     \n",
       "306                                 NA                                     \n",
       "307                                 NA                                     \n",
       "308                                 NA                                     \n",
       "309                                 NA                                     \n",
       "310                                 NA                                     \n",
       "311                                 NA                                     \n",
       "312                                 NA                                     \n",
       "313                                 NA                                     \n",
       "314                                 NA                                     \n",
       "315                                 NA                                     \n",
       "316                                 NA                                     \n",
       "317                                 NA                                     \n",
       "318                                 NA                                     \n",
       "319                                 NA                                     \n",
       "320                                 NA                                     \n",
       "321                                 NA                                     \n",
       "322                                 NA                                     \n",
       "323                                 NA                                     \n",
       "324                                 NA                                     \n",
       "325                                 NA                                     \n",
       "326                                 NA                                     \n",
       "327                                 NA                                     \n",
       "328                                 NA                                     "
      ]
     },
     "metadata": {},
     "output_type": "display_data"
    }
   ],
   "source": [
    "# 데이터 불러오기\n",
    "GDP_ranking <- read.csv(\"../Data/GDP.csv\")\n",
    "GDP_ranking"
   ]
  },
  {
   "cell_type": "code",
   "execution_count": 109,
   "metadata": {
    "vscode": {
     "languageId": "r"
    }
   },
   "outputs": [
    {
     "data": {
      "text/html": [
       "<table class=\"dataframe\">\n",
       "<caption>A data.frame: 6 x 4</caption>\n",
       "<thead>\n",
       "\t<tr><th></th><th scope=col>X</th><th scope=col>Gross.domestic.product.2018</th><th scope=col>X.2</th><th scope=col>X.3</th></tr>\n",
       "\t<tr><th></th><th scope=col>&lt;chr&gt;</th><th scope=col>&lt;chr&gt;</th><th scope=col>&lt;chr&gt;</th><th scope=col>&lt;chr&gt;</th></tr>\n",
       "</thead>\n",
       "<tbody>\n",
       "\t<tr><th scope=row>5</th><td>USA</td><td>1</td><td>United States </td><td> 20,494,100 </td></tr>\n",
       "\t<tr><th scope=row>6</th><td>CHN</td><td>2</td><td>China         </td><td> 13,608,152 </td></tr>\n",
       "\t<tr><th scope=row>7</th><td>JPN</td><td>3</td><td>Japan         </td><td> 4,970,916  </td></tr>\n",
       "\t<tr><th scope=row>8</th><td>DEU</td><td>4</td><td>Germany       </td><td> 3,996,759  </td></tr>\n",
       "\t<tr><th scope=row>9</th><td>GBR</td><td>5</td><td>United Kingdom</td><td> 2,825,208  </td></tr>\n",
       "\t<tr><th scope=row>10</th><td>FRA</td><td>6</td><td>France        </td><td> 2,777,535  </td></tr>\n",
       "</tbody>\n",
       "</table>\n"
      ],
      "text/latex": [
       "A data.frame: 6 x 4\n",
       "\\begin{tabular}{r|llll}\n",
       "  & X & Gross.domestic.product.2018 & X.2 & X.3\\\\\n",
       "  & <chr> & <chr> & <chr> & <chr>\\\\\n",
       "\\hline\n",
       "\t5 & USA & 1 & United States  &  20,494,100 \\\\\n",
       "\t6 & CHN & 2 & China          &  13,608,152 \\\\\n",
       "\t7 & JPN & 3 & Japan          &  4,970,916  \\\\\n",
       "\t8 & DEU & 4 & Germany        &  3,996,759  \\\\\n",
       "\t9 & GBR & 5 & United Kingdom &  2,825,208  \\\\\n",
       "\t10 & FRA & 6 & France         &  2,777,535  \\\\\n",
       "\\end{tabular}\n"
      ],
      "text/markdown": [
       "\n",
       "A data.frame: 6 x 4\n",
       "\n",
       "| <!--/--> | X &lt;chr&gt; | Gross.domestic.product.2018 &lt;chr&gt; | X.2 &lt;chr&gt; | X.3 &lt;chr&gt; |\n",
       "|---|---|---|---|---|\n",
       "| 5 | USA | 1 | United States  |  20,494,100  |\n",
       "| 6 | CHN | 2 | China          |  13,608,152  |\n",
       "| 7 | JPN | 3 | Japan          |  4,970,916   |\n",
       "| 8 | DEU | 4 | Germany        |  3,996,759   |\n",
       "| 9 | GBR | 5 | United Kingdom |  2,825,208   |\n",
       "| 10 | FRA | 6 | France         |  2,777,535   |\n",
       "\n"
      ],
      "text/plain": [
       "   X   Gross.domestic.product.2018 X.2            X.3         \n",
       "5  USA 1                           United States   20,494,100 \n",
       "6  CHN 2                           China           13,608,152 \n",
       "7  JPN 3                           Japan           4,970,916  \n",
       "8  DEU 4                           Germany         3,996,759  \n",
       "9  GBR 5                           United Kingdom  2,825,208  \n",
       "10 FRA 6                           France          2,777,535  "
      ]
     },
     "metadata": {},
     "output_type": "display_data"
    }
   ],
   "source": [
    "GDP_ranking2 <- GDP_ranking[-c(1:4),c(1,2,4,5)]\n",
    "head(GDP_ranking2)"
   ]
  },
  {
   "cell_type": "code",
   "execution_count": 110,
   "metadata": {
    "vscode": {
     "languageId": "r"
    }
   },
   "outputs": [
    {
     "data": {
      "text/html": [
       "<table class=\"dataframe\">\n",
       "<caption>A data.frame: 15 x 4</caption>\n",
       "<thead>\n",
       "\t<tr><th></th><th scope=col>X</th><th scope=col>Gross.domestic.product.2018</th><th scope=col>X.2</th><th scope=col>X.3</th></tr>\n",
       "\t<tr><th></th><th scope=col>&lt;chr&gt;</th><th scope=col>&lt;chr&gt;</th><th scope=col>&lt;chr&gt;</th><th scope=col>&lt;chr&gt;</th></tr>\n",
       "</thead>\n",
       "<tbody>\n",
       "\t<tr><th scope=row>5</th><td>USA</td><td>1 </td><td>United States     </td><td> 20,494,100 </td></tr>\n",
       "\t<tr><th scope=row>6</th><td>CHN</td><td>2 </td><td>China             </td><td> 13,608,152 </td></tr>\n",
       "\t<tr><th scope=row>7</th><td>JPN</td><td>3 </td><td>Japan             </td><td> 4,970,916  </td></tr>\n",
       "\t<tr><th scope=row>8</th><td>DEU</td><td>4 </td><td>Germany           </td><td> 3,996,759  </td></tr>\n",
       "\t<tr><th scope=row>9</th><td>GBR</td><td>5 </td><td>United Kingdom    </td><td> 2,825,208  </td></tr>\n",
       "\t<tr><th scope=row>10</th><td>FRA</td><td>6 </td><td>France            </td><td> 2,777,535  </td></tr>\n",
       "\t<tr><th scope=row>11</th><td>IND</td><td>7 </td><td>India             </td><td> 2,726,323  </td></tr>\n",
       "\t<tr><th scope=row>12</th><td>ITA</td><td>8 </td><td>Italy             </td><td> 2,073,902  </td></tr>\n",
       "\t<tr><th scope=row>13</th><td>BRA</td><td>9 </td><td>Brazil            </td><td> 1,868,626  </td></tr>\n",
       "\t<tr><th scope=row>14</th><td>CAN</td><td>10</td><td>Canada            </td><td> 1,712,510  </td></tr>\n",
       "\t<tr><th scope=row>15</th><td>RUS</td><td>11</td><td>Russian Federation</td><td> 1,657,554  </td></tr>\n",
       "\t<tr><th scope=row>16</th><td>KOR</td><td>12</td><td>Korea, Rep.       </td><td> 1,619,424  </td></tr>\n",
       "\t<tr><th scope=row>17</th><td>AUS</td><td>13</td><td>Australia         </td><td> 1,432,195  </td></tr>\n",
       "\t<tr><th scope=row>18</th><td>ESP</td><td>14</td><td>Spain             </td><td> 1,426,189  </td></tr>\n",
       "\t<tr><th scope=row>19</th><td>MEX</td><td>15</td><td>Mexico            </td><td> 1,223,809  </td></tr>\n",
       "</tbody>\n",
       "</table>\n"
      ],
      "text/latex": [
       "A data.frame: 15 x 4\n",
       "\\begin{tabular}{r|llll}\n",
       "  & X & Gross.domestic.product.2018 & X.2 & X.3\\\\\n",
       "  & <chr> & <chr> & <chr> & <chr>\\\\\n",
       "\\hline\n",
       "\t5 & USA & 1  & United States      &  20,494,100 \\\\\n",
       "\t6 & CHN & 2  & China              &  13,608,152 \\\\\n",
       "\t7 & JPN & 3  & Japan              &  4,970,916  \\\\\n",
       "\t8 & DEU & 4  & Germany            &  3,996,759  \\\\\n",
       "\t9 & GBR & 5  & United Kingdom     &  2,825,208  \\\\\n",
       "\t10 & FRA & 6  & France             &  2,777,535  \\\\\n",
       "\t11 & IND & 7  & India              &  2,726,323  \\\\\n",
       "\t12 & ITA & 8  & Italy              &  2,073,902  \\\\\n",
       "\t13 & BRA & 9  & Brazil             &  1,868,626  \\\\\n",
       "\t14 & CAN & 10 & Canada             &  1,712,510  \\\\\n",
       "\t15 & RUS & 11 & Russian Federation &  1,657,554  \\\\\n",
       "\t16 & KOR & 12 & Korea, Rep.        &  1,619,424  \\\\\n",
       "\t17 & AUS & 13 & Australia          &  1,432,195  \\\\\n",
       "\t18 & ESP & 14 & Spain              &  1,426,189  \\\\\n",
       "\t19 & MEX & 15 & Mexico             &  1,223,809  \\\\\n",
       "\\end{tabular}\n"
      ],
      "text/markdown": [
       "\n",
       "A data.frame: 15 x 4\n",
       "\n",
       "| <!--/--> | X &lt;chr&gt; | Gross.domestic.product.2018 &lt;chr&gt; | X.2 &lt;chr&gt; | X.3 &lt;chr&gt; |\n",
       "|---|---|---|---|---|\n",
       "| 5 | USA | 1  | United States      |  20,494,100  |\n",
       "| 6 | CHN | 2  | China              |  13,608,152  |\n",
       "| 7 | JPN | 3  | Japan              |  4,970,916   |\n",
       "| 8 | DEU | 4  | Germany            |  3,996,759   |\n",
       "| 9 | GBR | 5  | United Kingdom     |  2,825,208   |\n",
       "| 10 | FRA | 6  | France             |  2,777,535   |\n",
       "| 11 | IND | 7  | India              |  2,726,323   |\n",
       "| 12 | ITA | 8  | Italy              |  2,073,902   |\n",
       "| 13 | BRA | 9  | Brazil             |  1,868,626   |\n",
       "| 14 | CAN | 10 | Canada             |  1,712,510   |\n",
       "| 15 | RUS | 11 | Russian Federation |  1,657,554   |\n",
       "| 16 | KOR | 12 | Korea, Rep.        |  1,619,424   |\n",
       "| 17 | AUS | 13 | Australia          |  1,432,195   |\n",
       "| 18 | ESP | 14 | Spain              |  1,426,189   |\n",
       "| 19 | MEX | 15 | Mexico             |  1,223,809   |\n",
       "\n"
      ],
      "text/plain": [
       "   X   Gross.domestic.product.2018 X.2                X.3         \n",
       "5  USA 1                           United States       20,494,100 \n",
       "6  CHN 2                           China               13,608,152 \n",
       "7  JPN 3                           Japan               4,970,916  \n",
       "8  DEU 4                           Germany             3,996,759  \n",
       "9  GBR 5                           United Kingdom      2,825,208  \n",
       "10 FRA 6                           France              2,777,535  \n",
       "11 IND 7                           India               2,726,323  \n",
       "12 ITA 8                           Italy               2,073,902  \n",
       "13 BRA 9                           Brazil              1,868,626  \n",
       "14 CAN 10                          Canada              1,712,510  \n",
       "15 RUS 11                          Russian Federation  1,657,554  \n",
       "16 KOR 12                          Korea, Rep.         1,619,424  \n",
       "17 AUS 13                          Australia           1,432,195  \n",
       "18 ESP 14                          Spain               1,426,189  \n",
       "19 MEX 15                          Mexico              1,223,809  "
      ]
     },
     "metadata": {},
     "output_type": "display_data"
    }
   ],
   "source": [
    "#사위 15개국만 선별한다.\n",
    "GDP_ranking15 <- head(GDP_ranking2,15)\n",
    "GDP_ranking15"
   ]
  },
  {
   "cell_type": "code",
   "execution_count": 111,
   "metadata": {
    "vscode": {
     "languageId": "r"
    }
   },
   "outputs": [
    {
     "data": {
      "text/html": [
       "<table class=\"dataframe\">\n",
       "<caption>A data.frame: 15 x 4</caption>\n",
       "<thead>\n",
       "\t<tr><th></th><th scope=col>Code</th><th scope=col>Ranking</th><th scope=col>Nation</th><th scope=col>GDP</th></tr>\n",
       "\t<tr><th></th><th scope=col>&lt;chr&gt;</th><th scope=col>&lt;chr&gt;</th><th scope=col>&lt;chr&gt;</th><th scope=col>&lt;chr&gt;</th></tr>\n",
       "</thead>\n",
       "<tbody>\n",
       "\t<tr><th scope=row>5</th><td>USA</td><td>1 </td><td>United States     </td><td> 20,494,100 </td></tr>\n",
       "\t<tr><th scope=row>6</th><td>CHN</td><td>2 </td><td>China             </td><td> 13,608,152 </td></tr>\n",
       "\t<tr><th scope=row>7</th><td>JPN</td><td>3 </td><td>Japan             </td><td> 4,970,916  </td></tr>\n",
       "\t<tr><th scope=row>8</th><td>DEU</td><td>4 </td><td>Germany           </td><td> 3,996,759  </td></tr>\n",
       "\t<tr><th scope=row>9</th><td>GBR</td><td>5 </td><td>United Kingdom    </td><td> 2,825,208  </td></tr>\n",
       "\t<tr><th scope=row>10</th><td>FRA</td><td>6 </td><td>France            </td><td> 2,777,535  </td></tr>\n",
       "\t<tr><th scope=row>11</th><td>IND</td><td>7 </td><td>India             </td><td> 2,726,323  </td></tr>\n",
       "\t<tr><th scope=row>12</th><td>ITA</td><td>8 </td><td>Italy             </td><td> 2,073,902  </td></tr>\n",
       "\t<tr><th scope=row>13</th><td>BRA</td><td>9 </td><td>Brazil            </td><td> 1,868,626  </td></tr>\n",
       "\t<tr><th scope=row>14</th><td>CAN</td><td>10</td><td>Canada            </td><td> 1,712,510  </td></tr>\n",
       "\t<tr><th scope=row>15</th><td>RUS</td><td>11</td><td>Russian Federation</td><td> 1,657,554  </td></tr>\n",
       "\t<tr><th scope=row>16</th><td>KOR</td><td>12</td><td>Korea, Rep.       </td><td> 1,619,424  </td></tr>\n",
       "\t<tr><th scope=row>17</th><td>AUS</td><td>13</td><td>Australia         </td><td> 1,432,195  </td></tr>\n",
       "\t<tr><th scope=row>18</th><td>ESP</td><td>14</td><td>Spain             </td><td> 1,426,189  </td></tr>\n",
       "\t<tr><th scope=row>19</th><td>MEX</td><td>15</td><td>Mexico            </td><td> 1,223,809  </td></tr>\n",
       "</tbody>\n",
       "</table>\n"
      ],
      "text/latex": [
       "A data.frame: 15 x 4\n",
       "\\begin{tabular}{r|llll}\n",
       "  & Code & Ranking & Nation & GDP\\\\\n",
       "  & <chr> & <chr> & <chr> & <chr>\\\\\n",
       "\\hline\n",
       "\t5 & USA & 1  & United States      &  20,494,100 \\\\\n",
       "\t6 & CHN & 2  & China              &  13,608,152 \\\\\n",
       "\t7 & JPN & 3  & Japan              &  4,970,916  \\\\\n",
       "\t8 & DEU & 4  & Germany            &  3,996,759  \\\\\n",
       "\t9 & GBR & 5  & United Kingdom     &  2,825,208  \\\\\n",
       "\t10 & FRA & 6  & France             &  2,777,535  \\\\\n",
       "\t11 & IND & 7  & India              &  2,726,323  \\\\\n",
       "\t12 & ITA & 8  & Italy              &  2,073,902  \\\\\n",
       "\t13 & BRA & 9  & Brazil             &  1,868,626  \\\\\n",
       "\t14 & CAN & 10 & Canada             &  1,712,510  \\\\\n",
       "\t15 & RUS & 11 & Russian Federation &  1,657,554  \\\\\n",
       "\t16 & KOR & 12 & Korea, Rep.        &  1,619,424  \\\\\n",
       "\t17 & AUS & 13 & Australia          &  1,432,195  \\\\\n",
       "\t18 & ESP & 14 & Spain              &  1,426,189  \\\\\n",
       "\t19 & MEX & 15 & Mexico             &  1,223,809  \\\\\n",
       "\\end{tabular}\n"
      ],
      "text/markdown": [
       "\n",
       "A data.frame: 15 x 4\n",
       "\n",
       "| <!--/--> | Code &lt;chr&gt; | Ranking &lt;chr&gt; | Nation &lt;chr&gt; | GDP &lt;chr&gt; |\n",
       "|---|---|---|---|---|\n",
       "| 5 | USA | 1  | United States      |  20,494,100  |\n",
       "| 6 | CHN | 2  | China              |  13,608,152  |\n",
       "| 7 | JPN | 3  | Japan              |  4,970,916   |\n",
       "| 8 | DEU | 4  | Germany            |  3,996,759   |\n",
       "| 9 | GBR | 5  | United Kingdom     |  2,825,208   |\n",
       "| 10 | FRA | 6  | France             |  2,777,535   |\n",
       "| 11 | IND | 7  | India              |  2,726,323   |\n",
       "| 12 | ITA | 8  | Italy              |  2,073,902   |\n",
       "| 13 | BRA | 9  | Brazil             |  1,868,626   |\n",
       "| 14 | CAN | 10 | Canada             |  1,712,510   |\n",
       "| 15 | RUS | 11 | Russian Federation |  1,657,554   |\n",
       "| 16 | KOR | 12 | Korea, Rep.        |  1,619,424   |\n",
       "| 17 | AUS | 13 | Australia          |  1,432,195   |\n",
       "| 18 | ESP | 14 | Spain              |  1,426,189   |\n",
       "| 19 | MEX | 15 | Mexico             |  1,223,809   |\n",
       "\n"
      ],
      "text/plain": [
       "   Code Ranking Nation             GDP         \n",
       "5  USA  1       United States       20,494,100 \n",
       "6  CHN  2       China               13,608,152 \n",
       "7  JPN  3       Japan               4,970,916  \n",
       "8  DEU  4       Germany             3,996,759  \n",
       "9  GBR  5       United Kingdom      2,825,208  \n",
       "10 FRA  6       France              2,777,535  \n",
       "11 IND  7       India               2,726,323  \n",
       "12 ITA  8       Italy               2,073,902  \n",
       "13 BRA  9       Brazil              1,868,626  \n",
       "14 CAN  10      Canada              1,712,510  \n",
       "15 RUS  11      Russian Federation  1,657,554  \n",
       "16 KOR  12      Korea, Rep.         1,619,424  \n",
       "17 AUS  13      Australia           1,432,195  \n",
       "18 ESP  14      Spain               1,426,189  \n",
       "19 MEX  15      Mexico              1,223,809  "
      ]
     },
     "metadata": {},
     "output_type": "display_data"
    }
   ],
   "source": [
    "#컬럼 이름 변경\n",
    "colnames(GDP_ranking15) <-c(\"Code\", \"Ranking\", \"Nation\", \"GDP\")\n",
    "GDP_ranking15"
   ]
  },
  {
   "cell_type": "code",
   "execution_count": 113,
   "metadata": {
    "vscode": {
     "languageId": "r"
    }
   },
   "outputs": [
    {
     "name": "stdout",
     "output_type": "stream",
     "text": [
      "   Code Ranking             Nation          GDP\n",
      "1   USA       1      United States  20,494,100 \n",
      "2   CHN       2              China  13,608,152 \n",
      "3   JPN       3              Japan   4,970,916 \n",
      "4   DEU       4            Germany   3,996,759 \n",
      "5   GBR       5     United Kingdom   2,825,208 \n",
      "6   FRA       6             France   2,777,535 \n",
      "7   IND       7              India   2,726,323 \n",
      "8   ITA       8              Italy   2,073,902 \n",
      "9   BRA       9             Brazil   1,868,626 \n",
      "10  CAN      10             Canada   1,712,510 \n",
      "11  RUS      11 Russian Federation   1,657,554 \n",
      "12  KOR      12        Korea, Rep.   1,619,424 \n",
      "13  AUS      13          Australia   1,432,195 \n",
      "14  ESP      14              Spain   1,426,189 \n",
      "15  MEX      15             Mexico   1,223,809 \n"
     ]
    }
   ],
   "source": [
    "#rownames 새로 구하기\n",
    "rownames(GDP_ranking15) <- c()\n",
    "print(GDP_ranking15)"
   ]
  },
  {
   "cell_type": "code",
   "execution_count": 114,
   "metadata": {
    "vscode": {
     "languageId": "r"
    }
   },
   "outputs": [],
   "source": [
    "library(stringr)  #패키지불러오기"
   ]
  },
  {
   "cell_type": "code",
   "execution_count": 152,
   "metadata": {
    "vscode": {
     "languageId": "r"
    }
   },
   "outputs": [
    {
     "data": {
      "text/html": [
       "<table class=\"dataframe\">\n",
       "<caption>A data.frame: 15 x 4</caption>\n",
       "<thead>\n",
       "\t<tr><th scope=col>Code</th><th scope=col>Ranking</th><th scope=col>Nation</th><th scope=col>GDP</th></tr>\n",
       "\t<tr><th scope=col>&lt;chr&gt;</th><th scope=col>&lt;chr&gt;</th><th scope=col>&lt;chr&gt;</th><th scope=col>&lt;dbl&gt;</th></tr>\n",
       "</thead>\n",
       "<tbody>\n",
       "\t<tr><td>USA</td><td>1 </td><td>United States     </td><td>20494100</td></tr>\n",
       "\t<tr><td>CHN</td><td>2 </td><td>China             </td><td>13608152</td></tr>\n",
       "\t<tr><td>JPN</td><td>3 </td><td>Japan             </td><td> 4970916</td></tr>\n",
       "\t<tr><td>DEU</td><td>4 </td><td>Germany           </td><td> 3996759</td></tr>\n",
       "\t<tr><td>GBR</td><td>5 </td><td>United Kingdom    </td><td> 2825208</td></tr>\n",
       "\t<tr><td>FRA</td><td>6 </td><td>France            </td><td> 2777535</td></tr>\n",
       "\t<tr><td>IND</td><td>7 </td><td>India             </td><td> 2726323</td></tr>\n",
       "\t<tr><td>ITA</td><td>8 </td><td>Italy             </td><td> 2073902</td></tr>\n",
       "\t<tr><td>BRA</td><td>9 </td><td>Brazil            </td><td> 1868626</td></tr>\n",
       "\t<tr><td>CAN</td><td>10</td><td>Canada            </td><td> 1712510</td></tr>\n",
       "\t<tr><td>RUS</td><td>11</td><td>Russian Federation</td><td> 1657554</td></tr>\n",
       "\t<tr><td>KOR</td><td>12</td><td>Korea, Rep.       </td><td> 1619424</td></tr>\n",
       "\t<tr><td>AUS</td><td>13</td><td>Australia         </td><td> 1432195</td></tr>\n",
       "\t<tr><td>ESP</td><td>14</td><td>Spain             </td><td> 1426189</td></tr>\n",
       "\t<tr><td>MEX</td><td>15</td><td>Mexico            </td><td> 1223809</td></tr>\n",
       "</tbody>\n",
       "</table>\n"
      ],
      "text/latex": [
       "A data.frame: 15 x 4\n",
       "\\begin{tabular}{llll}\n",
       " Code & Ranking & Nation & GDP\\\\\n",
       " <chr> & <chr> & <chr> & <dbl>\\\\\n",
       "\\hline\n",
       "\t USA & 1  & United States      & 20494100\\\\\n",
       "\t CHN & 2  & China              & 13608152\\\\\n",
       "\t JPN & 3  & Japan              &  4970916\\\\\n",
       "\t DEU & 4  & Germany            &  3996759\\\\\n",
       "\t GBR & 5  & United Kingdom     &  2825208\\\\\n",
       "\t FRA & 6  & France             &  2777535\\\\\n",
       "\t IND & 7  & India              &  2726323\\\\\n",
       "\t ITA & 8  & Italy              &  2073902\\\\\n",
       "\t BRA & 9  & Brazil             &  1868626\\\\\n",
       "\t CAN & 10 & Canada             &  1712510\\\\\n",
       "\t RUS & 11 & Russian Federation &  1657554\\\\\n",
       "\t KOR & 12 & Korea, Rep.        &  1619424\\\\\n",
       "\t AUS & 13 & Australia          &  1432195\\\\\n",
       "\t ESP & 14 & Spain              &  1426189\\\\\n",
       "\t MEX & 15 & Mexico             &  1223809\\\\\n",
       "\\end{tabular}\n"
      ],
      "text/markdown": [
       "\n",
       "A data.frame: 15 x 4\n",
       "\n",
       "| Code &lt;chr&gt; | Ranking &lt;chr&gt; | Nation &lt;chr&gt; | GDP &lt;dbl&gt; |\n",
       "|---|---|---|---|\n",
       "| USA | 1  | United States      | 20494100 |\n",
       "| CHN | 2  | China              | 13608152 |\n",
       "| JPN | 3  | Japan              |  4970916 |\n",
       "| DEU | 4  | Germany            |  3996759 |\n",
       "| GBR | 5  | United Kingdom     |  2825208 |\n",
       "| FRA | 6  | France             |  2777535 |\n",
       "| IND | 7  | India              |  2726323 |\n",
       "| ITA | 8  | Italy              |  2073902 |\n",
       "| BRA | 9  | Brazil             |  1868626 |\n",
       "| CAN | 10 | Canada             |  1712510 |\n",
       "| RUS | 11 | Russian Federation |  1657554 |\n",
       "| KOR | 12 | Korea, Rep.        |  1619424 |\n",
       "| AUS | 13 | Australia          |  1432195 |\n",
       "| ESP | 14 | Spain              |  1426189 |\n",
       "| MEX | 15 | Mexico             |  1223809 |\n",
       "\n"
      ],
      "text/plain": [
       "   Code Ranking Nation             GDP     \n",
       "1  USA  1       United States      20494100\n",
       "2  CHN  2       China              13608152\n",
       "3  JPN  3       Japan               4970916\n",
       "4  DEU  4       Germany             3996759\n",
       "5  GBR  5       United Kingdom      2825208\n",
       "6  FRA  6       France              2777535\n",
       "7  IND  7       India               2726323\n",
       "8  ITA  8       Italy               2073902\n",
       "9  BRA  9       Brazil              1868626\n",
       "10 CAN  10      Canada              1712510\n",
       "11 RUS  11      Russian Federation  1657554\n",
       "12 KOR  12      Korea, Rep.         1619424\n",
       "13 AUS  13      Australia           1432195\n",
       "14 ESP  14      Spain               1426189\n",
       "15 MEX  15      Mexico              1223809"
      ]
     },
     "metadata": {},
     "output_type": "display_data"
    }
   ],
   "source": [
    "#GDP 컬럼을 숫자로 변환하기! (숫자로 변환해야 차트생성!)\n",
    "\n",
    "# GDP_ranking15$GDP <- str_replace_all(GDP_ranking15$GDP, \",\", \"\")\n",
    "# as.numeric(GDP_ranking15)\n",
    "\n",
    "GDP_ranking15$GDP <- as.numeric(str_remove_all(GDP_ranking15$GDP, \",\"))\n",
    "GDP_ranking15\n"
   ]
  },
  {
   "cell_type": "code",
   "execution_count": 153,
   "metadata": {
    "vscode": {
     "languageId": "r"
    }
   },
   "outputs": [
    {
     "data": {
      "text/html": [
       "'ko_KR.UTF-8/ko_KR.UTF-8/ko_KR.UTF-8/C/ko_KR.UTF-8/C'"
      ],
      "text/latex": [
       "'ko\\_KR.UTF-8/ko\\_KR.UTF-8/ko\\_KR.UTF-8/C/ko\\_KR.UTF-8/C'"
      ],
      "text/markdown": [
       "'ko_KR.UTF-8/ko_KR.UTF-8/ko_KR.UTF-8/C/ko_KR.UTF-8/C'"
      ],
      "text/plain": [
       "[1] \"ko_KR.UTF-8/ko_KR.UTF-8/ko_KR.UTF-8/C/ko_KR.UTF-8/C\""
      ]
     },
     "metadata": {},
     "output_type": "display_data"
    }
   ],
   "source": [
    "#지수 없애기\n",
    "options(scipen = 100)\n",
    "options(repr.plot.width = 15, repr.plot.height = 9)\n",
    "# Sys.setlocale(category = 'LC_All' , locale = 'ko_KR.UTF-8')\n",
    "Sys.setlocale(category = 'LC_ALL' , locale = 'ko_KR.UTF-8') ## 한글보이기"
   ]
  },
  {
   "cell_type": "code",
   "execution_count": 133,
   "metadata": {
    "vscode": {
     "languageId": "r"
    }
   },
   "outputs": [
    {
     "data": {
      "image/png": "[encoded data removed]",
      "text/plain": [
       "Plot with title “2018년 GDP 세계 15위 국가”"
      ]
     },
     "metadata": {
      "image/png": {
       "height": 540,
       "width": 900
      }
     },
     "output_type": "display_data"
    }
   ],
   "source": [
    "#막대 그래프 시각화\n",
    "par(bg = 'white') # 배경 흰색\n",
    "barplot(\n",
    "    GDP_ranking15$GDP,# $GDP 상위 15개국 data\n",
    "    col = rainbow(nrow(GDP_ranking15)),\n",
    "    # col= c(\"blue\",\"green\", \"yellow\",\"blue\",\"green\", \"yellow\",\"blue\",\"green\", \"yellow\")\n",
    "    xlab = \"국가(Nation)\", #x축이름\n",
    "    ylab = \"단위(달러)\", #y축이름\n",
    "    main = \"2018년 GDP 세계 15위 국가\", #title\n",
    "    names = GDP_ranking15$Nation,\n",
    "    # cex.names = GDP_ranking15$Code  #크기\n",
    ")"
   ]
  },
  {
   "cell_type": "code",
   "execution_count": 145,
   "metadata": {
    "vscode": {
     "languageId": "r"
    }
   },
   "outputs": [
    {
     "data": {
      "image/png": "[encoded data removed]",
      "text/plain": [
       "Plot with title “2018년 GDP 세계 15위 국가”"
      ]
     },
     "metadata": {
      "image/png": {
       "height": 540,
       "width": 900
      }
     },
     "output_type": "display_data"
    }
   ],
   "source": [
    "# 미국과 중국 한국만 빨간색으로 나머지는 파란색으로 표현하기\n",
    "\n",
    "par(bg = 'white')\n",
    "barplot(\n",
    "    GDP_ranking15$GDP,\n",
    "    col = ifelse(GDP_ranking15$Code == c(\"USA\", \"CHN\", \"KOR\"), \"red\", \"blue\"),\n",
    "    xlab = \"국가(Nation)\", \n",
    "    ylab = \"단위(달러)\", \n",
    "    main = \"2018년 GDP 세계 15위 국가\",\n",
    "    names = GDP_ranking15$Nation,\n",
    "    # cex.names = GDP_ranking15$Code  #크기\n",
    ")\n"
   ]
  },
  {
   "cell_type": "code",
   "execution_count": 161,
   "metadata": {
    "vscode": {
     "languageId": "r"
    }
   },
   "outputs": [
    {
     "data": {
      "text/html": [
       "<style>\n",
       ".list-inline {list-style: none; margin:0; padding: 0}\n",
       ".list-inline>li {display: inline-block}\n",
       ".list-inline>li:not(:last-child)::after {content: \"\\00b7\"; padding: 0 .5ex}\n",
       "</style>\n",
       "<ol class=list-inline><li>'USA'</li><li>'CHN'</li><li>'KOR'</li></ol>\n"
      ],
      "text/latex": [
       "\\begin{enumerate*}\n",
       "\\item 'USA'\n",
       "\\item 'CHN'\n",
       "\\item 'KOR'\n",
       "\\end{enumerate*}\n"
      ],
      "text/markdown": [
       "1. 'USA'\n",
       "2. 'CHN'\n",
       "3. 'KOR'\n",
       "\n",
       "\n"
      ],
      "text/plain": [
       "[1] \"USA\" \"CHN\" \"KOR\""
      ]
     },
     "metadata": {},
     "output_type": "display_data"
    },
    {
     "data": {
      "text/html": [
       "<style>\n",
       ".list-inline {list-style: none; margin:0; padding: 0}\n",
       ".list-inline>li {display: inline-block}\n",
       ".list-inline>li:not(:last-child)::after {content: \"\\00b7\"; padding: 0 .5ex}\n",
       "</style>\n",
       "<ol class=list-inline><li>1</li><li>1</li><li>0</li><li>0</li><li>0</li><li>0</li><li>0</li><li>0</li><li>0</li><li>0</li><li>0</li><li>1</li><li>0</li><li>0</li><li>0</li></ol>\n"
      ],
      "text/latex": [
       "\\begin{enumerate*}\n",
       "\\item 1\n",
       "\\item 1\n",
       "\\item 0\n",
       "\\item 0\n",
       "\\item 0\n",
       "\\item 0\n",
       "\\item 0\n",
       "\\item 0\n",
       "\\item 0\n",
       "\\item 0\n",
       "\\item 0\n",
       "\\item 1\n",
       "\\item 0\n",
       "\\item 0\n",
       "\\item 0\n",
       "\\end{enumerate*}\n"
      ],
      "text/markdown": [
       "1. 1\n",
       "2. 1\n",
       "3. 0\n",
       "4. 0\n",
       "5. 0\n",
       "6. 0\n",
       "7. 0\n",
       "8. 0\n",
       "9. 0\n",
       "10. 0\n",
       "11. 0\n",
       "12. 1\n",
       "13. 0\n",
       "14. 0\n",
       "15. 0\n",
       "\n",
       "\n"
      ],
      "text/plain": [
       " [1] 1 1 0 0 0 0 0 0 0 0 0 1 0 0 0"
      ]
     },
     "metadata": {},
     "output_type": "display_data"
    },
    {
     "data": {
      "text/html": [
       "<style>\n",
       ".list-inline {list-style: none; margin:0; padding: 0}\n",
       ".list-inline>li {display: inline-block}\n",
       ".list-inline>li:not(:last-child)::after {content: \"\\00b7\"; padding: 0 .5ex}\n",
       "</style>\n",
       "<ol class=list-inline><li>0</li><li>0</li><li>0</li><li>0</li><li>0</li><li>0</li><li>0</li><li>0</li><li>0</li><li>0</li><li>0</li><li>1</li><li>0</li><li>0</li><li>0</li></ol>\n"
      ],
      "text/latex": [
       "\\begin{enumerate*}\n",
       "\\item 0\n",
       "\\item 0\n",
       "\\item 0\n",
       "\\item 0\n",
       "\\item 0\n",
       "\\item 0\n",
       "\\item 0\n",
       "\\item 0\n",
       "\\item 0\n",
       "\\item 0\n",
       "\\item 0\n",
       "\\item 1\n",
       "\\item 0\n",
       "\\item 0\n",
       "\\item 0\n",
       "\\end{enumerate*}\n"
      ],
      "text/markdown": [
       "1. 0\n",
       "2. 0\n",
       "3. 0\n",
       "4. 0\n",
       "5. 0\n",
       "6. 0\n",
       "7. 0\n",
       "8. 0\n",
       "9. 0\n",
       "10. 0\n",
       "11. 0\n",
       "12. 1\n",
       "13. 0\n",
       "14. 0\n",
       "15. 0\n",
       "\n",
       "\n"
      ],
      "text/plain": [
       " [1] 0 0 0 0 0 0 0 0 0 0 0 1 0 0 0"
      ]
     },
     "metadata": {},
     "output_type": "display_data"
    },
    {
     "data": {
      "text/html": [
       "<style>\n",
       ".list-inline {list-style: none; margin:0; padding: 0}\n",
       ".list-inline>li {display: inline-block}\n",
       ".list-inline>li:not(:last-child)::after {content: \"\\00b7\"; padding: 0 .5ex}\n",
       "</style>\n",
       "<ol class=list-inline><li>1</li><li>1</li><li>0</li><li>0</li><li>0</li><li>0</li><li>0</li><li>0</li><li>0</li><li>0</li><li>0</li><li>1</li><li>0</li><li>0</li><li>0</li></ol>\n"
      ],
      "text/latex": [
       "\\begin{enumerate*}\n",
       "\\item 1\n",
       "\\item 1\n",
       "\\item 0\n",
       "\\item 0\n",
       "\\item 0\n",
       "\\item 0\n",
       "\\item 0\n",
       "\\item 0\n",
       "\\item 0\n",
       "\\item 0\n",
       "\\item 0\n",
       "\\item 1\n",
       "\\item 0\n",
       "\\item 0\n",
       "\\item 0\n",
       "\\end{enumerate*}\n"
      ],
      "text/markdown": [
       "1. 1\n",
       "2. 1\n",
       "3. 0\n",
       "4. 0\n",
       "5. 0\n",
       "6. 0\n",
       "7. 0\n",
       "8. 0\n",
       "9. 0\n",
       "10. 0\n",
       "11. 0\n",
       "12. 1\n",
       "13. 0\n",
       "14. 0\n",
       "15. 0\n",
       "\n",
       "\n"
      ],
      "text/plain": [
       " [1] 1 1 0 0 0 0 0 0 0 0 0 1 0 0 0"
      ]
     },
     "metadata": {},
     "output_type": "display_data"
    },
    {
     "data": {
      "text/html": [
       "<style>\n",
       ".list-inline {list-style: none; margin:0; padding: 0}\n",
       ".list-inline>li {display: inline-block}\n",
       ".list-inline>li:not(:last-child)::after {content: \"\\00b7\"; padding: 0 .5ex}\n",
       "</style>\n",
       "<ol class=list-inline><li>'red'</li><li>'red'</li><li>'blue'</li><li>'blue'</li><li>'blue'</li><li>'blue'</li><li>'blue'</li><li>'blue'</li><li>'blue'</li><li>'blue'</li><li>'blue'</li><li>'red'</li><li>'blue'</li><li>'blue'</li><li>'blue'</li></ol>\n"
      ],
      "text/latex": [
       "\\begin{enumerate*}\n",
       "\\item 'red'\n",
       "\\item 'red'\n",
       "\\item 'blue'\n",
       "\\item 'blue'\n",
       "\\item 'blue'\n",
       "\\item 'blue'\n",
       "\\item 'blue'\n",
       "\\item 'blue'\n",
       "\\item 'blue'\n",
       "\\item 'blue'\n",
       "\\item 'blue'\n",
       "\\item 'red'\n",
       "\\item 'blue'\n",
       "\\item 'blue'\n",
       "\\item 'blue'\n",
       "\\end{enumerate*}\n"
      ],
      "text/markdown": [
       "1. 'red'\n",
       "2. 'red'\n",
       "3. 'blue'\n",
       "4. 'blue'\n",
       "5. 'blue'\n",
       "6. 'blue'\n",
       "7. 'blue'\n",
       "8. 'blue'\n",
       "9. 'blue'\n",
       "10. 'blue'\n",
       "11. 'blue'\n",
       "12. 'red'\n",
       "13. 'blue'\n",
       "14. 'blue'\n",
       "15. 'blue'\n",
       "\n",
       "\n"
      ],
      "text/plain": [
       " [1] \"red\"  \"red\"  \"blue\" \"blue\" \"blue\" \"blue\" \"blue\" \"blue\" \"blue\" \"blue\"\n",
       "[11] \"blue\" \"red\"  \"blue\" \"blue\" \"blue\""
      ]
     },
     "metadata": {},
     "output_type": "display_data"
    },
    {
     "ename": "ERROR",
     "evalue": "Error in colorDefine(): 함수 \"colorDefine\"를 찾을 수 없습니다\n",
     "output_type": "error",
     "traceback": [
      "Error in colorDefine(): 함수 \"colorDefine\"를 찾을 수 없습니다\nTraceback:\n",
      "1. barplot(GDP_ranking15$GDP, col = colorDefine(), xlab = \"국가(Nation)\", \n .     ylab = \"단위(달러)\", main = \"2018년 GDP 세계 15위 국가\", \n .     names = GDP_ranking15$Nation, )",
      "2. barplot.default(GDP_ranking15$GDP, col = colorDefine(), xlab = \"국가(Nation)\", \n .     ylab = \"단위(달러)\", main = \"2018년 GDP 세계 15위 국가\", \n .     names = GDP_ranking15$Nation, )"
     ]
    }
   ],
   "source": [
    "c(\"USA\", \"CHN\", \"KOR\")\n",
    "\n",
    "ifelse(GDP_ranking15$Code == c(\"USA\", \"CHN\", \"KOR\"),1,0)\n",
    "\n",
    "ifelse(GDP_ranking15$Code == c( \"CHN\", \"USA\", \"KOR\"),1,0)\n",
    "\n",
    "\n",
    "ifelse(GDP_ranking15$Code == c(\"USA\"),1,0)+\n",
    "ifelse(GDP_ranking15$Code == c(\"CHN\"),1,0)+\n",
    "ifelse(GDP_ranking15$Code == c(\"KOR\"),1,0)\n",
    "\n",
    "ifelse(\n",
    "ifelse(GDP_ranking15$Code == c(\"USA\"),1,0)+\n",
    "ifelse(GDP_ranking15$Code == c(\"CHN\"),1,0)+\n",
    "ifelse(GDP_ranking15$Code == c(\"KOR\"),1,0) == 1, \"red\", \"blue\")\n",
    "\n",
    "\n",
    "\n",
    "\n",
    "\n",
    "par(bg = 'white')\n",
    "barplot(\n",
    "    GDP_ranking15$GDP,\n",
    "    col = colorDefine(),    #### <----여기에 함수로 넣기!\n",
    "    xlab = \"국가(Nation)\", \n",
    "    ylab = \"단위(달러)\", \n",
    "    main = \"2018년 GDP 세계 15위 국가\",\n",
    "    names = GDP_ranking15$Nation,\n",
    "    # cex.names = GDP_ranking15$Code  #크기\n",
    ")\n",
    "\n",
    "\n",
    "colorDefine() <- function(){\n",
    "return(\n",
    "    ifelse(\n",
    "      ifelse(GDP_ranking15$Code == c(\"USA\"),1,0)+\n",
    "      ifelse(GDP_ranking15$Code == c(\"CHN\"),1,0)+\n",
    "      ifelse(GDP_ranking15$Code == c(\"KOR\"),1,0) == 1, \"red\", \"blue\"))\n",
    "}\n",
    "\n"
   ]
  },
  {
   "cell_type": "code",
   "execution_count": 159,
   "metadata": {
    "vscode": {
     "languageId": "r"
    }
   },
   "outputs": [
    {
     "data": {
      "image/png": "[encoded data removed]",
      "text/plain": [
       "Plot with title “2018년 GDP 세계 15위 국가”"
      ]
     },
     "metadata": {
      "image/png": {
       "height": 540,
       "width": 900
      }
     },
     "output_type": "display_data"
    }
   ],
   "source": [
    "# 단위를 천단위로 표시하기\n",
    "\n",
    "par(bg = 'white')\n",
    "# par(family = \"AppleGothic\")\n",
    "barplot(\n",
    "    GDP_ranking15$GDP/1000, # 단위를 천단위로 표시하기\n",
    "    # col = colorDefine(),    \n",
    "    ylab = \"단위(달러)\", \n",
    "    main = \"2018년 GDP 세계 15위 국가\",\n",
    "    names = GDP_ranking15$Nation,)\n",
    "    # cex.names = GDP_ranking15$Code  #크기"
   ]
  },
  {
   "cell_type": "code",
   "execution_count": 165,
   "metadata": {
    "vscode": {
     "languageId": "r"
    }
   },
   "outputs": [
    {
     "data": {
      "image/png": "[encoded data removed]",
      "text/plain": [
       "Plot with title “2018년 GDP 세계 15위 국가”"
      ]
     },
     "metadata": {
      "image/png": {
       "height": 540,
       "width": 900
      }
     },
     "output_type": "display_data"
    }
   ],
   "source": [
    "#GDP가 3000이상인 국가만 빨간색으로\n",
    "par(bg = 'white')\n",
    "# par(family = \"AppleGothic\")\n",
    "barplot(\n",
    "    GDP_ranking15$GDP/1000, # 단위를 천단위로 표시하기\n",
    "    col = ifelse(GDP_ranking15$GDP/1000 >= 3000, \"red\", \"blue\"),\n",
    "    ylab = \"단위(달러)\", \n",
    "    main = \"2018년 GDP 세계 15위 국가\",\n",
    "    names = GDP_ranking15$Nation,)\n",
    "    ylim = c(0,25000)\n",
    "\n",
    "\n"
   ]
  },
  {
   "cell_type": "code",
   "execution_count": null,
   "metadata": {
    "vscode": {
     "languageId": "r"
    }
   },
   "outputs": [],
   "source": []
  },
  {
   "cell_type": "markdown",
   "metadata": {
    "vscode": {
     "languageId": "r"
    }
   },
   "source": [
    "데이터 처리"
   ]
  },
  {
   "cell_type": "code",
   "execution_count": 168,
   "metadata": {
    "vscode": {
     "languageId": "r"
    }
   },
   "outputs": [
    {
     "name": "stderr",
     "output_type": "stream",
     "text": [
      "‘pkgconfig’, ‘generics’, ‘tibble’, ‘tidyselect’(들)을 또한 설치합니다.\n",
      "\n",
      "\n"
     ]
    },
    {
     "name": "stdout",
     "output_type": "stream",
     "text": [
      "\n",
      "다운로드된 바이너리 패키지들은 다음의 위치에 있습니다\n",
      "\t/var/folders/1z/wqwl5n1552l1vkv_646ktfm00000gn/T//RtmpYlka9U/downloaded_packages\n"
     ]
    }
   ],
   "source": [
    "install.packages(\"dplyr\")"
   ]
  },
  {
   "cell_type": "code",
   "execution_count": 64,
   "metadata": {
    "vscode": {
     "languageId": "r"
    }
   },
   "outputs": [
    {
     "name": "stderr",
     "output_type": "stream",
     "text": [
      "\n",
      "다음의 패키지를 부착합니다: ‘dplyr’\n",
      "\n",
      "\n",
      "The following objects are masked from ‘package:stats’:\n",
      "\n",
      "    filter, lag\n",
      "\n",
      "\n",
      "The following objects are masked from ‘package:base’:\n",
      "\n",
      "    intersect, setdiff, setequal, union\n",
      "\n",
      "\n"
     ]
    }
   ],
   "source": [
    "#데이터 정렬\n",
    "library(dplyr)"
   ]
  },
  {
   "cell_type": "code",
   "execution_count": 170,
   "metadata": {
    "vscode": {
     "languageId": "r"
    }
   },
   "outputs": [
    {
     "data": {
      "text/html": [
       "<table class=\"dataframe\">\n",
       "<caption>A data.frame: 6 x 5</caption>\n",
       "<thead>\n",
       "\t<tr><th></th><th scope=col>Sepal.Length</th><th scope=col>Sepal.Width</th><th scope=col>Petal.Length</th><th scope=col>Petal.Width</th><th scope=col>Species</th></tr>\n",
       "\t<tr><th></th><th scope=col>&lt;dbl&gt;</th><th scope=col>&lt;dbl&gt;</th><th scope=col>&lt;dbl&gt;</th><th scope=col>&lt;dbl&gt;</th><th scope=col>&lt;fct&gt;</th></tr>\n",
       "</thead>\n",
       "<tbody>\n",
       "\t<tr><th scope=row>1</th><td>4.3</td><td>3.0</td><td>1.1</td><td>0.1</td><td>setosa</td></tr>\n",
       "\t<tr><th scope=row>2</th><td>4.4</td><td>2.9</td><td>1.4</td><td>0.2</td><td>setosa</td></tr>\n",
       "\t<tr><th scope=row>3</th><td>4.4</td><td>3.0</td><td>1.3</td><td>0.2</td><td>setosa</td></tr>\n",
       "\t<tr><th scope=row>4</th><td>4.4</td><td>3.2</td><td>1.3</td><td>0.2</td><td>setosa</td></tr>\n",
       "\t<tr><th scope=row>5</th><td>4.5</td><td>2.3</td><td>1.3</td><td>0.3</td><td>setosa</td></tr>\n",
       "\t<tr><th scope=row>6</th><td>4.6</td><td>3.1</td><td>1.5</td><td>0.2</td><td>setosa</td></tr>\n",
       "</tbody>\n",
       "</table>\n"
      ],
      "text/latex": [
       "A data.frame: 6 x 5\n",
       "\\begin{tabular}{r|lllll}\n",
       "  & Sepal.Length & Sepal.Width & Petal.Length & Petal.Width & Species\\\\\n",
       "  & <dbl> & <dbl> & <dbl> & <dbl> & <fct>\\\\\n",
       "\\hline\n",
       "\t1 & 4.3 & 3.0 & 1.1 & 0.1 & setosa\\\\\n",
       "\t2 & 4.4 & 2.9 & 1.4 & 0.2 & setosa\\\\\n",
       "\t3 & 4.4 & 3.0 & 1.3 & 0.2 & setosa\\\\\n",
       "\t4 & 4.4 & 3.2 & 1.3 & 0.2 & setosa\\\\\n",
       "\t5 & 4.5 & 2.3 & 1.3 & 0.3 & setosa\\\\\n",
       "\t6 & 4.6 & 3.1 & 1.5 & 0.2 & setosa\\\\\n",
       "\\end{tabular}\n"
      ],
      "text/markdown": [
       "\n",
       "A data.frame: 6 x 5\n",
       "\n",
       "| <!--/--> | Sepal.Length &lt;dbl&gt; | Sepal.Width &lt;dbl&gt; | Petal.Length &lt;dbl&gt; | Petal.Width &lt;dbl&gt; | Species &lt;fct&gt; |\n",
       "|---|---|---|---|---|---|\n",
       "| 1 | 4.3 | 3.0 | 1.1 | 0.1 | setosa |\n",
       "| 2 | 4.4 | 2.9 | 1.4 | 0.2 | setosa |\n",
       "| 3 | 4.4 | 3.0 | 1.3 | 0.2 | setosa |\n",
       "| 4 | 4.4 | 3.2 | 1.3 | 0.2 | setosa |\n",
       "| 5 | 4.5 | 2.3 | 1.3 | 0.3 | setosa |\n",
       "| 6 | 4.6 | 3.1 | 1.5 | 0.2 | setosa |\n",
       "\n"
      ],
      "text/plain": [
       "  Sepal.Length Sepal.Width Petal.Length Petal.Width Species\n",
       "1 4.3          3.0         1.1          0.1         setosa \n",
       "2 4.4          2.9         1.4          0.2         setosa \n",
       "3 4.4          3.0         1.3          0.2         setosa \n",
       "4 4.4          3.2         1.3          0.2         setosa \n",
       "5 4.5          2.3         1.3          0.3         setosa \n",
       "6 4.6          3.1         1.5          0.2         setosa "
      ]
     },
     "metadata": {},
     "output_type": "display_data"
    }
   ],
   "source": [
    "head(arrange(iris, Sepal.Length))"
   ]
  },
  {
   "cell_type": "code",
   "execution_count": 175,
   "metadata": {
    "vscode": {
     "languageId": "r"
    }
   },
   "outputs": [
    {
     "data": {
      "text/html": [
       "<table class=\"dataframe\">\n",
       "<caption>A data.frame: 6 x 2</caption>\n",
       "<thead>\n",
       "\t<tr><th></th><th scope=col>Sepal.Length</th><th scope=col>Sepal.Width</th></tr>\n",
       "\t<tr><th></th><th scope=col>&lt;dbl&gt;</th><th scope=col>&lt;dbl&gt;</th></tr>\n",
       "</thead>\n",
       "<tbody>\n",
       "\t<tr><th scope=row>1</th><td>5.0</td><td>2.0</td></tr>\n",
       "\t<tr><th scope=row>2</th><td>6.0</td><td>2.2</td></tr>\n",
       "\t<tr><th scope=row>3</th><td>6.2</td><td>2.2</td></tr>\n",
       "\t<tr><th scope=row>4</th><td>6.0</td><td>2.2</td></tr>\n",
       "\t<tr><th scope=row>5</th><td>4.5</td><td>2.3</td></tr>\n",
       "\t<tr><th scope=row>6</th><td>5.5</td><td>2.3</td></tr>\n",
       "</tbody>\n",
       "</table>\n"
      ],
      "text/latex": [
       "A data.frame: 6 x 2\n",
       "\\begin{tabular}{r|ll}\n",
       "  & Sepal.Length & Sepal.Width\\\\\n",
       "  & <dbl> & <dbl>\\\\\n",
       "\\hline\n",
       "\t1 & 5.0 & 2.0\\\\\n",
       "\t2 & 6.0 & 2.2\\\\\n",
       "\t3 & 6.2 & 2.2\\\\\n",
       "\t4 & 6.0 & 2.2\\\\\n",
       "\t5 & 4.5 & 2.3\\\\\n",
       "\t6 & 5.5 & 2.3\\\\\n",
       "\\end{tabular}\n"
      ],
      "text/markdown": [
       "\n",
       "A data.frame: 6 x 2\n",
       "\n",
       "| <!--/--> | Sepal.Length &lt;dbl&gt; | Sepal.Width &lt;dbl&gt; |\n",
       "|---|---|---|\n",
       "| 1 | 5.0 | 2.0 |\n",
       "| 2 | 6.0 | 2.2 |\n",
       "| 3 | 6.2 | 2.2 |\n",
       "| 4 | 6.0 | 2.2 |\n",
       "| 5 | 4.5 | 2.3 |\n",
       "| 6 | 5.5 | 2.3 |\n",
       "\n"
      ],
      "text/plain": [
       "  Sepal.Length Sepal.Width\n",
       "1 5.0          2.0        \n",
       "2 6.0          2.2        \n",
       "3 6.2          2.2        \n",
       "4 6.0          2.2        \n",
       "5 4.5          2.3        \n",
       "6 5.5          2.3        "
      ]
     },
     "metadata": {},
     "output_type": "display_data"
    }
   ],
   "source": [
    "head(arrange(iris[,1:2], Sepal.Width))  # Petal.Width) #이건 에러!!"
   ]
  },
  {
   "cell_type": "code",
   "execution_count": 174,
   "metadata": {
    "vscode": {
     "languageId": "r"
    }
   },
   "outputs": [
    {
     "data": {
      "text/html": [
       "<table class=\"dataframe\">\n",
       "<caption>A data.frame: 6 x 5</caption>\n",
       "<thead>\n",
       "\t<tr><th></th><th scope=col>Sepal.Length</th><th scope=col>Sepal.Width</th><th scope=col>Petal.Length</th><th scope=col>Petal.Width</th><th scope=col>Species</th></tr>\n",
       "\t<tr><th></th><th scope=col>&lt;dbl&gt;</th><th scope=col>&lt;dbl&gt;</th><th scope=col>&lt;dbl&gt;</th><th scope=col>&lt;dbl&gt;</th><th scope=col>&lt;fct&gt;</th></tr>\n",
       "</thead>\n",
       "<tbody>\n",
       "\t<tr><th scope=row>1</th><td>4.3</td><td>3.0</td><td>1.1</td><td>0.1</td><td>setosa</td></tr>\n",
       "\t<tr><th scope=row>2</th><td>4.4</td><td>3.0</td><td>1.3</td><td>0.2</td><td>setosa</td></tr>\n",
       "\t<tr><th scope=row>3</th><td>4.4</td><td>3.2</td><td>1.3</td><td>0.2</td><td>setosa</td></tr>\n",
       "\t<tr><th scope=row>4</th><td>4.4</td><td>2.9</td><td>1.4</td><td>0.2</td><td>setosa</td></tr>\n",
       "\t<tr><th scope=row>5</th><td>4.5</td><td>2.3</td><td>1.3</td><td>0.3</td><td>setosa</td></tr>\n",
       "\t<tr><th scope=row>6</th><td>4.6</td><td>3.6</td><td>1.0</td><td>0.2</td><td>setosa</td></tr>\n",
       "</tbody>\n",
       "</table>\n"
      ],
      "text/latex": [
       "A data.frame: 6 x 5\n",
       "\\begin{tabular}{r|lllll}\n",
       "  & Sepal.Length & Sepal.Width & Petal.Length & Petal.Width & Species\\\\\n",
       "  & <dbl> & <dbl> & <dbl> & <dbl> & <fct>\\\\\n",
       "\\hline\n",
       "\t1 & 4.3 & 3.0 & 1.1 & 0.1 & setosa\\\\\n",
       "\t2 & 4.4 & 3.0 & 1.3 & 0.2 & setosa\\\\\n",
       "\t3 & 4.4 & 3.2 & 1.3 & 0.2 & setosa\\\\\n",
       "\t4 & 4.4 & 2.9 & 1.4 & 0.2 & setosa\\\\\n",
       "\t5 & 4.5 & 2.3 & 1.3 & 0.3 & setosa\\\\\n",
       "\t6 & 4.6 & 3.6 & 1.0 & 0.2 & setosa\\\\\n",
       "\\end{tabular}\n"
      ],
      "text/markdown": [
       "\n",
       "A data.frame: 6 x 5\n",
       "\n",
       "| <!--/--> | Sepal.Length &lt;dbl&gt; | Sepal.Width &lt;dbl&gt; | Petal.Length &lt;dbl&gt; | Petal.Width &lt;dbl&gt; | Species &lt;fct&gt; |\n",
       "|---|---|---|---|---|---|\n",
       "| 1 | 4.3 | 3.0 | 1.1 | 0.1 | setosa |\n",
       "| 2 | 4.4 | 3.0 | 1.3 | 0.2 | setosa |\n",
       "| 3 | 4.4 | 3.2 | 1.3 | 0.2 | setosa |\n",
       "| 4 | 4.4 | 2.9 | 1.4 | 0.2 | setosa |\n",
       "| 5 | 4.5 | 2.3 | 1.3 | 0.3 | setosa |\n",
       "| 6 | 4.6 | 3.6 | 1.0 | 0.2 | setosa |\n",
       "\n"
      ],
      "text/plain": [
       "  Sepal.Length Sepal.Width Petal.Length Petal.Width Species\n",
       "1 4.3          3.0         1.1          0.1         setosa \n",
       "2 4.4          3.0         1.3          0.2         setosa \n",
       "3 4.4          3.2         1.3          0.2         setosa \n",
       "4 4.4          2.9         1.4          0.2         setosa \n",
       "5 4.5          2.3         1.3          0.3         setosa \n",
       "6 4.6          3.6         1.0          0.2         setosa "
      ]
     },
     "metadata": {},
     "output_type": "display_data"
    }
   ],
   "source": [
    "head(arrange(iris, Sepal.Length, Petal.Length))"
   ]
  },
  {
   "cell_type": "code",
   "execution_count": 178,
   "metadata": {
    "vscode": {
     "languageId": "r"
    }
   },
   "outputs": [
    {
     "data": {
      "text/html": [
       "<table class=\"dataframe\">\n",
       "<caption>A data.frame: 6 x 5</caption>\n",
       "<thead>\n",
       "\t<tr><th></th><th scope=col>Sepal.Length</th><th scope=col>Sepal.Width</th><th scope=col>Petal.Length</th><th scope=col>Petal.Width</th><th scope=col>Species</th></tr>\n",
       "\t<tr><th></th><th scope=col>&lt;dbl&gt;</th><th scope=col>&lt;dbl&gt;</th><th scope=col>&lt;dbl&gt;</th><th scope=col>&lt;dbl&gt;</th><th scope=col>&lt;fct&gt;</th></tr>\n",
       "</thead>\n",
       "<tbody>\n",
       "\t<tr><th scope=row>1</th><td>7.9</td><td>3.8</td><td>6.4</td><td>2.0</td><td>virginica</td></tr>\n",
       "\t<tr><th scope=row>2</th><td>7.7</td><td>3.8</td><td>6.7</td><td>2.2</td><td>virginica</td></tr>\n",
       "\t<tr><th scope=row>3</th><td>7.7</td><td>2.6</td><td>6.9</td><td>2.3</td><td>virginica</td></tr>\n",
       "\t<tr><th scope=row>4</th><td>7.7</td><td>2.8</td><td>6.7</td><td>2.0</td><td>virginica</td></tr>\n",
       "\t<tr><th scope=row>5</th><td>7.7</td><td>3.0</td><td>6.1</td><td>2.3</td><td>virginica</td></tr>\n",
       "\t<tr><th scope=row>6</th><td>7.6</td><td>3.0</td><td>6.6</td><td>2.1</td><td>virginica</td></tr>\n",
       "</tbody>\n",
       "</table>\n"
      ],
      "text/latex": [
       "A data.frame: 6 x 5\n",
       "\\begin{tabular}{r|lllll}\n",
       "  & Sepal.Length & Sepal.Width & Petal.Length & Petal.Width & Species\\\\\n",
       "  & <dbl> & <dbl> & <dbl> & <dbl> & <fct>\\\\\n",
       "\\hline\n",
       "\t1 & 7.9 & 3.8 & 6.4 & 2.0 & virginica\\\\\n",
       "\t2 & 7.7 & 3.8 & 6.7 & 2.2 & virginica\\\\\n",
       "\t3 & 7.7 & 2.6 & 6.9 & 2.3 & virginica\\\\\n",
       "\t4 & 7.7 & 2.8 & 6.7 & 2.0 & virginica\\\\\n",
       "\t5 & 7.7 & 3.0 & 6.1 & 2.3 & virginica\\\\\n",
       "\t6 & 7.6 & 3.0 & 6.6 & 2.1 & virginica\\\\\n",
       "\\end{tabular}\n"
      ],
      "text/markdown": [
       "\n",
       "A data.frame: 6 x 5\n",
       "\n",
       "| <!--/--> | Sepal.Length &lt;dbl&gt; | Sepal.Width &lt;dbl&gt; | Petal.Length &lt;dbl&gt; | Petal.Width &lt;dbl&gt; | Species &lt;fct&gt; |\n",
       "|---|---|---|---|---|---|\n",
       "| 1 | 7.9 | 3.8 | 6.4 | 2.0 | virginica |\n",
       "| 2 | 7.7 | 3.8 | 6.7 | 2.2 | virginica |\n",
       "| 3 | 7.7 | 2.6 | 6.9 | 2.3 | virginica |\n",
       "| 4 | 7.7 | 2.8 | 6.7 | 2.0 | virginica |\n",
       "| 5 | 7.7 | 3.0 | 6.1 | 2.3 | virginica |\n",
       "| 6 | 7.6 | 3.0 | 6.6 | 2.1 | virginica |\n",
       "\n"
      ],
      "text/plain": [
       "  Sepal.Length Sepal.Width Petal.Length Petal.Width Species  \n",
       "1 7.9          3.8         6.4          2.0         virginica\n",
       "2 7.7          3.8         6.7          2.2         virginica\n",
       "3 7.7          2.6         6.9          2.3         virginica\n",
       "4 7.7          2.8         6.7          2.0         virginica\n",
       "5 7.7          3.0         6.1          2.3         virginica\n",
       "6 7.6          3.0         6.6          2.1         virginica"
      ]
     },
     "metadata": {},
     "output_type": "display_data"
    }
   ],
   "source": [
    "#내림차순\n",
    "head(arrange(iris, desc(Sepal.Length)))"
   ]
  },
  {
   "cell_type": "code",
   "execution_count": null,
   "metadata": {
    "vscode": {
     "languageId": "r"
    }
   },
   "outputs": [],
   "source": []
  },
  {
   "cell_type": "markdown",
   "metadata": {
    "vscode": {
     "languageId": "r"
    }
   },
   "source": [
    "Sampling"
   ]
  },
  {
   "cell_type": "code",
   "execution_count": 213,
   "metadata": {
    "vscode": {
     "languageId": "r"
    }
   },
   "outputs": [
    {
     "data": {
      "text/html": [
       "<style>\n",
       ".list-inline {list-style: none; margin:0; padding: 0}\n",
       ".list-inline>li {display: inline-block}\n",
       ".list-inline>li:not(:last-child)::after {content: \"\\00b7\"; padding: 0 .5ex}\n",
       "</style>\n",
       "<ol class=list-inline><li>49</li><li>65</li><li>25</li><li>74</li><li>18</li><li>100</li><li>47</li><li>24</li><li>71</li><li>89</li></ol>\n"
      ],
      "text/latex": [
       "\\begin{enumerate*}\n",
       "\\item 49\n",
       "\\item 65\n",
       "\\item 25\n",
       "\\item 74\n",
       "\\item 18\n",
       "\\item 100\n",
       "\\item 47\n",
       "\\item 24\n",
       "\\item 71\n",
       "\\item 89\n",
       "\\end{enumerate*}\n"
      ],
      "text/markdown": [
       "1. 49\n",
       "2. 65\n",
       "3. 25\n",
       "4. 74\n",
       "5. 18\n",
       "6. 100\n",
       "7. 47\n",
       "8. 24\n",
       "9. 71\n",
       "10. 89\n",
       "\n",
       "\n"
      ],
      "text/plain": [
       " [1]  49  65  25  74  18 100  47  24  71  89"
      ]
     },
     "metadata": {},
     "output_type": "display_data"
    },
    {
     "data": {
      "text/html": [
       "150"
      ],
      "text/latex": [
       "150"
      ],
      "text/markdown": [
       "150"
      ],
      "text/plain": [
       "[1] 150"
      ]
     },
     "metadata": {},
     "output_type": "display_data"
    }
   ],
   "source": [
    "set.seed(42)  #번호 맞춰줌 고정\n",
    "sample(1:100, 10)\n",
    "nrow(iris)  #iris데이터 개수"
   ]
  },
  {
   "cell_type": "code",
   "execution_count": 237,
   "metadata": {
    "vscode": {
     "languageId": "r"
    }
   },
   "outputs": [
    {
     "data": {
      "text/html": [
       "<style>\n",
       ".list-inline {list-style: none; margin:0; padding: 0}\n",
       ".list-inline>li {display: inline-block}\n",
       ".list-inline>li:not(:last-child)::after {content: \"\\00b7\"; padding: 0 .5ex}\n",
       "</style>\n",
       "<ol class=list-inline><li>49</li><li>65</li><li>74</li><li>146</li><li>122</li><li>150</li><li>128</li><li>47</li><li>24</li><li>71</li><li>100</li><li>89</li><li>110</li><li>20</li><li>114</li><li>111</li><li>131</li><li>41</li><li>139</li><li>27</li><li>109</li><li>5</li><li>84</li><li>34</li><li>92</li><li>104</li><li>3</li><li>58</li><li>97</li><li>42</li><li>142</li><li>30</li><li>43</li><li>15</li><li>22</li><li>123</li><li>8</li><li>36</li><li>68</li><li>86</li><li>18</li><li>130</li><li>126</li><li>69</li><li>4</li><li>98</li><li>50</li><li>99</li><li>88</li><li>87</li><li>145</li><li>26</li><li>6</li><li>105</li><li>2</li><li>124</li><li>21</li><li>96</li><li>115</li><li>10</li><li>40</li><li>129</li><li>33</li><li>140</li><li>73</li><li>29</li><li>76</li><li>9</li><li>35</li><li>16</li><li>107</li><li>93</li><li>120</li><li>138</li><li>80</li><li>55</li><li>90</li><li>94</li><li>57</li><li>121</li><li>77</li><li>13</li><li>53</li><li>54</li><li>32</li><li>60</li><li>85</li><li>17</li><li>44</li><li>83</li><li>72</li><li>135</li><li>118</li><li>149</li><li>48</li><li>136</li><li>64</li><li>38</li><li>1</li><li>144</li><li>14</li><li>132</li><li>61</li><li>81</li><li>103</li></ol>\n"
      ],
      "text/latex": [
       "\\begin{enumerate*}\n",
       "\\item 49\n",
       "\\item 65\n",
       "\\item 74\n",
       "\\item 146\n",
       "\\item 122\n",
       "\\item 150\n",
       "\\item 128\n",
       "\\item 47\n",
       "\\item 24\n",
       "\\item 71\n",
       "\\item 100\n",
       "\\item 89\n",
       "\\item 110\n",
       "\\item 20\n",
       "\\item 114\n",
       "\\item 111\n",
       "\\item 131\n",
       "\\item 41\n",
       "\\item 139\n",
       "\\item 27\n",
       "\\item 109\n",
       "\\item 5\n",
       "\\item 84\n",
       "\\item 34\n",
       "\\item 92\n",
       "\\item 104\n",
       "\\item 3\n",
       "\\item 58\n",
       "\\item 97\n",
       "\\item 42\n",
       "\\item 142\n",
       "\\item 30\n",
       "\\item 43\n",
       "\\item 15\n",
       "\\item 22\n",
       "\\item 123\n",
       "\\item 8\n",
       "\\item 36\n",
       "\\item 68\n",
       "\\item 86\n",
       "\\item 18\n",
       "\\item 130\n",
       "\\item 126\n",
       "\\item 69\n",
       "\\item 4\n",
       "\\item 98\n",
       "\\item 50\n",
       "\\item 99\n",
       "\\item 88\n",
       "\\item 87\n",
       "\\item 145\n",
       "\\item 26\n",
       "\\item 6\n",
       "\\item 105\n",
       "\\item 2\n",
       "\\item 124\n",
       "\\item 21\n",
       "\\item 96\n",
       "\\item 115\n",
       "\\item 10\n",
       "\\item 40\n",
       "\\item 129\n",
       "\\item 33\n",
       "\\item 140\n",
       "\\item 73\n",
       "\\item 29\n",
       "\\item 76\n",
       "\\item 9\n",
       "\\item 35\n",
       "\\item 16\n",
       "\\item 107\n",
       "\\item 93\n",
       "\\item 120\n",
       "\\item 138\n",
       "\\item 80\n",
       "\\item 55\n",
       "\\item 90\n",
       "\\item 94\n",
       "\\item 57\n",
       "\\item 121\n",
       "\\item 77\n",
       "\\item 13\n",
       "\\item 53\n",
       "\\item 54\n",
       "\\item 32\n",
       "\\item 60\n",
       "\\item 85\n",
       "\\item 17\n",
       "\\item 44\n",
       "\\item 83\n",
       "\\item 72\n",
       "\\item 135\n",
       "\\item 118\n",
       "\\item 149\n",
       "\\item 48\n",
       "\\item 136\n",
       "\\item 64\n",
       "\\item 38\n",
       "\\item 1\n",
       "\\item 144\n",
       "\\item 14\n",
       "\\item 132\n",
       "\\item 61\n",
       "\\item 81\n",
       "\\item 103\n",
       "\\end{enumerate*}\n"
      ],
      "text/markdown": [
       "1. 49\n",
       "2. 65\n",
       "3. 74\n",
       "4. 146\n",
       "5. 122\n",
       "6. 150\n",
       "7. 128\n",
       "8. 47\n",
       "9. 24\n",
       "10. 71\n",
       "11. 100\n",
       "12. 89\n",
       "13. 110\n",
       "14. 20\n",
       "15. 114\n",
       "16. 111\n",
       "17. 131\n",
       "18. 41\n",
       "19. 139\n",
       "20. 27\n",
       "21. 109\n",
       "22. 5\n",
       "23. 84\n",
       "24. 34\n",
       "25. 92\n",
       "26. 104\n",
       "27. 3\n",
       "28. 58\n",
       "29. 97\n",
       "30. 42\n",
       "31. 142\n",
       "32. 30\n",
       "33. 43\n",
       "34. 15\n",
       "35. 22\n",
       "36. 123\n",
       "37. 8\n",
       "38. 36\n",
       "39. 68\n",
       "40. 86\n",
       "41. 18\n",
       "42. 130\n",
       "43. 126\n",
       "44. 69\n",
       "45. 4\n",
       "46. 98\n",
       "47. 50\n",
       "48. 99\n",
       "49. 88\n",
       "50. 87\n",
       "51. 145\n",
       "52. 26\n",
       "53. 6\n",
       "54. 105\n",
       "55. 2\n",
       "56. 124\n",
       "57. 21\n",
       "58. 96\n",
       "59. 115\n",
       "60. 10\n",
       "61. 40\n",
       "62. 129\n",
       "63. 33\n",
       "64. 140\n",
       "65. 73\n",
       "66. 29\n",
       "67. 76\n",
       "68. 9\n",
       "69. 35\n",
       "70. 16\n",
       "71. 107\n",
       "72. 93\n",
       "73. 120\n",
       "74. 138\n",
       "75. 80\n",
       "76. 55\n",
       "77. 90\n",
       "78. 94\n",
       "79. 57\n",
       "80. 121\n",
       "81. 77\n",
       "82. 13\n",
       "83. 53\n",
       "84. 54\n",
       "85. 32\n",
       "86. 60\n",
       "87. 85\n",
       "88. 17\n",
       "89. 44\n",
       "90. 83\n",
       "91. 72\n",
       "92. 135\n",
       "93. 118\n",
       "94. 149\n",
       "95. 48\n",
       "96. 136\n",
       "97. 64\n",
       "98. 38\n",
       "99. 1\n",
       "100. 144\n",
       "101. 14\n",
       "102. 132\n",
       "103. 61\n",
       "104. 81\n",
       "105. 103\n",
       "\n",
       "\n"
      ],
      "text/plain": [
       "  [1]  49  65  74 146 122 150 128  47  24  71 100  89 110  20 114 111 131  41\n",
       " [19] 139  27 109   5  84  34  92 104   3  58  97  42 142  30  43  15  22 123\n",
       " [37]   8  36  68  86  18 130 126  69   4  98  50  99  88  87 145  26   6 105\n",
       " [55]   2 124  21  96 115  10  40 129  33 140  73  29  76   9  35  16 107  93\n",
       " [73] 120 138  80  55  90  94  57 121  77  13  53  54  32  60  85  17  44  83\n",
       " [91]  72 135 118 149  48 136  64  38   1 144  14 132  61  81 103"
      ]
     },
     "metadata": {},
     "output_type": "display_data"
    }
   ],
   "source": [
    "set.seed(42) \n",
    "samp <- sample(1:nrow(iris), nrow(iris)*0.7)\n",
    "samp\n"
   ]
  },
  {
   "cell_type": "code",
   "execution_count": 215,
   "metadata": {
    "vscode": {
     "languageId": "r"
    }
   },
   "outputs": [
    {
     "data": {
      "text/html": [
       "<table class=\"dataframe\">\n",
       "<caption>A data.frame: 6 x 5</caption>\n",
       "<thead>\n",
       "\t<tr><th></th><th scope=col>Sepal.Length</th><th scope=col>Sepal.Width</th><th scope=col>Petal.Length</th><th scope=col>Petal.Width</th><th scope=col>Species</th></tr>\n",
       "\t<tr><th></th><th scope=col>&lt;dbl&gt;</th><th scope=col>&lt;dbl&gt;</th><th scope=col>&lt;dbl&gt;</th><th scope=col>&lt;dbl&gt;</th><th scope=col>&lt;fct&gt;</th></tr>\n",
       "</thead>\n",
       "<tbody>\n",
       "\t<tr><th scope=row>49</th><td>5.3</td><td>3.7</td><td>1.5</td><td>0.2</td><td>setosa    </td></tr>\n",
       "\t<tr><th scope=row>65</th><td>5.6</td><td>2.9</td><td>3.6</td><td>1.3</td><td>versicolor</td></tr>\n",
       "\t<tr><th scope=row>74</th><td>6.1</td><td>2.8</td><td>4.7</td><td>1.2</td><td>versicolor</td></tr>\n",
       "\t<tr><th scope=row>146</th><td>6.7</td><td>3.0</td><td>5.2</td><td>2.3</td><td>virginica </td></tr>\n",
       "\t<tr><th scope=row>122</th><td>5.6</td><td>2.8</td><td>4.9</td><td>2.0</td><td>virginica </td></tr>\n",
       "\t<tr><th scope=row>150</th><td>5.9</td><td>3.0</td><td>5.1</td><td>1.8</td><td>virginica </td></tr>\n",
       "</tbody>\n",
       "</table>\n"
      ],
      "text/latex": [
       "A data.frame: 6 x 5\n",
       "\\begin{tabular}{r|lllll}\n",
       "  & Sepal.Length & Sepal.Width & Petal.Length & Petal.Width & Species\\\\\n",
       "  & <dbl> & <dbl> & <dbl> & <dbl> & <fct>\\\\\n",
       "\\hline\n",
       "\t49 & 5.3 & 3.7 & 1.5 & 0.2 & setosa    \\\\\n",
       "\t65 & 5.6 & 2.9 & 3.6 & 1.3 & versicolor\\\\\n",
       "\t74 & 6.1 & 2.8 & 4.7 & 1.2 & versicolor\\\\\n",
       "\t146 & 6.7 & 3.0 & 5.2 & 2.3 & virginica \\\\\n",
       "\t122 & 5.6 & 2.8 & 4.9 & 2.0 & virginica \\\\\n",
       "\t150 & 5.9 & 3.0 & 5.1 & 1.8 & virginica \\\\\n",
       "\\end{tabular}\n"
      ],
      "text/markdown": [
       "\n",
       "A data.frame: 6 x 5\n",
       "\n",
       "| <!--/--> | Sepal.Length &lt;dbl&gt; | Sepal.Width &lt;dbl&gt; | Petal.Length &lt;dbl&gt; | Petal.Width &lt;dbl&gt; | Species &lt;fct&gt; |\n",
       "|---|---|---|---|---|---|\n",
       "| 49 | 5.3 | 3.7 | 1.5 | 0.2 | setosa     |\n",
       "| 65 | 5.6 | 2.9 | 3.6 | 1.3 | versicolor |\n",
       "| 74 | 6.1 | 2.8 | 4.7 | 1.2 | versicolor |\n",
       "| 146 | 6.7 | 3.0 | 5.2 | 2.3 | virginica  |\n",
       "| 122 | 5.6 | 2.8 | 4.9 | 2.0 | virginica  |\n",
       "| 150 | 5.9 | 3.0 | 5.1 | 1.8 | virginica  |\n",
       "\n"
      ],
      "text/plain": [
       "    Sepal.Length Sepal.Width Petal.Length Petal.Width Species   \n",
       "49  5.3          3.7         1.5          0.2         setosa    \n",
       "65  5.6          2.9         3.6          1.3         versicolor\n",
       "74  6.1          2.8         4.7          1.2         versicolor\n",
       "146 6.7          3.0         5.2          2.3         virginica \n",
       "122 5.6          2.8         4.9          2.0         virginica \n",
       "150 5.9          3.0         5.1          1.8         virginica "
      ]
     },
     "metadata": {},
     "output_type": "display_data"
    }
   ],
   "source": [
    "irisSamp <- iris[samp,]\n",
    "head(irisSamp)"
   ]
  },
  {
   "cell_type": "code",
   "execution_count": 223,
   "metadata": {
    "vscode": {
     "languageId": "r"
    }
   },
   "outputs": [
    {
     "data": {
      "text/plain": [
       "\n",
       "    setosa versicolor  virginica \n",
       "        38         35         32 "
      ]
     },
     "metadata": {},
     "output_type": "display_data"
    }
   ],
   "source": [
    "# Sampling 검증\n",
    "table(irisSamp$Species)"
   ]
  },
  {
   "cell_type": "code",
   "execution_count": 241,
   "metadata": {
    "vscode": {
     "languageId": "r"
    }
   },
   "outputs": [
    {
     "data": {
      "text/html": [
       "<style>\n",
       ".list-inline {list-style: none; margin:0; padding: 0}\n",
       ".list-inline>li {display: inline-block}\n",
       ".list-inline>li:not(:last-child)::after {content: \"\\00b7\"; padding: 0 .5ex}\n",
       "</style>\n",
       "<ol class=list-inline><li>49</li><li>37</li><li>1</li><li>25</li><li>10</li><li>36</li><li>18</li><li>24</li><li>7</li><li>45</li><li>47</li><li>50</li><li>20</li><li>26</li><li>3</li><li>40</li><li>27</li><li>31</li><li>13</li><li>5</li><li>38</li><li>2</li><li>28</li><li>8</li><li>41</li><li>48</li><li>46</li><li>11</li><li>15</li><li>34</li><li>4</li><li>30</li><li>44</li><li>32</li><li>12</li></ol>\n"
      ],
      "text/latex": [
       "\\begin{enumerate*}\n",
       "\\item 49\n",
       "\\item 37\n",
       "\\item 1\n",
       "\\item 25\n",
       "\\item 10\n",
       "\\item 36\n",
       "\\item 18\n",
       "\\item 24\n",
       "\\item 7\n",
       "\\item 45\n",
       "\\item 47\n",
       "\\item 50\n",
       "\\item 20\n",
       "\\item 26\n",
       "\\item 3\n",
       "\\item 40\n",
       "\\item 27\n",
       "\\item 31\n",
       "\\item 13\n",
       "\\item 5\n",
       "\\item 38\n",
       "\\item 2\n",
       "\\item 28\n",
       "\\item 8\n",
       "\\item 41\n",
       "\\item 48\n",
       "\\item 46\n",
       "\\item 11\n",
       "\\item 15\n",
       "\\item 34\n",
       "\\item 4\n",
       "\\item 30\n",
       "\\item 44\n",
       "\\item 32\n",
       "\\item 12\n",
       "\\end{enumerate*}\n"
      ],
      "text/markdown": [
       "1. 49\n",
       "2. 37\n",
       "3. 1\n",
       "4. 25\n",
       "5. 10\n",
       "6. 36\n",
       "7. 18\n",
       "8. 24\n",
       "9. 7\n",
       "10. 45\n",
       "11. 47\n",
       "12. 50\n",
       "13. 20\n",
       "14. 26\n",
       "15. 3\n",
       "16. 40\n",
       "17. 27\n",
       "18. 31\n",
       "19. 13\n",
       "20. 5\n",
       "21. 38\n",
       "22. 2\n",
       "23. 28\n",
       "24. 8\n",
       "25. 41\n",
       "26. 48\n",
       "27. 46\n",
       "28. 11\n",
       "29. 15\n",
       "30. 34\n",
       "31. 4\n",
       "32. 30\n",
       "33. 44\n",
       "34. 32\n",
       "35. 12\n",
       "\n",
       "\n"
      ],
      "text/plain": [
       " [1] 49 37  1 25 10 36 18 24  7 45 47 50 20 26  3 40 27 31 13  5 38  2 28  8 41\n",
       "[26] 48 46 11 15 34  4 30 44 32 12"
      ]
     },
     "metadata": {},
     "output_type": "display_data"
    },
    {
     "data": {
      "text/html": [
       "<style>\n",
       ".list-inline {list-style: none; margin:0; padding: 0}\n",
       ".list-inline>li {display: inline-block}\n",
       ".list-inline>li:not(:last-child)::after {content: \"\\00b7\"; padding: 0 .5ex}\n",
       "</style>\n",
       "<ol class=list-inline><li>55</li><li>54</li><li>84</li><li>85</li><li>74</li><li>73</li><li>76</li><li>56</li><li>93</li><li>52</li><li>53</li><li>71</li><li>91</li><li>60</li><li>100</li><li>83</li><li>59</li><li>79</li><li>62</li><li>70</li><li>98</li><li>61</li><li>90</li><li>66</li><li>86</li><li>96</li><li>64</li><li>94</li><li>72</li><li>88</li><li>68</li><li>67</li><li>81</li><li>95</li><li>75</li></ol>\n"
      ],
      "text/latex": [
       "\\begin{enumerate*}\n",
       "\\item 55\n",
       "\\item 54\n",
       "\\item 84\n",
       "\\item 85\n",
       "\\item 74\n",
       "\\item 73\n",
       "\\item 76\n",
       "\\item 56\n",
       "\\item 93\n",
       "\\item 52\n",
       "\\item 53\n",
       "\\item 71\n",
       "\\item 91\n",
       "\\item 60\n",
       "\\item 100\n",
       "\\item 83\n",
       "\\item 59\n",
       "\\item 79\n",
       "\\item 62\n",
       "\\item 70\n",
       "\\item 98\n",
       "\\item 61\n",
       "\\item 90\n",
       "\\item 66\n",
       "\\item 86\n",
       "\\item 96\n",
       "\\item 64\n",
       "\\item 94\n",
       "\\item 72\n",
       "\\item 88\n",
       "\\item 68\n",
       "\\item 67\n",
       "\\item 81\n",
       "\\item 95\n",
       "\\item 75\n",
       "\\end{enumerate*}\n"
      ],
      "text/markdown": [
       "1. 55\n",
       "2. 54\n",
       "3. 84\n",
       "4. 85\n",
       "5. 74\n",
       "6. 73\n",
       "7. 76\n",
       "8. 56\n",
       "9. 93\n",
       "10. 52\n",
       "11. 53\n",
       "12. 71\n",
       "13. 91\n",
       "14. 60\n",
       "15. 100\n",
       "16. 83\n",
       "17. 59\n",
       "18. 79\n",
       "19. 62\n",
       "20. 70\n",
       "21. 98\n",
       "22. 61\n",
       "23. 90\n",
       "24. 66\n",
       "25. 86\n",
       "26. 96\n",
       "27. 64\n",
       "28. 94\n",
       "29. 72\n",
       "30. 88\n",
       "31. 68\n",
       "32. 67\n",
       "33. 81\n",
       "34. 95\n",
       "35. 75\n",
       "\n",
       "\n"
      ],
      "text/plain": [
       " [1]  55  54  84  85  74  73  76  56  93  52  53  71  91  60 100  83  59  79  62\n",
       "[20]  70  98  61  90  66  86  96  64  94  72  88  68  67  81  95  75"
      ]
     },
     "metadata": {},
     "output_type": "display_data"
    },
    {
     "data": {
      "text/html": [
       "<style>\n",
       ".list-inline {list-style: none; margin:0; padding: 0}\n",
       ".list-inline>li {display: inline-block}\n",
       ".list-inline>li:not(:last-child)::after {content: \"\\00b7\"; padding: 0 .5ex}\n",
       "</style>\n",
       "<ol class=list-inline><li>140</li><li>150</li><li>121</li><li>136</li><li>147</li><li>139</li><li>142</li><li>118</li><li>127</li><li>113</li><li>119</li><li>132</li><li>116</li><li>129</li><li>117</li><li>109</li><li>148</li><li>108</li><li>137</li><li>123</li><li>106</li><li>101</li><li>141</li><li>114</li><li>105</li><li>135</li><li>131</li><li>138</li><li>111</li><li>110</li><li>134</li><li>145</li><li>146</li><li>144</li><li>143</li></ol>\n"
      ],
      "text/latex": [
       "\\begin{enumerate*}\n",
       "\\item 140\n",
       "\\item 150\n",
       "\\item 121\n",
       "\\item 136\n",
       "\\item 147\n",
       "\\item 139\n",
       "\\item 142\n",
       "\\item 118\n",
       "\\item 127\n",
       "\\item 113\n",
       "\\item 119\n",
       "\\item 132\n",
       "\\item 116\n",
       "\\item 129\n",
       "\\item 117\n",
       "\\item 109\n",
       "\\item 148\n",
       "\\item 108\n",
       "\\item 137\n",
       "\\item 123\n",
       "\\item 106\n",
       "\\item 101\n",
       "\\item 141\n",
       "\\item 114\n",
       "\\item 105\n",
       "\\item 135\n",
       "\\item 131\n",
       "\\item 138\n",
       "\\item 111\n",
       "\\item 110\n",
       "\\item 134\n",
       "\\item 145\n",
       "\\item 146\n",
       "\\item 144\n",
       "\\item 143\n",
       "\\end{enumerate*}\n"
      ],
      "text/markdown": [
       "1. 140\n",
       "2. 150\n",
       "3. 121\n",
       "4. 136\n",
       "5. 147\n",
       "6. 139\n",
       "7. 142\n",
       "8. 118\n",
       "9. 127\n",
       "10. 113\n",
       "11. 119\n",
       "12. 132\n",
       "13. 116\n",
       "14. 129\n",
       "15. 117\n",
       "16. 109\n",
       "17. 148\n",
       "18. 108\n",
       "19. 137\n",
       "20. 123\n",
       "21. 106\n",
       "22. 101\n",
       "23. 141\n",
       "24. 114\n",
       "25. 105\n",
       "26. 135\n",
       "27. 131\n",
       "28. 138\n",
       "29. 111\n",
       "30. 110\n",
       "31. 134\n",
       "32. 145\n",
       "33. 146\n",
       "34. 144\n",
       "35. 143\n",
       "\n",
       "\n"
      ],
      "text/plain": [
       " [1] 140 150 121 136 147 139 142 118 127 113 119 132 116 129 117 109 148 108 137\n",
       "[20] 123 106 101 141 114 105 135 131 138 111 110 134 145 146 144 143"
      ]
     },
     "metadata": {},
     "output_type": "display_data"
    }
   ],
   "source": [
    "set.seed(42) \n",
    "sample(1:50, 35)\n",
    "sample(51:100, 35)\n",
    "sample(101:150, 35)\n",
    "\n",
    "samp <- c(sample(1:50, 35), sample(51:100, 35), sample(101:150, 35))\n"
   ]
  },
  {
   "cell_type": "code",
   "execution_count": 242,
   "metadata": {
    "vscode": {
     "languageId": "r"
    }
   },
   "outputs": [
    {
     "data": {
      "text/html": [
       "<table class=\"dataframe\">\n",
       "<caption>A data.frame: 6 x 5</caption>\n",
       "<thead>\n",
       "\t<tr><th></th><th scope=col>Sepal.Length</th><th scope=col>Sepal.Width</th><th scope=col>Petal.Length</th><th scope=col>Petal.Width</th><th scope=col>Species</th></tr>\n",
       "\t<tr><th></th><th scope=col>&lt;dbl&gt;</th><th scope=col>&lt;dbl&gt;</th><th scope=col>&lt;dbl&gt;</th><th scope=col>&lt;dbl&gt;</th><th scope=col>&lt;fct&gt;</th></tr>\n",
       "</thead>\n",
       "<tbody>\n",
       "\t<tr><th scope=row>47</th><td>5.1</td><td>3.8</td><td>1.6</td><td>0.2</td><td>setosa</td></tr>\n",
       "\t<tr><th scope=row>6</th><td>5.4</td><td>3.9</td><td>1.7</td><td>0.4</td><td>setosa</td></tr>\n",
       "\t<tr><th scope=row>50</th><td>5.0</td><td>3.3</td><td>1.4</td><td>0.2</td><td>setosa</td></tr>\n",
       "\t<tr><th scope=row>43</th><td>4.4</td><td>3.2</td><td>1.3</td><td>0.2</td><td>setosa</td></tr>\n",
       "\t<tr><th scope=row>37</th><td>5.5</td><td>3.5</td><td>1.3</td><td>0.2</td><td>setosa</td></tr>\n",
       "\t<tr><th scope=row>16</th><td>5.7</td><td>4.4</td><td>1.5</td><td>0.4</td><td>setosa</td></tr>\n",
       "</tbody>\n",
       "</table>\n"
      ],
      "text/latex": [
       "A data.frame: 6 x 5\n",
       "\\begin{tabular}{r|lllll}\n",
       "  & Sepal.Length & Sepal.Width & Petal.Length & Petal.Width & Species\\\\\n",
       "  & <dbl> & <dbl> & <dbl> & <dbl> & <fct>\\\\\n",
       "\\hline\n",
       "\t47 & 5.1 & 3.8 & 1.6 & 0.2 & setosa\\\\\n",
       "\t6 & 5.4 & 3.9 & 1.7 & 0.4 & setosa\\\\\n",
       "\t50 & 5.0 & 3.3 & 1.4 & 0.2 & setosa\\\\\n",
       "\t43 & 4.4 & 3.2 & 1.3 & 0.2 & setosa\\\\\n",
       "\t37 & 5.5 & 3.5 & 1.3 & 0.2 & setosa\\\\\n",
       "\t16 & 5.7 & 4.4 & 1.5 & 0.4 & setosa\\\\\n",
       "\\end{tabular}\n"
      ],
      "text/markdown": [
       "\n",
       "A data.frame: 6 x 5\n",
       "\n",
       "| <!--/--> | Sepal.Length &lt;dbl&gt; | Sepal.Width &lt;dbl&gt; | Petal.Length &lt;dbl&gt; | Petal.Width &lt;dbl&gt; | Species &lt;fct&gt; |\n",
       "|---|---|---|---|---|---|\n",
       "| 47 | 5.1 | 3.8 | 1.6 | 0.2 | setosa |\n",
       "| 6 | 5.4 | 3.9 | 1.7 | 0.4 | setosa |\n",
       "| 50 | 5.0 | 3.3 | 1.4 | 0.2 | setosa |\n",
       "| 43 | 4.4 | 3.2 | 1.3 | 0.2 | setosa |\n",
       "| 37 | 5.5 | 3.5 | 1.3 | 0.2 | setosa |\n",
       "| 16 | 5.7 | 4.4 | 1.5 | 0.4 | setosa |\n",
       "\n"
      ],
      "text/plain": [
       "   Sepal.Length Sepal.Width Petal.Length Petal.Width Species\n",
       "47 5.1          3.8         1.6          0.2         setosa \n",
       "6  5.4          3.9         1.7          0.4         setosa \n",
       "50 5.0          3.3         1.4          0.2         setosa \n",
       "43 4.4          3.2         1.3          0.2         setosa \n",
       "37 5.5          3.5         1.3          0.2         setosa \n",
       "16 5.7          4.4         1.5          0.4         setosa "
      ]
     },
     "metadata": {},
     "output_type": "display_data"
    }
   ],
   "source": [
    "irisSamp <- iris[samp,]\n",
    "head(irisSamp)"
   ]
  },
  {
   "cell_type": "code",
   "execution_count": null,
   "metadata": {
    "vscode": {
     "languageId": "r"
    }
   },
   "outputs": [],
   "source": []
  },
  {
   "cell_type": "code",
   "execution_count": 243,
   "metadata": {
    "vscode": {
     "languageId": "r"
    }
   },
   "outputs": [
    {
     "data": {
      "text/plain": [
       "\n",
       "    setosa versicolor  virginica \n",
       "        35         35         35 "
      ]
     },
     "metadata": {},
     "output_type": "display_data"
    }
   ],
   "source": [
    "# Sampling 검증\n",
    "table(irisSamp$Species)"
   ]
  },
  {
   "cell_type": "code",
   "execution_count": 244,
   "metadata": {
    "vscode": {
     "languageId": "r"
    }
   },
   "outputs": [
    {
     "data": {
      "text/html": [
       "<table class=\"dataframe\">\n",
       "<caption>A data.frame: 6 x 5</caption>\n",
       "<thead>\n",
       "\t<tr><th></th><th scope=col>Sepal.Length</th><th scope=col>Sepal.Width</th><th scope=col>Petal.Length</th><th scope=col>Petal.Width</th><th scope=col>Species</th></tr>\n",
       "\t<tr><th></th><th scope=col>&lt;dbl&gt;</th><th scope=col>&lt;dbl&gt;</th><th scope=col>&lt;dbl&gt;</th><th scope=col>&lt;dbl&gt;</th><th scope=col>&lt;fct&gt;</th></tr>\n",
       "</thead>\n",
       "<tbody>\n",
       "\t<tr><th scope=row>47</th><td>5.1</td><td>3.8</td><td>1.6</td><td>0.2</td><td>setosa</td></tr>\n",
       "\t<tr><th scope=row>6</th><td>5.4</td><td>3.9</td><td>1.7</td><td>0.4</td><td>setosa</td></tr>\n",
       "\t<tr><th scope=row>50</th><td>5.0</td><td>3.3</td><td>1.4</td><td>0.2</td><td>setosa</td></tr>\n",
       "\t<tr><th scope=row>43</th><td>4.4</td><td>3.2</td><td>1.3</td><td>0.2</td><td>setosa</td></tr>\n",
       "\t<tr><th scope=row>37</th><td>5.5</td><td>3.5</td><td>1.3</td><td>0.2</td><td>setosa</td></tr>\n",
       "\t<tr><th scope=row>16</th><td>5.7</td><td>4.4</td><td>1.5</td><td>0.4</td><td>setosa</td></tr>\n",
       "</tbody>\n",
       "</table>\n"
      ],
      "text/latex": [
       "A data.frame: 6 x 5\n",
       "\\begin{tabular}{r|lllll}\n",
       "  & Sepal.Length & Sepal.Width & Petal.Length & Petal.Width & Species\\\\\n",
       "  & <dbl> & <dbl> & <dbl> & <dbl> & <fct>\\\\\n",
       "\\hline\n",
       "\t47 & 5.1 & 3.8 & 1.6 & 0.2 & setosa\\\\\n",
       "\t6 & 5.4 & 3.9 & 1.7 & 0.4 & setosa\\\\\n",
       "\t50 & 5.0 & 3.3 & 1.4 & 0.2 & setosa\\\\\n",
       "\t43 & 4.4 & 3.2 & 1.3 & 0.2 & setosa\\\\\n",
       "\t37 & 5.5 & 3.5 & 1.3 & 0.2 & setosa\\\\\n",
       "\t16 & 5.7 & 4.4 & 1.5 & 0.4 & setosa\\\\\n",
       "\\end{tabular}\n"
      ],
      "text/markdown": [
       "\n",
       "A data.frame: 6 x 5\n",
       "\n",
       "| <!--/--> | Sepal.Length &lt;dbl&gt; | Sepal.Width &lt;dbl&gt; | Petal.Length &lt;dbl&gt; | Petal.Width &lt;dbl&gt; | Species &lt;fct&gt; |\n",
       "|---|---|---|---|---|---|\n",
       "| 47 | 5.1 | 3.8 | 1.6 | 0.2 | setosa |\n",
       "| 6 | 5.4 | 3.9 | 1.7 | 0.4 | setosa |\n",
       "| 50 | 5.0 | 3.3 | 1.4 | 0.2 | setosa |\n",
       "| 43 | 4.4 | 3.2 | 1.3 | 0.2 | setosa |\n",
       "| 37 | 5.5 | 3.5 | 1.3 | 0.2 | setosa |\n",
       "| 16 | 5.7 | 4.4 | 1.5 | 0.4 | setosa |\n",
       "\n"
      ],
      "text/plain": [
       "   Sepal.Length Sepal.Width Petal.Length Petal.Width Species\n",
       "47 5.1          3.8         1.6          0.2         setosa \n",
       "6  5.4          3.9         1.7          0.4         setosa \n",
       "50 5.0          3.3         1.4          0.2         setosa \n",
       "43 4.4          3.2         1.3          0.2         setosa \n",
       "37 5.5          3.5         1.3          0.2         setosa \n",
       "16 5.7          4.4         1.5          0.4         setosa "
      ]
     },
     "metadata": {},
     "output_type": "display_data"
    }
   ],
   "source": [
    "iris.train <-iris[samp,]\n",
    "head(iris.train)"
   ]
  },
  {
   "cell_type": "code",
   "execution_count": 245,
   "metadata": {
    "vscode": {
     "languageId": "r"
    }
   },
   "outputs": [
    {
     "data": {
      "text/html": [
       "<table class=\"dataframe\">\n",
       "<caption>A data.frame: 6 x 5</caption>\n",
       "<thead>\n",
       "\t<tr><th></th><th scope=col>Sepal.Length</th><th scope=col>Sepal.Width</th><th scope=col>Petal.Length</th><th scope=col>Petal.Width</th><th scope=col>Species</th></tr>\n",
       "\t<tr><th></th><th scope=col>&lt;dbl&gt;</th><th scope=col>&lt;dbl&gt;</th><th scope=col>&lt;dbl&gt;</th><th scope=col>&lt;dbl&gt;</th><th scope=col>&lt;fct&gt;</th></tr>\n",
       "</thead>\n",
       "<tbody>\n",
       "\t<tr><th scope=row>47</th><td>5.1</td><td>3.8</td><td>1.6</td><td>0.2</td><td>setosa</td></tr>\n",
       "\t<tr><th scope=row>6</th><td>5.4</td><td>3.9</td><td>1.7</td><td>0.4</td><td>setosa</td></tr>\n",
       "\t<tr><th scope=row>50</th><td>5.0</td><td>3.3</td><td>1.4</td><td>0.2</td><td>setosa</td></tr>\n",
       "\t<tr><th scope=row>43</th><td>4.4</td><td>3.2</td><td>1.3</td><td>0.2</td><td>setosa</td></tr>\n",
       "\t<tr><th scope=row>37</th><td>5.5</td><td>3.5</td><td>1.3</td><td>0.2</td><td>setosa</td></tr>\n",
       "\t<tr><th scope=row>16</th><td>5.7</td><td>4.4</td><td>1.5</td><td>0.4</td><td>setosa</td></tr>\n",
       "</tbody>\n",
       "</table>\n"
      ],
      "text/latex": [
       "A data.frame: 6 x 5\n",
       "\\begin{tabular}{r|lllll}\n",
       "  & Sepal.Length & Sepal.Width & Petal.Length & Petal.Width & Species\\\\\n",
       "  & <dbl> & <dbl> & <dbl> & <dbl> & <fct>\\\\\n",
       "\\hline\n",
       "\t47 & 5.1 & 3.8 & 1.6 & 0.2 & setosa\\\\\n",
       "\t6 & 5.4 & 3.9 & 1.7 & 0.4 & setosa\\\\\n",
       "\t50 & 5.0 & 3.3 & 1.4 & 0.2 & setosa\\\\\n",
       "\t43 & 4.4 & 3.2 & 1.3 & 0.2 & setosa\\\\\n",
       "\t37 & 5.5 & 3.5 & 1.3 & 0.2 & setosa\\\\\n",
       "\t16 & 5.7 & 4.4 & 1.5 & 0.4 & setosa\\\\\n",
       "\\end{tabular}\n"
      ],
      "text/markdown": [
       "\n",
       "A data.frame: 6 x 5\n",
       "\n",
       "| <!--/--> | Sepal.Length &lt;dbl&gt; | Sepal.Width &lt;dbl&gt; | Petal.Length &lt;dbl&gt; | Petal.Width &lt;dbl&gt; | Species &lt;fct&gt; |\n",
       "|---|---|---|---|---|---|\n",
       "| 47 | 5.1 | 3.8 | 1.6 | 0.2 | setosa |\n",
       "| 6 | 5.4 | 3.9 | 1.7 | 0.4 | setosa |\n",
       "| 50 | 5.0 | 3.3 | 1.4 | 0.2 | setosa |\n",
       "| 43 | 4.4 | 3.2 | 1.3 | 0.2 | setosa |\n",
       "| 37 | 5.5 | 3.5 | 1.3 | 0.2 | setosa |\n",
       "| 16 | 5.7 | 4.4 | 1.5 | 0.4 | setosa |\n",
       "\n"
      ],
      "text/plain": [
       "   Sepal.Length Sepal.Width Petal.Length Petal.Width Species\n",
       "47 5.1          3.8         1.6          0.2         setosa \n",
       "6  5.4          3.9         1.7          0.4         setosa \n",
       "50 5.0          3.3         1.4          0.2         setosa \n",
       "43 4.4          3.2         1.3          0.2         setosa \n",
       "37 5.5          3.5         1.3          0.2         setosa \n",
       "16 5.7          4.4         1.5          0.4         setosa "
      ]
     },
     "metadata": {},
     "output_type": "display_data"
    }
   ],
   "source": [
    "iris.test <-iris[-samp,]  #샘플링 후 나머지 데이터\n",
    "head(iris.train)"
   ]
  },
  {
   "cell_type": "code",
   "execution_count": 246,
   "metadata": {
    "vscode": {
     "languageId": "r"
    }
   },
   "outputs": [
    {
     "data": {
      "text/plain": [
       "\n",
       "    setosa versicolor  virginica \n",
       "        15         15         15 "
      ]
     },
     "metadata": {},
     "output_type": "display_data"
    }
   ],
   "source": [
    "#데이터 크기 검증\n",
    "table(iris.test$Species)"
   ]
  },
  {
   "cell_type": "code",
   "execution_count": 247,
   "metadata": {
    "vscode": {
     "languageId": "r"
    }
   },
   "outputs": [
    {
     "data": {
      "text/plain": [
       "  Sepal.Length    Sepal.Width     Petal.Length    Petal.Width   \n",
       " Min.   :4.300   Min.   :2.000   Min.   :1.000   Min.   :0.100  \n",
       " 1st Qu.:5.100   1st Qu.:2.800   1st Qu.:1.600   1st Qu.:0.300  \n",
       " Median :5.800   Median :3.000   Median :4.400   Median :1.300  \n",
       " Mean   :5.861   Mean   :3.084   Mean   :3.738   Mean   :1.207  \n",
       " 3rd Qu.:6.500   3rd Qu.:3.400   3rd Qu.:5.100   3rd Qu.:1.800  \n",
       " Max.   :7.700   Max.   :4.400   Max.   :6.700   Max.   :2.500  \n",
       "       Species  \n",
       " setosa    :35  \n",
       " versicolor:35  \n",
       " virginica :35  \n",
       "                \n",
       "                \n",
       "                "
      ]
     },
     "metadata": {},
     "output_type": "display_data"
    },
    {
     "data": {
      "text/plain": [
       "  Sepal.Length    Sepal.Width     Petal.Length    Petal.Width   \n",
       " Min.   :4.400   Min.   :2.200   Min.   :1.200   Min.   :0.100  \n",
       " 1st Qu.:5.100   1st Qu.:2.700   1st Qu.:1.600   1st Qu.:0.300  \n",
       " Median :5.700   Median :3.000   Median :4.100   Median :1.300  \n",
       " Mean   :5.802   Mean   :2.996   Mean   :3.804   Mean   :1.182  \n",
       " 3rd Qu.:6.300   3rd Qu.:3.200   3rd Qu.:5.100   3rd Qu.:1.800  \n",
       " Max.   :7.900   Max.   :3.900   Max.   :6.900   Max.   :2.300  \n",
       "       Species  \n",
       " setosa    :15  \n",
       " versicolor:15  \n",
       " virginica :15  \n",
       "                \n",
       "                \n",
       "                "
      ]
     },
     "metadata": {},
     "output_type": "display_data"
    }
   ],
   "source": [
    "# 데이터 검증\n",
    "summary(iris.train)\n",
    "summary(iris.test)"
   ]
  },
  {
   "cell_type": "code",
   "execution_count": null,
   "metadata": {
    "vscode": {
     "languageId": "r"
    }
   },
   "outputs": [],
   "source": []
  },
  {
   "cell_type": "markdown",
   "metadata": {
    "vscode": {
     "languageId": "r"
    }
   },
   "source": [
    "모집단에서 필요한 데이터만 추출하기"
   ]
  },
  {
   "cell_type": "code",
   "execution_count": 4,
   "metadata": {
    "vscode": {
     "languageId": "r"
    }
   },
   "outputs": [
    {
     "data": {
      "text/html": [
       "<table class=\"dataframe\">\n",
       "<caption>A data.frame: 50 x 5</caption>\n",
       "<thead>\n",
       "\t<tr><th></th><th scope=col>Sepal.Length</th><th scope=col>Sepal.Width</th><th scope=col>Petal.Length</th><th scope=col>Petal.Width</th><th scope=col>Species</th></tr>\n",
       "\t<tr><th></th><th scope=col>&lt;dbl&gt;</th><th scope=col>&lt;dbl&gt;</th><th scope=col>&lt;dbl&gt;</th><th scope=col>&lt;dbl&gt;</th><th scope=col>&lt;fct&gt;</th></tr>\n",
       "</thead>\n",
       "<tbody>\n",
       "\t<tr><th scope=row>1</th><td>5.1</td><td>3.5</td><td>1.4</td><td>0.2</td><td>setosa</td></tr>\n",
       "\t<tr><th scope=row>2</th><td>4.9</td><td>3.0</td><td>1.4</td><td>0.2</td><td>setosa</td></tr>\n",
       "\t<tr><th scope=row>3</th><td>4.7</td><td>3.2</td><td>1.3</td><td>0.2</td><td>setosa</td></tr>\n",
       "\t<tr><th scope=row>4</th><td>4.6</td><td>3.1</td><td>1.5</td><td>0.2</td><td>setosa</td></tr>\n",
       "\t<tr><th scope=row>5</th><td>5.0</td><td>3.6</td><td>1.4</td><td>0.2</td><td>setosa</td></tr>\n",
       "\t<tr><th scope=row>6</th><td>5.4</td><td>3.9</td><td>1.7</td><td>0.4</td><td>setosa</td></tr>\n",
       "\t<tr><th scope=row>7</th><td>4.6</td><td>3.4</td><td>1.4</td><td>0.3</td><td>setosa</td></tr>\n",
       "\t<tr><th scope=row>8</th><td>5.0</td><td>3.4</td><td>1.5</td><td>0.2</td><td>setosa</td></tr>\n",
       "\t<tr><th scope=row>9</th><td>4.4</td><td>2.9</td><td>1.4</td><td>0.2</td><td>setosa</td></tr>\n",
       "\t<tr><th scope=row>10</th><td>4.9</td><td>3.1</td><td>1.5</td><td>0.1</td><td>setosa</td></tr>\n",
       "\t<tr><th scope=row>11</th><td>5.4</td><td>3.7</td><td>1.5</td><td>0.2</td><td>setosa</td></tr>\n",
       "\t<tr><th scope=row>12</th><td>4.8</td><td>3.4</td><td>1.6</td><td>0.2</td><td>setosa</td></tr>\n",
       "\t<tr><th scope=row>13</th><td>4.8</td><td>3.0</td><td>1.4</td><td>0.1</td><td>setosa</td></tr>\n",
       "\t<tr><th scope=row>14</th><td>4.3</td><td>3.0</td><td>1.1</td><td>0.1</td><td>setosa</td></tr>\n",
       "\t<tr><th scope=row>15</th><td>5.8</td><td>4.0</td><td>1.2</td><td>0.2</td><td>setosa</td></tr>\n",
       "\t<tr><th scope=row>16</th><td>5.7</td><td>4.4</td><td>1.5</td><td>0.4</td><td>setosa</td></tr>\n",
       "\t<tr><th scope=row>17</th><td>5.4</td><td>3.9</td><td>1.3</td><td>0.4</td><td>setosa</td></tr>\n",
       "\t<tr><th scope=row>18</th><td>5.1</td><td>3.5</td><td>1.4</td><td>0.3</td><td>setosa</td></tr>\n",
       "\t<tr><th scope=row>19</th><td>5.7</td><td>3.8</td><td>1.7</td><td>0.3</td><td>setosa</td></tr>\n",
       "\t<tr><th scope=row>20</th><td>5.1</td><td>3.8</td><td>1.5</td><td>0.3</td><td>setosa</td></tr>\n",
       "\t<tr><th scope=row>21</th><td>5.4</td><td>3.4</td><td>1.7</td><td>0.2</td><td>setosa</td></tr>\n",
       "\t<tr><th scope=row>22</th><td>5.1</td><td>3.7</td><td>1.5</td><td>0.4</td><td>setosa</td></tr>\n",
       "\t<tr><th scope=row>23</th><td>4.6</td><td>3.6</td><td>1.0</td><td>0.2</td><td>setosa</td></tr>\n",
       "\t<tr><th scope=row>24</th><td>5.1</td><td>3.3</td><td>1.7</td><td>0.5</td><td>setosa</td></tr>\n",
       "\t<tr><th scope=row>25</th><td>4.8</td><td>3.4</td><td>1.9</td><td>0.2</td><td>setosa</td></tr>\n",
       "\t<tr><th scope=row>26</th><td>5.0</td><td>3.0</td><td>1.6</td><td>0.2</td><td>setosa</td></tr>\n",
       "\t<tr><th scope=row>27</th><td>5.0</td><td>3.4</td><td>1.6</td><td>0.4</td><td>setosa</td></tr>\n",
       "\t<tr><th scope=row>28</th><td>5.2</td><td>3.5</td><td>1.5</td><td>0.2</td><td>setosa</td></tr>\n",
       "\t<tr><th scope=row>29</th><td>5.2</td><td>3.4</td><td>1.4</td><td>0.2</td><td>setosa</td></tr>\n",
       "\t<tr><th scope=row>30</th><td>4.7</td><td>3.2</td><td>1.6</td><td>0.2</td><td>setosa</td></tr>\n",
       "\t<tr><th scope=row>31</th><td>4.8</td><td>3.1</td><td>1.6</td><td>0.2</td><td>setosa</td></tr>\n",
       "\t<tr><th scope=row>32</th><td>5.4</td><td>3.4</td><td>1.5</td><td>0.4</td><td>setosa</td></tr>\n",
       "\t<tr><th scope=row>33</th><td>5.2</td><td>4.1</td><td>1.5</td><td>0.1</td><td>setosa</td></tr>\n",
       "\t<tr><th scope=row>34</th><td>5.5</td><td>4.2</td><td>1.4</td><td>0.2</td><td>setosa</td></tr>\n",
       "\t<tr><th scope=row>35</th><td>4.9</td><td>3.1</td><td>1.5</td><td>0.2</td><td>setosa</td></tr>\n",
       "\t<tr><th scope=row>36</th><td>5.0</td><td>3.2</td><td>1.2</td><td>0.2</td><td>setosa</td></tr>\n",
       "\t<tr><th scope=row>37</th><td>5.5</td><td>3.5</td><td>1.3</td><td>0.2</td><td>setosa</td></tr>\n",
       "\t<tr><th scope=row>38</th><td>4.9</td><td>3.6</td><td>1.4</td><td>0.1</td><td>setosa</td></tr>\n",
       "\t<tr><th scope=row>39</th><td>4.4</td><td>3.0</td><td>1.3</td><td>0.2</td><td>setosa</td></tr>\n",
       "\t<tr><th scope=row>40</th><td>5.1</td><td>3.4</td><td>1.5</td><td>0.2</td><td>setosa</td></tr>\n",
       "\t<tr><th scope=row>41</th><td>5.0</td><td>3.5</td><td>1.3</td><td>0.3</td><td>setosa</td></tr>\n",
       "\t<tr><th scope=row>42</th><td>4.5</td><td>2.3</td><td>1.3</td><td>0.3</td><td>setosa</td></tr>\n",
       "\t<tr><th scope=row>43</th><td>4.4</td><td>3.2</td><td>1.3</td><td>0.2</td><td>setosa</td></tr>\n",
       "\t<tr><th scope=row>44</th><td>5.0</td><td>3.5</td><td>1.6</td><td>0.6</td><td>setosa</td></tr>\n",
       "\t<tr><th scope=row>45</th><td>5.1</td><td>3.8</td><td>1.9</td><td>0.4</td><td>setosa</td></tr>\n",
       "\t<tr><th scope=row>46</th><td>4.8</td><td>3.0</td><td>1.4</td><td>0.3</td><td>setosa</td></tr>\n",
       "\t<tr><th scope=row>47</th><td>5.1</td><td>3.8</td><td>1.6</td><td>0.2</td><td>setosa</td></tr>\n",
       "\t<tr><th scope=row>48</th><td>4.6</td><td>3.2</td><td>1.4</td><td>0.2</td><td>setosa</td></tr>\n",
       "\t<tr><th scope=row>49</th><td>5.3</td><td>3.7</td><td>1.5</td><td>0.2</td><td>setosa</td></tr>\n",
       "\t<tr><th scope=row>50</th><td>5.0</td><td>3.3</td><td>1.4</td><td>0.2</td><td>setosa</td></tr>\n",
       "</tbody>\n",
       "</table>\n"
      ],
      "text/latex": [
       "A data.frame: 50 x 5\n",
       "\\begin{tabular}{r|lllll}\n",
       "  & Sepal.Length & Sepal.Width & Petal.Length & Petal.Width & Species\\\\\n",
       "  & <dbl> & <dbl> & <dbl> & <dbl> & <fct>\\\\\n",
       "\\hline\n",
       "\t1 & 5.1 & 3.5 & 1.4 & 0.2 & setosa\\\\\n",
       "\t2 & 4.9 & 3.0 & 1.4 & 0.2 & setosa\\\\\n",
       "\t3 & 4.7 & 3.2 & 1.3 & 0.2 & setosa\\\\\n",
       "\t4 & 4.6 & 3.1 & 1.5 & 0.2 & setosa\\\\\n",
       "\t5 & 5.0 & 3.6 & 1.4 & 0.2 & setosa\\\\\n",
       "\t6 & 5.4 & 3.9 & 1.7 & 0.4 & setosa\\\\\n",
       "\t7 & 4.6 & 3.4 & 1.4 & 0.3 & setosa\\\\\n",
       "\t8 & 5.0 & 3.4 & 1.5 & 0.2 & setosa\\\\\n",
       "\t9 & 4.4 & 2.9 & 1.4 & 0.2 & setosa\\\\\n",
       "\t10 & 4.9 & 3.1 & 1.5 & 0.1 & setosa\\\\\n",
       "\t11 & 5.4 & 3.7 & 1.5 & 0.2 & setosa\\\\\n",
       "\t12 & 4.8 & 3.4 & 1.6 & 0.2 & setosa\\\\\n",
       "\t13 & 4.8 & 3.0 & 1.4 & 0.1 & setosa\\\\\n",
       "\t14 & 4.3 & 3.0 & 1.1 & 0.1 & setosa\\\\\n",
       "\t15 & 5.8 & 4.0 & 1.2 & 0.2 & setosa\\\\\n",
       "\t16 & 5.7 & 4.4 & 1.5 & 0.4 & setosa\\\\\n",
       "\t17 & 5.4 & 3.9 & 1.3 & 0.4 & setosa\\\\\n",
       "\t18 & 5.1 & 3.5 & 1.4 & 0.3 & setosa\\\\\n",
       "\t19 & 5.7 & 3.8 & 1.7 & 0.3 & setosa\\\\\n",
       "\t20 & 5.1 & 3.8 & 1.5 & 0.3 & setosa\\\\\n",
       "\t21 & 5.4 & 3.4 & 1.7 & 0.2 & setosa\\\\\n",
       "\t22 & 5.1 & 3.7 & 1.5 & 0.4 & setosa\\\\\n",
       "\t23 & 4.6 & 3.6 & 1.0 & 0.2 & setosa\\\\\n",
       "\t24 & 5.1 & 3.3 & 1.7 & 0.5 & setosa\\\\\n",
       "\t25 & 4.8 & 3.4 & 1.9 & 0.2 & setosa\\\\\n",
       "\t26 & 5.0 & 3.0 & 1.6 & 0.2 & setosa\\\\\n",
       "\t27 & 5.0 & 3.4 & 1.6 & 0.4 & setosa\\\\\n",
       "\t28 & 5.2 & 3.5 & 1.5 & 0.2 & setosa\\\\\n",
       "\t29 & 5.2 & 3.4 & 1.4 & 0.2 & setosa\\\\\n",
       "\t30 & 4.7 & 3.2 & 1.6 & 0.2 & setosa\\\\\n",
       "\t31 & 4.8 & 3.1 & 1.6 & 0.2 & setosa\\\\\n",
       "\t32 & 5.4 & 3.4 & 1.5 & 0.4 & setosa\\\\\n",
       "\t33 & 5.2 & 4.1 & 1.5 & 0.1 & setosa\\\\\n",
       "\t34 & 5.5 & 4.2 & 1.4 & 0.2 & setosa\\\\\n",
       "\t35 & 4.9 & 3.1 & 1.5 & 0.2 & setosa\\\\\n",
       "\t36 & 5.0 & 3.2 & 1.2 & 0.2 & setosa\\\\\n",
       "\t37 & 5.5 & 3.5 & 1.3 & 0.2 & setosa\\\\\n",
       "\t38 & 4.9 & 3.6 & 1.4 & 0.1 & setosa\\\\\n",
       "\t39 & 4.4 & 3.0 & 1.3 & 0.2 & setosa\\\\\n",
       "\t40 & 5.1 & 3.4 & 1.5 & 0.2 & setosa\\\\\n",
       "\t41 & 5.0 & 3.5 & 1.3 & 0.3 & setosa\\\\\n",
       "\t42 & 4.5 & 2.3 & 1.3 & 0.3 & setosa\\\\\n",
       "\t43 & 4.4 & 3.2 & 1.3 & 0.2 & setosa\\\\\n",
       "\t44 & 5.0 & 3.5 & 1.6 & 0.6 & setosa\\\\\n",
       "\t45 & 5.1 & 3.8 & 1.9 & 0.4 & setosa\\\\\n",
       "\t46 & 4.8 & 3.0 & 1.4 & 0.3 & setosa\\\\\n",
       "\t47 & 5.1 & 3.8 & 1.6 & 0.2 & setosa\\\\\n",
       "\t48 & 4.6 & 3.2 & 1.4 & 0.2 & setosa\\\\\n",
       "\t49 & 5.3 & 3.7 & 1.5 & 0.2 & setosa\\\\\n",
       "\t50 & 5.0 & 3.3 & 1.4 & 0.2 & setosa\\\\\n",
       "\\end{tabular}\n"
      ],
      "text/markdown": [
       "\n",
       "A data.frame: 50 x 5\n",
       "\n",
       "| <!--/--> | Sepal.Length &lt;dbl&gt; | Sepal.Width &lt;dbl&gt; | Petal.Length &lt;dbl&gt; | Petal.Width &lt;dbl&gt; | Species &lt;fct&gt; |\n",
       "|---|---|---|---|---|---|\n",
       "| 1 | 5.1 | 3.5 | 1.4 | 0.2 | setosa |\n",
       "| 2 | 4.9 | 3.0 | 1.4 | 0.2 | setosa |\n",
       "| 3 | 4.7 | 3.2 | 1.3 | 0.2 | setosa |\n",
       "| 4 | 4.6 | 3.1 | 1.5 | 0.2 | setosa |\n",
       "| 5 | 5.0 | 3.6 | 1.4 | 0.2 | setosa |\n",
       "| 6 | 5.4 | 3.9 | 1.7 | 0.4 | setosa |\n",
       "| 7 | 4.6 | 3.4 | 1.4 | 0.3 | setosa |\n",
       "| 8 | 5.0 | 3.4 | 1.5 | 0.2 | setosa |\n",
       "| 9 | 4.4 | 2.9 | 1.4 | 0.2 | setosa |\n",
       "| 10 | 4.9 | 3.1 | 1.5 | 0.1 | setosa |\n",
       "| 11 | 5.4 | 3.7 | 1.5 | 0.2 | setosa |\n",
       "| 12 | 4.8 | 3.4 | 1.6 | 0.2 | setosa |\n",
       "| 13 | 4.8 | 3.0 | 1.4 | 0.1 | setosa |\n",
       "| 14 | 4.3 | 3.0 | 1.1 | 0.1 | setosa |\n",
       "| 15 | 5.8 | 4.0 | 1.2 | 0.2 | setosa |\n",
       "| 16 | 5.7 | 4.4 | 1.5 | 0.4 | setosa |\n",
       "| 17 | 5.4 | 3.9 | 1.3 | 0.4 | setosa |\n",
       "| 18 | 5.1 | 3.5 | 1.4 | 0.3 | setosa |\n",
       "| 19 | 5.7 | 3.8 | 1.7 | 0.3 | setosa |\n",
       "| 20 | 5.1 | 3.8 | 1.5 | 0.3 | setosa |\n",
       "| 21 | 5.4 | 3.4 | 1.7 | 0.2 | setosa |\n",
       "| 22 | 5.1 | 3.7 | 1.5 | 0.4 | setosa |\n",
       "| 23 | 4.6 | 3.6 | 1.0 | 0.2 | setosa |\n",
       "| 24 | 5.1 | 3.3 | 1.7 | 0.5 | setosa |\n",
       "| 25 | 4.8 | 3.4 | 1.9 | 0.2 | setosa |\n",
       "| 26 | 5.0 | 3.0 | 1.6 | 0.2 | setosa |\n",
       "| 27 | 5.0 | 3.4 | 1.6 | 0.4 | setosa |\n",
       "| 28 | 5.2 | 3.5 | 1.5 | 0.2 | setosa |\n",
       "| 29 | 5.2 | 3.4 | 1.4 | 0.2 | setosa |\n",
       "| 30 | 4.7 | 3.2 | 1.6 | 0.2 | setosa |\n",
       "| 31 | 4.8 | 3.1 | 1.6 | 0.2 | setosa |\n",
       "| 32 | 5.4 | 3.4 | 1.5 | 0.4 | setosa |\n",
       "| 33 | 5.2 | 4.1 | 1.5 | 0.1 | setosa |\n",
       "| 34 | 5.5 | 4.2 | 1.4 | 0.2 | setosa |\n",
       "| 35 | 4.9 | 3.1 | 1.5 | 0.2 | setosa |\n",
       "| 36 | 5.0 | 3.2 | 1.2 | 0.2 | setosa |\n",
       "| 37 | 5.5 | 3.5 | 1.3 | 0.2 | setosa |\n",
       "| 38 | 4.9 | 3.6 | 1.4 | 0.1 | setosa |\n",
       "| 39 | 4.4 | 3.0 | 1.3 | 0.2 | setosa |\n",
       "| 40 | 5.1 | 3.4 | 1.5 | 0.2 | setosa |\n",
       "| 41 | 5.0 | 3.5 | 1.3 | 0.3 | setosa |\n",
       "| 42 | 4.5 | 2.3 | 1.3 | 0.3 | setosa |\n",
       "| 43 | 4.4 | 3.2 | 1.3 | 0.2 | setosa |\n",
       "| 44 | 5.0 | 3.5 | 1.6 | 0.6 | setosa |\n",
       "| 45 | 5.1 | 3.8 | 1.9 | 0.4 | setosa |\n",
       "| 46 | 4.8 | 3.0 | 1.4 | 0.3 | setosa |\n",
       "| 47 | 5.1 | 3.8 | 1.6 | 0.2 | setosa |\n",
       "| 48 | 4.6 | 3.2 | 1.4 | 0.2 | setosa |\n",
       "| 49 | 5.3 | 3.7 | 1.5 | 0.2 | setosa |\n",
       "| 50 | 5.0 | 3.3 | 1.4 | 0.2 | setosa |\n",
       "\n"
      ],
      "text/plain": [
       "   Sepal.Length Sepal.Width Petal.Length Petal.Width Species\n",
       "1  5.1          3.5         1.4          0.2         setosa \n",
       "2  4.9          3.0         1.4          0.2         setosa \n",
       "3  4.7          3.2         1.3          0.2         setosa \n",
       "4  4.6          3.1         1.5          0.2         setosa \n",
       "5  5.0          3.6         1.4          0.2         setosa \n",
       "6  5.4          3.9         1.7          0.4         setosa \n",
       "7  4.6          3.4         1.4          0.3         setosa \n",
       "8  5.0          3.4         1.5          0.2         setosa \n",
       "9  4.4          2.9         1.4          0.2         setosa \n",
       "10 4.9          3.1         1.5          0.1         setosa \n",
       "11 5.4          3.7         1.5          0.2         setosa \n",
       "12 4.8          3.4         1.6          0.2         setosa \n",
       "13 4.8          3.0         1.4          0.1         setosa \n",
       "14 4.3          3.0         1.1          0.1         setosa \n",
       "15 5.8          4.0         1.2          0.2         setosa \n",
       "16 5.7          4.4         1.5          0.4         setosa \n",
       "17 5.4          3.9         1.3          0.4         setosa \n",
       "18 5.1          3.5         1.4          0.3         setosa \n",
       "19 5.7          3.8         1.7          0.3         setosa \n",
       "20 5.1          3.8         1.5          0.3         setosa \n",
       "21 5.4          3.4         1.7          0.2         setosa \n",
       "22 5.1          3.7         1.5          0.4         setosa \n",
       "23 4.6          3.6         1.0          0.2         setosa \n",
       "24 5.1          3.3         1.7          0.5         setosa \n",
       "25 4.8          3.4         1.9          0.2         setosa \n",
       "26 5.0          3.0         1.6          0.2         setosa \n",
       "27 5.0          3.4         1.6          0.4         setosa \n",
       "28 5.2          3.5         1.5          0.2         setosa \n",
       "29 5.2          3.4         1.4          0.2         setosa \n",
       "30 4.7          3.2         1.6          0.2         setosa \n",
       "31 4.8          3.1         1.6          0.2         setosa \n",
       "32 5.4          3.4         1.5          0.4         setosa \n",
       "33 5.2          4.1         1.5          0.1         setosa \n",
       "34 5.5          4.2         1.4          0.2         setosa \n",
       "35 4.9          3.1         1.5          0.2         setosa \n",
       "36 5.0          3.2         1.2          0.2         setosa \n",
       "37 5.5          3.5         1.3          0.2         setosa \n",
       "38 4.9          3.6         1.4          0.1         setosa \n",
       "39 4.4          3.0         1.3          0.2         setosa \n",
       "40 5.1          3.4         1.5          0.2         setosa \n",
       "41 5.0          3.5         1.3          0.3         setosa \n",
       "42 4.5          2.3         1.3          0.3         setosa \n",
       "43 4.4          3.2         1.3          0.2         setosa \n",
       "44 5.0          3.5         1.6          0.6         setosa \n",
       "45 5.1          3.8         1.9          0.4         setosa \n",
       "46 4.8          3.0         1.4          0.3         setosa \n",
       "47 5.1          3.8         1.6          0.2         setosa \n",
       "48 4.6          3.2         1.4          0.2         setosa \n",
       "49 5.3          3.7         1.5          0.2         setosa \n",
       "50 5.0          3.3         1.4          0.2         setosa "
      ]
     },
     "metadata": {},
     "output_type": "display_data"
    },
    {
     "data": {
      "text/html": [
       "50"
      ],
      "text/latex": [
       "50"
      ],
      "text/markdown": [
       "50"
      ],
      "text/plain": [
       "[1] 50"
      ]
     },
     "metadata": {},
     "output_type": "display_data"
    }
   ],
   "source": [
    "# iris에서 Species가 setosa인것만 추출하여 iris_setosa라는 데이터 프레임 만들기\n",
    "subset(iris, Species == \"setosa\")\n",
    "\n",
    "iris_setosa <- subset(iris, Species == \"setosa\")\n",
    "nrow(iris_setosa) #데이터 개수\n"
   ]
  },
  {
   "cell_type": "code",
   "execution_count": 5,
   "metadata": {
    "vscode": {
     "languageId": "r"
    }
   },
   "outputs": [
    {
     "data": {
      "text/html": [
       "<table class=\"dataframe\">\n",
       "<caption>A data.frame: 6 x 5</caption>\n",
       "<thead>\n",
       "\t<tr><th></th><th scope=col>Sepal.Length</th><th scope=col>Sepal.Width</th><th scope=col>Petal.Length</th><th scope=col>Petal.Width</th><th scope=col>Species</th></tr>\n",
       "\t<tr><th></th><th scope=col>&lt;dbl&gt;</th><th scope=col>&lt;dbl&gt;</th><th scope=col>&lt;dbl&gt;</th><th scope=col>&lt;dbl&gt;</th><th scope=col>&lt;fct&gt;</th></tr>\n",
       "</thead>\n",
       "<tbody>\n",
       "\t<tr><th scope=row>1</th><td>5.1</td><td>3.5</td><td>1.4</td><td>0.2</td><td>setosa</td></tr>\n",
       "\t<tr><th scope=row>2</th><td>4.9</td><td>3.0</td><td>1.4</td><td>0.2</td><td>setosa</td></tr>\n",
       "\t<tr><th scope=row>3</th><td>4.7</td><td>3.2</td><td>1.3</td><td>0.2</td><td>setosa</td></tr>\n",
       "\t<tr><th scope=row>4</th><td>4.6</td><td>3.1</td><td>1.5</td><td>0.2</td><td>setosa</td></tr>\n",
       "\t<tr><th scope=row>5</th><td>5.0</td><td>3.6</td><td>1.4</td><td>0.2</td><td>setosa</td></tr>\n",
       "\t<tr><th scope=row>6</th><td>5.4</td><td>3.9</td><td>1.7</td><td>0.4</td><td>setosa</td></tr>\n",
       "</tbody>\n",
       "</table>\n"
      ],
      "text/latex": [
       "A data.frame: 6 x 5\n",
       "\\begin{tabular}{r|lllll}\n",
       "  & Sepal.Length & Sepal.Width & Petal.Length & Petal.Width & Species\\\\\n",
       "  & <dbl> & <dbl> & <dbl> & <dbl> & <fct>\\\\\n",
       "\\hline\n",
       "\t1 & 5.1 & 3.5 & 1.4 & 0.2 & setosa\\\\\n",
       "\t2 & 4.9 & 3.0 & 1.4 & 0.2 & setosa\\\\\n",
       "\t3 & 4.7 & 3.2 & 1.3 & 0.2 & setosa\\\\\n",
       "\t4 & 4.6 & 3.1 & 1.5 & 0.2 & setosa\\\\\n",
       "\t5 & 5.0 & 3.6 & 1.4 & 0.2 & setosa\\\\\n",
       "\t6 & 5.4 & 3.9 & 1.7 & 0.4 & setosa\\\\\n",
       "\\end{tabular}\n"
      ],
      "text/markdown": [
       "\n",
       "A data.frame: 6 x 5\n",
       "\n",
       "| <!--/--> | Sepal.Length &lt;dbl&gt; | Sepal.Width &lt;dbl&gt; | Petal.Length &lt;dbl&gt; | Petal.Width &lt;dbl&gt; | Species &lt;fct&gt; |\n",
       "|---|---|---|---|---|---|\n",
       "| 1 | 5.1 | 3.5 | 1.4 | 0.2 | setosa |\n",
       "| 2 | 4.9 | 3.0 | 1.4 | 0.2 | setosa |\n",
       "| 3 | 4.7 | 3.2 | 1.3 | 0.2 | setosa |\n",
       "| 4 | 4.6 | 3.1 | 1.5 | 0.2 | setosa |\n",
       "| 5 | 5.0 | 3.6 | 1.4 | 0.2 | setosa |\n",
       "| 6 | 5.4 | 3.9 | 1.7 | 0.4 | setosa |\n",
       "\n"
      ],
      "text/plain": [
       "  Sepal.Length Sepal.Width Petal.Length Petal.Width Species\n",
       "1 5.1          3.5         1.4          0.2         setosa \n",
       "2 4.9          3.0         1.4          0.2         setosa \n",
       "3 4.7          3.2         1.3          0.2         setosa \n",
       "4 4.6          3.1         1.5          0.2         setosa \n",
       "5 5.0          3.6         1.4          0.2         setosa \n",
       "6 5.4          3.9         1.7          0.4         setosa "
      ]
     },
     "metadata": {},
     "output_type": "display_data"
    }
   ],
   "source": [
    "head(iris_setosa)"
   ]
  },
  {
   "cell_type": "code",
   "execution_count": 6,
   "metadata": {
    "vscode": {
     "languageId": "r"
    }
   },
   "outputs": [
    {
     "name": "stdout",
     "output_type": "stream",
     "text": [
      "'data.frame':\t50 obs. of  5 variables:\n",
      " $ Sepal.Length: num  5.1 4.9 4.7 4.6 5 5.4 4.6 5 4.4 4.9 ...\n",
      " $ Sepal.Width : num  3.5 3 3.2 3.1 3.6 3.9 3.4 3.4 2.9 3.1 ...\n",
      " $ Petal.Length: num  1.4 1.4 1.3 1.5 1.4 1.7 1.4 1.5 1.4 1.5 ...\n",
      " $ Petal.Width : num  0.2 0.2 0.2 0.2 0.2 0.4 0.3 0.2 0.2 0.1 ...\n",
      " $ Species     : Factor w/ 3 levels \"setosa\",\"versicolor\",..: 1 1 1 1 1 1 1 1 1 1 ...\n"
     ]
    }
   ],
   "source": [
    "str(iris_setosa)"
   ]
  },
  {
   "cell_type": "code",
   "execution_count": 7,
   "metadata": {
    "vscode": {
     "languageId": "r"
    }
   },
   "outputs": [
    {
     "name": "stdout",
     "output_type": "stream",
     "text": [
      "'data.frame':\t50 obs. of  5 variables:\n",
      " $ Sepal.Length: num  5.1 4.9 4.7 4.6 5 5.4 4.6 5 4.4 4.9 ...\n",
      " $ Sepal.Width : num  3.5 3 3.2 3.1 3.6 3.9 3.4 3.4 2.9 3.1 ...\n",
      " $ Petal.Length: num  1.4 1.4 1.3 1.5 1.4 1.7 1.4 1.5 1.4 1.5 ...\n",
      " $ Petal.Width : num  0.2 0.2 0.2 0.2 0.2 0.4 0.3 0.2 0.2 0.1 ...\n",
      " $ Species     : Factor w/ 1 level \"setosa\": 1 1 1 1 1 1 1 1 1 1 ...\n"
     ]
    }
   ],
   "source": [
    "#fatcor 조정하기\n",
    "iris_setosa$Species <- factor(iris_setosa$Species)\n",
    "str(iris_setosa)"
   ]
  },
  {
   "cell_type": "code",
   "execution_count": 14,
   "metadata": {
    "vscode": {
     "languageId": "r"
    }
   },
   "outputs": [
    {
     "data": {
      "text/html": [
       "<table class=\"dataframe\">\n",
       "<caption>A data.frame: 50 x 5</caption>\n",
       "<thead>\n",
       "\t<tr><th></th><th scope=col>Sepal.Length</th><th scope=col>Sepal.Width</th><th scope=col>Petal.Length</th><th scope=col>Petal.Width</th><th scope=col>Species</th></tr>\n",
       "\t<tr><th></th><th scope=col>&lt;dbl&gt;</th><th scope=col>&lt;dbl&gt;</th><th scope=col>&lt;dbl&gt;</th><th scope=col>&lt;dbl&gt;</th><th scope=col>&lt;fct&gt;</th></tr>\n",
       "</thead>\n",
       "<tbody>\n",
       "\t<tr><th scope=row>51</th><td>7.0</td><td>3.2</td><td>4.7</td><td>1.4</td><td>versicolor</td></tr>\n",
       "\t<tr><th scope=row>52</th><td>6.4</td><td>3.2</td><td>4.5</td><td>1.5</td><td>versicolor</td></tr>\n",
       "\t<tr><th scope=row>53</th><td>6.9</td><td>3.1</td><td>4.9</td><td>1.5</td><td>versicolor</td></tr>\n",
       "\t<tr><th scope=row>54</th><td>5.5</td><td>2.3</td><td>4.0</td><td>1.3</td><td>versicolor</td></tr>\n",
       "\t<tr><th scope=row>55</th><td>6.5</td><td>2.8</td><td>4.6</td><td>1.5</td><td>versicolor</td></tr>\n",
       "\t<tr><th scope=row>56</th><td>5.7</td><td>2.8</td><td>4.5</td><td>1.3</td><td>versicolor</td></tr>\n",
       "\t<tr><th scope=row>57</th><td>6.3</td><td>3.3</td><td>4.7</td><td>1.6</td><td>versicolor</td></tr>\n",
       "\t<tr><th scope=row>58</th><td>4.9</td><td>2.4</td><td>3.3</td><td>1.0</td><td>versicolor</td></tr>\n",
       "\t<tr><th scope=row>59</th><td>6.6</td><td>2.9</td><td>4.6</td><td>1.3</td><td>versicolor</td></tr>\n",
       "\t<tr><th scope=row>60</th><td>5.2</td><td>2.7</td><td>3.9</td><td>1.4</td><td>versicolor</td></tr>\n",
       "\t<tr><th scope=row>61</th><td>5.0</td><td>2.0</td><td>3.5</td><td>1.0</td><td>versicolor</td></tr>\n",
       "\t<tr><th scope=row>62</th><td>5.9</td><td>3.0</td><td>4.2</td><td>1.5</td><td>versicolor</td></tr>\n",
       "\t<tr><th scope=row>63</th><td>6.0</td><td>2.2</td><td>4.0</td><td>1.0</td><td>versicolor</td></tr>\n",
       "\t<tr><th scope=row>64</th><td>6.1</td><td>2.9</td><td>4.7</td><td>1.4</td><td>versicolor</td></tr>\n",
       "\t<tr><th scope=row>65</th><td>5.6</td><td>2.9</td><td>3.6</td><td>1.3</td><td>versicolor</td></tr>\n",
       "\t<tr><th scope=row>66</th><td>6.7</td><td>3.1</td><td>4.4</td><td>1.4</td><td>versicolor</td></tr>\n",
       "\t<tr><th scope=row>67</th><td>5.6</td><td>3.0</td><td>4.5</td><td>1.5</td><td>versicolor</td></tr>\n",
       "\t<tr><th scope=row>68</th><td>5.8</td><td>2.7</td><td>4.1</td><td>1.0</td><td>versicolor</td></tr>\n",
       "\t<tr><th scope=row>69</th><td>6.2</td><td>2.2</td><td>4.5</td><td>1.5</td><td>versicolor</td></tr>\n",
       "\t<tr><th scope=row>70</th><td>5.6</td><td>2.5</td><td>3.9</td><td>1.1</td><td>versicolor</td></tr>\n",
       "\t<tr><th scope=row>71</th><td>5.9</td><td>3.2</td><td>4.8</td><td>1.8</td><td>versicolor</td></tr>\n",
       "\t<tr><th scope=row>72</th><td>6.1</td><td>2.8</td><td>4.0</td><td>1.3</td><td>versicolor</td></tr>\n",
       "\t<tr><th scope=row>73</th><td>6.3</td><td>2.5</td><td>4.9</td><td>1.5</td><td>versicolor</td></tr>\n",
       "\t<tr><th scope=row>74</th><td>6.1</td><td>2.8</td><td>4.7</td><td>1.2</td><td>versicolor</td></tr>\n",
       "\t<tr><th scope=row>75</th><td>6.4</td><td>2.9</td><td>4.3</td><td>1.3</td><td>versicolor</td></tr>\n",
       "\t<tr><th scope=row>76</th><td>6.6</td><td>3.0</td><td>4.4</td><td>1.4</td><td>versicolor</td></tr>\n",
       "\t<tr><th scope=row>77</th><td>6.8</td><td>2.8</td><td>4.8</td><td>1.4</td><td>versicolor</td></tr>\n",
       "\t<tr><th scope=row>78</th><td>6.7</td><td>3.0</td><td>5.0</td><td>1.7</td><td>versicolor</td></tr>\n",
       "\t<tr><th scope=row>79</th><td>6.0</td><td>2.9</td><td>4.5</td><td>1.5</td><td>versicolor</td></tr>\n",
       "\t<tr><th scope=row>80</th><td>5.7</td><td>2.6</td><td>3.5</td><td>1.0</td><td>versicolor</td></tr>\n",
       "\t<tr><th scope=row>81</th><td>5.5</td><td>2.4</td><td>3.8</td><td>1.1</td><td>versicolor</td></tr>\n",
       "\t<tr><th scope=row>82</th><td>5.5</td><td>2.4</td><td>3.7</td><td>1.0</td><td>versicolor</td></tr>\n",
       "\t<tr><th scope=row>83</th><td>5.8</td><td>2.7</td><td>3.9</td><td>1.2</td><td>versicolor</td></tr>\n",
       "\t<tr><th scope=row>84</th><td>6.0</td><td>2.7</td><td>5.1</td><td>1.6</td><td>versicolor</td></tr>\n",
       "\t<tr><th scope=row>85</th><td>5.4</td><td>3.0</td><td>4.5</td><td>1.5</td><td>versicolor</td></tr>\n",
       "\t<tr><th scope=row>86</th><td>6.0</td><td>3.4</td><td>4.5</td><td>1.6</td><td>versicolor</td></tr>\n",
       "\t<tr><th scope=row>87</th><td>6.7</td><td>3.1</td><td>4.7</td><td>1.5</td><td>versicolor</td></tr>\n",
       "\t<tr><th scope=row>88</th><td>6.3</td><td>2.3</td><td>4.4</td><td>1.3</td><td>versicolor</td></tr>\n",
       "\t<tr><th scope=row>89</th><td>5.6</td><td>3.0</td><td>4.1</td><td>1.3</td><td>versicolor</td></tr>\n",
       "\t<tr><th scope=row>90</th><td>5.5</td><td>2.5</td><td>4.0</td><td>1.3</td><td>versicolor</td></tr>\n",
       "\t<tr><th scope=row>91</th><td>5.5</td><td>2.6</td><td>4.4</td><td>1.2</td><td>versicolor</td></tr>\n",
       "\t<tr><th scope=row>92</th><td>6.1</td><td>3.0</td><td>4.6</td><td>1.4</td><td>versicolor</td></tr>\n",
       "\t<tr><th scope=row>93</th><td>5.8</td><td>2.6</td><td>4.0</td><td>1.2</td><td>versicolor</td></tr>\n",
       "\t<tr><th scope=row>94</th><td>5.0</td><td>2.3</td><td>3.3</td><td>1.0</td><td>versicolor</td></tr>\n",
       "\t<tr><th scope=row>95</th><td>5.6</td><td>2.7</td><td>4.2</td><td>1.3</td><td>versicolor</td></tr>\n",
       "\t<tr><th scope=row>96</th><td>5.7</td><td>3.0</td><td>4.2</td><td>1.2</td><td>versicolor</td></tr>\n",
       "\t<tr><th scope=row>97</th><td>5.7</td><td>2.9</td><td>4.2</td><td>1.3</td><td>versicolor</td></tr>\n",
       "\t<tr><th scope=row>98</th><td>6.2</td><td>2.9</td><td>4.3</td><td>1.3</td><td>versicolor</td></tr>\n",
       "\t<tr><th scope=row>99</th><td>5.1</td><td>2.5</td><td>3.0</td><td>1.1</td><td>versicolor</td></tr>\n",
       "\t<tr><th scope=row>100</th><td>5.7</td><td>2.8</td><td>4.1</td><td>1.3</td><td>versicolor</td></tr>\n",
       "</tbody>\n",
       "</table>\n"
      ],
      "text/latex": [
       "A data.frame: 50 x 5\n",
       "\\begin{tabular}{r|lllll}\n",
       "  & Sepal.Length & Sepal.Width & Petal.Length & Petal.Width & Species\\\\\n",
       "  & <dbl> & <dbl> & <dbl> & <dbl> & <fct>\\\\\n",
       "\\hline\n",
       "\t51 & 7.0 & 3.2 & 4.7 & 1.4 & versicolor\\\\\n",
       "\t52 & 6.4 & 3.2 & 4.5 & 1.5 & versicolor\\\\\n",
       "\t53 & 6.9 & 3.1 & 4.9 & 1.5 & versicolor\\\\\n",
       "\t54 & 5.5 & 2.3 & 4.0 & 1.3 & versicolor\\\\\n",
       "\t55 & 6.5 & 2.8 & 4.6 & 1.5 & versicolor\\\\\n",
       "\t56 & 5.7 & 2.8 & 4.5 & 1.3 & versicolor\\\\\n",
       "\t57 & 6.3 & 3.3 & 4.7 & 1.6 & versicolor\\\\\n",
       "\t58 & 4.9 & 2.4 & 3.3 & 1.0 & versicolor\\\\\n",
       "\t59 & 6.6 & 2.9 & 4.6 & 1.3 & versicolor\\\\\n",
       "\t60 & 5.2 & 2.7 & 3.9 & 1.4 & versicolor\\\\\n",
       "\t61 & 5.0 & 2.0 & 3.5 & 1.0 & versicolor\\\\\n",
       "\t62 & 5.9 & 3.0 & 4.2 & 1.5 & versicolor\\\\\n",
       "\t63 & 6.0 & 2.2 & 4.0 & 1.0 & versicolor\\\\\n",
       "\t64 & 6.1 & 2.9 & 4.7 & 1.4 & versicolor\\\\\n",
       "\t65 & 5.6 & 2.9 & 3.6 & 1.3 & versicolor\\\\\n",
       "\t66 & 6.7 & 3.1 & 4.4 & 1.4 & versicolor\\\\\n",
       "\t67 & 5.6 & 3.0 & 4.5 & 1.5 & versicolor\\\\\n",
       "\t68 & 5.8 & 2.7 & 4.1 & 1.0 & versicolor\\\\\n",
       "\t69 & 6.2 & 2.2 & 4.5 & 1.5 & versicolor\\\\\n",
       "\t70 & 5.6 & 2.5 & 3.9 & 1.1 & versicolor\\\\\n",
       "\t71 & 5.9 & 3.2 & 4.8 & 1.8 & versicolor\\\\\n",
       "\t72 & 6.1 & 2.8 & 4.0 & 1.3 & versicolor\\\\\n",
       "\t73 & 6.3 & 2.5 & 4.9 & 1.5 & versicolor\\\\\n",
       "\t74 & 6.1 & 2.8 & 4.7 & 1.2 & versicolor\\\\\n",
       "\t75 & 6.4 & 2.9 & 4.3 & 1.3 & versicolor\\\\\n",
       "\t76 & 6.6 & 3.0 & 4.4 & 1.4 & versicolor\\\\\n",
       "\t77 & 6.8 & 2.8 & 4.8 & 1.4 & versicolor\\\\\n",
       "\t78 & 6.7 & 3.0 & 5.0 & 1.7 & versicolor\\\\\n",
       "\t79 & 6.0 & 2.9 & 4.5 & 1.5 & versicolor\\\\\n",
       "\t80 & 5.7 & 2.6 & 3.5 & 1.0 & versicolor\\\\\n",
       "\t81 & 5.5 & 2.4 & 3.8 & 1.1 & versicolor\\\\\n",
       "\t82 & 5.5 & 2.4 & 3.7 & 1.0 & versicolor\\\\\n",
       "\t83 & 5.8 & 2.7 & 3.9 & 1.2 & versicolor\\\\\n",
       "\t84 & 6.0 & 2.7 & 5.1 & 1.6 & versicolor\\\\\n",
       "\t85 & 5.4 & 3.0 & 4.5 & 1.5 & versicolor\\\\\n",
       "\t86 & 6.0 & 3.4 & 4.5 & 1.6 & versicolor\\\\\n",
       "\t87 & 6.7 & 3.1 & 4.7 & 1.5 & versicolor\\\\\n",
       "\t88 & 6.3 & 2.3 & 4.4 & 1.3 & versicolor\\\\\n",
       "\t89 & 5.6 & 3.0 & 4.1 & 1.3 & versicolor\\\\\n",
       "\t90 & 5.5 & 2.5 & 4.0 & 1.3 & versicolor\\\\\n",
       "\t91 & 5.5 & 2.6 & 4.4 & 1.2 & versicolor\\\\\n",
       "\t92 & 6.1 & 3.0 & 4.6 & 1.4 & versicolor\\\\\n",
       "\t93 & 5.8 & 2.6 & 4.0 & 1.2 & versicolor\\\\\n",
       "\t94 & 5.0 & 2.3 & 3.3 & 1.0 & versicolor\\\\\n",
       "\t95 & 5.6 & 2.7 & 4.2 & 1.3 & versicolor\\\\\n",
       "\t96 & 5.7 & 3.0 & 4.2 & 1.2 & versicolor\\\\\n",
       "\t97 & 5.7 & 2.9 & 4.2 & 1.3 & versicolor\\\\\n",
       "\t98 & 6.2 & 2.9 & 4.3 & 1.3 & versicolor\\\\\n",
       "\t99 & 5.1 & 2.5 & 3.0 & 1.1 & versicolor\\\\\n",
       "\t100 & 5.7 & 2.8 & 4.1 & 1.3 & versicolor\\\\\n",
       "\\end{tabular}\n"
      ],
      "text/markdown": [
       "\n",
       "A data.frame: 50 x 5\n",
       "\n",
       "| <!--/--> | Sepal.Length &lt;dbl&gt; | Sepal.Width &lt;dbl&gt; | Petal.Length &lt;dbl&gt; | Petal.Width &lt;dbl&gt; | Species &lt;fct&gt; |\n",
       "|---|---|---|---|---|---|\n",
       "| 51 | 7.0 | 3.2 | 4.7 | 1.4 | versicolor |\n",
       "| 52 | 6.4 | 3.2 | 4.5 | 1.5 | versicolor |\n",
       "| 53 | 6.9 | 3.1 | 4.9 | 1.5 | versicolor |\n",
       "| 54 | 5.5 | 2.3 | 4.0 | 1.3 | versicolor |\n",
       "| 55 | 6.5 | 2.8 | 4.6 | 1.5 | versicolor |\n",
       "| 56 | 5.7 | 2.8 | 4.5 | 1.3 | versicolor |\n",
       "| 57 | 6.3 | 3.3 | 4.7 | 1.6 | versicolor |\n",
       "| 58 | 4.9 | 2.4 | 3.3 | 1.0 | versicolor |\n",
       "| 59 | 6.6 | 2.9 | 4.6 | 1.3 | versicolor |\n",
       "| 60 | 5.2 | 2.7 | 3.9 | 1.4 | versicolor |\n",
       "| 61 | 5.0 | 2.0 | 3.5 | 1.0 | versicolor |\n",
       "| 62 | 5.9 | 3.0 | 4.2 | 1.5 | versicolor |\n",
       "| 63 | 6.0 | 2.2 | 4.0 | 1.0 | versicolor |\n",
       "| 64 | 6.1 | 2.9 | 4.7 | 1.4 | versicolor |\n",
       "| 65 | 5.6 | 2.9 | 3.6 | 1.3 | versicolor |\n",
       "| 66 | 6.7 | 3.1 | 4.4 | 1.4 | versicolor |\n",
       "| 67 | 5.6 | 3.0 | 4.5 | 1.5 | versicolor |\n",
       "| 68 | 5.8 | 2.7 | 4.1 | 1.0 | versicolor |\n",
       "| 69 | 6.2 | 2.2 | 4.5 | 1.5 | versicolor |\n",
       "| 70 | 5.6 | 2.5 | 3.9 | 1.1 | versicolor |\n",
       "| 71 | 5.9 | 3.2 | 4.8 | 1.8 | versicolor |\n",
       "| 72 | 6.1 | 2.8 | 4.0 | 1.3 | versicolor |\n",
       "| 73 | 6.3 | 2.5 | 4.9 | 1.5 | versicolor |\n",
       "| 74 | 6.1 | 2.8 | 4.7 | 1.2 | versicolor |\n",
       "| 75 | 6.4 | 2.9 | 4.3 | 1.3 | versicolor |\n",
       "| 76 | 6.6 | 3.0 | 4.4 | 1.4 | versicolor |\n",
       "| 77 | 6.8 | 2.8 | 4.8 | 1.4 | versicolor |\n",
       "| 78 | 6.7 | 3.0 | 5.0 | 1.7 | versicolor |\n",
       "| 79 | 6.0 | 2.9 | 4.5 | 1.5 | versicolor |\n",
       "| 80 | 5.7 | 2.6 | 3.5 | 1.0 | versicolor |\n",
       "| 81 | 5.5 | 2.4 | 3.8 | 1.1 | versicolor |\n",
       "| 82 | 5.5 | 2.4 | 3.7 | 1.0 | versicolor |\n",
       "| 83 | 5.8 | 2.7 | 3.9 | 1.2 | versicolor |\n",
       "| 84 | 6.0 | 2.7 | 5.1 | 1.6 | versicolor |\n",
       "| 85 | 5.4 | 3.0 | 4.5 | 1.5 | versicolor |\n",
       "| 86 | 6.0 | 3.4 | 4.5 | 1.6 | versicolor |\n",
       "| 87 | 6.7 | 3.1 | 4.7 | 1.5 | versicolor |\n",
       "| 88 | 6.3 | 2.3 | 4.4 | 1.3 | versicolor |\n",
       "| 89 | 5.6 | 3.0 | 4.1 | 1.3 | versicolor |\n",
       "| 90 | 5.5 | 2.5 | 4.0 | 1.3 | versicolor |\n",
       "| 91 | 5.5 | 2.6 | 4.4 | 1.2 | versicolor |\n",
       "| 92 | 6.1 | 3.0 | 4.6 | 1.4 | versicolor |\n",
       "| 93 | 5.8 | 2.6 | 4.0 | 1.2 | versicolor |\n",
       "| 94 | 5.0 | 2.3 | 3.3 | 1.0 | versicolor |\n",
       "| 95 | 5.6 | 2.7 | 4.2 | 1.3 | versicolor |\n",
       "| 96 | 5.7 | 3.0 | 4.2 | 1.2 | versicolor |\n",
       "| 97 | 5.7 | 2.9 | 4.2 | 1.3 | versicolor |\n",
       "| 98 | 6.2 | 2.9 | 4.3 | 1.3 | versicolor |\n",
       "| 99 | 5.1 | 2.5 | 3.0 | 1.1 | versicolor |\n",
       "| 100 | 5.7 | 2.8 | 4.1 | 1.3 | versicolor |\n",
       "\n"
      ],
      "text/plain": [
       "    Sepal.Length Sepal.Width Petal.Length Petal.Width Species   \n",
       "51  7.0          3.2         4.7          1.4         versicolor\n",
       "52  6.4          3.2         4.5          1.5         versicolor\n",
       "53  6.9          3.1         4.9          1.5         versicolor\n",
       "54  5.5          2.3         4.0          1.3         versicolor\n",
       "55  6.5          2.8         4.6          1.5         versicolor\n",
       "56  5.7          2.8         4.5          1.3         versicolor\n",
       "57  6.3          3.3         4.7          1.6         versicolor\n",
       "58  4.9          2.4         3.3          1.0         versicolor\n",
       "59  6.6          2.9         4.6          1.3         versicolor\n",
       "60  5.2          2.7         3.9          1.4         versicolor\n",
       "61  5.0          2.0         3.5          1.0         versicolor\n",
       "62  5.9          3.0         4.2          1.5         versicolor\n",
       "63  6.0          2.2         4.0          1.0         versicolor\n",
       "64  6.1          2.9         4.7          1.4         versicolor\n",
       "65  5.6          2.9         3.6          1.3         versicolor\n",
       "66  6.7          3.1         4.4          1.4         versicolor\n",
       "67  5.6          3.0         4.5          1.5         versicolor\n",
       "68  5.8          2.7         4.1          1.0         versicolor\n",
       "69  6.2          2.2         4.5          1.5         versicolor\n",
       "70  5.6          2.5         3.9          1.1         versicolor\n",
       "71  5.9          3.2         4.8          1.8         versicolor\n",
       "72  6.1          2.8         4.0          1.3         versicolor\n",
       "73  6.3          2.5         4.9          1.5         versicolor\n",
       "74  6.1          2.8         4.7          1.2         versicolor\n",
       "75  6.4          2.9         4.3          1.3         versicolor\n",
       "76  6.6          3.0         4.4          1.4         versicolor\n",
       "77  6.8          2.8         4.8          1.4         versicolor\n",
       "78  6.7          3.0         5.0          1.7         versicolor\n",
       "79  6.0          2.9         4.5          1.5         versicolor\n",
       "80  5.7          2.6         3.5          1.0         versicolor\n",
       "81  5.5          2.4         3.8          1.1         versicolor\n",
       "82  5.5          2.4         3.7          1.0         versicolor\n",
       "83  5.8          2.7         3.9          1.2         versicolor\n",
       "84  6.0          2.7         5.1          1.6         versicolor\n",
       "85  5.4          3.0         4.5          1.5         versicolor\n",
       "86  6.0          3.4         4.5          1.6         versicolor\n",
       "87  6.7          3.1         4.7          1.5         versicolor\n",
       "88  6.3          2.3         4.4          1.3         versicolor\n",
       "89  5.6          3.0         4.1          1.3         versicolor\n",
       "90  5.5          2.5         4.0          1.3         versicolor\n",
       "91  5.5          2.6         4.4          1.2         versicolor\n",
       "92  6.1          3.0         4.6          1.4         versicolor\n",
       "93  5.8          2.6         4.0          1.2         versicolor\n",
       "94  5.0          2.3         3.3          1.0         versicolor\n",
       "95  5.6          2.7         4.2          1.3         versicolor\n",
       "96  5.7          3.0         4.2          1.2         versicolor\n",
       "97  5.7          2.9         4.2          1.3         versicolor\n",
       "98  6.2          2.9         4.3          1.3         versicolor\n",
       "99  5.1          2.5         3.0          1.1         versicolor\n",
       "100 5.7          2.8         4.1          1.3         versicolor"
      ]
     },
     "metadata": {},
     "output_type": "display_data"
    },
    {
     "data": {
      "text/html": [
       "50"
      ],
      "text/latex": [
       "50"
      ],
      "text/markdown": [
       "50"
      ],
      "text/plain": [
       "[1] 50"
      ]
     },
     "metadata": {},
     "output_type": "display_data"
    },
    {
     "data": {
      "text/html": [
       "<table class=\"dataframe\">\n",
       "<caption>A data.frame: 6 x 5</caption>\n",
       "<thead>\n",
       "\t<tr><th></th><th scope=col>Sepal.Length</th><th scope=col>Sepal.Width</th><th scope=col>Petal.Length</th><th scope=col>Petal.Width</th><th scope=col>Species</th></tr>\n",
       "\t<tr><th></th><th scope=col>&lt;dbl&gt;</th><th scope=col>&lt;dbl&gt;</th><th scope=col>&lt;dbl&gt;</th><th scope=col>&lt;dbl&gt;</th><th scope=col>&lt;fct&gt;</th></tr>\n",
       "</thead>\n",
       "<tbody>\n",
       "\t<tr><th scope=row>51</th><td>7.0</td><td>3.2</td><td>4.7</td><td>1.4</td><td>versicolor</td></tr>\n",
       "\t<tr><th scope=row>52</th><td>6.4</td><td>3.2</td><td>4.5</td><td>1.5</td><td>versicolor</td></tr>\n",
       "\t<tr><th scope=row>53</th><td>6.9</td><td>3.1</td><td>4.9</td><td>1.5</td><td>versicolor</td></tr>\n",
       "\t<tr><th scope=row>54</th><td>5.5</td><td>2.3</td><td>4.0</td><td>1.3</td><td>versicolor</td></tr>\n",
       "\t<tr><th scope=row>55</th><td>6.5</td><td>2.8</td><td>4.6</td><td>1.5</td><td>versicolor</td></tr>\n",
       "\t<tr><th scope=row>56</th><td>5.7</td><td>2.8</td><td>4.5</td><td>1.3</td><td>versicolor</td></tr>\n",
       "</tbody>\n",
       "</table>\n"
      ],
      "text/latex": [
       "A data.frame: 6 x 5\n",
       "\\begin{tabular}{r|lllll}\n",
       "  & Sepal.Length & Sepal.Width & Petal.Length & Petal.Width & Species\\\\\n",
       "  & <dbl> & <dbl> & <dbl> & <dbl> & <fct>\\\\\n",
       "\\hline\n",
       "\t51 & 7.0 & 3.2 & 4.7 & 1.4 & versicolor\\\\\n",
       "\t52 & 6.4 & 3.2 & 4.5 & 1.5 & versicolor\\\\\n",
       "\t53 & 6.9 & 3.1 & 4.9 & 1.5 & versicolor\\\\\n",
       "\t54 & 5.5 & 2.3 & 4.0 & 1.3 & versicolor\\\\\n",
       "\t55 & 6.5 & 2.8 & 4.6 & 1.5 & versicolor\\\\\n",
       "\t56 & 5.7 & 2.8 & 4.5 & 1.3 & versicolor\\\\\n",
       "\\end{tabular}\n"
      ],
      "text/markdown": [
       "\n",
       "A data.frame: 6 x 5\n",
       "\n",
       "| <!--/--> | Sepal.Length &lt;dbl&gt; | Sepal.Width &lt;dbl&gt; | Petal.Length &lt;dbl&gt; | Petal.Width &lt;dbl&gt; | Species &lt;fct&gt; |\n",
       "|---|---|---|---|---|---|\n",
       "| 51 | 7.0 | 3.2 | 4.7 | 1.4 | versicolor |\n",
       "| 52 | 6.4 | 3.2 | 4.5 | 1.5 | versicolor |\n",
       "| 53 | 6.9 | 3.1 | 4.9 | 1.5 | versicolor |\n",
       "| 54 | 5.5 | 2.3 | 4.0 | 1.3 | versicolor |\n",
       "| 55 | 6.5 | 2.8 | 4.6 | 1.5 | versicolor |\n",
       "| 56 | 5.7 | 2.8 | 4.5 | 1.3 | versicolor |\n",
       "\n"
      ],
      "text/plain": [
       "   Sepal.Length Sepal.Width Petal.Length Petal.Width Species   \n",
       "51 7.0          3.2         4.7          1.4         versicolor\n",
       "52 6.4          3.2         4.5          1.5         versicolor\n",
       "53 6.9          3.1         4.9          1.5         versicolor\n",
       "54 5.5          2.3         4.0          1.3         versicolor\n",
       "55 6.5          2.8         4.6          1.5         versicolor\n",
       "56 5.7          2.8         4.5          1.3         versicolor"
      ]
     },
     "metadata": {},
     "output_type": "display_data"
    },
    {
     "name": "stdout",
     "output_type": "stream",
     "text": [
      "  Sepal.Length Sepal.Width Petal.Length Petal.Width    Species\n",
      "1          7.0         3.2          4.7         1.4 versicolor\n",
      "2          6.4         3.2          4.5         1.5 versicolor\n",
      "3          6.9         3.1          4.9         1.5 versicolor\n",
      "4          5.5         2.3          4.0         1.3 versicolor\n",
      "5          6.5         2.8          4.6         1.5 versicolor\n",
      "6          5.7         2.8          4.5         1.3 versicolor\n",
      "'data.frame':\t50 obs. of  5 variables:\n",
      " $ Sepal.Length: num  7 6.4 6.9 5.5 6.5 5.7 6.3 4.9 6.6 5.2 ...\n",
      " $ Sepal.Width : num  3.2 3.2 3.1 2.3 2.8 2.8 3.3 2.4 2.9 2.7 ...\n",
      " $ Petal.Length: num  4.7 4.5 4.9 4 4.6 4.5 4.7 3.3 4.6 3.9 ...\n",
      " $ Petal.Width : num  1.4 1.5 1.5 1.3 1.5 1.3 1.6 1 1.3 1.4 ...\n",
      " $ Species     : Factor w/ 3 levels \"setosa\",\"versicolor\",..: 2 2 2 2 2 2 2 2 2 2 ...\n"
     ]
    },
    {
     "ename": "ERROR",
     "evalue": "Error in -str(iris_versicolor): invalid argument to unary operator\n",
     "output_type": "error",
     "traceback": [
      "Error in -str(iris_versicolor): invalid argument to unary operator\nTraceback:\n"
     ]
    }
   ],
   "source": [
    "#iris에서 Species가 versicolor인것만 추출하여 iris_versicolor라는 데이터프레임 만들기\n",
    "subset(iris, Species == \"versicolor\")\n",
    "\n",
    "iris_versicolor <- subset(iris, Species == \"versicolor\")\n",
    "nrow(iris_versicolor)\n",
    "\n",
    "head(iris_versicolor)\n",
    "\n",
    "rownames(iris_versicolor) <- c()  # 0부터 나오게 번호 초기화\n",
    "print(head(iris_versicolor))\n",
    "\n",
    "str(iris_versicolor)\n",
    "\n",
    "iris_versicolor$Species <- factor(iris_versicolor$Species) \n",
    "str(iris_versicolor)"
   ]
  },
  {
   "cell_type": "code",
   "execution_count": 35,
   "metadata": {
    "vscode": {
     "languageId": "r"
    }
   },
   "outputs": [
    {
     "data": {
      "text/html": [
       "<table class=\"dataframe\">\n",
       "<caption>A data.frame: 6 x 5</caption>\n",
       "<thead>\n",
       "\t<tr><th></th><th scope=col>Sepal.Length</th><th scope=col>Sepal.Width</th><th scope=col>Petal.Length</th><th scope=col>Petal.Width</th><th scope=col>Species</th></tr>\n",
       "\t<tr><th></th><th scope=col>&lt;dbl&gt;</th><th scope=col>&lt;dbl&gt;</th><th scope=col>&lt;dbl&gt;</th><th scope=col>&lt;dbl&gt;</th><th scope=col>&lt;fct&gt;</th></tr>\n",
       "</thead>\n",
       "<tbody>\n",
       "\t<tr><th scope=row>1</th><td>5.1</td><td>3.5</td><td>1.4</td><td>0.2</td><td>setosa</td></tr>\n",
       "\t<tr><th scope=row>2</th><td>4.9</td><td>3.0</td><td>1.4</td><td>0.2</td><td>setosa</td></tr>\n",
       "\t<tr><th scope=row>3</th><td>4.7</td><td>3.2</td><td>1.3</td><td>0.2</td><td>setosa</td></tr>\n",
       "\t<tr><th scope=row>4</th><td>4.6</td><td>3.1</td><td>1.5</td><td>0.2</td><td>setosa</td></tr>\n",
       "\t<tr><th scope=row>5</th><td>5.0</td><td>3.6</td><td>1.4</td><td>0.2</td><td>setosa</td></tr>\n",
       "\t<tr><th scope=row>6</th><td>5.4</td><td>3.9</td><td>1.7</td><td>0.4</td><td>setosa</td></tr>\n",
       "</tbody>\n",
       "</table>\n"
      ],
      "text/latex": [
       "A data.frame: 6 x 5\n",
       "\\begin{tabular}{r|lllll}\n",
       "  & Sepal.Length & Sepal.Width & Petal.Length & Petal.Width & Species\\\\\n",
       "  & <dbl> & <dbl> & <dbl> & <dbl> & <fct>\\\\\n",
       "\\hline\n",
       "\t1 & 5.1 & 3.5 & 1.4 & 0.2 & setosa\\\\\n",
       "\t2 & 4.9 & 3.0 & 1.4 & 0.2 & setosa\\\\\n",
       "\t3 & 4.7 & 3.2 & 1.3 & 0.2 & setosa\\\\\n",
       "\t4 & 4.6 & 3.1 & 1.5 & 0.2 & setosa\\\\\n",
       "\t5 & 5.0 & 3.6 & 1.4 & 0.2 & setosa\\\\\n",
       "\t6 & 5.4 & 3.9 & 1.7 & 0.4 & setosa\\\\\n",
       "\\end{tabular}\n"
      ],
      "text/markdown": [
       "\n",
       "A data.frame: 6 x 5\n",
       "\n",
       "| <!--/--> | Sepal.Length &lt;dbl&gt; | Sepal.Width &lt;dbl&gt; | Petal.Length &lt;dbl&gt; | Petal.Width &lt;dbl&gt; | Species &lt;fct&gt; |\n",
       "|---|---|---|---|---|---|\n",
       "| 1 | 5.1 | 3.5 | 1.4 | 0.2 | setosa |\n",
       "| 2 | 4.9 | 3.0 | 1.4 | 0.2 | setosa |\n",
       "| 3 | 4.7 | 3.2 | 1.3 | 0.2 | setosa |\n",
       "| 4 | 4.6 | 3.1 | 1.5 | 0.2 | setosa |\n",
       "| 5 | 5.0 | 3.6 | 1.4 | 0.2 | setosa |\n",
       "| 6 | 5.4 | 3.9 | 1.7 | 0.4 | setosa |\n",
       "\n"
      ],
      "text/plain": [
       "  Sepal.Length Sepal.Width Petal.Length Petal.Width Species\n",
       "1 5.1          3.5         1.4          0.2         setosa \n",
       "2 4.9          3.0         1.4          0.2         setosa \n",
       "3 4.7          3.2         1.3          0.2         setosa \n",
       "4 4.6          3.1         1.5          0.2         setosa \n",
       "5 5.0          3.6         1.4          0.2         setosa \n",
       "6 5.4          3.9         1.7          0.4         setosa "
      ]
     },
     "metadata": {},
     "output_type": "display_data"
    },
    {
     "data": {
      "text/html": [
       "<table class=\"dataframe\">\n",
       "<caption>A data.frame: 6 x 5</caption>\n",
       "<thead>\n",
       "\t<tr><th></th><th scope=col>Sepal.Length</th><th scope=col>Sepal.Width</th><th scope=col>Petal.Length</th><th scope=col>Petal.Width</th><th scope=col>Species</th></tr>\n",
       "\t<tr><th></th><th scope=col>&lt;dbl&gt;</th><th scope=col>&lt;dbl&gt;</th><th scope=col>&lt;dbl&gt;</th><th scope=col>&lt;dbl&gt;</th><th scope=col>&lt;fct&gt;</th></tr>\n",
       "</thead>\n",
       "<tbody>\n",
       "\t<tr><th scope=row>1</th><td>5.1</td><td>3.5</td><td>1.4</td><td>0.2</td><td>setosa</td></tr>\n",
       "\t<tr><th scope=row>6</th><td>5.4</td><td>3.9</td><td>1.7</td><td>0.4</td><td>setosa</td></tr>\n",
       "\t<tr><th scope=row>11</th><td>5.4</td><td>3.7</td><td>1.5</td><td>0.2</td><td>setosa</td></tr>\n",
       "\t<tr><th scope=row>15</th><td>5.8</td><td>4.0</td><td>1.2</td><td>0.2</td><td>setosa</td></tr>\n",
       "\t<tr><th scope=row>16</th><td>5.7</td><td>4.4</td><td>1.5</td><td>0.4</td><td>setosa</td></tr>\n",
       "\t<tr><th scope=row>17</th><td>5.4</td><td>3.9</td><td>1.3</td><td>0.4</td><td>setosa</td></tr>\n",
       "</tbody>\n",
       "</table>\n"
      ],
      "text/latex": [
       "A data.frame: 6 x 5\n",
       "\\begin{tabular}{r|lllll}\n",
       "  & Sepal.Length & Sepal.Width & Petal.Length & Petal.Width & Species\\\\\n",
       "  & <dbl> & <dbl> & <dbl> & <dbl> & <fct>\\\\\n",
       "\\hline\n",
       "\t1 & 5.1 & 3.5 & 1.4 & 0.2 & setosa\\\\\n",
       "\t6 & 5.4 & 3.9 & 1.7 & 0.4 & setosa\\\\\n",
       "\t11 & 5.4 & 3.7 & 1.5 & 0.2 & setosa\\\\\n",
       "\t15 & 5.8 & 4.0 & 1.2 & 0.2 & setosa\\\\\n",
       "\t16 & 5.7 & 4.4 & 1.5 & 0.4 & setosa\\\\\n",
       "\t17 & 5.4 & 3.9 & 1.3 & 0.4 & setosa\\\\\n",
       "\\end{tabular}\n"
      ],
      "text/markdown": [
       "\n",
       "A data.frame: 6 x 5\n",
       "\n",
       "| <!--/--> | Sepal.Length &lt;dbl&gt; | Sepal.Width &lt;dbl&gt; | Petal.Length &lt;dbl&gt; | Petal.Width &lt;dbl&gt; | Species &lt;fct&gt; |\n",
       "|---|---|---|---|---|---|\n",
       "| 1 | 5.1 | 3.5 | 1.4 | 0.2 | setosa |\n",
       "| 6 | 5.4 | 3.9 | 1.7 | 0.4 | setosa |\n",
       "| 11 | 5.4 | 3.7 | 1.5 | 0.2 | setosa |\n",
       "| 15 | 5.8 | 4.0 | 1.2 | 0.2 | setosa |\n",
       "| 16 | 5.7 | 4.4 | 1.5 | 0.4 | setosa |\n",
       "| 17 | 5.4 | 3.9 | 1.3 | 0.4 | setosa |\n",
       "\n"
      ],
      "text/plain": [
       "   Sepal.Length Sepal.Width Petal.Length Petal.Width Species\n",
       "1  5.1          3.5         1.4          0.2         setosa \n",
       "6  5.4          3.9         1.7          0.4         setosa \n",
       "11 5.4          3.7         1.5          0.2         setosa \n",
       "15 5.8          4.0         1.2          0.2         setosa \n",
       "16 5.7          4.4         1.5          0.4         setosa \n",
       "17 5.4          3.9         1.3          0.4         setosa "
      ]
     },
     "metadata": {},
     "output_type": "display_data"
    },
    {
     "data": {
      "text/html": [
       "<table class=\"dataframe\">\n",
       "<caption>A data.frame: 6 x 5</caption>\n",
       "<thead>\n",
       "\t<tr><th></th><th scope=col>Sepal.Length</th><th scope=col>Sepal.Width</th><th scope=col>Petal.Length</th><th scope=col>Petal.Width</th><th scope=col>Species</th></tr>\n",
       "\t<tr><th></th><th scope=col>&lt;dbl&gt;</th><th scope=col>&lt;dbl&gt;</th><th scope=col>&lt;dbl&gt;</th><th scope=col>&lt;dbl&gt;</th><th scope=col>&lt;fct&gt;</th></tr>\n",
       "</thead>\n",
       "<tbody>\n",
       "\t<tr><th scope=row>1</th><td>5.1</td><td>3.5</td><td>1.4</td><td>0.2</td><td>setosa</td></tr>\n",
       "\t<tr><th scope=row>2</th><td>5.4</td><td>3.9</td><td>1.7</td><td>0.4</td><td>setosa</td></tr>\n",
       "\t<tr><th scope=row>3</th><td>5.4</td><td>3.7</td><td>1.5</td><td>0.2</td><td>setosa</td></tr>\n",
       "\t<tr><th scope=row>4</th><td>5.8</td><td>4.0</td><td>1.2</td><td>0.2</td><td>setosa</td></tr>\n",
       "\t<tr><th scope=row>5</th><td>5.7</td><td>4.4</td><td>1.5</td><td>0.4</td><td>setosa</td></tr>\n",
       "\t<tr><th scope=row>6</th><td>5.4</td><td>3.9</td><td>1.3</td><td>0.4</td><td>setosa</td></tr>\n",
       "</tbody>\n",
       "</table>\n"
      ],
      "text/latex": [
       "A data.frame: 6 x 5\n",
       "\\begin{tabular}{r|lllll}\n",
       "  & Sepal.Length & Sepal.Width & Petal.Length & Petal.Width & Species\\\\\n",
       "  & <dbl> & <dbl> & <dbl> & <dbl> & <fct>\\\\\n",
       "\\hline\n",
       "\t1 & 5.1 & 3.5 & 1.4 & 0.2 & setosa\\\\\n",
       "\t2 & 5.4 & 3.9 & 1.7 & 0.4 & setosa\\\\\n",
       "\t3 & 5.4 & 3.7 & 1.5 & 0.2 & setosa\\\\\n",
       "\t4 & 5.8 & 4.0 & 1.2 & 0.2 & setosa\\\\\n",
       "\t5 & 5.7 & 4.4 & 1.5 & 0.4 & setosa\\\\\n",
       "\t6 & 5.4 & 3.9 & 1.3 & 0.4 & setosa\\\\\n",
       "\\end{tabular}\n"
      ],
      "text/markdown": [
       "\n",
       "A data.frame: 6 x 5\n",
       "\n",
       "| <!--/--> | Sepal.Length &lt;dbl&gt; | Sepal.Width &lt;dbl&gt; | Petal.Length &lt;dbl&gt; | Petal.Width &lt;dbl&gt; | Species &lt;fct&gt; |\n",
       "|---|---|---|---|---|---|\n",
       "| 1 | 5.1 | 3.5 | 1.4 | 0.2 | setosa |\n",
       "| 2 | 5.4 | 3.9 | 1.7 | 0.4 | setosa |\n",
       "| 3 | 5.4 | 3.7 | 1.5 | 0.2 | setosa |\n",
       "| 4 | 5.8 | 4.0 | 1.2 | 0.2 | setosa |\n",
       "| 5 | 5.7 | 4.4 | 1.5 | 0.4 | setosa |\n",
       "| 6 | 5.4 | 3.9 | 1.3 | 0.4 | setosa |\n",
       "\n"
      ],
      "text/plain": [
       "  Sepal.Length Sepal.Width Petal.Length Petal.Width Species\n",
       "1 5.1          3.5         1.4          0.2         setosa \n",
       "2 5.4          3.9         1.7          0.4         setosa \n",
       "3 5.4          3.7         1.5          0.2         setosa \n",
       "4 5.8          4.0         1.2          0.2         setosa \n",
       "5 5.7          4.4         1.5          0.4         setosa \n",
       "6 5.4          3.9         1.3          0.4         setosa "
      ]
     },
     "metadata": {},
     "output_type": "display_data"
    },
    {
     "name": "stdout",
     "output_type": "stream",
     "text": [
      "'data.frame':\t50 obs. of  5 variables:\n",
      " $ Sepal.Length: num  7 6.4 6.9 5.5 6.5 5.7 6.3 4.9 6.6 5.2 ...\n",
      " $ Sepal.Width : num  3.2 3.2 3.1 2.3 2.8 2.8 3.3 2.4 2.9 2.7 ...\n",
      " $ Petal.Length: num  4.7 4.5 4.9 4 4.6 4.5 4.7 3.3 4.6 3.9 ...\n",
      " $ Petal.Width : num  1.4 1.5 1.5 1.3 1.5 1.3 1.6 1 1.3 1.4 ...\n",
      " $ Species     : Factor w/ 1 level \"versicolor\": 1 1 1 1 1 1 1 1 1 1 ...\n"
     ]
    },
    {
     "data": {
      "text/html": [
       "50"
      ],
      "text/latex": [
       "50"
      ],
      "text/markdown": [
       "50"
      ],
      "text/plain": [
       "[1] 50"
      ]
     },
     "metadata": {},
     "output_type": "display_data"
    }
   ],
   "source": [
    "# iris에서 Species가 setosa이고, Sepal.Length가 5보다 큰 자료만 추출하여 갯수 구하기\n",
    "head(iris_setosa)\n",
    "iris_a <- subset(iris, Species == \"setosa\")\n",
    "\n",
    "iris_b <- subset(iris_a, Sepal.Length > 5)\n",
    "head(iris_b)\n",
    "\n",
    "rownames(iris_b) <- c()\n",
    "head(iris_b)\n",
    "\n",
    "iris_versicolor$Species <- factor(iris_versicolor$Species)\n",
    "str(iris_versicolor)\n",
    "\n",
    "nrow(iris_versicolor)"
   ]
  },
  {
   "cell_type": "code",
   "execution_count": 42,
   "metadata": {
    "vscode": {
     "languageId": "r"
    }
   },
   "outputs": [
    {
     "data": {
      "text/html": [
       "<table class=\"dataframe\">\n",
       "<caption>A data.frame: 150 x 4</caption>\n",
       "<thead>\n",
       "\t<tr><th></th><th scope=col>Sepal.Length</th><th scope=col>Sepal.Width</th><th scope=col>Petal.Length</th><th scope=col>Petal.Width</th></tr>\n",
       "\t<tr><th></th><th scope=col>&lt;dbl&gt;</th><th scope=col>&lt;dbl&gt;</th><th scope=col>&lt;dbl&gt;</th><th scope=col>&lt;dbl&gt;</th></tr>\n",
       "</thead>\n",
       "<tbody>\n",
       "\t<tr><th scope=row>1</th><td>5.1</td><td>3.5</td><td>1.4</td><td>0.2</td></tr>\n",
       "\t<tr><th scope=row>2</th><td>4.9</td><td>3.0</td><td>1.4</td><td>0.2</td></tr>\n",
       "\t<tr><th scope=row>3</th><td>4.7</td><td>3.2</td><td>1.3</td><td>0.2</td></tr>\n",
       "\t<tr><th scope=row>4</th><td>4.6</td><td>3.1</td><td>1.5</td><td>0.2</td></tr>\n",
       "\t<tr><th scope=row>5</th><td>5.0</td><td>3.6</td><td>1.4</td><td>0.2</td></tr>\n",
       "\t<tr><th scope=row>6</th><td>5.4</td><td>3.9</td><td>1.7</td><td>0.4</td></tr>\n",
       "\t<tr><th scope=row>7</th><td>4.6</td><td>3.4</td><td>1.4</td><td>0.3</td></tr>\n",
       "\t<tr><th scope=row>8</th><td>5.0</td><td>3.4</td><td>1.5</td><td>0.2</td></tr>\n",
       "\t<tr><th scope=row>9</th><td>4.4</td><td>2.9</td><td>1.4</td><td>0.2</td></tr>\n",
       "\t<tr><th scope=row>10</th><td>4.9</td><td>3.1</td><td>1.5</td><td>0.1</td></tr>\n",
       "\t<tr><th scope=row>11</th><td>5.4</td><td>3.7</td><td>1.5</td><td>0.2</td></tr>\n",
       "\t<tr><th scope=row>12</th><td>4.8</td><td>3.4</td><td>1.6</td><td>0.2</td></tr>\n",
       "\t<tr><th scope=row>13</th><td>4.8</td><td>3.0</td><td>1.4</td><td>0.1</td></tr>\n",
       "\t<tr><th scope=row>14</th><td>4.3</td><td>3.0</td><td>1.1</td><td>0.1</td></tr>\n",
       "\t<tr><th scope=row>15</th><td>5.8</td><td>4.0</td><td>1.2</td><td>0.2</td></tr>\n",
       "\t<tr><th scope=row>16</th><td>5.7</td><td>4.4</td><td>1.5</td><td>0.4</td></tr>\n",
       "\t<tr><th scope=row>17</th><td>5.4</td><td>3.9</td><td>1.3</td><td>0.4</td></tr>\n",
       "\t<tr><th scope=row>18</th><td>5.1</td><td>3.5</td><td>1.4</td><td>0.3</td></tr>\n",
       "\t<tr><th scope=row>19</th><td>5.7</td><td>3.8</td><td>1.7</td><td>0.3</td></tr>\n",
       "\t<tr><th scope=row>20</th><td>5.1</td><td>3.8</td><td>1.5</td><td>0.3</td></tr>\n",
       "\t<tr><th scope=row>21</th><td>5.4</td><td>3.4</td><td>1.7</td><td>0.2</td></tr>\n",
       "\t<tr><th scope=row>22</th><td>5.1</td><td>3.7</td><td>1.5</td><td>0.4</td></tr>\n",
       "\t<tr><th scope=row>23</th><td>4.6</td><td>3.6</td><td>1.0</td><td>0.2</td></tr>\n",
       "\t<tr><th scope=row>24</th><td>5.1</td><td>3.3</td><td>1.7</td><td>0.5</td></tr>\n",
       "\t<tr><th scope=row>25</th><td>4.8</td><td>3.4</td><td>1.9</td><td>0.2</td></tr>\n",
       "\t<tr><th scope=row>26</th><td>5.0</td><td>3.0</td><td>1.6</td><td>0.2</td></tr>\n",
       "\t<tr><th scope=row>27</th><td>5.0</td><td>3.4</td><td>1.6</td><td>0.4</td></tr>\n",
       "\t<tr><th scope=row>28</th><td>5.2</td><td>3.5</td><td>1.5</td><td>0.2</td></tr>\n",
       "\t<tr><th scope=row>29</th><td>5.2</td><td>3.4</td><td>1.4</td><td>0.2</td></tr>\n",
       "\t<tr><th scope=row>30</th><td>4.7</td><td>3.2</td><td>1.6</td><td>0.2</td></tr>\n",
       "\t<tr><th scope=row>...</th><td>...</td><td>...</td><td>...</td><td>...</td></tr>\n",
       "\t<tr><th scope=row>121</th><td>6.9</td><td>3.2</td><td>5.7</td><td>2.3</td></tr>\n",
       "\t<tr><th scope=row>122</th><td>5.6</td><td>2.8</td><td>4.9</td><td>2.0</td></tr>\n",
       "\t<tr><th scope=row>123</th><td>7.7</td><td>2.8</td><td>6.7</td><td>2.0</td></tr>\n",
       "\t<tr><th scope=row>124</th><td>6.3</td><td>2.7</td><td>4.9</td><td>1.8</td></tr>\n",
       "\t<tr><th scope=row>125</th><td>6.7</td><td>3.3</td><td>5.7</td><td>2.1</td></tr>\n",
       "\t<tr><th scope=row>126</th><td>7.2</td><td>3.2</td><td>6.0</td><td>1.8</td></tr>\n",
       "\t<tr><th scope=row>127</th><td>6.2</td><td>2.8</td><td>4.8</td><td>1.8</td></tr>\n",
       "\t<tr><th scope=row>128</th><td>6.1</td><td>3.0</td><td>4.9</td><td>1.8</td></tr>\n",
       "\t<tr><th scope=row>129</th><td>6.4</td><td>2.8</td><td>5.6</td><td>2.1</td></tr>\n",
       "\t<tr><th scope=row>130</th><td>7.2</td><td>3.0</td><td>5.8</td><td>1.6</td></tr>\n",
       "\t<tr><th scope=row>131</th><td>7.4</td><td>2.8</td><td>6.1</td><td>1.9</td></tr>\n",
       "\t<tr><th scope=row>132</th><td>7.9</td><td>3.8</td><td>6.4</td><td>2.0</td></tr>\n",
       "\t<tr><th scope=row>133</th><td>6.4</td><td>2.8</td><td>5.6</td><td>2.2</td></tr>\n",
       "\t<tr><th scope=row>134</th><td>6.3</td><td>2.8</td><td>5.1</td><td>1.5</td></tr>\n",
       "\t<tr><th scope=row>135</th><td>6.1</td><td>2.6</td><td>5.6</td><td>1.4</td></tr>\n",
       "\t<tr><th scope=row>136</th><td>7.7</td><td>3.0</td><td>6.1</td><td>2.3</td></tr>\n",
       "\t<tr><th scope=row>137</th><td>6.3</td><td>3.4</td><td>5.6</td><td>2.4</td></tr>\n",
       "\t<tr><th scope=row>138</th><td>6.4</td><td>3.1</td><td>5.5</td><td>1.8</td></tr>\n",
       "\t<tr><th scope=row>139</th><td>6.0</td><td>3.0</td><td>4.8</td><td>1.8</td></tr>\n",
       "\t<tr><th scope=row>140</th><td>6.9</td><td>3.1</td><td>5.4</td><td>2.1</td></tr>\n",
       "\t<tr><th scope=row>141</th><td>6.7</td><td>3.1</td><td>5.6</td><td>2.4</td></tr>\n",
       "\t<tr><th scope=row>142</th><td>6.9</td><td>3.1</td><td>5.1</td><td>2.3</td></tr>\n",
       "\t<tr><th scope=row>143</th><td>5.8</td><td>2.7</td><td>5.1</td><td>1.9</td></tr>\n",
       "\t<tr><th scope=row>144</th><td>6.8</td><td>3.2</td><td>5.9</td><td>2.3</td></tr>\n",
       "\t<tr><th scope=row>145</th><td>6.7</td><td>3.3</td><td>5.7</td><td>2.5</td></tr>\n",
       "\t<tr><th scope=row>146</th><td>6.7</td><td>3.0</td><td>5.2</td><td>2.3</td></tr>\n",
       "\t<tr><th scope=row>147</th><td>6.3</td><td>2.5</td><td>5.0</td><td>1.9</td></tr>\n",
       "\t<tr><th scope=row>148</th><td>6.5</td><td>3.0</td><td>5.2</td><td>2.0</td></tr>\n",
       "\t<tr><th scope=row>149</th><td>6.2</td><td>3.4</td><td>5.4</td><td>2.3</td></tr>\n",
       "\t<tr><th scope=row>150</th><td>5.9</td><td>3.0</td><td>5.1</td><td>1.8</td></tr>\n",
       "</tbody>\n",
       "</table>\n"
      ],
      "text/latex": [
       "A data.frame: 150 x 4\n",
       "\\begin{tabular}{r|llll}\n",
       "  & Sepal.Length & Sepal.Width & Petal.Length & Petal.Width\\\\\n",
       "  & <dbl> & <dbl> & <dbl> & <dbl>\\\\\n",
       "\\hline\n",
       "\t1 & 5.1 & 3.5 & 1.4 & 0.2\\\\\n",
       "\t2 & 4.9 & 3.0 & 1.4 & 0.2\\\\\n",
       "\t3 & 4.7 & 3.2 & 1.3 & 0.2\\\\\n",
       "\t4 & 4.6 & 3.1 & 1.5 & 0.2\\\\\n",
       "\t5 & 5.0 & 3.6 & 1.4 & 0.2\\\\\n",
       "\t6 & 5.4 & 3.9 & 1.7 & 0.4\\\\\n",
       "\t7 & 4.6 & 3.4 & 1.4 & 0.3\\\\\n",
       "\t8 & 5.0 & 3.4 & 1.5 & 0.2\\\\\n",
       "\t9 & 4.4 & 2.9 & 1.4 & 0.2\\\\\n",
       "\t10 & 4.9 & 3.1 & 1.5 & 0.1\\\\\n",
       "\t11 & 5.4 & 3.7 & 1.5 & 0.2\\\\\n",
       "\t12 & 4.8 & 3.4 & 1.6 & 0.2\\\\\n",
       "\t13 & 4.8 & 3.0 & 1.4 & 0.1\\\\\n",
       "\t14 & 4.3 & 3.0 & 1.1 & 0.1\\\\\n",
       "\t15 & 5.8 & 4.0 & 1.2 & 0.2\\\\\n",
       "\t16 & 5.7 & 4.4 & 1.5 & 0.4\\\\\n",
       "\t17 & 5.4 & 3.9 & 1.3 & 0.4\\\\\n",
       "\t18 & 5.1 & 3.5 & 1.4 & 0.3\\\\\n",
       "\t19 & 5.7 & 3.8 & 1.7 & 0.3\\\\\n",
       "\t20 & 5.1 & 3.8 & 1.5 & 0.3\\\\\n",
       "\t21 & 5.4 & 3.4 & 1.7 & 0.2\\\\\n",
       "\t22 & 5.1 & 3.7 & 1.5 & 0.4\\\\\n",
       "\t23 & 4.6 & 3.6 & 1.0 & 0.2\\\\\n",
       "\t24 & 5.1 & 3.3 & 1.7 & 0.5\\\\\n",
       "\t25 & 4.8 & 3.4 & 1.9 & 0.2\\\\\n",
       "\t26 & 5.0 & 3.0 & 1.6 & 0.2\\\\\n",
       "\t27 & 5.0 & 3.4 & 1.6 & 0.4\\\\\n",
       "\t28 & 5.2 & 3.5 & 1.5 & 0.2\\\\\n",
       "\t29 & 5.2 & 3.4 & 1.4 & 0.2\\\\\n",
       "\t30 & 4.7 & 3.2 & 1.6 & 0.2\\\\\n",
       "\t... & ... & ... & ... & ...\\\\\n",
       "\t121 & 6.9 & 3.2 & 5.7 & 2.3\\\\\n",
       "\t122 & 5.6 & 2.8 & 4.9 & 2.0\\\\\n",
       "\t123 & 7.7 & 2.8 & 6.7 & 2.0\\\\\n",
       "\t124 & 6.3 & 2.7 & 4.9 & 1.8\\\\\n",
       "\t125 & 6.7 & 3.3 & 5.7 & 2.1\\\\\n",
       "\t126 & 7.2 & 3.2 & 6.0 & 1.8\\\\\n",
       "\t127 & 6.2 & 2.8 & 4.8 & 1.8\\\\\n",
       "\t128 & 6.1 & 3.0 & 4.9 & 1.8\\\\\n",
       "\t129 & 6.4 & 2.8 & 5.6 & 2.1\\\\\n",
       "\t130 & 7.2 & 3.0 & 5.8 & 1.6\\\\\n",
       "\t131 & 7.4 & 2.8 & 6.1 & 1.9\\\\\n",
       "\t132 & 7.9 & 3.8 & 6.4 & 2.0\\\\\n",
       "\t133 & 6.4 & 2.8 & 5.6 & 2.2\\\\\n",
       "\t134 & 6.3 & 2.8 & 5.1 & 1.5\\\\\n",
       "\t135 & 6.1 & 2.6 & 5.6 & 1.4\\\\\n",
       "\t136 & 7.7 & 3.0 & 6.1 & 2.3\\\\\n",
       "\t137 & 6.3 & 3.4 & 5.6 & 2.4\\\\\n",
       "\t138 & 6.4 & 3.1 & 5.5 & 1.8\\\\\n",
       "\t139 & 6.0 & 3.0 & 4.8 & 1.8\\\\\n",
       "\t140 & 6.9 & 3.1 & 5.4 & 2.1\\\\\n",
       "\t141 & 6.7 & 3.1 & 5.6 & 2.4\\\\\n",
       "\t142 & 6.9 & 3.1 & 5.1 & 2.3\\\\\n",
       "\t143 & 5.8 & 2.7 & 5.1 & 1.9\\\\\n",
       "\t144 & 6.8 & 3.2 & 5.9 & 2.3\\\\\n",
       "\t145 & 6.7 & 3.3 & 5.7 & 2.5\\\\\n",
       "\t146 & 6.7 & 3.0 & 5.2 & 2.3\\\\\n",
       "\t147 & 6.3 & 2.5 & 5.0 & 1.9\\\\\n",
       "\t148 & 6.5 & 3.0 & 5.2 & 2.0\\\\\n",
       "\t149 & 6.2 & 3.4 & 5.4 & 2.3\\\\\n",
       "\t150 & 5.9 & 3.0 & 5.1 & 1.8\\\\\n",
       "\\end{tabular}\n"
      ],
      "text/markdown": [
       "\n",
       "A data.frame: 150 x 4\n",
       "\n",
       "| <!--/--> | Sepal.Length &lt;dbl&gt; | Sepal.Width &lt;dbl&gt; | Petal.Length &lt;dbl&gt; | Petal.Width &lt;dbl&gt; |\n",
       "|---|---|---|---|---|\n",
       "| 1 | 5.1 | 3.5 | 1.4 | 0.2 |\n",
       "| 2 | 4.9 | 3.0 | 1.4 | 0.2 |\n",
       "| 3 | 4.7 | 3.2 | 1.3 | 0.2 |\n",
       "| 4 | 4.6 | 3.1 | 1.5 | 0.2 |\n",
       "| 5 | 5.0 | 3.6 | 1.4 | 0.2 |\n",
       "| 6 | 5.4 | 3.9 | 1.7 | 0.4 |\n",
       "| 7 | 4.6 | 3.4 | 1.4 | 0.3 |\n",
       "| 8 | 5.0 | 3.4 | 1.5 | 0.2 |\n",
       "| 9 | 4.4 | 2.9 | 1.4 | 0.2 |\n",
       "| 10 | 4.9 | 3.1 | 1.5 | 0.1 |\n",
       "| 11 | 5.4 | 3.7 | 1.5 | 0.2 |\n",
       "| 12 | 4.8 | 3.4 | 1.6 | 0.2 |\n",
       "| 13 | 4.8 | 3.0 | 1.4 | 0.1 |\n",
       "| 14 | 4.3 | 3.0 | 1.1 | 0.1 |\n",
       "| 15 | 5.8 | 4.0 | 1.2 | 0.2 |\n",
       "| 16 | 5.7 | 4.4 | 1.5 | 0.4 |\n",
       "| 17 | 5.4 | 3.9 | 1.3 | 0.4 |\n",
       "| 18 | 5.1 | 3.5 | 1.4 | 0.3 |\n",
       "| 19 | 5.7 | 3.8 | 1.7 | 0.3 |\n",
       "| 20 | 5.1 | 3.8 | 1.5 | 0.3 |\n",
       "| 21 | 5.4 | 3.4 | 1.7 | 0.2 |\n",
       "| 22 | 5.1 | 3.7 | 1.5 | 0.4 |\n",
       "| 23 | 4.6 | 3.6 | 1.0 | 0.2 |\n",
       "| 24 | 5.1 | 3.3 | 1.7 | 0.5 |\n",
       "| 25 | 4.8 | 3.4 | 1.9 | 0.2 |\n",
       "| 26 | 5.0 | 3.0 | 1.6 | 0.2 |\n",
       "| 27 | 5.0 | 3.4 | 1.6 | 0.4 |\n",
       "| 28 | 5.2 | 3.5 | 1.5 | 0.2 |\n",
       "| 29 | 5.2 | 3.4 | 1.4 | 0.2 |\n",
       "| 30 | 4.7 | 3.2 | 1.6 | 0.2 |\n",
       "| ... | ... | ... | ... | ... |\n",
       "| 121 | 6.9 | 3.2 | 5.7 | 2.3 |\n",
       "| 122 | 5.6 | 2.8 | 4.9 | 2.0 |\n",
       "| 123 | 7.7 | 2.8 | 6.7 | 2.0 |\n",
       "| 124 | 6.3 | 2.7 | 4.9 | 1.8 |\n",
       "| 125 | 6.7 | 3.3 | 5.7 | 2.1 |\n",
       "| 126 | 7.2 | 3.2 | 6.0 | 1.8 |\n",
       "| 127 | 6.2 | 2.8 | 4.8 | 1.8 |\n",
       "| 128 | 6.1 | 3.0 | 4.9 | 1.8 |\n",
       "| 129 | 6.4 | 2.8 | 5.6 | 2.1 |\n",
       "| 130 | 7.2 | 3.0 | 5.8 | 1.6 |\n",
       "| 131 | 7.4 | 2.8 | 6.1 | 1.9 |\n",
       "| 132 | 7.9 | 3.8 | 6.4 | 2.0 |\n",
       "| 133 | 6.4 | 2.8 | 5.6 | 2.2 |\n",
       "| 134 | 6.3 | 2.8 | 5.1 | 1.5 |\n",
       "| 135 | 6.1 | 2.6 | 5.6 | 1.4 |\n",
       "| 136 | 7.7 | 3.0 | 6.1 | 2.3 |\n",
       "| 137 | 6.3 | 3.4 | 5.6 | 2.4 |\n",
       "| 138 | 6.4 | 3.1 | 5.5 | 1.8 |\n",
       "| 139 | 6.0 | 3.0 | 4.8 | 1.8 |\n",
       "| 140 | 6.9 | 3.1 | 5.4 | 2.1 |\n",
       "| 141 | 6.7 | 3.1 | 5.6 | 2.4 |\n",
       "| 142 | 6.9 | 3.1 | 5.1 | 2.3 |\n",
       "| 143 | 5.8 | 2.7 | 5.1 | 1.9 |\n",
       "| 144 | 6.8 | 3.2 | 5.9 | 2.3 |\n",
       "| 145 | 6.7 | 3.3 | 5.7 | 2.5 |\n",
       "| 146 | 6.7 | 3.0 | 5.2 | 2.3 |\n",
       "| 147 | 6.3 | 2.5 | 5.0 | 1.9 |\n",
       "| 148 | 6.5 | 3.0 | 5.2 | 2.0 |\n",
       "| 149 | 6.2 | 3.4 | 5.4 | 2.3 |\n",
       "| 150 | 5.9 | 3.0 | 5.1 | 1.8 |\n",
       "\n"
      ],
      "text/plain": [
       "    Sepal.Length Sepal.Width Petal.Length Petal.Width\n",
       "1   5.1          3.5         1.4          0.2        \n",
       "2   4.9          3.0         1.4          0.2        \n",
       "3   4.7          3.2         1.3          0.2        \n",
       "4   4.6          3.1         1.5          0.2        \n",
       "5   5.0          3.6         1.4          0.2        \n",
       "6   5.4          3.9         1.7          0.4        \n",
       "7   4.6          3.4         1.4          0.3        \n",
       "8   5.0          3.4         1.5          0.2        \n",
       "9   4.4          2.9         1.4          0.2        \n",
       "10  4.9          3.1         1.5          0.1        \n",
       "11  5.4          3.7         1.5          0.2        \n",
       "12  4.8          3.4         1.6          0.2        \n",
       "13  4.8          3.0         1.4          0.1        \n",
       "14  4.3          3.0         1.1          0.1        \n",
       "15  5.8          4.0         1.2          0.2        \n",
       "16  5.7          4.4         1.5          0.4        \n",
       "17  5.4          3.9         1.3          0.4        \n",
       "18  5.1          3.5         1.4          0.3        \n",
       "19  5.7          3.8         1.7          0.3        \n",
       "20  5.1          3.8         1.5          0.3        \n",
       "21  5.4          3.4         1.7          0.2        \n",
       "22  5.1          3.7         1.5          0.4        \n",
       "23  4.6          3.6         1.0          0.2        \n",
       "24  5.1          3.3         1.7          0.5        \n",
       "25  4.8          3.4         1.9          0.2        \n",
       "26  5.0          3.0         1.6          0.2        \n",
       "27  5.0          3.4         1.6          0.4        \n",
       "28  5.2          3.5         1.5          0.2        \n",
       "29  5.2          3.4         1.4          0.2        \n",
       "30  4.7          3.2         1.6          0.2        \n",
       "... ...          ...         ...          ...        \n",
       "121 6.9          3.2         5.7          2.3        \n",
       "122 5.6          2.8         4.9          2.0        \n",
       "123 7.7          2.8         6.7          2.0        \n",
       "124 6.3          2.7         4.9          1.8        \n",
       "125 6.7          3.3         5.7          2.1        \n",
       "126 7.2          3.2         6.0          1.8        \n",
       "127 6.2          2.8         4.8          1.8        \n",
       "128 6.1          3.0         4.9          1.8        \n",
       "129 6.4          2.8         5.6          2.1        \n",
       "130 7.2          3.0         5.8          1.6        \n",
       "131 7.4          2.8         6.1          1.9        \n",
       "132 7.9          3.8         6.4          2.0        \n",
       "133 6.4          2.8         5.6          2.2        \n",
       "134 6.3          2.8         5.1          1.5        \n",
       "135 6.1          2.6         5.6          1.4        \n",
       "136 7.7          3.0         6.1          2.3        \n",
       "137 6.3          3.4         5.6          2.4        \n",
       "138 6.4          3.1         5.5          1.8        \n",
       "139 6.0          3.0         4.8          1.8        \n",
       "140 6.9          3.1         5.4          2.1        \n",
       "141 6.7          3.1         5.6          2.4        \n",
       "142 6.9          3.1         5.1          2.3        \n",
       "143 5.8          2.7         5.1          1.9        \n",
       "144 6.8          3.2         5.9          2.3        \n",
       "145 6.7          3.3         5.7          2.5        \n",
       "146 6.7          3.0         5.2          2.3        \n",
       "147 6.3          2.5         5.0          1.9        \n",
       "148 6.5          3.0         5.2          2.0        \n",
       "149 6.2          3.4         5.4          2.3        \n",
       "150 5.9          3.0         5.1          1.8        "
      ]
     },
     "metadata": {},
     "output_type": "display_data"
    },
    {
     "data": {
      "text/html": [
       "<table class=\"dataframe\">\n",
       "<caption>A data.frame: 6 x 5</caption>\n",
       "<thead>\n",
       "\t<tr><th></th><th scope=col>Sepal.Length</th><th scope=col>Sepal.Width</th><th scope=col>Petal.Length</th><th scope=col>Petal.Width</th><th scope=col>Species</th></tr>\n",
       "\t<tr><th></th><th scope=col>&lt;dbl&gt;</th><th scope=col>&lt;dbl&gt;</th><th scope=col>&lt;dbl&gt;</th><th scope=col>&lt;dbl&gt;</th><th scope=col>&lt;fct&gt;</th></tr>\n",
       "</thead>\n",
       "<tbody>\n",
       "\t<tr><th scope=row>1</th><td>5.1</td><td>3.5</td><td>1.4</td><td>0.2</td><td>setosa</td></tr>\n",
       "\t<tr><th scope=row>2</th><td>4.9</td><td>3.0</td><td>1.4</td><td>0.2</td><td>setosa</td></tr>\n",
       "\t<tr><th scope=row>3</th><td>4.7</td><td>3.2</td><td>1.3</td><td>0.2</td><td>setosa</td></tr>\n",
       "\t<tr><th scope=row>4</th><td>4.6</td><td>3.1</td><td>1.5</td><td>0.2</td><td>setosa</td></tr>\n",
       "\t<tr><th scope=row>5</th><td>5.0</td><td>3.6</td><td>1.4</td><td>0.2</td><td>setosa</td></tr>\n",
       "\t<tr><th scope=row>6</th><td>5.4</td><td>3.9</td><td>1.7</td><td>0.4</td><td>setosa</td></tr>\n",
       "</tbody>\n",
       "</table>\n"
      ],
      "text/latex": [
       "A data.frame: 6 x 5\n",
       "\\begin{tabular}{r|lllll}\n",
       "  & Sepal.Length & Sepal.Width & Petal.Length & Petal.Width & Species\\\\\n",
       "  & <dbl> & <dbl> & <dbl> & <dbl> & <fct>\\\\\n",
       "\\hline\n",
       "\t1 & 5.1 & 3.5 & 1.4 & 0.2 & setosa\\\\\n",
       "\t2 & 4.9 & 3.0 & 1.4 & 0.2 & setosa\\\\\n",
       "\t3 & 4.7 & 3.2 & 1.3 & 0.2 & setosa\\\\\n",
       "\t4 & 4.6 & 3.1 & 1.5 & 0.2 & setosa\\\\\n",
       "\t5 & 5.0 & 3.6 & 1.4 & 0.2 & setosa\\\\\n",
       "\t6 & 5.4 & 3.9 & 1.7 & 0.4 & setosa\\\\\n",
       "\\end{tabular}\n"
      ],
      "text/markdown": [
       "\n",
       "A data.frame: 6 x 5\n",
       "\n",
       "| <!--/--> | Sepal.Length &lt;dbl&gt; | Sepal.Width &lt;dbl&gt; | Petal.Length &lt;dbl&gt; | Petal.Width &lt;dbl&gt; | Species &lt;fct&gt; |\n",
       "|---|---|---|---|---|---|\n",
       "| 1 | 5.1 | 3.5 | 1.4 | 0.2 | setosa |\n",
       "| 2 | 4.9 | 3.0 | 1.4 | 0.2 | setosa |\n",
       "| 3 | 4.7 | 3.2 | 1.3 | 0.2 | setosa |\n",
       "| 4 | 4.6 | 3.1 | 1.5 | 0.2 | setosa |\n",
       "| 5 | 5.0 | 3.6 | 1.4 | 0.2 | setosa |\n",
       "| 6 | 5.4 | 3.9 | 1.7 | 0.4 | setosa |\n",
       "\n"
      ],
      "text/plain": [
       "  Sepal.Length Sepal.Width Petal.Length Petal.Width Species\n",
       "1 5.1          3.5         1.4          0.2         setosa \n",
       "2 4.9          3.0         1.4          0.2         setosa \n",
       "3 4.7          3.2         1.3          0.2         setosa \n",
       "4 4.6          3.1         1.5          0.2         setosa \n",
       "5 5.0          3.6         1.4          0.2         setosa \n",
       "6 5.4          3.9         1.7          0.4         setosa "
      ]
     },
     "metadata": {},
     "output_type": "display_data"
    }
   ],
   "source": [
    "# subset으로 컬럼 지우기\n",
    "subset(iris, select = -Species)\n",
    "head(iris)"
   ]
  },
  {
   "cell_type": "code",
   "execution_count": 48,
   "metadata": {
    "vscode": {
     "languageId": "r"
    }
   },
   "outputs": [
    {
     "data": {
      "text/html": [
       "3.428"
      ],
      "text/latex": [
       "3.428"
      ],
      "text/markdown": [
       "3.428"
      ],
      "text/plain": [
       "[1] 3.428"
      ]
     },
     "metadata": {},
     "output_type": "display_data"
    },
    {
     "data": {
      "text/html": [
       "2.77"
      ],
      "text/latex": [
       "2.77"
      ],
      "text/markdown": [
       "2.77"
      ],
      "text/plain": [
       "[1] 2.77"
      ]
     },
     "metadata": {},
     "output_type": "display_data"
    },
    {
     "data": {
      "text/html": [
       "2.974"
      ],
      "text/latex": [
       "2.974"
      ],
      "text/markdown": [
       "2.974"
      ],
      "text/plain": [
       "[1] 2.974"
      ]
     },
     "metadata": {},
     "output_type": "display_data"
    }
   ],
   "source": [
    "#iris에서 품종별로 Sepal.Width의 평균 구하기\n",
    "mean(subset(iris, Species == \"setosa\")$Sepal.Width)\n",
    "mean(subset(iris, Species == \"versicolor\")$Sepal.Width)\n",
    "mean(subset(iris, Species == \"virginica\")$Sepal.Width)\n"
   ]
  },
  {
   "cell_type": "code",
   "execution_count": 47,
   "metadata": {
    "vscode": {
     "languageId": "r"
    }
   },
   "outputs": [
    {
     "name": "stdout",
     "output_type": "stream",
     "text": [
      "[1] 3.428\n",
      "[1] 2.77\n",
      "[1] 2.974\n"
     ]
    }
   ],
   "source": [
    "for(specie in unique(iris$Species)){\n",
    "    print(mean(subset(iris, Species == specie)$Sepal.Width))\n",
    "}"
   ]
  },
  {
   "cell_type": "markdown",
   "metadata": {
    "vscode": {
     "languageId": "r"
    }
   },
   "source": [
    "그룹연산 함수"
   ]
  },
  {
   "cell_type": "code",
   "execution_count": 45,
   "metadata": {
    "vscode": {
     "languageId": "r"
    }
   },
   "outputs": [
    {
     "data": {
      "text/html": [
       "<table class=\"dataframe\">\n",
       "<caption>A data.frame: 3 x 2</caption>\n",
       "<thead>\n",
       "\t<tr><th scope=col>Species</th><th scope=col>Sepal.Width</th></tr>\n",
       "\t<tr><th scope=col>&lt;fct&gt;</th><th scope=col>&lt;dbl&gt;</th></tr>\n",
       "</thead>\n",
       "<tbody>\n",
       "\t<tr><td>setosa    </td><td>3.428</td></tr>\n",
       "\t<tr><td>versicolor</td><td>2.770</td></tr>\n",
       "\t<tr><td>virginica </td><td>2.974</td></tr>\n",
       "</tbody>\n",
       "</table>\n"
      ],
      "text/latex": [
       "A data.frame: 3 x 2\n",
       "\\begin{tabular}{ll}\n",
       " Species & Sepal.Width\\\\\n",
       " <fct> & <dbl>\\\\\n",
       "\\hline\n",
       "\t setosa     & 3.428\\\\\n",
       "\t versicolor & 2.770\\\\\n",
       "\t virginica  & 2.974\\\\\n",
       "\\end{tabular}\n"
      ],
      "text/markdown": [
       "\n",
       "A data.frame: 3 x 2\n",
       "\n",
       "| Species &lt;fct&gt; | Sepal.Width &lt;dbl&gt; |\n",
       "|---|---|\n",
       "| setosa     | 3.428 |\n",
       "| versicolor | 2.770 |\n",
       "| virginica  | 2.974 |\n",
       "\n"
      ],
      "text/plain": [
       "  Species    Sepal.Width\n",
       "1 setosa     3.428      \n",
       "2 versicolor 2.770      \n",
       "3 virginica  2.974      "
      ]
     },
     "metadata": {},
     "output_type": "display_data"
    },
    {
     "data": {
      "text/html": [
       "<table class=\"dataframe\">\n",
       "<caption>A data.frame: 3 x 2</caption>\n",
       "<thead>\n",
       "\t<tr><th scope=col>Species</th><th scope=col>Sepal.Width</th></tr>\n",
       "\t<tr><th scope=col>&lt;fct&gt;</th><th scope=col>&lt;dbl&gt;</th></tr>\n",
       "</thead>\n",
       "<tbody>\n",
       "\t<tr><td>setosa    </td><td>171.4</td></tr>\n",
       "\t<tr><td>versicolor</td><td>138.5</td></tr>\n",
       "\t<tr><td>virginica </td><td>148.7</td></tr>\n",
       "</tbody>\n",
       "</table>\n"
      ],
      "text/latex": [
       "A data.frame: 3 x 2\n",
       "\\begin{tabular}{ll}\n",
       " Species & Sepal.Width\\\\\n",
       " <fct> & <dbl>\\\\\n",
       "\\hline\n",
       "\t setosa     & 171.4\\\\\n",
       "\t versicolor & 138.5\\\\\n",
       "\t virginica  & 148.7\\\\\n",
       "\\end{tabular}\n"
      ],
      "text/markdown": [
       "\n",
       "A data.frame: 3 x 2\n",
       "\n",
       "| Species &lt;fct&gt; | Sepal.Width &lt;dbl&gt; |\n",
       "|---|---|\n",
       "| setosa     | 171.4 |\n",
       "| versicolor | 138.5 |\n",
       "| virginica  | 148.7 |\n",
       "\n"
      ],
      "text/plain": [
       "  Species    Sepal.Width\n",
       "1 setosa     171.4      \n",
       "2 versicolor 138.5      \n",
       "3 virginica  148.7      "
      ]
     },
     "metadata": {},
     "output_type": "display_data"
    }
   ],
   "source": [
    "aggregate(Sepal.Width ~ Species, iris, mean)  #종별 평균\n",
    "aggregate(Sepal.Width ~ Species, iris, sum) #종별 합계 "
   ]
  },
  {
   "cell_type": "markdown",
   "metadata": {},
   "source": []
  },
  {
   "cell_type": "markdown",
   "metadata": {},
   "source": [
    "###서울교통사고 조사 데이터셋"
   ]
  },
  {
   "cell_type": "code",
   "execution_count": 7,
   "metadata": {
    "vscode": {
     "languageId": "r"
    }
   },
   "outputs": [
    {
     "data": {
      "text/html": [
       "<table class=\"dataframe\">\n",
       "<caption>A data.frame: 6 x 6</caption>\n",
       "<thead>\n",
       "\t<tr><th></th><th scope=col>년도</th><th scope=col>월</th><th scope=col>자치구명</th><th scope=col>발생건수</th><th scope=col>사망자수</th><th scope=col>부상자수</th></tr>\n",
       "\t<tr><th></th><th scope=col>&lt;int&gt;</th><th scope=col>&lt;int&gt;</th><th scope=col>&lt;chr&gt;</th><th scope=col>&lt;int&gt;</th><th scope=col>&lt;int&gt;</th><th scope=col>&lt;int&gt;</th></tr>\n",
       "</thead>\n",
       "<tbody>\n",
       "\t<tr><th scope=row>1</th><td>2011</td><td>1</td><td>종로구</td><td>115</td><td>2</td><td>165</td></tr>\n",
       "\t<tr><th scope=row>2</th><td>2011</td><td>2</td><td>종로구</td><td> 99</td><td>0</td><td>134</td></tr>\n",
       "\t<tr><th scope=row>3</th><td>2011</td><td>3</td><td>종로구</td><td>116</td><td>0</td><td>162</td></tr>\n",
       "\t<tr><th scope=row>4</th><td>2011</td><td>4</td><td>종로구</td><td>110</td><td>1</td><td>153</td></tr>\n",
       "\t<tr><th scope=row>5</th><td>2011</td><td>5</td><td>종로구</td><td>122</td><td>0</td><td>157</td></tr>\n",
       "\t<tr><th scope=row>6</th><td>2011</td><td>6</td><td>종로구</td><td>116</td><td>3</td><td>163</td></tr>\n",
       "</tbody>\n",
       "</table>\n"
      ],
      "text/latex": [
       "A data.frame: 6 x 6\n",
       "\\begin{tabular}{r|llllll}\n",
       "  & 년도 & 월 & 자치구명 & 발생건수 & 사망자수 & 부상자수\\\\\n",
       "  & <int> & <int> & <chr> & <int> & <int> & <int>\\\\\n",
       "\\hline\n",
       "\t1 & 2011 & 1 & 종로구 & 115 & 2 & 165\\\\\n",
       "\t2 & 2011 & 2 & 종로구 &  99 & 0 & 134\\\\\n",
       "\t3 & 2011 & 3 & 종로구 & 116 & 0 & 162\\\\\n",
       "\t4 & 2011 & 4 & 종로구 & 110 & 1 & 153\\\\\n",
       "\t5 & 2011 & 5 & 종로구 & 122 & 0 & 157\\\\\n",
       "\t6 & 2011 & 6 & 종로구 & 116 & 3 & 163\\\\\n",
       "\\end{tabular}\n"
      ],
      "text/markdown": [
       "\n",
       "A data.frame: 6 x 6\n",
       "\n",
       "| <!--/--> | 년도 &lt;int&gt; | 월 &lt;int&gt; | 자치구명 &lt;chr&gt; | 발생건수 &lt;int&gt; | 사망자수 &lt;int&gt; | 부상자수 &lt;int&gt; |\n",
       "|---|---|---|---|---|---|---|\n",
       "| 1 | 2011 | 1 | 종로구 | 115 | 2 | 165 |\n",
       "| 2 | 2011 | 2 | 종로구 |  99 | 0 | 134 |\n",
       "| 3 | 2011 | 3 | 종로구 | 116 | 0 | 162 |\n",
       "| 4 | 2011 | 4 | 종로구 | 110 | 1 | 153 |\n",
       "| 5 | 2011 | 5 | 종로구 | 122 | 0 | 157 |\n",
       "| 6 | 2011 | 6 | 종로구 | 116 | 3 | 163 |\n",
       "\n"
      ],
      "text/plain": [
       "  년도 월 자치구명 발생건수 사망자수 부상자수\n",
       "1 2011 1  종로구   115      2        165     \n",
       "2 2011 2  종로구    99      0        134     \n",
       "3 2011 3  종로구   116      0        162     \n",
       "4 2011 4  종로구   110      1        153     \n",
       "5 2011 5  종로구   122      0        157     \n",
       "6 2011 6  종로구   116      3        163     "
      ]
     },
     "metadata": {},
     "output_type": "display_data"
    },
    {
     "data": {
      "text/html": [
       "<table class=\"dataframe\">\n",
       "<caption>A data.frame: 6 x 6</caption>\n",
       "<thead>\n",
       "\t<tr><th></th><th scope=col>년도</th><th scope=col>월</th><th scope=col>자치구명</th><th scope=col>발생건수</th><th scope=col>사망자수</th><th scope=col>부상자수</th></tr>\n",
       "\t<tr><th></th><th scope=col>&lt;int&gt;</th><th scope=col>&lt;int&gt;</th><th scope=col>&lt;chr&gt;</th><th scope=col>&lt;int&gt;</th><th scope=col>&lt;int&gt;</th><th scope=col>&lt;int&gt;</th></tr>\n",
       "</thead>\n",
       "<tbody>\n",
       "\t<tr><th scope=row>2695</th><td>2019</td><td> 7</td><td>강동구</td><td>146</td><td>2</td><td>189</td></tr>\n",
       "\t<tr><th scope=row>2696</th><td>2019</td><td> 8</td><td>강동구</td><td>127</td><td>2</td><td>175</td></tr>\n",
       "\t<tr><th scope=row>2697</th><td>2019</td><td> 9</td><td>강동구</td><td> 98</td><td>2</td><td>137</td></tr>\n",
       "\t<tr><th scope=row>2698</th><td>2019</td><td>10</td><td>강동구</td><td>108</td><td>1</td><td>144</td></tr>\n",
       "\t<tr><th scope=row>2699</th><td>2019</td><td>11</td><td>강동구</td><td>146</td><td>0</td><td>199</td></tr>\n",
       "\t<tr><th scope=row>2700</th><td>2019</td><td>12</td><td>강동구</td><td>108</td><td>1</td><td>131</td></tr>\n",
       "</tbody>\n",
       "</table>\n"
      ],
      "text/latex": [
       "A data.frame: 6 x 6\n",
       "\\begin{tabular}{r|llllll}\n",
       "  & 년도 & 월 & 자치구명 & 발생건수 & 사망자수 & 부상자수\\\\\n",
       "  & <int> & <int> & <chr> & <int> & <int> & <int>\\\\\n",
       "\\hline\n",
       "\t2695 & 2019 &  7 & 강동구 & 146 & 2 & 189\\\\\n",
       "\t2696 & 2019 &  8 & 강동구 & 127 & 2 & 175\\\\\n",
       "\t2697 & 2019 &  9 & 강동구 &  98 & 2 & 137\\\\\n",
       "\t2698 & 2019 & 10 & 강동구 & 108 & 1 & 144\\\\\n",
       "\t2699 & 2019 & 11 & 강동구 & 146 & 0 & 199\\\\\n",
       "\t2700 & 2019 & 12 & 강동구 & 108 & 1 & 131\\\\\n",
       "\\end{tabular}\n"
      ],
      "text/markdown": [
       "\n",
       "A data.frame: 6 x 6\n",
       "\n",
       "| <!--/--> | 년도 &lt;int&gt; | 월 &lt;int&gt; | 자치구명 &lt;chr&gt; | 발생건수 &lt;int&gt; | 사망자수 &lt;int&gt; | 부상자수 &lt;int&gt; |\n",
       "|---|---|---|---|---|---|---|\n",
       "| 2695 | 2019 |  7 | 강동구 | 146 | 2 | 189 |\n",
       "| 2696 | 2019 |  8 | 강동구 | 127 | 2 | 175 |\n",
       "| 2697 | 2019 |  9 | 강동구 |  98 | 2 | 137 |\n",
       "| 2698 | 2019 | 10 | 강동구 | 108 | 1 | 144 |\n",
       "| 2699 | 2019 | 11 | 강동구 | 146 | 0 | 199 |\n",
       "| 2700 | 2019 | 12 | 강동구 | 108 | 1 | 131 |\n",
       "\n"
      ],
      "text/plain": [
       "     년도 월 자치구명 발생건수 사망자수 부상자수\n",
       "2695 2019  7 강동구   146      2        189     \n",
       "2696 2019  8 강동구   127      2        175     \n",
       "2697 2019  9 강동구    98      2        137     \n",
       "2698 2019 10 강동구   108      1        144     \n",
       "2699 2019 11 강동구   146      0        199     \n",
       "2700 2019 12 강동구   108      1        131     "
      ]
     },
     "metadata": {},
     "output_type": "display_data"
    }
   ],
   "source": [
    "# 데이터셋을 불러와서 seoul이라는 변수에 넣기\n",
    "seoul <- read.csv(\"../Data/newSeoul2019.csv\")\n",
    "# colnames(seoul) <- c()\n",
    "head(seoul)\n",
    "tail(seoul)"
   ]
  },
  {
   "cell_type": "code",
   "execution_count": 15,
   "metadata": {
    "vscode": {
     "languageId": "r"
    }
   },
   "outputs": [
    {
     "name": "stdout",
     "output_type": "stream",
     "text": [
      "'data.frame':\t2700 obs. of  6 variables:\n",
      " $ 년도    : int  2011 2011 2011 2011 2011 2011 2011 2011 2011 2011 ...\n",
      " $ 월      : int  1 2 3 4 5 6 7 8 9 10 ...\n",
      " $ 자치구명: chr  \"종로구\" \"종로구\" \"종로구\" \"종로구\" ...\n",
      " $ 발생건수: int  115 99 116 110 122 116 103 122 121 135 ...\n",
      " $ 사망자수: int  2 0 0 1 0 3 1 1 2 2 ...\n",
      " $ 부상자수: int  165 134 162 153 157 163 154 171 166 193 ...\n"
     ]
    }
   ],
   "source": [
    "str(seoul)"
   ]
  },
  {
   "cell_type": "code",
   "execution_count": 17,
   "metadata": {
    "vscode": {
     "languageId": "r"
    }
   },
   "outputs": [
    {
     "data": {
      "text/html": [
       "<table class=\"dataframe\">\n",
       "<caption>A matrix: 2700 x 6 of type lgl</caption>\n",
       "<thead>\n",
       "\t<tr><th scope=col>년도</th><th scope=col>월</th><th scope=col>자치구명</th><th scope=col>발생건수</th><th scope=col>사망자수</th><th scope=col>부상자수</th></tr>\n",
       "</thead>\n",
       "<tbody>\n",
       "\t<tr><td>FALSE</td><td>FALSE</td><td>FALSE</td><td>FALSE</td><td>FALSE</td><td>FALSE</td></tr>\n",
       "\t<tr><td>FALSE</td><td>FALSE</td><td>FALSE</td><td>FALSE</td><td>FALSE</td><td>FALSE</td></tr>\n",
       "\t<tr><td>FALSE</td><td>FALSE</td><td>FALSE</td><td>FALSE</td><td>FALSE</td><td>FALSE</td></tr>\n",
       "\t<tr><td>FALSE</td><td>FALSE</td><td>FALSE</td><td>FALSE</td><td>FALSE</td><td>FALSE</td></tr>\n",
       "\t<tr><td>FALSE</td><td>FALSE</td><td>FALSE</td><td>FALSE</td><td>FALSE</td><td>FALSE</td></tr>\n",
       "\t<tr><td>FALSE</td><td>FALSE</td><td>FALSE</td><td>FALSE</td><td>FALSE</td><td>FALSE</td></tr>\n",
       "\t<tr><td>FALSE</td><td>FALSE</td><td>FALSE</td><td>FALSE</td><td>FALSE</td><td>FALSE</td></tr>\n",
       "\t<tr><td>FALSE</td><td>FALSE</td><td>FALSE</td><td>FALSE</td><td>FALSE</td><td>FALSE</td></tr>\n",
       "\t<tr><td>FALSE</td><td>FALSE</td><td>FALSE</td><td>FALSE</td><td>FALSE</td><td>FALSE</td></tr>\n",
       "\t<tr><td>FALSE</td><td>FALSE</td><td>FALSE</td><td>FALSE</td><td>FALSE</td><td>FALSE</td></tr>\n",
       "\t<tr><td>FALSE</td><td>FALSE</td><td>FALSE</td><td>FALSE</td><td>FALSE</td><td>FALSE</td></tr>\n",
       "\t<tr><td>FALSE</td><td>FALSE</td><td>FALSE</td><td>FALSE</td><td>FALSE</td><td>FALSE</td></tr>\n",
       "\t<tr><td>FALSE</td><td>FALSE</td><td>FALSE</td><td>FALSE</td><td>FALSE</td><td>FALSE</td></tr>\n",
       "\t<tr><td>FALSE</td><td>FALSE</td><td>FALSE</td><td>FALSE</td><td>FALSE</td><td>FALSE</td></tr>\n",
       "\t<tr><td>FALSE</td><td>FALSE</td><td>FALSE</td><td>FALSE</td><td>FALSE</td><td>FALSE</td></tr>\n",
       "\t<tr><td>FALSE</td><td>FALSE</td><td>FALSE</td><td>FALSE</td><td>FALSE</td><td>FALSE</td></tr>\n",
       "\t<tr><td>FALSE</td><td>FALSE</td><td>FALSE</td><td>FALSE</td><td>FALSE</td><td>FALSE</td></tr>\n",
       "\t<tr><td>FALSE</td><td>FALSE</td><td>FALSE</td><td>FALSE</td><td>FALSE</td><td>FALSE</td></tr>\n",
       "\t<tr><td>FALSE</td><td>FALSE</td><td>FALSE</td><td>FALSE</td><td>FALSE</td><td>FALSE</td></tr>\n",
       "\t<tr><td>FALSE</td><td>FALSE</td><td>FALSE</td><td>FALSE</td><td>FALSE</td><td>FALSE</td></tr>\n",
       "\t<tr><td>FALSE</td><td>FALSE</td><td>FALSE</td><td>FALSE</td><td>FALSE</td><td>FALSE</td></tr>\n",
       "\t<tr><td>FALSE</td><td>FALSE</td><td>FALSE</td><td>FALSE</td><td>FALSE</td><td>FALSE</td></tr>\n",
       "\t<tr><td>FALSE</td><td>FALSE</td><td>FALSE</td><td>FALSE</td><td>FALSE</td><td>FALSE</td></tr>\n",
       "\t<tr><td>FALSE</td><td>FALSE</td><td>FALSE</td><td>FALSE</td><td>FALSE</td><td>FALSE</td></tr>\n",
       "\t<tr><td>FALSE</td><td>FALSE</td><td>FALSE</td><td>FALSE</td><td>FALSE</td><td>FALSE</td></tr>\n",
       "\t<tr><td>FALSE</td><td>FALSE</td><td>FALSE</td><td>FALSE</td><td>FALSE</td><td>FALSE</td></tr>\n",
       "\t<tr><td>FALSE</td><td>FALSE</td><td>FALSE</td><td>FALSE</td><td>FALSE</td><td>FALSE</td></tr>\n",
       "\t<tr><td>FALSE</td><td>FALSE</td><td>FALSE</td><td>FALSE</td><td>FALSE</td><td>FALSE</td></tr>\n",
       "\t<tr><td>FALSE</td><td>FALSE</td><td>FALSE</td><td>FALSE</td><td>FALSE</td><td>FALSE</td></tr>\n",
       "\t<tr><td>FALSE</td><td>FALSE</td><td>FALSE</td><td>FALSE</td><td>FALSE</td><td>FALSE</td></tr>\n",
       "\t<tr><td>...</td><td>...</td><td>...</td><td>...</td><td>...</td><td>...</td></tr>\n",
       "\t<tr><td>FALSE</td><td>FALSE</td><td>FALSE</td><td>FALSE</td><td>FALSE</td><td>FALSE</td></tr>\n",
       "\t<tr><td>FALSE</td><td>FALSE</td><td>FALSE</td><td>FALSE</td><td>FALSE</td><td>FALSE</td></tr>\n",
       "\t<tr><td>FALSE</td><td>FALSE</td><td>FALSE</td><td>FALSE</td><td>FALSE</td><td>FALSE</td></tr>\n",
       "\t<tr><td>FALSE</td><td>FALSE</td><td>FALSE</td><td>FALSE</td><td>FALSE</td><td>FALSE</td></tr>\n",
       "\t<tr><td>FALSE</td><td>FALSE</td><td>FALSE</td><td>FALSE</td><td>FALSE</td><td>FALSE</td></tr>\n",
       "\t<tr><td>FALSE</td><td>FALSE</td><td>FALSE</td><td>FALSE</td><td>FALSE</td><td>FALSE</td></tr>\n",
       "\t<tr><td>FALSE</td><td>FALSE</td><td>FALSE</td><td>FALSE</td><td>FALSE</td><td>FALSE</td></tr>\n",
       "\t<tr><td>FALSE</td><td>FALSE</td><td>FALSE</td><td>FALSE</td><td>FALSE</td><td>FALSE</td></tr>\n",
       "\t<tr><td>FALSE</td><td>FALSE</td><td>FALSE</td><td>FALSE</td><td>FALSE</td><td>FALSE</td></tr>\n",
       "\t<tr><td>FALSE</td><td>FALSE</td><td>FALSE</td><td>FALSE</td><td>FALSE</td><td>FALSE</td></tr>\n",
       "\t<tr><td>FALSE</td><td>FALSE</td><td>FALSE</td><td>FALSE</td><td>FALSE</td><td>FALSE</td></tr>\n",
       "\t<tr><td>FALSE</td><td>FALSE</td><td>FALSE</td><td>FALSE</td><td>FALSE</td><td>FALSE</td></tr>\n",
       "\t<tr><td>FALSE</td><td>FALSE</td><td>FALSE</td><td>FALSE</td><td>FALSE</td><td>FALSE</td></tr>\n",
       "\t<tr><td>FALSE</td><td>FALSE</td><td>FALSE</td><td>FALSE</td><td>FALSE</td><td>FALSE</td></tr>\n",
       "\t<tr><td>FALSE</td><td>FALSE</td><td>FALSE</td><td>FALSE</td><td>FALSE</td><td>FALSE</td></tr>\n",
       "\t<tr><td>FALSE</td><td>FALSE</td><td>FALSE</td><td>FALSE</td><td>FALSE</td><td>FALSE</td></tr>\n",
       "\t<tr><td>FALSE</td><td>FALSE</td><td>FALSE</td><td>FALSE</td><td>FALSE</td><td>FALSE</td></tr>\n",
       "\t<tr><td>FALSE</td><td>FALSE</td><td>FALSE</td><td>FALSE</td><td>FALSE</td><td>FALSE</td></tr>\n",
       "\t<tr><td>FALSE</td><td>FALSE</td><td>FALSE</td><td>FALSE</td><td>FALSE</td><td>FALSE</td></tr>\n",
       "\t<tr><td>FALSE</td><td>FALSE</td><td>FALSE</td><td>FALSE</td><td>FALSE</td><td>FALSE</td></tr>\n",
       "\t<tr><td>FALSE</td><td>FALSE</td><td>FALSE</td><td>FALSE</td><td>FALSE</td><td>FALSE</td></tr>\n",
       "\t<tr><td>FALSE</td><td>FALSE</td><td>FALSE</td><td>FALSE</td><td>FALSE</td><td>FALSE</td></tr>\n",
       "\t<tr><td>FALSE</td><td>FALSE</td><td>FALSE</td><td>FALSE</td><td>FALSE</td><td>FALSE</td></tr>\n",
       "\t<tr><td>FALSE</td><td>FALSE</td><td>FALSE</td><td>FALSE</td><td>FALSE</td><td>FALSE</td></tr>\n",
       "\t<tr><td>FALSE</td><td>FALSE</td><td>FALSE</td><td>FALSE</td><td>FALSE</td><td>FALSE</td></tr>\n",
       "\t<tr><td>FALSE</td><td>FALSE</td><td>FALSE</td><td>FALSE</td><td>FALSE</td><td>FALSE</td></tr>\n",
       "\t<tr><td>FALSE</td><td>FALSE</td><td>FALSE</td><td>FALSE</td><td>FALSE</td><td>FALSE</td></tr>\n",
       "\t<tr><td>FALSE</td><td>FALSE</td><td>FALSE</td><td>FALSE</td><td>FALSE</td><td>FALSE</td></tr>\n",
       "\t<tr><td>FALSE</td><td>FALSE</td><td>FALSE</td><td>FALSE</td><td>FALSE</td><td>FALSE</td></tr>\n",
       "\t<tr><td>FALSE</td><td>FALSE</td><td>FALSE</td><td>FALSE</td><td>FALSE</td><td>FALSE</td></tr>\n",
       "</tbody>\n",
       "</table>\n"
      ],
      "text/latex": [
       "A matrix: 2700 x 6 of type lgl\n",
       "\\begin{tabular}{llllll}\n",
       " 년도 & 월 & 자치구명 & 발생건수 & 사망자수 & 부상자수\\\\\n",
       "\\hline\n",
       "\t FALSE & FALSE & FALSE & FALSE & FALSE & FALSE\\\\\n",
       "\t FALSE & FALSE & FALSE & FALSE & FALSE & FALSE\\\\\n",
       "\t FALSE & FALSE & FALSE & FALSE & FALSE & FALSE\\\\\n",
       "\t FALSE & FALSE & FALSE & FALSE & FALSE & FALSE\\\\\n",
       "\t FALSE & FALSE & FALSE & FALSE & FALSE & FALSE\\\\\n",
       "\t FALSE & FALSE & FALSE & FALSE & FALSE & FALSE\\\\\n",
       "\t FALSE & FALSE & FALSE & FALSE & FALSE & FALSE\\\\\n",
       "\t FALSE & FALSE & FALSE & FALSE & FALSE & FALSE\\\\\n",
       "\t FALSE & FALSE & FALSE & FALSE & FALSE & FALSE\\\\\n",
       "\t FALSE & FALSE & FALSE & FALSE & FALSE & FALSE\\\\\n",
       "\t FALSE & FALSE & FALSE & FALSE & FALSE & FALSE\\\\\n",
       "\t FALSE & FALSE & FALSE & FALSE & FALSE & FALSE\\\\\n",
       "\t FALSE & FALSE & FALSE & FALSE & FALSE & FALSE\\\\\n",
       "\t FALSE & FALSE & FALSE & FALSE & FALSE & FALSE\\\\\n",
       "\t FALSE & FALSE & FALSE & FALSE & FALSE & FALSE\\\\\n",
       "\t FALSE & FALSE & FALSE & FALSE & FALSE & FALSE\\\\\n",
       "\t FALSE & FALSE & FALSE & FALSE & FALSE & FALSE\\\\\n",
       "\t FALSE & FALSE & FALSE & FALSE & FALSE & FALSE\\\\\n",
       "\t FALSE & FALSE & FALSE & FALSE & FALSE & FALSE\\\\\n",
       "\t FALSE & FALSE & FALSE & FALSE & FALSE & FALSE\\\\\n",
       "\t FALSE & FALSE & FALSE & FALSE & FALSE & FALSE\\\\\n",
       "\t FALSE & FALSE & FALSE & FALSE & FALSE & FALSE\\\\\n",
       "\t FALSE & FALSE & FALSE & FALSE & FALSE & FALSE\\\\\n",
       "\t FALSE & FALSE & FALSE & FALSE & FALSE & FALSE\\\\\n",
       "\t FALSE & FALSE & FALSE & FALSE & FALSE & FALSE\\\\\n",
       "\t FALSE & FALSE & FALSE & FALSE & FALSE & FALSE\\\\\n",
       "\t FALSE & FALSE & FALSE & FALSE & FALSE & FALSE\\\\\n",
       "\t FALSE & FALSE & FALSE & FALSE & FALSE & FALSE\\\\\n",
       "\t FALSE & FALSE & FALSE & FALSE & FALSE & FALSE\\\\\n",
       "\t FALSE & FALSE & FALSE & FALSE & FALSE & FALSE\\\\\n",
       "\t ... & ... & ... & ... & ... & ...\\\\\n",
       "\t FALSE & FALSE & FALSE & FALSE & FALSE & FALSE\\\\\n",
       "\t FALSE & FALSE & FALSE & FALSE & FALSE & FALSE\\\\\n",
       "\t FALSE & FALSE & FALSE & FALSE & FALSE & FALSE\\\\\n",
       "\t FALSE & FALSE & FALSE & FALSE & FALSE & FALSE\\\\\n",
       "\t FALSE & FALSE & FALSE & FALSE & FALSE & FALSE\\\\\n",
       "\t FALSE & FALSE & FALSE & FALSE & FALSE & FALSE\\\\\n",
       "\t FALSE & FALSE & FALSE & FALSE & FALSE & FALSE\\\\\n",
       "\t FALSE & FALSE & FALSE & FALSE & FALSE & FALSE\\\\\n",
       "\t FALSE & FALSE & FALSE & FALSE & FALSE & FALSE\\\\\n",
       "\t FALSE & FALSE & FALSE & FALSE & FALSE & FALSE\\\\\n",
       "\t FALSE & FALSE & FALSE & FALSE & FALSE & FALSE\\\\\n",
       "\t FALSE & FALSE & FALSE & FALSE & FALSE & FALSE\\\\\n",
       "\t FALSE & FALSE & FALSE & FALSE & FALSE & FALSE\\\\\n",
       "\t FALSE & FALSE & FALSE & FALSE & FALSE & FALSE\\\\\n",
       "\t FALSE & FALSE & FALSE & FALSE & FALSE & FALSE\\\\\n",
       "\t FALSE & FALSE & FALSE & FALSE & FALSE & FALSE\\\\\n",
       "\t FALSE & FALSE & FALSE & FALSE & FALSE & FALSE\\\\\n",
       "\t FALSE & FALSE & FALSE & FALSE & FALSE & FALSE\\\\\n",
       "\t FALSE & FALSE & FALSE & FALSE & FALSE & FALSE\\\\\n",
       "\t FALSE & FALSE & FALSE & FALSE & FALSE & FALSE\\\\\n",
       "\t FALSE & FALSE & FALSE & FALSE & FALSE & FALSE\\\\\n",
       "\t FALSE & FALSE & FALSE & FALSE & FALSE & FALSE\\\\\n",
       "\t FALSE & FALSE & FALSE & FALSE & FALSE & FALSE\\\\\n",
       "\t FALSE & FALSE & FALSE & FALSE & FALSE & FALSE\\\\\n",
       "\t FALSE & FALSE & FALSE & FALSE & FALSE & FALSE\\\\\n",
       "\t FALSE & FALSE & FALSE & FALSE & FALSE & FALSE\\\\\n",
       "\t FALSE & FALSE & FALSE & FALSE & FALSE & FALSE\\\\\n",
       "\t FALSE & FALSE & FALSE & FALSE & FALSE & FALSE\\\\\n",
       "\t FALSE & FALSE & FALSE & FALSE & FALSE & FALSE\\\\\n",
       "\t FALSE & FALSE & FALSE & FALSE & FALSE & FALSE\\\\\n",
       "\\end{tabular}\n"
      ],
      "text/markdown": [
       "\n",
       "A matrix: 2700 x 6 of type lgl\n",
       "\n",
       "| 년도 | 월 | 자치구명 | 발생건수 | 사망자수 | 부상자수 |\n",
       "|---|---|---|---|---|---|\n",
       "| FALSE | FALSE | FALSE | FALSE | FALSE | FALSE |\n",
       "| FALSE | FALSE | FALSE | FALSE | FALSE | FALSE |\n",
       "| FALSE | FALSE | FALSE | FALSE | FALSE | FALSE |\n",
       "| FALSE | FALSE | FALSE | FALSE | FALSE | FALSE |\n",
       "| FALSE | FALSE | FALSE | FALSE | FALSE | FALSE |\n",
       "| FALSE | FALSE | FALSE | FALSE | FALSE | FALSE |\n",
       "| FALSE | FALSE | FALSE | FALSE | FALSE | FALSE |\n",
       "| FALSE | FALSE | FALSE | FALSE | FALSE | FALSE |\n",
       "| FALSE | FALSE | FALSE | FALSE | FALSE | FALSE |\n",
       "| FALSE | FALSE | FALSE | FALSE | FALSE | FALSE |\n",
       "| FALSE | FALSE | FALSE | FALSE | FALSE | FALSE |\n",
       "| FALSE | FALSE | FALSE | FALSE | FALSE | FALSE |\n",
       "| FALSE | FALSE | FALSE | FALSE | FALSE | FALSE |\n",
       "| FALSE | FALSE | FALSE | FALSE | FALSE | FALSE |\n",
       "| FALSE | FALSE | FALSE | FALSE | FALSE | FALSE |\n",
       "| FALSE | FALSE | FALSE | FALSE | FALSE | FALSE |\n",
       "| FALSE | FALSE | FALSE | FALSE | FALSE | FALSE |\n",
       "| FALSE | FALSE | FALSE | FALSE | FALSE | FALSE |\n",
       "| FALSE | FALSE | FALSE | FALSE | FALSE | FALSE |\n",
       "| FALSE | FALSE | FALSE | FALSE | FALSE | FALSE |\n",
       "| FALSE | FALSE | FALSE | FALSE | FALSE | FALSE |\n",
       "| FALSE | FALSE | FALSE | FALSE | FALSE | FALSE |\n",
       "| FALSE | FALSE | FALSE | FALSE | FALSE | FALSE |\n",
       "| FALSE | FALSE | FALSE | FALSE | FALSE | FALSE |\n",
       "| FALSE | FALSE | FALSE | FALSE | FALSE | FALSE |\n",
       "| FALSE | FALSE | FALSE | FALSE | FALSE | FALSE |\n",
       "| FALSE | FALSE | FALSE | FALSE | FALSE | FALSE |\n",
       "| FALSE | FALSE | FALSE | FALSE | FALSE | FALSE |\n",
       "| FALSE | FALSE | FALSE | FALSE | FALSE | FALSE |\n",
       "| FALSE | FALSE | FALSE | FALSE | FALSE | FALSE |\n",
       "| ... | ... | ... | ... | ... | ... |\n",
       "| FALSE | FALSE | FALSE | FALSE | FALSE | FALSE |\n",
       "| FALSE | FALSE | FALSE | FALSE | FALSE | FALSE |\n",
       "| FALSE | FALSE | FALSE | FALSE | FALSE | FALSE |\n",
       "| FALSE | FALSE | FALSE | FALSE | FALSE | FALSE |\n",
       "| FALSE | FALSE | FALSE | FALSE | FALSE | FALSE |\n",
       "| FALSE | FALSE | FALSE | FALSE | FALSE | FALSE |\n",
       "| FALSE | FALSE | FALSE | FALSE | FALSE | FALSE |\n",
       "| FALSE | FALSE | FALSE | FALSE | FALSE | FALSE |\n",
       "| FALSE | FALSE | FALSE | FALSE | FALSE | FALSE |\n",
       "| FALSE | FALSE | FALSE | FALSE | FALSE | FALSE |\n",
       "| FALSE | FALSE | FALSE | FALSE | FALSE | FALSE |\n",
       "| FALSE | FALSE | FALSE | FALSE | FALSE | FALSE |\n",
       "| FALSE | FALSE | FALSE | FALSE | FALSE | FALSE |\n",
       "| FALSE | FALSE | FALSE | FALSE | FALSE | FALSE |\n",
       "| FALSE | FALSE | FALSE | FALSE | FALSE | FALSE |\n",
       "| FALSE | FALSE | FALSE | FALSE | FALSE | FALSE |\n",
       "| FALSE | FALSE | FALSE | FALSE | FALSE | FALSE |\n",
       "| FALSE | FALSE | FALSE | FALSE | FALSE | FALSE |\n",
       "| FALSE | FALSE | FALSE | FALSE | FALSE | FALSE |\n",
       "| FALSE | FALSE | FALSE | FALSE | FALSE | FALSE |\n",
       "| FALSE | FALSE | FALSE | FALSE | FALSE | FALSE |\n",
       "| FALSE | FALSE | FALSE | FALSE | FALSE | FALSE |\n",
       "| FALSE | FALSE | FALSE | FALSE | FALSE | FALSE |\n",
       "| FALSE | FALSE | FALSE | FALSE | FALSE | FALSE |\n",
       "| FALSE | FALSE | FALSE | FALSE | FALSE | FALSE |\n",
       "| FALSE | FALSE | FALSE | FALSE | FALSE | FALSE |\n",
       "| FALSE | FALSE | FALSE | FALSE | FALSE | FALSE |\n",
       "| FALSE | FALSE | FALSE | FALSE | FALSE | FALSE |\n",
       "| FALSE | FALSE | FALSE | FALSE | FALSE | FALSE |\n",
       "| FALSE | FALSE | FALSE | FALSE | FALSE | FALSE |\n",
       "\n"
      ],
      "text/plain": [
       "      년도  월    자치구명 발생건수 사망자수 부상자수\n",
       " [1,] FALSE FALSE FALSE    FALSE    FALSE    FALSE   \n",
       " [2,] FALSE FALSE FALSE    FALSE    FALSE    FALSE   \n",
       " [3,] FALSE FALSE FALSE    FALSE    FALSE    FALSE   \n",
       " [4,] FALSE FALSE FALSE    FALSE    FALSE    FALSE   \n",
       " [5,] FALSE FALSE FALSE    FALSE    FALSE    FALSE   \n",
       " [6,] FALSE FALSE FALSE    FALSE    FALSE    FALSE   \n",
       " [7,] FALSE FALSE FALSE    FALSE    FALSE    FALSE   \n",
       " [8,] FALSE FALSE FALSE    FALSE    FALSE    FALSE   \n",
       " [9,] FALSE FALSE FALSE    FALSE    FALSE    FALSE   \n",
       "[10,] FALSE FALSE FALSE    FALSE    FALSE    FALSE   \n",
       "[11,] FALSE FALSE FALSE    FALSE    FALSE    FALSE   \n",
       "[12,] FALSE FALSE FALSE    FALSE    FALSE    FALSE   \n",
       "[13,] FALSE FALSE FALSE    FALSE    FALSE    FALSE   \n",
       "[14,] FALSE FALSE FALSE    FALSE    FALSE    FALSE   \n",
       "[15,] FALSE FALSE FALSE    FALSE    FALSE    FALSE   \n",
       "[16,] FALSE FALSE FALSE    FALSE    FALSE    FALSE   \n",
       "[17,] FALSE FALSE FALSE    FALSE    FALSE    FALSE   \n",
       "[18,] FALSE FALSE FALSE    FALSE    FALSE    FALSE   \n",
       "[19,] FALSE FALSE FALSE    FALSE    FALSE    FALSE   \n",
       "[20,] FALSE FALSE FALSE    FALSE    FALSE    FALSE   \n",
       "[21,] FALSE FALSE FALSE    FALSE    FALSE    FALSE   \n",
       "[22,] FALSE FALSE FALSE    FALSE    FALSE    FALSE   \n",
       "[23,] FALSE FALSE FALSE    FALSE    FALSE    FALSE   \n",
       "[24,] FALSE FALSE FALSE    FALSE    FALSE    FALSE   \n",
       "[25,] FALSE FALSE FALSE    FALSE    FALSE    FALSE   \n",
       "[26,] FALSE FALSE FALSE    FALSE    FALSE    FALSE   \n",
       "[27,] FALSE FALSE FALSE    FALSE    FALSE    FALSE   \n",
       "[28,] FALSE FALSE FALSE    FALSE    FALSE    FALSE   \n",
       "[29,] FALSE FALSE FALSE    FALSE    FALSE    FALSE   \n",
       "[30,] FALSE FALSE FALSE    FALSE    FALSE    FALSE   \n",
       "[31,] ...   ...   ...      ...      ...      ...     \n",
       "[32,] FALSE FALSE FALSE    FALSE    FALSE    FALSE   \n",
       "[33,] FALSE FALSE FALSE    FALSE    FALSE    FALSE   \n",
       "[34,] FALSE FALSE FALSE    FALSE    FALSE    FALSE   \n",
       "[35,] FALSE FALSE FALSE    FALSE    FALSE    FALSE   \n",
       "[36,] FALSE FALSE FALSE    FALSE    FALSE    FALSE   \n",
       "[37,] FALSE FALSE FALSE    FALSE    FALSE    FALSE   \n",
       "[38,] FALSE FALSE FALSE    FALSE    FALSE    FALSE   \n",
       "[39,] FALSE FALSE FALSE    FALSE    FALSE    FALSE   \n",
       "[40,] FALSE FALSE FALSE    FALSE    FALSE    FALSE   \n",
       "[41,] FALSE FALSE FALSE    FALSE    FALSE    FALSE   \n",
       "[42,] FALSE FALSE FALSE    FALSE    FALSE    FALSE   \n",
       "[43,] FALSE FALSE FALSE    FALSE    FALSE    FALSE   \n",
       "[44,] FALSE FALSE FALSE    FALSE    FALSE    FALSE   \n",
       "[45,] FALSE FALSE FALSE    FALSE    FALSE    FALSE   \n",
       "[46,] FALSE FALSE FALSE    FALSE    FALSE    FALSE   \n",
       "[47,] FALSE FALSE FALSE    FALSE    FALSE    FALSE   \n",
       "[48,] FALSE FALSE FALSE    FALSE    FALSE    FALSE   \n",
       "[49,] FALSE FALSE FALSE    FALSE    FALSE    FALSE   \n",
       "[50,] FALSE FALSE FALSE    FALSE    FALSE    FALSE   \n",
       "[51,] FALSE FALSE FALSE    FALSE    FALSE    FALSE   \n",
       "[52,] FALSE FALSE FALSE    FALSE    FALSE    FALSE   \n",
       "[53,] FALSE FALSE FALSE    FALSE    FALSE    FALSE   \n",
       "[54,] FALSE FALSE FALSE    FALSE    FALSE    FALSE   \n",
       "[55,] FALSE FALSE FALSE    FALSE    FALSE    FALSE   \n",
       "[56,] FALSE FALSE FALSE    FALSE    FALSE    FALSE   \n",
       "[57,] FALSE FALSE FALSE    FALSE    FALSE    FALSE   \n",
       "[58,] FALSE FALSE FALSE    FALSE    FALSE    FALSE   \n",
       "[59,] FALSE FALSE FALSE    FALSE    FALSE    FALSE   \n",
       "[60,] FALSE FALSE FALSE    FALSE    FALSE    FALSE   \n",
       "[61,] FALSE FALSE FALSE    FALSE    FALSE    FALSE   "
      ]
     },
     "metadata": {},
     "output_type": "display_data"
    },
    {
     "data": {
      "text/html": [
       "0"
      ],
      "text/latex": [
       "0"
      ],
      "text/markdown": [
       "0"
      ],
      "text/plain": [
       "[1] 0"
      ]
     },
     "metadata": {},
     "output_type": "display_data"
    }
   ],
   "source": [
    "# NA확인\n",
    "is.na(seoul)\n",
    "sum(is.na(seoul))"
   ]
  },
  {
   "cell_type": "code",
   "execution_count": 18,
   "metadata": {
    "vscode": {
     "languageId": "r"
    }
   },
   "outputs": [
    {
     "data": {
      "text/html": [
       "<style>\n",
       ".list-inline {list-style: none; margin:0; padding: 0}\n",
       ".list-inline>li {display: inline-block}\n",
       ".list-inline>li:not(:last-child)::after {content: \"\\00b7\"; padding: 0 .5ex}\n",
       "</style>\n",
       "<ol class=list-inline><li>FALSE</li><li>FALSE</li><li>FALSE</li><li>FALSE</li><li>FALSE</li><li>FALSE</li><li>FALSE</li><li>FALSE</li><li>FALSE</li><li>FALSE</li><li>FALSE</li><li>FALSE</li><li>FALSE</li><li>FALSE</li><li>FALSE</li><li>FALSE</li><li>FALSE</li><li>FALSE</li><li>FALSE</li><li>FALSE</li><li>FALSE</li><li>FALSE</li><li>FALSE</li><li>FALSE</li><li>FALSE</li><li>FALSE</li><li>FALSE</li><li>FALSE</li><li>FALSE</li><li>FALSE</li><li>FALSE</li><li>FALSE</li><li>FALSE</li><li>FALSE</li><li>FALSE</li><li>FALSE</li><li>FALSE</li><li>FALSE</li><li>FALSE</li><li>FALSE</li><li>FALSE</li><li>FALSE</li><li>FALSE</li><li>FALSE</li><li>FALSE</li><li>FALSE</li><li>FALSE</li><li>FALSE</li><li>FALSE</li><li>FALSE</li><li>FALSE</li><li>FALSE</li><li>FALSE</li><li>FALSE</li><li>FALSE</li><li>FALSE</li><li>FALSE</li><li>FALSE</li><li>FALSE</li><li>FALSE</li><li>FALSE</li><li>FALSE</li><li>FALSE</li><li>FALSE</li><li>FALSE</li><li>FALSE</li><li>FALSE</li><li>FALSE</li><li>FALSE</li><li>FALSE</li><li>FALSE</li><li>FALSE</li><li>FALSE</li><li>FALSE</li><li>FALSE</li><li>FALSE</li><li>FALSE</li><li>FALSE</li><li>FALSE</li><li>FALSE</li><li>FALSE</li><li>FALSE</li><li>FALSE</li><li>FALSE</li><li>FALSE</li><li>FALSE</li><li>FALSE</li><li>FALSE</li><li>FALSE</li><li>FALSE</li><li>FALSE</li><li>FALSE</li><li>FALSE</li><li>FALSE</li><li>FALSE</li><li>FALSE</li><li>FALSE</li><li>FALSE</li><li>FALSE</li><li>FALSE</li><li>FALSE</li><li>FALSE</li><li>FALSE</li><li>FALSE</li><li>FALSE</li><li>FALSE</li><li>FALSE</li><li>FALSE</li><li>FALSE</li><li>FALSE</li><li>FALSE</li><li>FALSE</li><li>FALSE</li><li>FALSE</li><li>FALSE</li><li>FALSE</li><li>FALSE</li><li>FALSE</li><li>FALSE</li><li>FALSE</li><li>FALSE</li><li>FALSE</li><li>FALSE</li><li>FALSE</li><li>FALSE</li><li>FALSE</li><li>FALSE</li><li>FALSE</li><li>FALSE</li><li>FALSE</li><li>FALSE</li><li>FALSE</li><li>FALSE</li><li>FALSE</li><li>FALSE</li><li>FALSE</li><li>FALSE</li><li>FALSE</li><li>FALSE</li><li>FALSE</li><li>FALSE</li><li>FALSE</li><li>FALSE</li><li>FALSE</li><li>FALSE</li><li>FALSE</li><li>FALSE</li><li>FALSE</li><li>FALSE</li><li>FALSE</li><li>FALSE</li><li>FALSE</li><li>FALSE</li><li>FALSE</li><li>FALSE</li><li>FALSE</li><li>FALSE</li><li>FALSE</li><li>FALSE</li><li>FALSE</li><li>FALSE</li><li>FALSE</li><li>FALSE</li><li>FALSE</li><li>FALSE</li><li>FALSE</li><li>FALSE</li><li>FALSE</li><li>FALSE</li><li>FALSE</li><li>FALSE</li><li>FALSE</li><li>FALSE</li><li>FALSE</li><li>FALSE</li><li>FALSE</li><li>FALSE</li><li>FALSE</li><li>FALSE</li><li>FALSE</li><li>FALSE</li><li>FALSE</li><li>FALSE</li><li>FALSE</li><li>FALSE</li><li>FALSE</li><li>FALSE</li><li>FALSE</li><li>FALSE</li><li>FALSE</li><li>FALSE</li><li>FALSE</li><li>FALSE</li><li>FALSE</li><li>FALSE</li><li>FALSE</li><li>FALSE</li><li>FALSE</li><li>FALSE</li><li>FALSE</li><li>...</li><li>FALSE</li><li>FALSE</li><li>FALSE</li><li>FALSE</li><li>FALSE</li><li>FALSE</li><li>FALSE</li><li>FALSE</li><li>FALSE</li><li>FALSE</li><li>FALSE</li><li>FALSE</li><li>FALSE</li><li>FALSE</li><li>FALSE</li><li>FALSE</li><li>FALSE</li><li>FALSE</li><li>FALSE</li><li>FALSE</li><li>FALSE</li><li>FALSE</li><li>FALSE</li><li>FALSE</li><li>FALSE</li><li>FALSE</li><li>FALSE</li><li>FALSE</li><li>FALSE</li><li>FALSE</li><li>FALSE</li><li>FALSE</li><li>FALSE</li><li>FALSE</li><li>FALSE</li><li>FALSE</li><li>FALSE</li><li>FALSE</li><li>FALSE</li><li>FALSE</li><li>FALSE</li><li>FALSE</li><li>FALSE</li><li>FALSE</li><li>FALSE</li><li>FALSE</li><li>FALSE</li><li>FALSE</li><li>FALSE</li><li>FALSE</li><li>FALSE</li><li>FALSE</li><li>FALSE</li><li>FALSE</li><li>FALSE</li><li>FALSE</li><li>FALSE</li><li>FALSE</li><li>FALSE</li><li>FALSE</li><li>FALSE</li><li>FALSE</li><li>FALSE</li><li>FALSE</li><li>FALSE</li><li>FALSE</li><li>FALSE</li><li>FALSE</li><li>FALSE</li><li>FALSE</li><li>FALSE</li><li>FALSE</li><li>FALSE</li><li>FALSE</li><li>FALSE</li><li>FALSE</li><li>FALSE</li><li>FALSE</li><li>FALSE</li><li>FALSE</li><li>FALSE</li><li>FALSE</li><li>FALSE</li><li>FALSE</li><li>FALSE</li><li>FALSE</li><li>FALSE</li><li>FALSE</li><li>FALSE</li><li>FALSE</li><li>FALSE</li><li>FALSE</li><li>FALSE</li><li>FALSE</li><li>FALSE</li><li>FALSE</li><li>FALSE</li><li>FALSE</li><li>FALSE</li><li>FALSE</li><li>FALSE</li><li>FALSE</li><li>FALSE</li><li>FALSE</li><li>FALSE</li><li>FALSE</li><li>FALSE</li><li>FALSE</li><li>FALSE</li><li>FALSE</li><li>FALSE</li><li>FALSE</li><li>FALSE</li><li>FALSE</li><li>FALSE</li><li>FALSE</li><li>FALSE</li><li>FALSE</li><li>FALSE</li><li>FALSE</li><li>FALSE</li><li>FALSE</li><li>FALSE</li><li>FALSE</li><li>FALSE</li><li>FALSE</li><li>FALSE</li><li>FALSE</li><li>FALSE</li><li>FALSE</li><li>FALSE</li><li>FALSE</li><li>FALSE</li><li>FALSE</li><li>FALSE</li><li>FALSE</li><li>FALSE</li><li>FALSE</li><li>FALSE</li><li>FALSE</li><li>FALSE</li><li>FALSE</li><li>FALSE</li><li>FALSE</li><li>FALSE</li><li>FALSE</li><li>FALSE</li><li>FALSE</li><li>FALSE</li><li>FALSE</li><li>FALSE</li><li>FALSE</li><li>FALSE</li><li>FALSE</li><li>FALSE</li><li>FALSE</li><li>FALSE</li><li>FALSE</li><li>FALSE</li><li>FALSE</li><li>FALSE</li><li>FALSE</li><li>FALSE</li><li>FALSE</li><li>FALSE</li><li>FALSE</li><li>FALSE</li><li>FALSE</li><li>FALSE</li><li>FALSE</li><li>FALSE</li><li>FALSE</li><li>FALSE</li><li>FALSE</li><li>FALSE</li><li>FALSE</li><li>FALSE</li><li>FALSE</li><li>FALSE</li><li>FALSE</li><li>FALSE</li><li>FALSE</li><li>FALSE</li><li>FALSE</li><li>FALSE</li><li>FALSE</li><li>FALSE</li><li>FALSE</li><li>FALSE</li><li>FALSE</li><li>FALSE</li><li>FALSE</li><li>FALSE</li><li>FALSE</li><li>FALSE</li><li>FALSE</li><li>FALSE</li><li>FALSE</li><li>FALSE</li><li>FALSE</li></ol>\n"
      ],
      "text/latex": [
       "\\begin{enumerate*}\n",
       "\\item FALSE\n",
       "\\item FALSE\n",
       "\\item FALSE\n",
       "\\item FALSE\n",
       "\\item FALSE\n",
       "\\item FALSE\n",
       "\\item FALSE\n",
       "\\item FALSE\n",
       "\\item FALSE\n",
       "\\item FALSE\n",
       "\\item FALSE\n",
       "\\item FALSE\n",
       "\\item FALSE\n",
       "\\item FALSE\n",
       "\\item FALSE\n",
       "\\item FALSE\n",
       "\\item FALSE\n",
       "\\item FALSE\n",
       "\\item FALSE\n",
       "\\item FALSE\n",
       "\\item FALSE\n",
       "\\item FALSE\n",
       "\\item FALSE\n",
       "\\item FALSE\n",
       "\\item FALSE\n",
       "\\item FALSE\n",
       "\\item FALSE\n",
       "\\item FALSE\n",
       "\\item FALSE\n",
       "\\item FALSE\n",
       "\\item FALSE\n",
       "\\item FALSE\n",
       "\\item FALSE\n",
       "\\item FALSE\n",
       "\\item FALSE\n",
       "\\item FALSE\n",
       "\\item FALSE\n",
       "\\item FALSE\n",
       "\\item FALSE\n",
       "\\item FALSE\n",
       "\\item FALSE\n",
       "\\item FALSE\n",
       "\\item FALSE\n",
       "\\item FALSE\n",
       "\\item FALSE\n",
       "\\item FALSE\n",
       "\\item FALSE\n",
       "\\item FALSE\n",
       "\\item FALSE\n",
       "\\item FALSE\n",
       "\\item FALSE\n",
       "\\item FALSE\n",
       "\\item FALSE\n",
       "\\item FALSE\n",
       "\\item FALSE\n",
       "\\item FALSE\n",
       "\\item FALSE\n",
       "\\item FALSE\n",
       "\\item FALSE\n",
       "\\item FALSE\n",
       "\\item FALSE\n",
       "\\item FALSE\n",
       "\\item FALSE\n",
       "\\item FALSE\n",
       "\\item FALSE\n",
       "\\item FALSE\n",
       "\\item FALSE\n",
       "\\item FALSE\n",
       "\\item FALSE\n",
       "\\item FALSE\n",
       "\\item FALSE\n",
       "\\item FALSE\n",
       "\\item FALSE\n",
       "\\item FALSE\n",
       "\\item FALSE\n",
       "\\item FALSE\n",
       "\\item FALSE\n",
       "\\item FALSE\n",
       "\\item FALSE\n",
       "\\item FALSE\n",
       "\\item FALSE\n",
       "\\item FALSE\n",
       "\\item FALSE\n",
       "\\item FALSE\n",
       "\\item FALSE\n",
       "\\item FALSE\n",
       "\\item FALSE\n",
       "\\item FALSE\n",
       "\\item FALSE\n",
       "\\item FALSE\n",
       "\\item FALSE\n",
       "\\item FALSE\n",
       "\\item FALSE\n",
       "\\item FALSE\n",
       "\\item FALSE\n",
       "\\item FALSE\n",
       "\\item FALSE\n",
       "\\item FALSE\n",
       "\\item FALSE\n",
       "\\item FALSE\n",
       "\\item FALSE\n",
       "\\item FALSE\n",
       "\\item FALSE\n",
       "\\item FALSE\n",
       "\\item FALSE\n",
       "\\item FALSE\n",
       "\\item FALSE\n",
       "\\item FALSE\n",
       "\\item FALSE\n",
       "\\item FALSE\n",
       "\\item FALSE\n",
       "\\item FALSE\n",
       "\\item FALSE\n",
       "\\item FALSE\n",
       "\\item FALSE\n",
       "\\item FALSE\n",
       "\\item FALSE\n",
       "\\item FALSE\n",
       "\\item FALSE\n",
       "\\item FALSE\n",
       "\\item FALSE\n",
       "\\item FALSE\n",
       "\\item FALSE\n",
       "\\item FALSE\n",
       "\\item FALSE\n",
       "\\item FALSE\n",
       "\\item FALSE\n",
       "\\item FALSE\n",
       "\\item FALSE\n",
       "\\item FALSE\n",
       "\\item FALSE\n",
       "\\item FALSE\n",
       "\\item FALSE\n",
       "\\item FALSE\n",
       "\\item FALSE\n",
       "\\item FALSE\n",
       "\\item FALSE\n",
       "\\item FALSE\n",
       "\\item FALSE\n",
       "\\item FALSE\n",
       "\\item FALSE\n",
       "\\item FALSE\n",
       "\\item FALSE\n",
       "\\item FALSE\n",
       "\\item FALSE\n",
       "\\item FALSE\n",
       "\\item FALSE\n",
       "\\item FALSE\n",
       "\\item FALSE\n",
       "\\item FALSE\n",
       "\\item FALSE\n",
       "\\item FALSE\n",
       "\\item FALSE\n",
       "\\item FALSE\n",
       "\\item FALSE\n",
       "\\item FALSE\n",
       "\\item FALSE\n",
       "\\item FALSE\n",
       "\\item FALSE\n",
       "\\item FALSE\n",
       "\\item FALSE\n",
       "\\item FALSE\n",
       "\\item FALSE\n",
       "\\item FALSE\n",
       "\\item FALSE\n",
       "\\item FALSE\n",
       "\\item FALSE\n",
       "\\item FALSE\n",
       "\\item FALSE\n",
       "\\item FALSE\n",
       "\\item FALSE\n",
       "\\item FALSE\n",
       "\\item FALSE\n",
       "\\item FALSE\n",
       "\\item FALSE\n",
       "\\item FALSE\n",
       "\\item FALSE\n",
       "\\item FALSE\n",
       "\\item FALSE\n",
       "\\item FALSE\n",
       "\\item FALSE\n",
       "\\item FALSE\n",
       "\\item FALSE\n",
       "\\item FALSE\n",
       "\\item FALSE\n",
       "\\item FALSE\n",
       "\\item FALSE\n",
       "\\item FALSE\n",
       "\\item FALSE\n",
       "\\item FALSE\n",
       "\\item FALSE\n",
       "\\item FALSE\n",
       "\\item FALSE\n",
       "\\item FALSE\n",
       "\\item FALSE\n",
       "\\item FALSE\n",
       "\\item FALSE\n",
       "\\item FALSE\n",
       "\\item FALSE\n",
       "\\item FALSE\n",
       "\\item ...\n",
       "\\item FALSE\n",
       "\\item FALSE\n",
       "\\item FALSE\n",
       "\\item FALSE\n",
       "\\item FALSE\n",
       "\\item FALSE\n",
       "\\item FALSE\n",
       "\\item FALSE\n",
       "\\item FALSE\n",
       "\\item FALSE\n",
       "\\item FALSE\n",
       "\\item FALSE\n",
       "\\item FALSE\n",
       "\\item FALSE\n",
       "\\item FALSE\n",
       "\\item FALSE\n",
       "\\item FALSE\n",
       "\\item FALSE\n",
       "\\item FALSE\n",
       "\\item FALSE\n",
       "\\item FALSE\n",
       "\\item FALSE\n",
       "\\item FALSE\n",
       "\\item FALSE\n",
       "\\item FALSE\n",
       "\\item FALSE\n",
       "\\item FALSE\n",
       "\\item FALSE\n",
       "\\item FALSE\n",
       "\\item FALSE\n",
       "\\item FALSE\n",
       "\\item FALSE\n",
       "\\item FALSE\n",
       "\\item FALSE\n",
       "\\item FALSE\n",
       "\\item FALSE\n",
       "\\item FALSE\n",
       "\\item FALSE\n",
       "\\item FALSE\n",
       "\\item FALSE\n",
       "\\item FALSE\n",
       "\\item FALSE\n",
       "\\item FALSE\n",
       "\\item FALSE\n",
       "\\item FALSE\n",
       "\\item FALSE\n",
       "\\item FALSE\n",
       "\\item FALSE\n",
       "\\item FALSE\n",
       "\\item FALSE\n",
       "\\item FALSE\n",
       "\\item FALSE\n",
       "\\item FALSE\n",
       "\\item FALSE\n",
       "\\item FALSE\n",
       "\\item FALSE\n",
       "\\item FALSE\n",
       "\\item FALSE\n",
       "\\item FALSE\n",
       "\\item FALSE\n",
       "\\item FALSE\n",
       "\\item FALSE\n",
       "\\item FALSE\n",
       "\\item FALSE\n",
       "\\item FALSE\n",
       "\\item FALSE\n",
       "\\item FALSE\n",
       "\\item FALSE\n",
       "\\item FALSE\n",
       "\\item FALSE\n",
       "\\item FALSE\n",
       "\\item FALSE\n",
       "\\item FALSE\n",
       "\\item FALSE\n",
       "\\item FALSE\n",
       "\\item FALSE\n",
       "\\item FALSE\n",
       "\\item FALSE\n",
       "\\item FALSE\n",
       "\\item FALSE\n",
       "\\item FALSE\n",
       "\\item FALSE\n",
       "\\item FALSE\n",
       "\\item FALSE\n",
       "\\item FALSE\n",
       "\\item FALSE\n",
       "\\item FALSE\n",
       "\\item FALSE\n",
       "\\item FALSE\n",
       "\\item FALSE\n",
       "\\item FALSE\n",
       "\\item FALSE\n",
       "\\item FALSE\n",
       "\\item FALSE\n",
       "\\item FALSE\n",
       "\\item FALSE\n",
       "\\item FALSE\n",
       "\\item FALSE\n",
       "\\item FALSE\n",
       "\\item FALSE\n",
       "\\item FALSE\n",
       "\\item FALSE\n",
       "\\item FALSE\n",
       "\\item FALSE\n",
       "\\item FALSE\n",
       "\\item FALSE\n",
       "\\item FALSE\n",
       "\\item FALSE\n",
       "\\item FALSE\n",
       "\\item FALSE\n",
       "\\item FALSE\n",
       "\\item FALSE\n",
       "\\item FALSE\n",
       "\\item FALSE\n",
       "\\item FALSE\n",
       "\\item FALSE\n",
       "\\item FALSE\n",
       "\\item FALSE\n",
       "\\item FALSE\n",
       "\\item FALSE\n",
       "\\item FALSE\n",
       "\\item FALSE\n",
       "\\item FALSE\n",
       "\\item FALSE\n",
       "\\item FALSE\n",
       "\\item FALSE\n",
       "\\item FALSE\n",
       "\\item FALSE\n",
       "\\item FALSE\n",
       "\\item FALSE\n",
       "\\item FALSE\n",
       "\\item FALSE\n",
       "\\item FALSE\n",
       "\\item FALSE\n",
       "\\item FALSE\n",
       "\\item FALSE\n",
       "\\item FALSE\n",
       "\\item FALSE\n",
       "\\item FALSE\n",
       "\\item FALSE\n",
       "\\item FALSE\n",
       "\\item FALSE\n",
       "\\item FALSE\n",
       "\\item FALSE\n",
       "\\item FALSE\n",
       "\\item FALSE\n",
       "\\item FALSE\n",
       "\\item FALSE\n",
       "\\item FALSE\n",
       "\\item FALSE\n",
       "\\item FALSE\n",
       "\\item FALSE\n",
       "\\item FALSE\n",
       "\\item FALSE\n",
       "\\item FALSE\n",
       "\\item FALSE\n",
       "\\item FALSE\n",
       "\\item FALSE\n",
       "\\item FALSE\n",
       "\\item FALSE\n",
       "\\item FALSE\n",
       "\\item FALSE\n",
       "\\item FALSE\n",
       "\\item FALSE\n",
       "\\item FALSE\n",
       "\\item FALSE\n",
       "\\item FALSE\n",
       "\\item FALSE\n",
       "\\item FALSE\n",
       "\\item FALSE\n",
       "\\item FALSE\n",
       "\\item FALSE\n",
       "\\item FALSE\n",
       "\\item FALSE\n",
       "\\item FALSE\n",
       "\\item FALSE\n",
       "\\item FALSE\n",
       "\\item FALSE\n",
       "\\item FALSE\n",
       "\\item FALSE\n",
       "\\item FALSE\n",
       "\\item FALSE\n",
       "\\item FALSE\n",
       "\\item FALSE\n",
       "\\item FALSE\n",
       "\\item FALSE\n",
       "\\item FALSE\n",
       "\\item FALSE\n",
       "\\item FALSE\n",
       "\\item FALSE\n",
       "\\item FALSE\n",
       "\\item FALSE\n",
       "\\item FALSE\n",
       "\\item FALSE\n",
       "\\item FALSE\n",
       "\\item FALSE\n",
       "\\item FALSE\n",
       "\\item FALSE\n",
       "\\item FALSE\n",
       "\\item FALSE\n",
       "\\end{enumerate*}\n"
      ],
      "text/markdown": [
       "1. FALSE\n",
       "2. FALSE\n",
       "3. FALSE\n",
       "4. FALSE\n",
       "5. FALSE\n",
       "6. FALSE\n",
       "7. FALSE\n",
       "8. FALSE\n",
       "9. FALSE\n",
       "10. FALSE\n",
       "11. FALSE\n",
       "12. FALSE\n",
       "13. FALSE\n",
       "14. FALSE\n",
       "15. FALSE\n",
       "16. FALSE\n",
       "17. FALSE\n",
       "18. FALSE\n",
       "19. FALSE\n",
       "20. FALSE\n",
       "21. FALSE\n",
       "22. FALSE\n",
       "23. FALSE\n",
       "24. FALSE\n",
       "25. FALSE\n",
       "26. FALSE\n",
       "27. FALSE\n",
       "28. FALSE\n",
       "29. FALSE\n",
       "30. FALSE\n",
       "31. FALSE\n",
       "32. FALSE\n",
       "33. FALSE\n",
       "34. FALSE\n",
       "35. FALSE\n",
       "36. FALSE\n",
       "37. FALSE\n",
       "38. FALSE\n",
       "39. FALSE\n",
       "40. FALSE\n",
       "41. FALSE\n",
       "42. FALSE\n",
       "43. FALSE\n",
       "44. FALSE\n",
       "45. FALSE\n",
       "46. FALSE\n",
       "47. FALSE\n",
       "48. FALSE\n",
       "49. FALSE\n",
       "50. FALSE\n",
       "51. FALSE\n",
       "52. FALSE\n",
       "53. FALSE\n",
       "54. FALSE\n",
       "55. FALSE\n",
       "56. FALSE\n",
       "57. FALSE\n",
       "58. FALSE\n",
       "59. FALSE\n",
       "60. FALSE\n",
       "61. FALSE\n",
       "62. FALSE\n",
       "63. FALSE\n",
       "64. FALSE\n",
       "65. FALSE\n",
       "66. FALSE\n",
       "67. FALSE\n",
       "68. FALSE\n",
       "69. FALSE\n",
       "70. FALSE\n",
       "71. FALSE\n",
       "72. FALSE\n",
       "73. FALSE\n",
       "74. FALSE\n",
       "75. FALSE\n",
       "76. FALSE\n",
       "77. FALSE\n",
       "78. FALSE\n",
       "79. FALSE\n",
       "80. FALSE\n",
       "81. FALSE\n",
       "82. FALSE\n",
       "83. FALSE\n",
       "84. FALSE\n",
       "85. FALSE\n",
       "86. FALSE\n",
       "87. FALSE\n",
       "88. FALSE\n",
       "89. FALSE\n",
       "90. FALSE\n",
       "91. FALSE\n",
       "92. FALSE\n",
       "93. FALSE\n",
       "94. FALSE\n",
       "95. FALSE\n",
       "96. FALSE\n",
       "97. FALSE\n",
       "98. FALSE\n",
       "99. FALSE\n",
       "100. FALSE\n",
       "101. FALSE\n",
       "102. FALSE\n",
       "103. FALSE\n",
       "104. FALSE\n",
       "105. FALSE\n",
       "106. FALSE\n",
       "107. FALSE\n",
       "108. FALSE\n",
       "109. FALSE\n",
       "110. FALSE\n",
       "111. FALSE\n",
       "112. FALSE\n",
       "113. FALSE\n",
       "114. FALSE\n",
       "115. FALSE\n",
       "116. FALSE\n",
       "117. FALSE\n",
       "118. FALSE\n",
       "119. FALSE\n",
       "120. FALSE\n",
       "121. FALSE\n",
       "122. FALSE\n",
       "123. FALSE\n",
       "124. FALSE\n",
       "125. FALSE\n",
       "126. FALSE\n",
       "127. FALSE\n",
       "128. FALSE\n",
       "129. FALSE\n",
       "130. FALSE\n",
       "131. FALSE\n",
       "132. FALSE\n",
       "133. FALSE\n",
       "134. FALSE\n",
       "135. FALSE\n",
       "136. FALSE\n",
       "137. FALSE\n",
       "138. FALSE\n",
       "139. FALSE\n",
       "140. FALSE\n",
       "141. FALSE\n",
       "142. FALSE\n",
       "143. FALSE\n",
       "144. FALSE\n",
       "145. FALSE\n",
       "146. FALSE\n",
       "147. FALSE\n",
       "148. FALSE\n",
       "149. FALSE\n",
       "150. FALSE\n",
       "151. FALSE\n",
       "152. FALSE\n",
       "153. FALSE\n",
       "154. FALSE\n",
       "155. FALSE\n",
       "156. FALSE\n",
       "157. FALSE\n",
       "158. FALSE\n",
       "159. FALSE\n",
       "160. FALSE\n",
       "161. FALSE\n",
       "162. FALSE\n",
       "163. FALSE\n",
       "164. FALSE\n",
       "165. FALSE\n",
       "166. FALSE\n",
       "167. FALSE\n",
       "168. FALSE\n",
       "169. FALSE\n",
       "170. FALSE\n",
       "171. FALSE\n",
       "172. FALSE\n",
       "173. FALSE\n",
       "174. FALSE\n",
       "175. FALSE\n",
       "176. FALSE\n",
       "177. FALSE\n",
       "178. FALSE\n",
       "179. FALSE\n",
       "180. FALSE\n",
       "181. FALSE\n",
       "182. FALSE\n",
       "183. FALSE\n",
       "184. FALSE\n",
       "185. FALSE\n",
       "186. FALSE\n",
       "187. FALSE\n",
       "188. FALSE\n",
       "189. FALSE\n",
       "190. FALSE\n",
       "191. FALSE\n",
       "192. FALSE\n",
       "193. FALSE\n",
       "194. FALSE\n",
       "195. FALSE\n",
       "196. FALSE\n",
       "197. FALSE\n",
       "198. FALSE\n",
       "199. FALSE\n",
       "200. FALSE\n",
       "201. ...\n",
       "202. FALSE\n",
       "203. FALSE\n",
       "204. FALSE\n",
       "205. FALSE\n",
       "206. FALSE\n",
       "207. FALSE\n",
       "208. FALSE\n",
       "209. FALSE\n",
       "210. FALSE\n",
       "211. FALSE\n",
       "212. FALSE\n",
       "213. FALSE\n",
       "214. FALSE\n",
       "215. FALSE\n",
       "216. FALSE\n",
       "217. FALSE\n",
       "218. FALSE\n",
       "219. FALSE\n",
       "220. FALSE\n",
       "221. FALSE\n",
       "222. FALSE\n",
       "223. FALSE\n",
       "224. FALSE\n",
       "225. FALSE\n",
       "226. FALSE\n",
       "227. FALSE\n",
       "228. FALSE\n",
       "229. FALSE\n",
       "230. FALSE\n",
       "231. FALSE\n",
       "232. FALSE\n",
       "233. FALSE\n",
       "234. FALSE\n",
       "235. FALSE\n",
       "236. FALSE\n",
       "237. FALSE\n",
       "238. FALSE\n",
       "239. FALSE\n",
       "240. FALSE\n",
       "241. FALSE\n",
       "242. FALSE\n",
       "243. FALSE\n",
       "244. FALSE\n",
       "245. FALSE\n",
       "246. FALSE\n",
       "247. FALSE\n",
       "248. FALSE\n",
       "249. FALSE\n",
       "250. FALSE\n",
       "251. FALSE\n",
       "252. FALSE\n",
       "253. FALSE\n",
       "254. FALSE\n",
       "255. FALSE\n",
       "256. FALSE\n",
       "257. FALSE\n",
       "258. FALSE\n",
       "259. FALSE\n",
       "260. FALSE\n",
       "261. FALSE\n",
       "262. FALSE\n",
       "263. FALSE\n",
       "264. FALSE\n",
       "265. FALSE\n",
       "266. FALSE\n",
       "267. FALSE\n",
       "268. FALSE\n",
       "269. FALSE\n",
       "270. FALSE\n",
       "271. FALSE\n",
       "272. FALSE\n",
       "273. FALSE\n",
       "274. FALSE\n",
       "275. FALSE\n",
       "276. FALSE\n",
       "277. FALSE\n",
       "278. FALSE\n",
       "279. FALSE\n",
       "280. FALSE\n",
       "281. FALSE\n",
       "282. FALSE\n",
       "283. FALSE\n",
       "284. FALSE\n",
       "285. FALSE\n",
       "286. FALSE\n",
       "287. FALSE\n",
       "288. FALSE\n",
       "289. FALSE\n",
       "290. FALSE\n",
       "291. FALSE\n",
       "292. FALSE\n",
       "293. FALSE\n",
       "294. FALSE\n",
       "295. FALSE\n",
       "296. FALSE\n",
       "297. FALSE\n",
       "298. FALSE\n",
       "299. FALSE\n",
       "300. FALSE\n",
       "301. FALSE\n",
       "302. FALSE\n",
       "303. FALSE\n",
       "304. FALSE\n",
       "305. FALSE\n",
       "306. FALSE\n",
       "307. FALSE\n",
       "308. FALSE\n",
       "309. FALSE\n",
       "310. FALSE\n",
       "311. FALSE\n",
       "312. FALSE\n",
       "313. FALSE\n",
       "314. FALSE\n",
       "315. FALSE\n",
       "316. FALSE\n",
       "317. FALSE\n",
       "318. FALSE\n",
       "319. FALSE\n",
       "320. FALSE\n",
       "321. FALSE\n",
       "322. FALSE\n",
       "323. FALSE\n",
       "324. FALSE\n",
       "325. FALSE\n",
       "326. FALSE\n",
       "327. FALSE\n",
       "328. FALSE\n",
       "329. FALSE\n",
       "330. FALSE\n",
       "331. FALSE\n",
       "332. FALSE\n",
       "333. FALSE\n",
       "334. FALSE\n",
       "335. FALSE\n",
       "336. FALSE\n",
       "337. FALSE\n",
       "338. FALSE\n",
       "339. FALSE\n",
       "340. FALSE\n",
       "341. FALSE\n",
       "342. FALSE\n",
       "343. FALSE\n",
       "344. FALSE\n",
       "345. FALSE\n",
       "346. FALSE\n",
       "347. FALSE\n",
       "348. FALSE\n",
       "349. FALSE\n",
       "350. FALSE\n",
       "351. FALSE\n",
       "352. FALSE\n",
       "353. FALSE\n",
       "354. FALSE\n",
       "355. FALSE\n",
       "356. FALSE\n",
       "357. FALSE\n",
       "358. FALSE\n",
       "359. FALSE\n",
       "360. FALSE\n",
       "361. FALSE\n",
       "362. FALSE\n",
       "363. FALSE\n",
       "364. FALSE\n",
       "365. FALSE\n",
       "366. FALSE\n",
       "367. FALSE\n",
       "368. FALSE\n",
       "369. FALSE\n",
       "370. FALSE\n",
       "371. FALSE\n",
       "372. FALSE\n",
       "373. FALSE\n",
       "374. FALSE\n",
       "375. FALSE\n",
       "376. FALSE\n",
       "377. FALSE\n",
       "378. FALSE\n",
       "379. FALSE\n",
       "380. FALSE\n",
       "381. FALSE\n",
       "382. FALSE\n",
       "383. FALSE\n",
       "384. FALSE\n",
       "385. FALSE\n",
       "386. FALSE\n",
       "387. FALSE\n",
       "388. FALSE\n",
       "389. FALSE\n",
       "390. FALSE\n",
       "391. FALSE\n",
       "392. FALSE\n",
       "393. FALSE\n",
       "394. FALSE\n",
       "395. FALSE\n",
       "396. FALSE\n",
       "397. FALSE\n",
       "398. FALSE\n",
       "399. FALSE\n",
       "400. FALSE\n",
       "401. FALSE\n",
       "\n",
       "\n"
      ],
      "text/plain": [
       "   [1] FALSE FALSE FALSE FALSE FALSE FALSE FALSE FALSE FALSE FALSE FALSE FALSE\n",
       "  [13] FALSE FALSE FALSE FALSE FALSE FALSE FALSE FALSE FALSE FALSE FALSE FALSE\n",
       "  [25] FALSE FALSE FALSE FALSE FALSE FALSE FALSE FALSE FALSE FALSE FALSE FALSE\n",
       "  [37] FALSE FALSE FALSE FALSE FALSE FALSE FALSE FALSE FALSE FALSE FALSE FALSE\n",
       "  [49] FALSE FALSE FALSE FALSE FALSE FALSE FALSE FALSE FALSE FALSE FALSE FALSE\n",
       "  [61] FALSE FALSE FALSE FALSE FALSE FALSE FALSE FALSE FALSE FALSE FALSE FALSE\n",
       "  [73] FALSE FALSE FALSE FALSE FALSE FALSE FALSE FALSE FALSE FALSE FALSE FALSE\n",
       "  [85] FALSE FALSE FALSE FALSE FALSE FALSE FALSE FALSE FALSE FALSE FALSE FALSE\n",
       "  [97] FALSE FALSE FALSE FALSE FALSE FALSE FALSE FALSE FALSE FALSE FALSE FALSE\n",
       " [109] FALSE FALSE FALSE FALSE FALSE FALSE FALSE FALSE FALSE FALSE FALSE FALSE\n",
       " [121] FALSE FALSE FALSE FALSE FALSE FALSE FALSE FALSE FALSE FALSE FALSE FALSE\n",
       " [133] FALSE FALSE FALSE FALSE FALSE FALSE FALSE FALSE FALSE FALSE FALSE FALSE\n",
       " [145] FALSE FALSE FALSE FALSE FALSE FALSE FALSE FALSE FALSE FALSE FALSE FALSE\n",
       " [157] FALSE FALSE FALSE FALSE FALSE FALSE FALSE FALSE FALSE FALSE FALSE FALSE\n",
       " [169] FALSE FALSE FALSE FALSE FALSE FALSE FALSE FALSE FALSE FALSE FALSE FALSE\n",
       " [181] FALSE FALSE FALSE FALSE FALSE FALSE FALSE FALSE FALSE FALSE FALSE FALSE\n",
       " [193] FALSE FALSE FALSE FALSE FALSE FALSE FALSE FALSE FALSE FALSE FALSE FALSE\n",
       " [205] FALSE FALSE FALSE FALSE FALSE FALSE FALSE FALSE FALSE FALSE FALSE FALSE\n",
       " [217] FALSE FALSE FALSE FALSE FALSE FALSE FALSE FALSE FALSE FALSE FALSE FALSE\n",
       " [229] FALSE FALSE FALSE FALSE FALSE FALSE FALSE FALSE FALSE FALSE FALSE FALSE\n",
       " [241] FALSE FALSE FALSE FALSE FALSE FALSE FALSE FALSE FALSE FALSE FALSE FALSE\n",
       " [253] FALSE FALSE FALSE FALSE FALSE FALSE FALSE FALSE FALSE FALSE FALSE FALSE\n",
       " [265] FALSE FALSE FALSE FALSE FALSE FALSE FALSE FALSE FALSE FALSE FALSE FALSE\n",
       " [277] FALSE FALSE FALSE FALSE FALSE FALSE FALSE FALSE FALSE FALSE FALSE FALSE\n",
       " [289] FALSE FALSE FALSE FALSE FALSE FALSE FALSE FALSE FALSE FALSE FALSE FALSE\n",
       " [301] FALSE FALSE FALSE FALSE FALSE FALSE FALSE FALSE FALSE FALSE FALSE FALSE\n",
       " [313] FALSE FALSE FALSE FALSE FALSE FALSE FALSE FALSE FALSE FALSE FALSE FALSE\n",
       " [325] FALSE FALSE FALSE FALSE FALSE FALSE FALSE FALSE FALSE FALSE FALSE FALSE\n",
       " [337] FALSE FALSE FALSE FALSE FALSE FALSE FALSE FALSE FALSE FALSE FALSE FALSE\n",
       " [349] FALSE FALSE FALSE FALSE FALSE FALSE FALSE FALSE FALSE FALSE FALSE FALSE\n",
       " [361] FALSE FALSE FALSE FALSE FALSE FALSE FALSE FALSE FALSE FALSE FALSE FALSE\n",
       " [373] FALSE FALSE FALSE FALSE FALSE FALSE FALSE FALSE FALSE FALSE FALSE FALSE\n",
       " [385] FALSE FALSE FALSE FALSE FALSE FALSE FALSE FALSE FALSE FALSE FALSE FALSE\n",
       " [397] FALSE FALSE FALSE FALSE FALSE FALSE FALSE FALSE FALSE FALSE FALSE FALSE\n",
       " [409] FALSE FALSE FALSE FALSE FALSE FALSE FALSE FALSE FALSE FALSE FALSE FALSE\n",
       " [421] FALSE FALSE FALSE FALSE FALSE FALSE FALSE FALSE FALSE FALSE FALSE FALSE\n",
       " [433] FALSE FALSE FALSE FALSE FALSE FALSE FALSE FALSE FALSE FALSE FALSE FALSE\n",
       " [445] FALSE FALSE FALSE FALSE FALSE FALSE FALSE FALSE FALSE FALSE FALSE FALSE\n",
       " [457] FALSE FALSE FALSE FALSE FALSE FALSE FALSE FALSE FALSE FALSE FALSE FALSE\n",
       " [469] FALSE FALSE FALSE FALSE FALSE FALSE FALSE FALSE FALSE FALSE FALSE FALSE\n",
       " [481] FALSE FALSE FALSE FALSE FALSE FALSE FALSE FALSE FALSE FALSE FALSE FALSE\n",
       " [493] FALSE FALSE FALSE FALSE FALSE FALSE FALSE FALSE FALSE FALSE FALSE FALSE\n",
       " [505] FALSE FALSE FALSE FALSE FALSE FALSE FALSE FALSE FALSE FALSE FALSE FALSE\n",
       " [517] FALSE FALSE FALSE FALSE FALSE FALSE FALSE FALSE FALSE FALSE FALSE FALSE\n",
       " [529] FALSE FALSE FALSE FALSE FALSE FALSE FALSE FALSE FALSE FALSE FALSE FALSE\n",
       " [541] FALSE FALSE FALSE FALSE FALSE FALSE FALSE FALSE FALSE FALSE FALSE FALSE\n",
       " [553] FALSE FALSE FALSE FALSE FALSE FALSE FALSE FALSE FALSE FALSE FALSE FALSE\n",
       " [565] FALSE FALSE FALSE FALSE FALSE FALSE FALSE FALSE FALSE FALSE FALSE FALSE\n",
       " [577] FALSE FALSE FALSE FALSE FALSE FALSE FALSE FALSE FALSE FALSE FALSE FALSE\n",
       " [589] FALSE FALSE FALSE FALSE FALSE FALSE FALSE FALSE FALSE FALSE FALSE FALSE\n",
       " [601] FALSE FALSE FALSE FALSE FALSE FALSE FALSE FALSE FALSE FALSE FALSE FALSE\n",
       " [613] FALSE FALSE FALSE FALSE FALSE FALSE FALSE FALSE FALSE FALSE FALSE FALSE\n",
       " [625] FALSE FALSE FALSE FALSE FALSE FALSE FALSE FALSE FALSE FALSE FALSE FALSE\n",
       " [637] FALSE FALSE FALSE FALSE FALSE FALSE FALSE FALSE FALSE FALSE FALSE FALSE\n",
       " [649] FALSE FALSE FALSE FALSE FALSE FALSE FALSE FALSE FALSE FALSE FALSE FALSE\n",
       " [661] FALSE FALSE FALSE FALSE FALSE FALSE FALSE FALSE FALSE FALSE FALSE FALSE\n",
       " [673] FALSE FALSE FALSE FALSE FALSE FALSE FALSE FALSE FALSE FALSE FALSE FALSE\n",
       " [685] FALSE FALSE FALSE FALSE FALSE FALSE FALSE FALSE FALSE FALSE FALSE FALSE\n",
       " [697] FALSE FALSE FALSE FALSE FALSE FALSE FALSE FALSE FALSE FALSE FALSE FALSE\n",
       " [709] FALSE FALSE FALSE FALSE FALSE FALSE FALSE FALSE FALSE FALSE FALSE FALSE\n",
       " [721] FALSE FALSE FALSE FALSE FALSE FALSE FALSE FALSE FALSE FALSE FALSE FALSE\n",
       " [733] FALSE FALSE FALSE FALSE FALSE FALSE FALSE FALSE FALSE FALSE FALSE FALSE\n",
       " [745] FALSE FALSE FALSE FALSE FALSE FALSE FALSE FALSE FALSE FALSE FALSE FALSE\n",
       " [757] FALSE FALSE FALSE FALSE FALSE FALSE FALSE FALSE FALSE FALSE FALSE FALSE\n",
       " [769] FALSE FALSE FALSE FALSE FALSE FALSE FALSE FALSE FALSE FALSE FALSE FALSE\n",
       " [781] FALSE FALSE FALSE FALSE FALSE FALSE FALSE FALSE FALSE FALSE FALSE FALSE\n",
       " [793] FALSE FALSE FALSE FALSE FALSE FALSE FALSE FALSE FALSE FALSE FALSE FALSE\n",
       " [805] FALSE FALSE FALSE FALSE FALSE FALSE FALSE FALSE FALSE FALSE FALSE FALSE\n",
       " [817] FALSE FALSE FALSE FALSE FALSE FALSE FALSE FALSE FALSE FALSE FALSE FALSE\n",
       " [829] FALSE FALSE FALSE FALSE FALSE FALSE FALSE FALSE FALSE FALSE FALSE FALSE\n",
       " [841] FALSE FALSE FALSE FALSE FALSE FALSE FALSE FALSE FALSE FALSE FALSE FALSE\n",
       " [853] FALSE FALSE FALSE FALSE FALSE FALSE FALSE FALSE FALSE FALSE FALSE FALSE\n",
       " [865] FALSE FALSE FALSE FALSE FALSE FALSE FALSE FALSE FALSE FALSE FALSE FALSE\n",
       " [877] FALSE FALSE FALSE FALSE FALSE FALSE FALSE FALSE FALSE FALSE FALSE FALSE\n",
       " [889] FALSE FALSE FALSE FALSE FALSE FALSE FALSE FALSE FALSE FALSE FALSE FALSE\n",
       " [901] FALSE FALSE FALSE FALSE FALSE FALSE FALSE FALSE FALSE FALSE FALSE FALSE\n",
       " [913] FALSE FALSE FALSE FALSE FALSE FALSE FALSE FALSE FALSE FALSE FALSE FALSE\n",
       " [925] FALSE FALSE FALSE FALSE FALSE FALSE FALSE FALSE FALSE FALSE FALSE FALSE\n",
       " [937] FALSE FALSE FALSE FALSE FALSE FALSE FALSE FALSE FALSE FALSE FALSE FALSE\n",
       " [949] FALSE FALSE FALSE FALSE FALSE FALSE FALSE FALSE FALSE FALSE FALSE FALSE\n",
       " [961] FALSE FALSE FALSE FALSE FALSE FALSE FALSE FALSE FALSE FALSE FALSE FALSE\n",
       " [973] FALSE FALSE FALSE FALSE FALSE FALSE FALSE FALSE FALSE FALSE FALSE FALSE\n",
       " [985] FALSE FALSE FALSE FALSE FALSE FALSE FALSE FALSE FALSE FALSE FALSE FALSE\n",
       " [997] FALSE FALSE FALSE FALSE FALSE FALSE FALSE FALSE FALSE FALSE FALSE FALSE\n",
       "[1009] FALSE FALSE FALSE FALSE FALSE FALSE FALSE FALSE FALSE FALSE FALSE FALSE\n",
       "[1021] FALSE FALSE FALSE FALSE FALSE FALSE FALSE FALSE FALSE FALSE FALSE FALSE\n",
       "[1033] FALSE FALSE FALSE FALSE FALSE FALSE FALSE FALSE FALSE FALSE FALSE FALSE\n",
       "[1045] FALSE FALSE FALSE FALSE FALSE FALSE FALSE FALSE FALSE FALSE FALSE FALSE\n",
       "[1057] FALSE FALSE FALSE FALSE FALSE FALSE FALSE FALSE FALSE FALSE FALSE FALSE\n",
       "[1069] FALSE FALSE FALSE FALSE FALSE FALSE FALSE FALSE FALSE FALSE FALSE FALSE\n",
       "[1081] FALSE FALSE FALSE FALSE FALSE FALSE FALSE FALSE FALSE FALSE FALSE FALSE\n",
       "[1093] FALSE FALSE FALSE FALSE FALSE FALSE FALSE FALSE FALSE FALSE FALSE FALSE\n",
       "[1105] FALSE FALSE FALSE FALSE FALSE FALSE FALSE FALSE FALSE FALSE FALSE FALSE\n",
       "[1117] FALSE FALSE FALSE FALSE FALSE FALSE FALSE FALSE FALSE FALSE FALSE FALSE\n",
       "[1129] FALSE FALSE FALSE FALSE FALSE FALSE FALSE FALSE FALSE FALSE FALSE FALSE\n",
       "[1141] FALSE FALSE FALSE FALSE FALSE FALSE FALSE FALSE FALSE FALSE FALSE FALSE\n",
       "[1153] FALSE FALSE FALSE FALSE FALSE FALSE FALSE FALSE FALSE FALSE FALSE FALSE\n",
       "[1165] FALSE FALSE FALSE FALSE FALSE FALSE FALSE FALSE FALSE FALSE FALSE FALSE\n",
       "[1177] FALSE FALSE FALSE FALSE FALSE FALSE FALSE FALSE FALSE FALSE FALSE FALSE\n",
       "[1189] FALSE FALSE FALSE FALSE FALSE FALSE FALSE FALSE FALSE FALSE FALSE FALSE\n",
       "[1201] FALSE FALSE FALSE FALSE FALSE FALSE FALSE FALSE FALSE FALSE FALSE FALSE\n",
       "[1213] FALSE FALSE FALSE FALSE FALSE FALSE FALSE FALSE FALSE FALSE FALSE FALSE\n",
       "[1225] FALSE FALSE FALSE FALSE FALSE FALSE FALSE FALSE FALSE FALSE FALSE FALSE\n",
       "[1237] FALSE FALSE FALSE FALSE FALSE FALSE FALSE FALSE FALSE FALSE FALSE FALSE\n",
       "[1249] FALSE FALSE FALSE FALSE FALSE FALSE FALSE FALSE FALSE FALSE FALSE FALSE\n",
       "[1261] FALSE FALSE FALSE FALSE FALSE FALSE FALSE FALSE FALSE FALSE FALSE FALSE\n",
       "[1273] FALSE FALSE FALSE FALSE FALSE FALSE FALSE FALSE FALSE FALSE FALSE FALSE\n",
       "[1285] FALSE FALSE FALSE FALSE FALSE FALSE FALSE FALSE FALSE FALSE FALSE FALSE\n",
       "[1297] FALSE FALSE FALSE FALSE FALSE FALSE FALSE FALSE FALSE FALSE FALSE FALSE\n",
       "[1309] FALSE FALSE FALSE FALSE FALSE FALSE FALSE FALSE FALSE FALSE FALSE FALSE\n",
       "[1321] FALSE FALSE FALSE FALSE FALSE FALSE FALSE FALSE FALSE FALSE FALSE FALSE\n",
       "[1333] FALSE FALSE FALSE FALSE FALSE FALSE FALSE FALSE FALSE FALSE FALSE FALSE\n",
       "[1345] FALSE FALSE FALSE FALSE FALSE FALSE FALSE FALSE FALSE FALSE FALSE FALSE\n",
       "[1357] FALSE FALSE FALSE FALSE FALSE FALSE FALSE FALSE FALSE FALSE FALSE FALSE\n",
       "[1369] FALSE FALSE FALSE FALSE FALSE FALSE FALSE FALSE FALSE FALSE FALSE FALSE\n",
       "[1381] FALSE FALSE FALSE FALSE FALSE FALSE FALSE FALSE FALSE FALSE FALSE FALSE\n",
       "[1393] FALSE FALSE FALSE FALSE FALSE FALSE FALSE FALSE FALSE FALSE FALSE FALSE\n",
       "[1405] FALSE FALSE FALSE FALSE FALSE FALSE FALSE FALSE FALSE FALSE FALSE FALSE\n",
       "[1417] FALSE FALSE FALSE FALSE FALSE FALSE FALSE FALSE FALSE FALSE FALSE FALSE\n",
       "[1429] FALSE FALSE FALSE FALSE FALSE FALSE FALSE FALSE FALSE FALSE FALSE FALSE\n",
       "[1441] FALSE FALSE FALSE FALSE FALSE FALSE FALSE FALSE FALSE FALSE FALSE FALSE\n",
       "[1453] FALSE FALSE FALSE FALSE FALSE FALSE FALSE FALSE FALSE FALSE FALSE FALSE\n",
       "[1465] FALSE FALSE FALSE FALSE FALSE FALSE FALSE FALSE FALSE FALSE FALSE FALSE\n",
       "[1477] FALSE FALSE FALSE FALSE FALSE FALSE FALSE FALSE FALSE FALSE FALSE FALSE\n",
       "[1489] FALSE FALSE FALSE FALSE FALSE FALSE FALSE FALSE FALSE FALSE FALSE FALSE\n",
       "[1501] FALSE FALSE FALSE FALSE FALSE FALSE FALSE FALSE FALSE FALSE FALSE FALSE\n",
       "[1513] FALSE FALSE FALSE FALSE FALSE FALSE FALSE FALSE FALSE FALSE FALSE FALSE\n",
       "[1525] FALSE FALSE FALSE FALSE FALSE FALSE FALSE FALSE FALSE FALSE FALSE FALSE\n",
       "[1537] FALSE FALSE FALSE FALSE FALSE FALSE FALSE FALSE FALSE FALSE FALSE FALSE\n",
       "[1549] FALSE FALSE FALSE FALSE FALSE FALSE FALSE FALSE FALSE FALSE FALSE FALSE\n",
       "[1561] FALSE FALSE FALSE FALSE FALSE FALSE FALSE FALSE FALSE FALSE FALSE FALSE\n",
       "[1573] FALSE FALSE FALSE FALSE FALSE FALSE FALSE FALSE FALSE FALSE FALSE FALSE\n",
       "[1585] FALSE FALSE FALSE FALSE FALSE FALSE FALSE FALSE FALSE FALSE FALSE FALSE\n",
       "[1597] FALSE FALSE FALSE FALSE FALSE FALSE FALSE FALSE FALSE FALSE FALSE FALSE\n",
       "[1609] FALSE FALSE FALSE FALSE FALSE FALSE FALSE FALSE FALSE FALSE FALSE FALSE\n",
       "[1621] FALSE FALSE FALSE FALSE FALSE FALSE FALSE FALSE FALSE FALSE FALSE FALSE\n",
       "[1633] FALSE FALSE FALSE FALSE FALSE FALSE FALSE FALSE FALSE FALSE FALSE FALSE\n",
       "[1645] FALSE FALSE FALSE FALSE FALSE FALSE FALSE FALSE FALSE FALSE FALSE FALSE\n",
       "[1657] FALSE FALSE FALSE FALSE FALSE FALSE FALSE FALSE FALSE FALSE FALSE FALSE\n",
       "[1669] FALSE FALSE FALSE FALSE FALSE FALSE FALSE FALSE FALSE FALSE FALSE FALSE\n",
       "[1681] FALSE FALSE FALSE FALSE FALSE FALSE FALSE FALSE FALSE FALSE FALSE FALSE\n",
       "[1693] FALSE FALSE FALSE FALSE FALSE FALSE FALSE FALSE FALSE FALSE FALSE FALSE\n",
       "[1705] FALSE FALSE FALSE FALSE FALSE FALSE FALSE FALSE FALSE FALSE FALSE FALSE\n",
       "[1717] FALSE FALSE FALSE FALSE FALSE FALSE FALSE FALSE FALSE FALSE FALSE FALSE\n",
       "[1729] FALSE FALSE FALSE FALSE FALSE FALSE FALSE FALSE FALSE FALSE FALSE FALSE\n",
       "[1741] FALSE FALSE FALSE FALSE FALSE FALSE FALSE FALSE FALSE FALSE FALSE FALSE\n",
       "[1753] FALSE FALSE FALSE FALSE FALSE FALSE FALSE FALSE FALSE FALSE FALSE FALSE\n",
       "[1765] FALSE FALSE FALSE FALSE FALSE FALSE FALSE FALSE FALSE FALSE FALSE FALSE\n",
       "[1777] FALSE FALSE FALSE FALSE FALSE FALSE FALSE FALSE FALSE FALSE FALSE FALSE\n",
       "[1789] FALSE FALSE FALSE FALSE FALSE FALSE FALSE FALSE FALSE FALSE FALSE FALSE\n",
       "[1801] FALSE FALSE FALSE FALSE FALSE FALSE FALSE FALSE FALSE FALSE FALSE FALSE\n",
       "[1813] FALSE FALSE FALSE FALSE FALSE FALSE FALSE FALSE FALSE FALSE FALSE FALSE\n",
       "[1825] FALSE FALSE FALSE FALSE FALSE FALSE FALSE FALSE FALSE FALSE FALSE FALSE\n",
       "[1837] FALSE FALSE FALSE FALSE FALSE FALSE FALSE FALSE FALSE FALSE FALSE FALSE\n",
       "[1849] FALSE FALSE FALSE FALSE FALSE FALSE FALSE FALSE FALSE FALSE FALSE FALSE\n",
       "[1861] FALSE FALSE FALSE FALSE FALSE FALSE FALSE FALSE FALSE FALSE FALSE FALSE\n",
       "[1873] FALSE FALSE FALSE FALSE FALSE FALSE FALSE FALSE FALSE FALSE FALSE FALSE\n",
       "[1885] FALSE FALSE FALSE FALSE FALSE FALSE FALSE FALSE FALSE FALSE FALSE FALSE\n",
       "[1897] FALSE FALSE FALSE FALSE FALSE FALSE FALSE FALSE FALSE FALSE FALSE FALSE\n",
       "[1909] FALSE FALSE FALSE FALSE FALSE FALSE FALSE FALSE FALSE FALSE FALSE FALSE\n",
       "[1921] FALSE FALSE FALSE FALSE FALSE FALSE FALSE FALSE FALSE FALSE FALSE FALSE\n",
       "[1933] FALSE FALSE FALSE FALSE FALSE FALSE FALSE FALSE FALSE FALSE FALSE FALSE\n",
       "[1945] FALSE FALSE FALSE FALSE FALSE FALSE FALSE FALSE FALSE FALSE FALSE FALSE\n",
       "[1957] FALSE FALSE FALSE FALSE FALSE FALSE FALSE FALSE FALSE FALSE FALSE FALSE\n",
       "[1969] FALSE FALSE FALSE FALSE FALSE FALSE FALSE FALSE FALSE FALSE FALSE FALSE\n",
       "[1981] FALSE FALSE FALSE FALSE FALSE FALSE FALSE FALSE FALSE FALSE FALSE FALSE\n",
       "[1993] FALSE FALSE FALSE FALSE FALSE FALSE FALSE FALSE FALSE FALSE FALSE FALSE\n",
       "[2005] FALSE FALSE FALSE FALSE FALSE FALSE FALSE FALSE FALSE FALSE FALSE FALSE\n",
       "[2017] FALSE FALSE FALSE FALSE FALSE FALSE FALSE FALSE FALSE FALSE FALSE FALSE\n",
       "[2029] FALSE FALSE FALSE FALSE FALSE FALSE FALSE FALSE FALSE FALSE FALSE FALSE\n",
       "[2041] FALSE FALSE FALSE FALSE FALSE FALSE FALSE FALSE FALSE FALSE FALSE FALSE\n",
       "[2053] FALSE FALSE FALSE FALSE FALSE FALSE FALSE FALSE FALSE FALSE FALSE FALSE\n",
       "[2065] FALSE FALSE FALSE FALSE FALSE FALSE FALSE FALSE FALSE FALSE FALSE FALSE\n",
       "[2077] FALSE FALSE FALSE FALSE FALSE FALSE FALSE FALSE FALSE FALSE FALSE FALSE\n",
       "[2089] FALSE FALSE FALSE FALSE FALSE FALSE FALSE FALSE FALSE FALSE FALSE FALSE\n",
       "[2101] FALSE FALSE FALSE FALSE FALSE FALSE FALSE FALSE FALSE FALSE FALSE FALSE\n",
       "[2113] FALSE FALSE FALSE FALSE FALSE FALSE FALSE FALSE FALSE FALSE FALSE FALSE\n",
       "[2125] FALSE FALSE FALSE FALSE FALSE FALSE FALSE FALSE FALSE FALSE FALSE FALSE\n",
       "[2137] FALSE FALSE FALSE FALSE FALSE FALSE FALSE FALSE FALSE FALSE FALSE FALSE\n",
       "[2149] FALSE FALSE FALSE FALSE FALSE FALSE FALSE FALSE FALSE FALSE FALSE FALSE\n",
       "[2161] FALSE FALSE FALSE FALSE FALSE FALSE FALSE FALSE FALSE FALSE FALSE FALSE\n",
       "[2173] FALSE FALSE FALSE FALSE FALSE FALSE FALSE FALSE FALSE FALSE FALSE FALSE\n",
       "[2185] FALSE FALSE FALSE FALSE FALSE FALSE FALSE FALSE FALSE FALSE FALSE FALSE\n",
       "[2197] FALSE FALSE FALSE FALSE FALSE FALSE FALSE FALSE FALSE FALSE FALSE FALSE\n",
       "[2209] FALSE FALSE FALSE FALSE FALSE FALSE FALSE FALSE FALSE FALSE FALSE FALSE\n",
       "[2221] FALSE FALSE FALSE FALSE FALSE FALSE FALSE FALSE FALSE FALSE FALSE FALSE\n",
       "[2233] FALSE FALSE FALSE FALSE FALSE FALSE FALSE FALSE FALSE FALSE FALSE FALSE\n",
       "[2245] FALSE FALSE FALSE FALSE FALSE FALSE FALSE FALSE FALSE FALSE FALSE FALSE\n",
       "[2257] FALSE FALSE FALSE FALSE FALSE FALSE FALSE FALSE FALSE FALSE FALSE FALSE\n",
       "[2269] FALSE FALSE FALSE FALSE FALSE FALSE FALSE FALSE FALSE FALSE FALSE FALSE\n",
       "[2281] FALSE FALSE FALSE FALSE FALSE FALSE FALSE FALSE FALSE FALSE FALSE FALSE\n",
       "[2293] FALSE FALSE FALSE FALSE FALSE FALSE FALSE FALSE FALSE FALSE FALSE FALSE\n",
       "[2305] FALSE FALSE FALSE FALSE FALSE FALSE FALSE FALSE FALSE FALSE FALSE FALSE\n",
       "[2317] FALSE FALSE FALSE FALSE FALSE FALSE FALSE FALSE FALSE FALSE FALSE FALSE\n",
       "[2329] FALSE FALSE FALSE FALSE FALSE FALSE FALSE FALSE FALSE FALSE FALSE FALSE\n",
       "[2341] FALSE FALSE FALSE FALSE FALSE FALSE FALSE FALSE FALSE FALSE FALSE FALSE\n",
       "[2353] FALSE FALSE FALSE FALSE FALSE FALSE FALSE FALSE FALSE FALSE FALSE FALSE\n",
       "[2365] FALSE FALSE FALSE FALSE FALSE FALSE FALSE FALSE FALSE FALSE FALSE FALSE\n",
       "[2377] FALSE FALSE FALSE FALSE FALSE FALSE FALSE FALSE FALSE FALSE FALSE FALSE\n",
       "[2389] FALSE FALSE FALSE FALSE FALSE FALSE FALSE FALSE FALSE FALSE FALSE FALSE\n",
       "[2401] FALSE FALSE FALSE FALSE FALSE FALSE FALSE FALSE FALSE FALSE FALSE FALSE\n",
       "[2413] FALSE FALSE FALSE FALSE FALSE FALSE FALSE FALSE FALSE FALSE FALSE FALSE\n",
       "[2425] FALSE FALSE FALSE FALSE FALSE FALSE FALSE FALSE FALSE FALSE FALSE FALSE\n",
       "[2437] FALSE FALSE FALSE FALSE FALSE FALSE FALSE FALSE FALSE FALSE FALSE FALSE\n",
       "[2449] FALSE FALSE FALSE FALSE FALSE FALSE FALSE FALSE FALSE FALSE FALSE FALSE\n",
       "[2461] FALSE FALSE FALSE FALSE FALSE FALSE FALSE FALSE FALSE FALSE FALSE FALSE\n",
       "[2473] FALSE FALSE FALSE FALSE FALSE FALSE FALSE FALSE FALSE FALSE FALSE FALSE\n",
       "[2485] FALSE FALSE FALSE FALSE FALSE FALSE FALSE FALSE FALSE FALSE FALSE FALSE\n",
       "[2497] FALSE FALSE FALSE FALSE FALSE FALSE FALSE FALSE FALSE FALSE FALSE FALSE\n",
       "[2509] FALSE FALSE FALSE FALSE FALSE FALSE FALSE FALSE FALSE FALSE FALSE FALSE\n",
       "[2521] FALSE FALSE FALSE FALSE FALSE FALSE FALSE FALSE FALSE FALSE FALSE FALSE\n",
       "[2533] FALSE FALSE FALSE FALSE FALSE FALSE FALSE FALSE FALSE FALSE FALSE FALSE\n",
       "[2545] FALSE FALSE FALSE FALSE FALSE FALSE FALSE FALSE FALSE FALSE FALSE FALSE\n",
       "[2557] FALSE FALSE FALSE FALSE FALSE FALSE FALSE FALSE FALSE FALSE FALSE FALSE\n",
       "[2569] FALSE FALSE FALSE FALSE FALSE FALSE FALSE FALSE FALSE FALSE FALSE FALSE\n",
       "[2581] FALSE FALSE FALSE FALSE FALSE FALSE FALSE FALSE FALSE FALSE FALSE FALSE\n",
       "[2593] FALSE FALSE FALSE FALSE FALSE FALSE FALSE FALSE FALSE FALSE FALSE FALSE\n",
       "[2605] FALSE FALSE FALSE FALSE FALSE FALSE FALSE FALSE FALSE FALSE FALSE FALSE\n",
       "[2617] FALSE FALSE FALSE FALSE FALSE FALSE FALSE FALSE FALSE FALSE FALSE FALSE\n",
       "[2629] FALSE FALSE FALSE FALSE FALSE FALSE FALSE FALSE FALSE FALSE FALSE FALSE\n",
       "[2641] FALSE FALSE FALSE FALSE FALSE FALSE FALSE FALSE FALSE FALSE FALSE FALSE\n",
       "[2653] FALSE FALSE FALSE FALSE FALSE FALSE FALSE FALSE FALSE FALSE FALSE FALSE\n",
       "[2665] FALSE FALSE FALSE FALSE FALSE FALSE FALSE FALSE FALSE FALSE FALSE FALSE\n",
       "[2677] FALSE FALSE FALSE FALSE FALSE FALSE FALSE FALSE FALSE FALSE FALSE FALSE\n",
       "[2689] FALSE FALSE FALSE FALSE FALSE FALSE FALSE FALSE FALSE FALSE FALSE FALSE"
      ]
     },
     "metadata": {},
     "output_type": "display_data"
    },
    {
     "data": {
      "text/html": [
       "0"
      ],
      "text/latex": [
       "0"
      ],
      "text/markdown": [
       "0"
      ],
      "text/plain": [
       "[1] 0"
      ]
     },
     "metadata": {},
     "output_type": "display_data"
    }
   ],
   "source": [
    "is.na(seoul$'년도')\n",
    "sum(is.na(seoul$'년도'))"
   ]
  },
  {
   "cell_type": "code",
   "execution_count": 19,
   "metadata": {
    "vscode": {
     "languageId": "r"
    }
   },
   "outputs": [
    {
     "name": "stdout",
     "output_type": "stream",
     "text": [
      "컬럼명: 년도 \tNa건수 0 \n",
      "컬럼명: 월 \tNa건수 0 \n",
      "컬럼명: 자치구명 \tNa건수 0 \n",
      "컬럼명: 발생건수 \tNa건수 0 \n",
      "컬럼명: 사망자수 \tNa건수 0 \n",
      "컬럼명: 부상자수 \tNa건수 0 \n"
     ]
    }
   ],
   "source": [
    "#컬럼별 NA확인\n",
    "for(i in 1:ncol(seoul)){\n",
    "    cat(\"컬럼명:\", colnames(seoul[i]), \"\\tNa건수\", sum(is.na(seoul[,i])), \"\\n\")\n",
    "}"
   ]
  },
  {
   "cell_type": "markdown",
   "metadata": {},
   "source": []
  },
  {
   "cell_type": "markdown",
   "metadata": {},
   "source": [
    "### 컬럼별 Data 확인\n",
    " - 년도, 월 자치구명"
   ]
  },
  {
   "cell_type": "code",
   "execution_count": 22,
   "metadata": {
    "vscode": {
     "languageId": "r"
    }
   },
   "outputs": [
    {
     "data": {
      "text/html": [
       "<table class=\"dataframe\">\n",
       "<caption>A data.frame: 6 x 6</caption>\n",
       "<thead>\n",
       "\t<tr><th></th><th scope=col>년도</th><th scope=col>월</th><th scope=col>자치구명</th><th scope=col>발생건수</th><th scope=col>사망자수</th><th scope=col>부상자수</th></tr>\n",
       "\t<tr><th></th><th scope=col>&lt;int&gt;</th><th scope=col>&lt;int&gt;</th><th scope=col>&lt;chr&gt;</th><th scope=col>&lt;int&gt;</th><th scope=col>&lt;int&gt;</th><th scope=col>&lt;int&gt;</th></tr>\n",
       "</thead>\n",
       "<tbody>\n",
       "\t<tr><th scope=row>1</th><td>2011</td><td>1</td><td>종로구</td><td>115</td><td>2</td><td>165</td></tr>\n",
       "\t<tr><th scope=row>2</th><td>2011</td><td>2</td><td>종로구</td><td> 99</td><td>0</td><td>134</td></tr>\n",
       "\t<tr><th scope=row>3</th><td>2011</td><td>3</td><td>종로구</td><td>116</td><td>0</td><td>162</td></tr>\n",
       "\t<tr><th scope=row>4</th><td>2011</td><td>4</td><td>종로구</td><td>110</td><td>1</td><td>153</td></tr>\n",
       "\t<tr><th scope=row>5</th><td>2011</td><td>5</td><td>종로구</td><td>122</td><td>0</td><td>157</td></tr>\n",
       "\t<tr><th scope=row>6</th><td>2011</td><td>6</td><td>종로구</td><td>116</td><td>3</td><td>163</td></tr>\n",
       "</tbody>\n",
       "</table>\n"
      ],
      "text/latex": [
       "A data.frame: 6 x 6\n",
       "\\begin{tabular}{r|llllll}\n",
       "  & 년도 & 월 & 자치구명 & 발생건수 & 사망자수 & 부상자수\\\\\n",
       "  & <int> & <int> & <chr> & <int> & <int> & <int>\\\\\n",
       "\\hline\n",
       "\t1 & 2011 & 1 & 종로구 & 115 & 2 & 165\\\\\n",
       "\t2 & 2011 & 2 & 종로구 &  99 & 0 & 134\\\\\n",
       "\t3 & 2011 & 3 & 종로구 & 116 & 0 & 162\\\\\n",
       "\t4 & 2011 & 4 & 종로구 & 110 & 1 & 153\\\\\n",
       "\t5 & 2011 & 5 & 종로구 & 122 & 0 & 157\\\\\n",
       "\t6 & 2011 & 6 & 종로구 & 116 & 3 & 163\\\\\n",
       "\\end{tabular}\n"
      ],
      "text/markdown": [
       "\n",
       "A data.frame: 6 x 6\n",
       "\n",
       "| <!--/--> | 년도 &lt;int&gt; | 월 &lt;int&gt; | 자치구명 &lt;chr&gt; | 발생건수 &lt;int&gt; | 사망자수 &lt;int&gt; | 부상자수 &lt;int&gt; |\n",
       "|---|---|---|---|---|---|---|\n",
       "| 1 | 2011 | 1 | 종로구 | 115 | 2 | 165 |\n",
       "| 2 | 2011 | 2 | 종로구 |  99 | 0 | 134 |\n",
       "| 3 | 2011 | 3 | 종로구 | 116 | 0 | 162 |\n",
       "| 4 | 2011 | 4 | 종로구 | 110 | 1 | 153 |\n",
       "| 5 | 2011 | 5 | 종로구 | 122 | 0 | 157 |\n",
       "| 6 | 2011 | 6 | 종로구 | 116 | 3 | 163 |\n",
       "\n"
      ],
      "text/plain": [
       "  년도 월 자치구명 발생건수 사망자수 부상자수\n",
       "1 2011 1  종로구   115      2        165     \n",
       "2 2011 2  종로구    99      0        134     \n",
       "3 2011 3  종로구   116      0        162     \n",
       "4 2011 4  종로구   110      1        153     \n",
       "5 2011 5  종로구   122      0        157     \n",
       "6 2011 6  종로구   116      3        163     "
      ]
     },
     "metadata": {},
     "output_type": "display_data"
    }
   ],
   "source": [
    "head(seoul)"
   ]
  },
  {
   "cell_type": "code",
   "execution_count": 21,
   "metadata": {
    "vscode": {
     "languageId": "r"
    }
   },
   "outputs": [
    {
     "data": {
      "text/plain": [
       "\n",
       "2011 2012 2013 2014 2015 2016 2017 2018 2019 \n",
       " 300  300  300  300  300  300  300  300  300 "
      ]
     },
     "metadata": {},
     "output_type": "display_data"
    }
   ],
   "source": [
    "#년도\n",
    "table(seoul$'년도')"
   ]
  },
  {
   "cell_type": "code",
   "execution_count": 23,
   "metadata": {
    "vscode": {
     "languageId": "r"
    }
   },
   "outputs": [
    {
     "data": {
      "text/plain": [
       "\n",
       "  1   2   3   4   5   6   7   8   9  10  11  12 \n",
       "225 225 225 225 225 225 225 225 225 225 225 225 "
      ]
     },
     "metadata": {},
     "output_type": "display_data"
    }
   ],
   "source": [
    "#월\n",
    "table(seoul$'월')"
   ]
  },
  {
   "cell_type": "code",
   "execution_count": 24,
   "metadata": {
    "vscode": {
     "languageId": "r"
    }
   },
   "outputs": [
    {
     "data": {
      "text/plain": [
       "\n",
       "  강남구   강동구   강북구   강서구   관악구   광진구   구로구   금천구 \n",
       "     108      108      108      108      108      108      108      108 \n",
       "  노원구   도봉구 동대문구   동작구   마포구 서대문구   서초구   성동구 \n",
       "     108      108      108      108      108      108      108      108 \n",
       "  성북구   송파구   양천구 영등포구   용산구   은평구   종로구     중구 \n",
       "     108      108      108      108      108      108      108      108 \n",
       "  중랑구 \n",
       "     108 "
      ]
     },
     "metadata": {},
     "output_type": "display_data"
    }
   ],
   "source": [
    "#자치구명\n",
    "table(seoul$'자치구명')"
   ]
  },
  {
   "cell_type": "code",
   "execution_count": 47,
   "metadata": {
    "vscode": {
     "languageId": "r"
    }
   },
   "outputs": [
    {
     "data": {
      "text/html": [
       "<table class=\"dataframe\">\n",
       "<caption>A data.frame: 6 x 2</caption>\n",
       "<thead>\n",
       "\t<tr><th></th><th scope=col>자치구명</th><th scope=col>발생건수</th></tr>\n",
       "\t<tr><th></th><th scope=col>&lt;chr&gt;</th><th scope=col>&lt;dbl&gt;</th></tr>\n",
       "</thead>\n",
       "<tbody>\n",
       "\t<tr><th scope=row>1</th><td>강남구</td><td>306.3611</td></tr>\n",
       "\t<tr><th scope=row>2</th><td>강동구</td><td>118.5370</td></tr>\n",
       "\t<tr><th scope=row>3</th><td>강북구</td><td>101.7870</td></tr>\n",
       "\t<tr><th scope=row>4</th><td>강서구</td><td>145.4722</td></tr>\n",
       "\t<tr><th scope=row>5</th><td>관악구</td><td>128.3889</td></tr>\n",
       "\t<tr><th scope=row>6</th><td>광진구</td><td>103.0741</td></tr>\n",
       "</tbody>\n",
       "</table>\n"
      ],
      "text/latex": [
       "A data.frame: 6 x 2\n",
       "\\begin{tabular}{r|ll}\n",
       "  & 자치구명 & 발생건수\\\\\n",
       "  & <chr> & <dbl>\\\\\n",
       "\\hline\n",
       "\t1 & 강남구 & 306.3611\\\\\n",
       "\t2 & 강동구 & 118.5370\\\\\n",
       "\t3 & 강북구 & 101.7870\\\\\n",
       "\t4 & 강서구 & 145.4722\\\\\n",
       "\t5 & 관악구 & 128.3889\\\\\n",
       "\t6 & 광진구 & 103.0741\\\\\n",
       "\\end{tabular}\n"
      ],
      "text/markdown": [
       "\n",
       "A data.frame: 6 x 2\n",
       "\n",
       "| <!--/--> | 자치구명 &lt;chr&gt; | 발생건수 &lt;dbl&gt; |\n",
       "|---|---|---|\n",
       "| 1 | 강남구 | 306.3611 |\n",
       "| 2 | 강동구 | 118.5370 |\n",
       "| 3 | 강북구 | 101.7870 |\n",
       "| 4 | 강서구 | 145.4722 |\n",
       "| 5 | 관악구 | 128.3889 |\n",
       "| 6 | 광진구 | 103.0741 |\n",
       "\n"
      ],
      "text/plain": [
       "  자치구명 발생건수\n",
       "1 강남구   306.3611\n",
       "2 강동구   118.5370\n",
       "3 강북구   101.7870\n",
       "4 강서구   145.4722\n",
       "5 관악구   128.3889\n",
       "6 광진구   103.0741"
      ]
     },
     "metadata": {},
     "output_type": "display_data"
    }
   ],
   "source": [
    "#자치구별 발생건수의 평균\n",
    "regionAcc.mean <- aggregate(발생건수 ~ 자치구명, seoul, mean)  #자치구별 평균\n",
    "head(regionAcc.mean)"
   ]
  },
  {
   "cell_type": "code",
   "execution_count": 65,
   "metadata": {
    "vscode": {
     "languageId": "r"
    }
   },
   "outputs": [
    {
     "data": {
      "text/html": [
       "<table class=\"dataframe\">\n",
       "<caption>A data.frame: 6 x 2</caption>\n",
       "<thead>\n",
       "\t<tr><th></th><th scope=col>자치구명</th><th scope=col>발생건수</th></tr>\n",
       "\t<tr><th></th><th scope=col>&lt;chr&gt;</th><th scope=col>&lt;dbl&gt;</th></tr>\n",
       "</thead>\n",
       "<tbody>\n",
       "\t<tr><th scope=row>1</th><td>강남구  </td><td>306.3611</td></tr>\n",
       "\t<tr><th scope=row>2</th><td>송파구  </td><td>224.7593</td></tr>\n",
       "\t<tr><th scope=row>3</th><td>영등포구</td><td>194.6481</td></tr>\n",
       "\t<tr><th scope=row>4</th><td>서초구  </td><td>186.4815</td></tr>\n",
       "\t<tr><th scope=row>5</th><td>동대문구</td><td>153.6481</td></tr>\n",
       "\t<tr><th scope=row>6</th><td>강서구  </td><td>145.4722</td></tr>\n",
       "</tbody>\n",
       "</table>\n"
      ],
      "text/latex": [
       "A data.frame: 6 x 2\n",
       "\\begin{tabular}{r|ll}\n",
       "  & 자치구명 & 발생건수\\\\\n",
       "  & <chr> & <dbl>\\\\\n",
       "\\hline\n",
       "\t1 & 강남구   & 306.3611\\\\\n",
       "\t2 & 송파구   & 224.7593\\\\\n",
       "\t3 & 영등포구 & 194.6481\\\\\n",
       "\t4 & 서초구   & 186.4815\\\\\n",
       "\t5 & 동대문구 & 153.6481\\\\\n",
       "\t6 & 강서구   & 145.4722\\\\\n",
       "\\end{tabular}\n"
      ],
      "text/markdown": [
       "\n",
       "A data.frame: 6 x 2\n",
       "\n",
       "| <!--/--> | 자치구명 &lt;chr&gt; | 발생건수 &lt;dbl&gt; |\n",
       "|---|---|---|\n",
       "| 1 | 강남구   | 306.3611 |\n",
       "| 2 | 송파구   | 224.7593 |\n",
       "| 3 | 영등포구 | 194.6481 |\n",
       "| 4 | 서초구   | 186.4815 |\n",
       "| 5 | 동대문구 | 153.6481 |\n",
       "| 6 | 강서구   | 145.4722 |\n",
       "\n"
      ],
      "text/plain": [
       "  자치구명 발생건수\n",
       "1 강남구   306.3611\n",
       "2 송파구   224.7593\n",
       "3 영등포구 194.6481\n",
       "4 서초구   186.4815\n",
       "5 동대문구 153.6481\n",
       "6 강서구   145.4722"
      ]
     },
     "metadata": {},
     "output_type": "display_data"
    }
   ],
   "source": [
    "# 발생건수 기준으로 내림차순 정렬하기\n",
    "head(arrange(regionAcc.mean, desc(발생건수)))\n"
   ]
  },
  {
   "cell_type": "code",
   "execution_count": 44,
   "metadata": {
    "vscode": {
     "languageId": "r"
    }
   },
   "outputs": [
    {
     "data": {
      "text/html": [
       "<table class=\"dataframe\">\n",
       "<caption>A data.frame: 6 x 2</caption>\n",
       "<thead>\n",
       "\t<tr><th></th><th scope=col>자치구명</th><th scope=col>발생건수</th></tr>\n",
       "\t<tr><th></th><th scope=col>&lt;chr&gt;</th><th scope=col>&lt;dbl&gt;</th></tr>\n",
       "</thead>\n",
       "<tbody>\n",
       "\t<tr><th scope=row>1</th><td>강남구</td><td>32.92968</td></tr>\n",
       "\t<tr><th scope=row>2</th><td>강동구</td><td>15.24836</td></tr>\n",
       "\t<tr><th scope=row>3</th><td>강북구</td><td>14.80784</td></tr>\n",
       "\t<tr><th scope=row>4</th><td>강서구</td><td>19.66659</td></tr>\n",
       "\t<tr><th scope=row>5</th><td>관악구</td><td>22.62611</td></tr>\n",
       "\t<tr><th scope=row>6</th><td>광진구</td><td>21.85582</td></tr>\n",
       "</tbody>\n",
       "</table>\n"
      ],
      "text/latex": [
       "A data.frame: 6 x 2\n",
       "\\begin{tabular}{r|ll}\n",
       "  & 자치구명 & 발생건수\\\\\n",
       "  & <chr> & <dbl>\\\\\n",
       "\\hline\n",
       "\t1 & 강남구 & 32.92968\\\\\n",
       "\t2 & 강동구 & 15.24836\\\\\n",
       "\t3 & 강북구 & 14.80784\\\\\n",
       "\t4 & 강서구 & 19.66659\\\\\n",
       "\t5 & 관악구 & 22.62611\\\\\n",
       "\t6 & 광진구 & 21.85582\\\\\n",
       "\\end{tabular}\n"
      ],
      "text/markdown": [
       "\n",
       "A data.frame: 6 x 2\n",
       "\n",
       "| <!--/--> | 자치구명 &lt;chr&gt; | 발생건수 &lt;dbl&gt; |\n",
       "|---|---|---|\n",
       "| 1 | 강남구 | 32.92968 |\n",
       "| 2 | 강동구 | 15.24836 |\n",
       "| 3 | 강북구 | 14.80784 |\n",
       "| 4 | 강서구 | 19.66659 |\n",
       "| 5 | 관악구 | 22.62611 |\n",
       "| 6 | 광진구 | 21.85582 |\n",
       "\n"
      ],
      "text/plain": [
       "  자치구명 발생건수\n",
       "1 강남구   32.92968\n",
       "2 강동구   15.24836\n",
       "3 강북구   14.80784\n",
       "4 강서구   19.66659\n",
       "5 관악구   22.62611\n",
       "6 광진구   21.85582"
      ]
     },
     "metadata": {},
     "output_type": "display_data"
    }
   ],
   "source": [
    "# 자치구별 표준편차\n",
    "regionACC.sd<- aggregate(발생건수 ~ 자치구명, seoul, sd)\n",
    "head(regionACC.sd)"
   ]
  },
  {
   "cell_type": "code",
   "execution_count": 57,
   "metadata": {
    "vscode": {
     "languageId": "r"
    }
   },
   "outputs": [
    {
     "data": {
      "text/html": [
       "<table class=\"dataframe\">\n",
       "<caption>A data.frame: 25 x 2</caption>\n",
       "<thead>\n",
       "\t<tr><th scope=col>자치구명</th><th scope=col>변동계수</th></tr>\n",
       "\t<tr><th scope=col>&lt;chr&gt;</th><th scope=col>&lt;dbl&gt;</th></tr>\n",
       "</thead>\n",
       "<tbody>\n",
       "\t<tr><td>강남구  </td><td>0.1074865</td></tr>\n",
       "\t<tr><td>강동구  </td><td>0.1286380</td></tr>\n",
       "\t<tr><td>강북구  </td><td>0.1454786</td></tr>\n",
       "\t<tr><td>강서구  </td><td>0.1351914</td></tr>\n",
       "\t<tr><td>관악구  </td><td>0.1762311</td></tr>\n",
       "\t<tr><td>광진구  </td><td>0.2120399</td></tr>\n",
       "\t<tr><td>구로구  </td><td>0.1247490</td></tr>\n",
       "\t<tr><td>금천구  </td><td>0.1792845</td></tr>\n",
       "\t<tr><td>노원구  </td><td>0.1269958</td></tr>\n",
       "\t<tr><td>도봉구  </td><td>0.1574197</td></tr>\n",
       "\t<tr><td>동대문구</td><td>0.1478347</td></tr>\n",
       "\t<tr><td>동작구  </td><td>0.1428743</td></tr>\n",
       "\t<tr><td>마포구  </td><td>0.1279873</td></tr>\n",
       "\t<tr><td>서대문구</td><td>0.1332123</td></tr>\n",
       "\t<tr><td>서초구  </td><td>0.1267878</td></tr>\n",
       "\t<tr><td>성동구  </td><td>0.1499687</td></tr>\n",
       "\t<tr><td>성북구  </td><td>0.1401772</td></tr>\n",
       "\t<tr><td>송파구  </td><td>0.1341341</td></tr>\n",
       "\t<tr><td>양천구  </td><td>0.1411315</td></tr>\n",
       "\t<tr><td>영등포구</td><td>0.1177098</td></tr>\n",
       "\t<tr><td>용산구  </td><td>0.1501245</td></tr>\n",
       "\t<tr><td>은평구  </td><td>0.1849940</td></tr>\n",
       "\t<tr><td>종로구  </td><td>0.1586624</td></tr>\n",
       "\t<tr><td>중구    </td><td>0.1581133</td></tr>\n",
       "\t<tr><td>중랑구  </td><td>0.1285712</td></tr>\n",
       "</tbody>\n",
       "</table>\n"
      ],
      "text/latex": [
       "A data.frame: 25 x 2\n",
       "\\begin{tabular}{ll}\n",
       " 자치구명 & 변동계수\\\\\n",
       " <chr> & <dbl>\\\\\n",
       "\\hline\n",
       "\t 강남구   & 0.1074865\\\\\n",
       "\t 강동구   & 0.1286380\\\\\n",
       "\t 강북구   & 0.1454786\\\\\n",
       "\t 강서구   & 0.1351914\\\\\n",
       "\t 관악구   & 0.1762311\\\\\n",
       "\t 광진구   & 0.2120399\\\\\n",
       "\t 구로구   & 0.1247490\\\\\n",
       "\t 금천구   & 0.1792845\\\\\n",
       "\t 노원구   & 0.1269958\\\\\n",
       "\t 도봉구   & 0.1574197\\\\\n",
       "\t 동대문구 & 0.1478347\\\\\n",
       "\t 동작구   & 0.1428743\\\\\n",
       "\t 마포구   & 0.1279873\\\\\n",
       "\t 서대문구 & 0.1332123\\\\\n",
       "\t 서초구   & 0.1267878\\\\\n",
       "\t 성동구   & 0.1499687\\\\\n",
       "\t 성북구   & 0.1401772\\\\\n",
       "\t 송파구   & 0.1341341\\\\\n",
       "\t 양천구   & 0.1411315\\\\\n",
       "\t 영등포구 & 0.1177098\\\\\n",
       "\t 용산구   & 0.1501245\\\\\n",
       "\t 은평구   & 0.1849940\\\\\n",
       "\t 종로구   & 0.1586624\\\\\n",
       "\t 중구     & 0.1581133\\\\\n",
       "\t 중랑구   & 0.1285712\\\\\n",
       "\\end{tabular}\n"
      ],
      "text/markdown": [
       "\n",
       "A data.frame: 25 x 2\n",
       "\n",
       "| 자치구명 &lt;chr&gt; | 변동계수 &lt;dbl&gt; |\n",
       "|---|---|\n",
       "| 강남구   | 0.1074865 |\n",
       "| 강동구   | 0.1286380 |\n",
       "| 강북구   | 0.1454786 |\n",
       "| 강서구   | 0.1351914 |\n",
       "| 관악구   | 0.1762311 |\n",
       "| 광진구   | 0.2120399 |\n",
       "| 구로구   | 0.1247490 |\n",
       "| 금천구   | 0.1792845 |\n",
       "| 노원구   | 0.1269958 |\n",
       "| 도봉구   | 0.1574197 |\n",
       "| 동대문구 | 0.1478347 |\n",
       "| 동작구   | 0.1428743 |\n",
       "| 마포구   | 0.1279873 |\n",
       "| 서대문구 | 0.1332123 |\n",
       "| 서초구   | 0.1267878 |\n",
       "| 성동구   | 0.1499687 |\n",
       "| 성북구   | 0.1401772 |\n",
       "| 송파구   | 0.1341341 |\n",
       "| 양천구   | 0.1411315 |\n",
       "| 영등포구 | 0.1177098 |\n",
       "| 용산구   | 0.1501245 |\n",
       "| 은평구   | 0.1849940 |\n",
       "| 종로구   | 0.1586624 |\n",
       "| 중구     | 0.1581133 |\n",
       "| 중랑구   | 0.1285712 |\n",
       "\n"
      ],
      "text/plain": [
       "   자치구명 변동계수 \n",
       "1  강남구   0.1074865\n",
       "2  강동구   0.1286380\n",
       "3  강북구   0.1454786\n",
       "4  강서구   0.1351914\n",
       "5  관악구   0.1762311\n",
       "6  광진구   0.2120399\n",
       "7  구로구   0.1247490\n",
       "8  금천구   0.1792845\n",
       "9  노원구   0.1269958\n",
       "10 도봉구   0.1574197\n",
       "11 동대문구 0.1478347\n",
       "12 동작구   0.1428743\n",
       "13 마포구   0.1279873\n",
       "14 서대문구 0.1332123\n",
       "15 서초구   0.1267878\n",
       "16 성동구   0.1499687\n",
       "17 성북구   0.1401772\n",
       "18 송파구   0.1341341\n",
       "19 양천구   0.1411315\n",
       "20 영등포구 0.1177098\n",
       "21 용산구   0.1501245\n",
       "22 은평구   0.1849940\n",
       "23 종로구   0.1586624\n",
       "24 중구     0.1581133\n",
       "25 중랑구   0.1285712"
      ]
     },
     "metadata": {},
     "output_type": "display_data"
    }
   ],
   "source": [
    "# 자치구별 발생건수 (변동계수 = 표준편차 / 평균)\n",
    "regionACC.cv <- regionACC.sd$`발생건수` / regionAcc.mean$`발생건수`\n",
    "regionACC\n"
   ]
  },
  {
   "cell_type": "code",
   "execution_count": 66,
   "metadata": {
    "vscode": {
     "languageId": "r"
    }
   },
   "outputs": [
    {
     "data": {
      "text/html": [
       "<table class=\"dataframe\">\n",
       "<caption>A data.frame: 25 x 2</caption>\n",
       "<thead>\n",
       "\t<tr><th scope=col>자치구명</th><th scope=col>변동계수</th></tr>\n",
       "\t<tr><th scope=col>&lt;chr&gt;</th><th scope=col>&lt;dbl&gt;</th></tr>\n",
       "</thead>\n",
       "<tbody>\n",
       "\t<tr><td>강남구  </td><td>0.1074865</td></tr>\n",
       "\t<tr><td>영등포구</td><td>0.1177098</td></tr>\n",
       "\t<tr><td>구로구  </td><td>0.1247490</td></tr>\n",
       "\t<tr><td>서초구  </td><td>0.1267878</td></tr>\n",
       "\t<tr><td>노원구  </td><td>0.1269958</td></tr>\n",
       "\t<tr><td>마포구  </td><td>0.1279873</td></tr>\n",
       "\t<tr><td>중랑구  </td><td>0.1285712</td></tr>\n",
       "\t<tr><td>강동구  </td><td>0.1286380</td></tr>\n",
       "\t<tr><td>서대문구</td><td>0.1332123</td></tr>\n",
       "\t<tr><td>송파구  </td><td>0.1341341</td></tr>\n",
       "\t<tr><td>강서구  </td><td>0.1351914</td></tr>\n",
       "\t<tr><td>성북구  </td><td>0.1401772</td></tr>\n",
       "\t<tr><td>양천구  </td><td>0.1411315</td></tr>\n",
       "\t<tr><td>동작구  </td><td>0.1428743</td></tr>\n",
       "\t<tr><td>강북구  </td><td>0.1454786</td></tr>\n",
       "\t<tr><td>동대문구</td><td>0.1478347</td></tr>\n",
       "\t<tr><td>성동구  </td><td>0.1499687</td></tr>\n",
       "\t<tr><td>용산구  </td><td>0.1501245</td></tr>\n",
       "\t<tr><td>도봉구  </td><td>0.1574197</td></tr>\n",
       "\t<tr><td>중구    </td><td>0.1581133</td></tr>\n",
       "\t<tr><td>종로구  </td><td>0.1586624</td></tr>\n",
       "\t<tr><td>관악구  </td><td>0.1762311</td></tr>\n",
       "\t<tr><td>금천구  </td><td>0.1792845</td></tr>\n",
       "\t<tr><td>은평구  </td><td>0.1849940</td></tr>\n",
       "\t<tr><td>광진구  </td><td>0.2120399</td></tr>\n",
       "</tbody>\n",
       "</table>\n"
      ],
      "text/latex": [
       "A data.frame: 25 x 2\n",
       "\\begin{tabular}{ll}\n",
       " 자치구명 & 변동계수\\\\\n",
       " <chr> & <dbl>\\\\\n",
       "\\hline\n",
       "\t 강남구   & 0.1074865\\\\\n",
       "\t 영등포구 & 0.1177098\\\\\n",
       "\t 구로구   & 0.1247490\\\\\n",
       "\t 서초구   & 0.1267878\\\\\n",
       "\t 노원구   & 0.1269958\\\\\n",
       "\t 마포구   & 0.1279873\\\\\n",
       "\t 중랑구   & 0.1285712\\\\\n",
       "\t 강동구   & 0.1286380\\\\\n",
       "\t 서대문구 & 0.1332123\\\\\n",
       "\t 송파구   & 0.1341341\\\\\n",
       "\t 강서구   & 0.1351914\\\\\n",
       "\t 성북구   & 0.1401772\\\\\n",
       "\t 양천구   & 0.1411315\\\\\n",
       "\t 동작구   & 0.1428743\\\\\n",
       "\t 강북구   & 0.1454786\\\\\n",
       "\t 동대문구 & 0.1478347\\\\\n",
       "\t 성동구   & 0.1499687\\\\\n",
       "\t 용산구   & 0.1501245\\\\\n",
       "\t 도봉구   & 0.1574197\\\\\n",
       "\t 중구     & 0.1581133\\\\\n",
       "\t 종로구   & 0.1586624\\\\\n",
       "\t 관악구   & 0.1762311\\\\\n",
       "\t 금천구   & 0.1792845\\\\\n",
       "\t 은평구   & 0.1849940\\\\\n",
       "\t 광진구   & 0.2120399\\\\\n",
       "\\end{tabular}\n"
      ],
      "text/markdown": [
       "\n",
       "A data.frame: 25 x 2\n",
       "\n",
       "| 자치구명 &lt;chr&gt; | 변동계수 &lt;dbl&gt; |\n",
       "|---|---|\n",
       "| 강남구   | 0.1074865 |\n",
       "| 영등포구 | 0.1177098 |\n",
       "| 구로구   | 0.1247490 |\n",
       "| 서초구   | 0.1267878 |\n",
       "| 노원구   | 0.1269958 |\n",
       "| 마포구   | 0.1279873 |\n",
       "| 중랑구   | 0.1285712 |\n",
       "| 강동구   | 0.1286380 |\n",
       "| 서대문구 | 0.1332123 |\n",
       "| 송파구   | 0.1341341 |\n",
       "| 강서구   | 0.1351914 |\n",
       "| 성북구   | 0.1401772 |\n",
       "| 양천구   | 0.1411315 |\n",
       "| 동작구   | 0.1428743 |\n",
       "| 강북구   | 0.1454786 |\n",
       "| 동대문구 | 0.1478347 |\n",
       "| 성동구   | 0.1499687 |\n",
       "| 용산구   | 0.1501245 |\n",
       "| 도봉구   | 0.1574197 |\n",
       "| 중구     | 0.1581133 |\n",
       "| 종로구   | 0.1586624 |\n",
       "| 관악구   | 0.1762311 |\n",
       "| 금천구   | 0.1792845 |\n",
       "| 은평구   | 0.1849940 |\n",
       "| 광진구   | 0.2120399 |\n",
       "\n"
      ],
      "text/plain": [
       "   자치구명 변동계수 \n",
       "1  강남구   0.1074865\n",
       "2  영등포구 0.1177098\n",
       "3  구로구   0.1247490\n",
       "4  서초구   0.1267878\n",
       "5  노원구   0.1269958\n",
       "6  마포구   0.1279873\n",
       "7  중랑구   0.1285712\n",
       "8  강동구   0.1286380\n",
       "9  서대문구 0.1332123\n",
       "10 송파구   0.1341341\n",
       "11 강서구   0.1351914\n",
       "12 성북구   0.1401772\n",
       "13 양천구   0.1411315\n",
       "14 동작구   0.1428743\n",
       "15 강북구   0.1454786\n",
       "16 동대문구 0.1478347\n",
       "17 성동구   0.1499687\n",
       "18 용산구   0.1501245\n",
       "19 도봉구   0.1574197\n",
       "20 중구     0.1581133\n",
       "21 종로구   0.1586624\n",
       "22 관악구   0.1762311\n",
       "23 금천구   0.1792845\n",
       "24 은평구   0.1849940\n",
       "25 광진구   0.2120399"
      ]
     },
     "metadata": {},
     "output_type": "display_data"
    }
   ],
   "source": [
    "#자치구명 변동계수를 가진 DataFrame만들기\n",
    "regionACC <- data.frame(\n",
    "    자치구명 = regionAcc.mean$`자치구명`,\n",
    "    변동계수 = regionACC.cv\n",
    ")\n",
    "arrange(regionACC, 변동계수)\n"
   ]
  },
  {
   "cell_type": "code",
   "execution_count": null,
   "metadata": {
    "vscode": {
     "languageId": "r"
    }
   },
   "outputs": [],
   "source": []
  },
  {
   "cell_type": "markdown",
   "metadata": {},
   "source": [
    "### 서울시 교통사고 부상자수에 대한 변동계수 구하기"
   ]
  },
  {
   "cell_type": "code",
   "execution_count": 92,
   "metadata": {
    "vscode": {
     "languageId": "r"
    }
   },
   "outputs": [
    {
     "data": {
      "text/html": [
       "<table class=\"dataframe\">\n",
       "<caption>A data.frame: 6 x 2</caption>\n",
       "<thead>\n",
       "\t<tr><th></th><th scope=col>자치구명</th><th scope=col>부상자수</th></tr>\n",
       "\t<tr><th></th><th scope=col>&lt;chr&gt;</th><th scope=col>&lt;dbl&gt;</th></tr>\n",
       "</thead>\n",
       "<tbody>\n",
       "\t<tr><th scope=row>1</th><td>강남구</td><td>441.5185</td></tr>\n",
       "\t<tr><th scope=row>2</th><td>강동구</td><td>165.3333</td></tr>\n",
       "\t<tr><th scope=row>3</th><td>강북구</td><td>137.9074</td></tr>\n",
       "\t<tr><th scope=row>4</th><td>강서구</td><td>206.3889</td></tr>\n",
       "\t<tr><th scope=row>5</th><td>관악구</td><td>172.7315</td></tr>\n",
       "\t<tr><th scope=row>6</th><td>광진구</td><td>145.0093</td></tr>\n",
       "</tbody>\n",
       "</table>\n"
      ],
      "text/latex": [
       "A data.frame: 6 x 2\n",
       "\\begin{tabular}{r|ll}\n",
       "  & 자치구명 & 부상자수\\\\\n",
       "  & <chr> & <dbl>\\\\\n",
       "\\hline\n",
       "\t1 & 강남구 & 441.5185\\\\\n",
       "\t2 & 강동구 & 165.3333\\\\\n",
       "\t3 & 강북구 & 137.9074\\\\\n",
       "\t4 & 강서구 & 206.3889\\\\\n",
       "\t5 & 관악구 & 172.7315\\\\\n",
       "\t6 & 광진구 & 145.0093\\\\\n",
       "\\end{tabular}\n"
      ],
      "text/markdown": [
       "\n",
       "A data.frame: 6 x 2\n",
       "\n",
       "| <!--/--> | 자치구명 &lt;chr&gt; | 부상자수 &lt;dbl&gt; |\n",
       "|---|---|---|\n",
       "| 1 | 강남구 | 441.5185 |\n",
       "| 2 | 강동구 | 165.3333 |\n",
       "| 3 | 강북구 | 137.9074 |\n",
       "| 4 | 강서구 | 206.3889 |\n",
       "| 5 | 관악구 | 172.7315 |\n",
       "| 6 | 광진구 | 145.0093 |\n",
       "\n"
      ],
      "text/plain": [
       "  자치구명 부상자수\n",
       "1 강남구   441.5185\n",
       "2 강동구   165.3333\n",
       "3 강북구   137.9074\n",
       "4 강서구   206.3889\n",
       "5 관악구   172.7315\n",
       "6 광진구   145.0093"
      ]
     },
     "metadata": {},
     "output_type": "display_data"
    },
    {
     "data": {
      "text/html": [
       "<table class=\"dataframe\">\n",
       "<caption>A data.frame: 6 x 2</caption>\n",
       "<thead>\n",
       "\t<tr><th></th><th scope=col>자치구명</th><th scope=col>부상자수</th></tr>\n",
       "\t<tr><th></th><th scope=col>&lt;chr&gt;</th><th scope=col>&lt;dbl&gt;</th></tr>\n",
       "</thead>\n",
       "<tbody>\n",
       "\t<tr><th scope=row>1</th><td>강남구</td><td>49.69223</td></tr>\n",
       "\t<tr><th scope=row>2</th><td>강동구</td><td>23.60223</td></tr>\n",
       "\t<tr><th scope=row>3</th><td>강북구</td><td>18.70356</td></tr>\n",
       "\t<tr><th scope=row>4</th><td>강서구</td><td>32.31759</td></tr>\n",
       "\t<tr><th scope=row>5</th><td>관악구</td><td>32.88769</td></tr>\n",
       "\t<tr><th scope=row>6</th><td>광진구</td><td>34.13483</td></tr>\n",
       "</tbody>\n",
       "</table>\n"
      ],
      "text/latex": [
       "A data.frame: 6 x 2\n",
       "\\begin{tabular}{r|ll}\n",
       "  & 자치구명 & 부상자수\\\\\n",
       "  & <chr> & <dbl>\\\\\n",
       "\\hline\n",
       "\t1 & 강남구 & 49.69223\\\\\n",
       "\t2 & 강동구 & 23.60223\\\\\n",
       "\t3 & 강북구 & 18.70356\\\\\n",
       "\t4 & 강서구 & 32.31759\\\\\n",
       "\t5 & 관악구 & 32.88769\\\\\n",
       "\t6 & 광진구 & 34.13483\\\\\n",
       "\\end{tabular}\n"
      ],
      "text/markdown": [
       "\n",
       "A data.frame: 6 x 2\n",
       "\n",
       "| <!--/--> | 자치구명 &lt;chr&gt; | 부상자수 &lt;dbl&gt; |\n",
       "|---|---|---|\n",
       "| 1 | 강남구 | 49.69223 |\n",
       "| 2 | 강동구 | 23.60223 |\n",
       "| 3 | 강북구 | 18.70356 |\n",
       "| 4 | 강서구 | 32.31759 |\n",
       "| 5 | 관악구 | 32.88769 |\n",
       "| 6 | 광진구 | 34.13483 |\n",
       "\n"
      ],
      "text/plain": [
       "  자치구명 부상자수\n",
       "1 강남구   49.69223\n",
       "2 강동구   23.60223\n",
       "3 강북구   18.70356\n",
       "4 강서구   32.31759\n",
       "5 관악구   32.88769\n",
       "6 광진구   34.13483"
      ]
     },
     "metadata": {},
     "output_type": "display_data"
    },
    {
     "data": {
      "text/html": [
       "<style>\n",
       ".list-inline {list-style: none; margin:0; padding: 0}\n",
       ".list-inline>li {display: inline-block}\n",
       ".list-inline>li:not(:last-child)::after {content: \"\\00b7\"; padding: 0 .5ex}\n",
       "</style>\n",
       "<ol class=list-inline><li>0.112548454439475</li><li>0.142755443835355</li><li>0.135624035211074</li><li>0.156585912987679</li><li>0.190397773616845</li><li>0.235397610150441</li><li>0.14082564296908</li><li>0.220696971776434</li><li>0.12837989774013</li><li>0.177789589694805</li><li>0.159331324279829</li><li>0.157704979262085</li><li>0.162238091213928</li><li>0.179166081968609</li><li>0.135268113083525</li><li>0.157715301199111</li><li>0.148659922813634</li><li>0.129779531062124</li><li>0.159963512545614</li><li>0.125883731448559</li><li>0.161230096097715</li><li>0.205218131026207</li><li>0.168940505135606</li><li>0.160984374572575</li><li>0.140518796984164</li></ol>\n"
      ],
      "text/latex": [
       "\\begin{enumerate*}\n",
       "\\item 0.112548454439475\n",
       "\\item 0.142755443835355\n",
       "\\item 0.135624035211074\n",
       "\\item 0.156585912987679\n",
       "\\item 0.190397773616845\n",
       "\\item 0.235397610150441\n",
       "\\item 0.14082564296908\n",
       "\\item 0.220696971776434\n",
       "\\item 0.12837989774013\n",
       "\\item 0.177789589694805\n",
       "\\item 0.159331324279829\n",
       "\\item 0.157704979262085\n",
       "\\item 0.162238091213928\n",
       "\\item 0.179166081968609\n",
       "\\item 0.135268113083525\n",
       "\\item 0.157715301199111\n",
       "\\item 0.148659922813634\n",
       "\\item 0.129779531062124\n",
       "\\item 0.159963512545614\n",
       "\\item 0.125883731448559\n",
       "\\item 0.161230096097715\n",
       "\\item 0.205218131026207\n",
       "\\item 0.168940505135606\n",
       "\\item 0.160984374572575\n",
       "\\item 0.140518796984164\n",
       "\\end{enumerate*}\n"
      ],
      "text/markdown": [
       "1. 0.112548454439475\n",
       "2. 0.142755443835355\n",
       "3. 0.135624035211074\n",
       "4. 0.156585912987679\n",
       "5. 0.190397773616845\n",
       "6. 0.235397610150441\n",
       "7. 0.14082564296908\n",
       "8. 0.220696971776434\n",
       "9. 0.12837989774013\n",
       "10. 0.177789589694805\n",
       "11. 0.159331324279829\n",
       "12. 0.157704979262085\n",
       "13. 0.162238091213928\n",
       "14. 0.179166081968609\n",
       "15. 0.135268113083525\n",
       "16. 0.157715301199111\n",
       "17. 0.148659922813634\n",
       "18. 0.129779531062124\n",
       "19. 0.159963512545614\n",
       "20. 0.125883731448559\n",
       "21. 0.161230096097715\n",
       "22. 0.205218131026207\n",
       "23. 0.168940505135606\n",
       "24. 0.160984374572575\n",
       "25. 0.140518796984164\n",
       "\n",
       "\n"
      ],
      "text/plain": [
       " [1] 0.1125485 0.1427554 0.1356240 0.1565859 0.1903978 0.2353976 0.1408256\n",
       " [8] 0.2206970 0.1283799 0.1777896 0.1593313 0.1577050 0.1622381 0.1791661\n",
       "[15] 0.1352681 0.1577153 0.1486599 0.1297795 0.1599635 0.1258837 0.1612301\n",
       "[22] 0.2052181 0.1689405 0.1609844 0.1405188"
      ]
     },
     "metadata": {},
     "output_type": "display_data"
    },
    {
     "data": {
      "text/html": [
       "<table class=\"dataframe\">\n",
       "<caption>A data.frame: 25 x 2</caption>\n",
       "<thead>\n",
       "\t<tr><th scope=col>자치구명</th><th scope=col>변동계수</th></tr>\n",
       "\t<tr><th scope=col>&lt;chr&gt;</th><th scope=col>&lt;dbl&gt;</th></tr>\n",
       "</thead>\n",
       "<tbody>\n",
       "\t<tr><td>강남구  </td><td>0.1125485</td></tr>\n",
       "\t<tr><td>강동구  </td><td>0.1427554</td></tr>\n",
       "\t<tr><td>강북구  </td><td>0.1356240</td></tr>\n",
       "\t<tr><td>강서구  </td><td>0.1565859</td></tr>\n",
       "\t<tr><td>관악구  </td><td>0.1903978</td></tr>\n",
       "\t<tr><td>광진구  </td><td>0.2353976</td></tr>\n",
       "\t<tr><td>구로구  </td><td>0.1408256</td></tr>\n",
       "\t<tr><td>금천구  </td><td>0.2206970</td></tr>\n",
       "\t<tr><td>노원구  </td><td>0.1283799</td></tr>\n",
       "\t<tr><td>도봉구  </td><td>0.1777896</td></tr>\n",
       "\t<tr><td>동대문구</td><td>0.1593313</td></tr>\n",
       "\t<tr><td>동작구  </td><td>0.1577050</td></tr>\n",
       "\t<tr><td>마포구  </td><td>0.1622381</td></tr>\n",
       "\t<tr><td>서대문구</td><td>0.1791661</td></tr>\n",
       "\t<tr><td>서초구  </td><td>0.1352681</td></tr>\n",
       "\t<tr><td>성동구  </td><td>0.1577153</td></tr>\n",
       "\t<tr><td>성북구  </td><td>0.1486599</td></tr>\n",
       "\t<tr><td>송파구  </td><td>0.1297795</td></tr>\n",
       "\t<tr><td>양천구  </td><td>0.1599635</td></tr>\n",
       "\t<tr><td>영등포구</td><td>0.1258837</td></tr>\n",
       "\t<tr><td>용산구  </td><td>0.1612301</td></tr>\n",
       "\t<tr><td>은평구  </td><td>0.2052181</td></tr>\n",
       "\t<tr><td>종로구  </td><td>0.1689405</td></tr>\n",
       "\t<tr><td>중구    </td><td>0.1609844</td></tr>\n",
       "\t<tr><td>중랑구  </td><td>0.1405188</td></tr>\n",
       "</tbody>\n",
       "</table>\n"
      ],
      "text/latex": [
       "A data.frame: 25 x 2\n",
       "\\begin{tabular}{ll}\n",
       " 자치구명 & 변동계수\\\\\n",
       " <chr> & <dbl>\\\\\n",
       "\\hline\n",
       "\t 강남구   & 0.1125485\\\\\n",
       "\t 강동구   & 0.1427554\\\\\n",
       "\t 강북구   & 0.1356240\\\\\n",
       "\t 강서구   & 0.1565859\\\\\n",
       "\t 관악구   & 0.1903978\\\\\n",
       "\t 광진구   & 0.2353976\\\\\n",
       "\t 구로구   & 0.1408256\\\\\n",
       "\t 금천구   & 0.2206970\\\\\n",
       "\t 노원구   & 0.1283799\\\\\n",
       "\t 도봉구   & 0.1777896\\\\\n",
       "\t 동대문구 & 0.1593313\\\\\n",
       "\t 동작구   & 0.1577050\\\\\n",
       "\t 마포구   & 0.1622381\\\\\n",
       "\t 서대문구 & 0.1791661\\\\\n",
       "\t 서초구   & 0.1352681\\\\\n",
       "\t 성동구   & 0.1577153\\\\\n",
       "\t 성북구   & 0.1486599\\\\\n",
       "\t 송파구   & 0.1297795\\\\\n",
       "\t 양천구   & 0.1599635\\\\\n",
       "\t 영등포구 & 0.1258837\\\\\n",
       "\t 용산구   & 0.1612301\\\\\n",
       "\t 은평구   & 0.2052181\\\\\n",
       "\t 종로구   & 0.1689405\\\\\n",
       "\t 중구     & 0.1609844\\\\\n",
       "\t 중랑구   & 0.1405188\\\\\n",
       "\\end{tabular}\n"
      ],
      "text/markdown": [
       "\n",
       "A data.frame: 25 x 2\n",
       "\n",
       "| 자치구명 &lt;chr&gt; | 변동계수 &lt;dbl&gt; |\n",
       "|---|---|\n",
       "| 강남구   | 0.1125485 |\n",
       "| 강동구   | 0.1427554 |\n",
       "| 강북구   | 0.1356240 |\n",
       "| 강서구   | 0.1565859 |\n",
       "| 관악구   | 0.1903978 |\n",
       "| 광진구   | 0.2353976 |\n",
       "| 구로구   | 0.1408256 |\n",
       "| 금천구   | 0.2206970 |\n",
       "| 노원구   | 0.1283799 |\n",
       "| 도봉구   | 0.1777896 |\n",
       "| 동대문구 | 0.1593313 |\n",
       "| 동작구   | 0.1577050 |\n",
       "| 마포구   | 0.1622381 |\n",
       "| 서대문구 | 0.1791661 |\n",
       "| 서초구   | 0.1352681 |\n",
       "| 성동구   | 0.1577153 |\n",
       "| 성북구   | 0.1486599 |\n",
       "| 송파구   | 0.1297795 |\n",
       "| 양천구   | 0.1599635 |\n",
       "| 영등포구 | 0.1258837 |\n",
       "| 용산구   | 0.1612301 |\n",
       "| 은평구   | 0.2052181 |\n",
       "| 종로구   | 0.1689405 |\n",
       "| 중구     | 0.1609844 |\n",
       "| 중랑구   | 0.1405188 |\n",
       "\n"
      ],
      "text/plain": [
       "   자치구명 변동계수 \n",
       "1  강남구   0.1125485\n",
       "2  강동구   0.1427554\n",
       "3  강북구   0.1356240\n",
       "4  강서구   0.1565859\n",
       "5  관악구   0.1903978\n",
       "6  광진구   0.2353976\n",
       "7  구로구   0.1408256\n",
       "8  금천구   0.2206970\n",
       "9  노원구   0.1283799\n",
       "10 도봉구   0.1777896\n",
       "11 동대문구 0.1593313\n",
       "12 동작구   0.1577050\n",
       "13 마포구   0.1622381\n",
       "14 서대문구 0.1791661\n",
       "15 서초구   0.1352681\n",
       "16 성동구   0.1577153\n",
       "17 성북구   0.1486599\n",
       "18 송파구   0.1297795\n",
       "19 양천구   0.1599635\n",
       "20 영등포구 0.1258837\n",
       "21 용산구   0.1612301\n",
       "22 은평구   0.2052181\n",
       "23 종로구   0.1689405\n",
       "24 중구     0.1609844\n",
       "25 중랑구   0.1405188"
      ]
     },
     "metadata": {},
     "output_type": "display_data"
    },
    {
     "data": {
      "text/html": [
       "<table class=\"dataframe\">\n",
       "<caption>A data.frame: 25 x 2</caption>\n",
       "<thead>\n",
       "\t<tr><th scope=col>자치구명</th><th scope=col>변동계수</th></tr>\n",
       "\t<tr><th scope=col>&lt;chr&gt;</th><th scope=col>&lt;dbl&gt;</th></tr>\n",
       "</thead>\n",
       "<tbody>\n",
       "\t<tr><td>강남구  </td><td>0.1125485</td></tr>\n",
       "\t<tr><td>영등포구</td><td>0.1258837</td></tr>\n",
       "\t<tr><td>노원구  </td><td>0.1283799</td></tr>\n",
       "\t<tr><td>송파구  </td><td>0.1297795</td></tr>\n",
       "\t<tr><td>서초구  </td><td>0.1352681</td></tr>\n",
       "\t<tr><td>강북구  </td><td>0.1356240</td></tr>\n",
       "\t<tr><td>중랑구  </td><td>0.1405188</td></tr>\n",
       "\t<tr><td>구로구  </td><td>0.1408256</td></tr>\n",
       "\t<tr><td>강동구  </td><td>0.1427554</td></tr>\n",
       "\t<tr><td>성북구  </td><td>0.1486599</td></tr>\n",
       "\t<tr><td>강서구  </td><td>0.1565859</td></tr>\n",
       "\t<tr><td>동작구  </td><td>0.1577050</td></tr>\n",
       "\t<tr><td>성동구  </td><td>0.1577153</td></tr>\n",
       "\t<tr><td>동대문구</td><td>0.1593313</td></tr>\n",
       "\t<tr><td>양천구  </td><td>0.1599635</td></tr>\n",
       "\t<tr><td>중구    </td><td>0.1609844</td></tr>\n",
       "\t<tr><td>용산구  </td><td>0.1612301</td></tr>\n",
       "\t<tr><td>마포구  </td><td>0.1622381</td></tr>\n",
       "\t<tr><td>종로구  </td><td>0.1689405</td></tr>\n",
       "\t<tr><td>도봉구  </td><td>0.1777896</td></tr>\n",
       "\t<tr><td>서대문구</td><td>0.1791661</td></tr>\n",
       "\t<tr><td>관악구  </td><td>0.1903978</td></tr>\n",
       "\t<tr><td>은평구  </td><td>0.2052181</td></tr>\n",
       "\t<tr><td>금천구  </td><td>0.2206970</td></tr>\n",
       "\t<tr><td>광진구  </td><td>0.2353976</td></tr>\n",
       "</tbody>\n",
       "</table>\n"
      ],
      "text/latex": [
       "A data.frame: 25 x 2\n",
       "\\begin{tabular}{ll}\n",
       " 자치구명 & 변동계수\\\\\n",
       " <chr> & <dbl>\\\\\n",
       "\\hline\n",
       "\t 강남구   & 0.1125485\\\\\n",
       "\t 영등포구 & 0.1258837\\\\\n",
       "\t 노원구   & 0.1283799\\\\\n",
       "\t 송파구   & 0.1297795\\\\\n",
       "\t 서초구   & 0.1352681\\\\\n",
       "\t 강북구   & 0.1356240\\\\\n",
       "\t 중랑구   & 0.1405188\\\\\n",
       "\t 구로구   & 0.1408256\\\\\n",
       "\t 강동구   & 0.1427554\\\\\n",
       "\t 성북구   & 0.1486599\\\\\n",
       "\t 강서구   & 0.1565859\\\\\n",
       "\t 동작구   & 0.1577050\\\\\n",
       "\t 성동구   & 0.1577153\\\\\n",
       "\t 동대문구 & 0.1593313\\\\\n",
       "\t 양천구   & 0.1599635\\\\\n",
       "\t 중구     & 0.1609844\\\\\n",
       "\t 용산구   & 0.1612301\\\\\n",
       "\t 마포구   & 0.1622381\\\\\n",
       "\t 종로구   & 0.1689405\\\\\n",
       "\t 도봉구   & 0.1777896\\\\\n",
       "\t 서대문구 & 0.1791661\\\\\n",
       "\t 관악구   & 0.1903978\\\\\n",
       "\t 은평구   & 0.2052181\\\\\n",
       "\t 금천구   & 0.2206970\\\\\n",
       "\t 광진구   & 0.2353976\\\\\n",
       "\\end{tabular}\n"
      ],
      "text/markdown": [
       "\n",
       "A data.frame: 25 x 2\n",
       "\n",
       "| 자치구명 &lt;chr&gt; | 변동계수 &lt;dbl&gt; |\n",
       "|---|---|\n",
       "| 강남구   | 0.1125485 |\n",
       "| 영등포구 | 0.1258837 |\n",
       "| 노원구   | 0.1283799 |\n",
       "| 송파구   | 0.1297795 |\n",
       "| 서초구   | 0.1352681 |\n",
       "| 강북구   | 0.1356240 |\n",
       "| 중랑구   | 0.1405188 |\n",
       "| 구로구   | 0.1408256 |\n",
       "| 강동구   | 0.1427554 |\n",
       "| 성북구   | 0.1486599 |\n",
       "| 강서구   | 0.1565859 |\n",
       "| 동작구   | 0.1577050 |\n",
       "| 성동구   | 0.1577153 |\n",
       "| 동대문구 | 0.1593313 |\n",
       "| 양천구   | 0.1599635 |\n",
       "| 중구     | 0.1609844 |\n",
       "| 용산구   | 0.1612301 |\n",
       "| 마포구   | 0.1622381 |\n",
       "| 종로구   | 0.1689405 |\n",
       "| 도봉구   | 0.1777896 |\n",
       "| 서대문구 | 0.1791661 |\n",
       "| 관악구   | 0.1903978 |\n",
       "| 은평구   | 0.2052181 |\n",
       "| 금천구   | 0.2206970 |\n",
       "| 광진구   | 0.2353976 |\n",
       "\n"
      ],
      "text/plain": [
       "   자치구명 변동계수 \n",
       "1  강남구   0.1125485\n",
       "2  영등포구 0.1258837\n",
       "3  노원구   0.1283799\n",
       "4  송파구   0.1297795\n",
       "5  서초구   0.1352681\n",
       "6  강북구   0.1356240\n",
       "7  중랑구   0.1405188\n",
       "8  구로구   0.1408256\n",
       "9  강동구   0.1427554\n",
       "10 성북구   0.1486599\n",
       "11 강서구   0.1565859\n",
       "12 동작구   0.1577050\n",
       "13 성동구   0.1577153\n",
       "14 동대문구 0.1593313\n",
       "15 양천구   0.1599635\n",
       "16 중구     0.1609844\n",
       "17 용산구   0.1612301\n",
       "18 마포구   0.1622381\n",
       "19 종로구   0.1689405\n",
       "20 도봉구   0.1777896\n",
       "21 서대문구 0.1791661\n",
       "22 관악구   0.1903978\n",
       "23 은평구   0.2052181\n",
       "24 금천구   0.2206970\n",
       "25 광진구   0.2353976"
      ]
     },
     "metadata": {},
     "output_type": "display_data"
    }
   ],
   "source": [
    "# 평균\n",
    "regionInjure.mean <- aggregate(부상자수 ~ 자치구명, seoul, mean)\n",
    "head(regionInjure.mean)\n",
    "\n",
    "# 표준편차\n",
    "regionInjure.sd <- aggregate(부상자수 ~ 자치구명, seoul, sd)\n",
    "head(regionInjure.sd)\n",
    "\n",
    "# 변동계수\n",
    "regionInjure.cv <- regionInjure.sd$`부상자수` / regionInjure.mean$`부상자수`\n",
    "# regionInjure.cv<- regionInjure.sd$[,2] / regionInjure.mean$[,2]\n",
    "regionInjure.cv\n",
    "\n",
    "# 데이터프레임 만들기\n",
    "regionInjure<- data.frame(\n",
    "    자치구명 = regionInjure.sd$자치구명,\n",
    "    변동계수 = regionInjure.cv\n",
    ")\n",
    "regionInjure\n",
    "\n",
    "# 정렬\n",
    "arrange(regionInjure, 변동계수)\n"
   ]
  },
  {
   "cell_type": "code",
   "execution_count": 81,
   "metadata": {
    "vscode": {
     "languageId": "r"
    }
   },
   "outputs": [
    {
     "data": {
      "text/html": [
       "0.98089324110604"
      ],
      "text/latex": [
       "0.98089324110604"
      ],
      "text/markdown": [
       "0.98089324110604"
      ],
      "text/plain": [
       "[1] 0.9808932"
      ]
     },
     "metadata": {},
     "output_type": "display_data"
    }
   ],
   "source": [
    "# 교통사고 발생건수와 부상자수의 관계 :\n",
    "cor(seoul$`발생건수`, seoul$`부상자수`)\n",
    "\n",
    "# 0 ~ 0.3: 상관없음\n",
    "# 0.3 ~ 0.5 : 약한관계\n",
    "# 0.5 ~ 0.7 : 관계\n",
    "# 0.7 ~ : 강한관계 "
   ]
  },
  {
   "cell_type": "code",
   "execution_count": 82,
   "metadata": {
    "vscode": {
     "languageId": "r"
    }
   },
   "outputs": [
    {
     "data": {
      "text/html": [
       "0.238714776834864"
      ],
      "text/latex": [
       "0.238714776834864"
      ],
      "text/markdown": [
       "0.238714776834864"
      ],
      "text/plain": [
       "[1] 0.2387148"
      ]
     },
     "metadata": {},
     "output_type": "display_data"
    }
   ],
   "source": [
    "#교통사과 발생건수와 사망자수의 관계\n",
    "cor(seoul$`발생건수`, seoul$`사망자수`)\n"
   ]
  },
  {
   "cell_type": "code",
   "execution_count": 83,
   "metadata": {
    "vscode": {
     "languageId": "r"
    }
   },
   "outputs": [
    {
     "data": {
      "text/html": [
       "0.237301918677241"
      ],
      "text/latex": [
       "0.237301918677241"
      ],
      "text/markdown": [
       "0.237301918677241"
      ],
      "text/plain": [
       "[1] 0.2373019"
      ]
     },
     "metadata": {},
     "output_type": "display_data"
    }
   ],
   "source": [
    "#교통사과 부상자수와 사망자수의 관계\n",
    "cor(seoul$`부상자수`, seoul$`사망자수`)"
   ]
  },
  {
   "cell_type": "code",
   "execution_count": 94,
   "metadata": {
    "vscode": {
     "languageId": "r"
    }
   },
   "outputs": [
    {
     "name": "stderr",
     "output_type": "stream",
     "text": [
      "Warning message in axis(side = side, at = at, labels = labels, ...):\n",
      "“PostScript 폰트 데이터베이스에서 찾을 수 없는 폰트페밀리 'AppleGothic'입니다”\n",
      "Warning message in axis(side = side, at = at, labels = labels, ...):\n",
      "“PostScript 폰트 데이터베이스에서 찾을 수 없는 폰트페밀리 'AppleGothic'입니다”\n",
      "Warning message in axis(side = side, at = at, labels = labels, ...):\n",
      "“PostScript 폰트 데이터베이스에서 찾을 수 없는 폰트페밀리 'AppleGothic'입니다”\n",
      "Warning message in axis(side = side, at = at, labels = labels, ...):\n",
      "“PostScript 폰트 데이터베이스에서 찾을 수 없는 폰트페밀리 'AppleGothic'입니다”\n",
      "Warning message in axis(side = side, at = at, labels = labels, ...):\n",
      "“PostScript 폰트 데이터베이스에서 찾을 수 없는 폰트페밀리 'AppleGothic'입니다”\n",
      "Warning message in axis(side = side, at = at, labels = labels, ...):\n",
      "“PostScript 폰트 데이터베이스에서 찾을 수 없는 폰트페밀리 'AppleGothic'입니다”\n",
      "Warning message in axis(side = side, at = at, labels = labels, ...):\n",
      "“PostScript 폰트 데이터베이스에서 찾을 수 없는 폰트페밀리 'AppleGothic'입니다”\n",
      "Warning message in axis(side = side, at = at, labels = labels, ...):\n",
      "“PostScript 폰트 데이터베이스에서 찾을 수 없는 폰트페밀리 'AppleGothic'입니다”\n",
      "Warning message in axis(side = side, at = at, labels = labels, ...):\n",
      "“PostScript 폰트 데이터베이스에서 찾을 수 없는 폰트페밀리 'AppleGothic'입니다”\n",
      "Warning message in axis(side = side, at = at, labels = labels, ...):\n",
      "“PostScript 폰트 데이터베이스에서 찾을 수 없는 폰트페밀리 'AppleGothic'입니다”\n",
      "Warning message in axis(side = side, at = at, labels = labels, ...):\n",
      "“PostScript 폰트 데이터베이스에서 찾을 수 없는 폰트페밀리 'AppleGothic'입니다”\n",
      "Warning message in axis(side = side, at = at, labels = labels, ...):\n",
      "“PostScript 폰트 데이터베이스에서 찾을 수 없는 폰트페밀리 'AppleGothic'입니다”\n",
      "Warning message in axis(side = side, at = at, labels = labels, ...):\n",
      "“PostScript 폰트 데이터베이스에서 찾을 수 없는 폰트페밀리 'AppleGothic'입니다”\n",
      "Warning message in axis(side = side, at = at, labels = labels, ...):\n",
      "“PostScript 폰트 데이터베이스에서 찾을 수 없는 폰트페밀리 'AppleGothic'입니다”\n",
      "Warning message in axis(side = side, at = at, labels = labels, ...):\n",
      "“PostScript 폰트 데이터베이스에서 찾을 수 없는 폰트페밀리 'AppleGothic'입니다”\n",
      "Warning message in axis(side = side, at = at, labels = labels, ...):\n",
      "“PostScript 폰트 데이터베이스에서 찾을 수 없는 폰트페밀리 'AppleGothic'입니다”\n",
      "Warning message in axis(side = side, at = at, labels = labels, ...):\n",
      "“PostScript 폰트 데이터베이스에서 찾을 수 없는 폰트페밀리 'AppleGothic'입니다”\n",
      "Warning message in axis(side = side, at = at, labels = labels, ...):\n",
      "“PostScript 폰트 데이터베이스에서 찾을 수 없는 폰트페밀리 'AppleGothic'입니다”\n",
      "Warning message in axis(side = side, at = at, labels = labels, ...):\n",
      "“PostScript 폰트 데이터베이스에서 찾을 수 없는 폰트페밀리 'AppleGothic'입니다”\n",
      "Warning message in axis(side = side, at = at, labels = labels, ...):\n",
      "“PostScript 폰트 데이터베이스에서 찾을 수 없는 폰트페밀리 'AppleGothic'입니다”\n",
      "Warning message in axis(side = side, at = at, labels = labels, ...):\n",
      "“PostScript 폰트 데이터베이스에서 찾을 수 없는 폰트페밀리 'AppleGothic'입니다”\n",
      "Warning message in axis(side = side, at = at, labels = labels, ...):\n",
      "“PostScript 폰트 데이터베이스에서 찾을 수 없는 폰트페밀리 'AppleGothic'입니다”\n",
      "Warning message in axis(side = side, at = at, labels = labels, ...):\n",
      "“PostScript 폰트 데이터베이스에서 찾을 수 없는 폰트페밀리 'AppleGothic'입니다”\n",
      "Warning message in axis(side = side, at = at, labels = labels, ...):\n",
      "“PostScript 폰트 데이터베이스에서 찾을 수 없는 폰트페밀리 'AppleGothic'입니다”\n",
      "Warning message in axis(side = side, at = at, labels = labels, ...):\n",
      "“PostScript 폰트 데이터베이스에서 찾을 수 없는 폰트페밀리 'AppleGothic'입니다”\n",
      "Warning message in axis(side = side, at = at, labels = labels, ...):\n",
      "“PostScript 폰트 데이터베이스에서 찾을 수 없는 폰트페밀리 'AppleGothic'입니다”\n",
      "Warning message in axis(side = side, at = at, labels = labels, ...):\n",
      "“PostScript 폰트 데이터베이스에서 찾을 수 없는 폰트페밀리 'AppleGothic'입니다”\n",
      "Warning message in title(...):\n",
      "“PostScript 폰트 데이터베이스에서 찾을 수 없는 폰트페밀리 'AppleGothic'입니다”\n",
      "Warning message in title(...):\n",
      "“PostScript 폰트 데이터베이스에서 찾을 수 없는 폰트페밀리 'AppleGothic'입니다”\n"
     ]
    },
    {
     "data": {
      "image/png": "[encoded data removed]",
      "text/plain": [
       "plot without title"
      ]
     },
     "metadata": {
      "image/png": {
       "height": 420,
       "width": 420
      }
     },
     "output_type": "display_data"
    }
   ],
   "source": [
    "par(bg = 'white') # 배경 흰색\n",
    "par(family = \"AppleGothic\")\n",
    "#발생건수와 부상자의 산포도(산점도, 스캐터)그리기\n",
    "plot(\n",
    "    seoul$`발생건수`,\n",
    "    seoul$`부상자수`)"
   ]
  },
  {
   "cell_type": "code",
   "execution_count": 93,
   "metadata": {
    "vscode": {
     "languageId": "r"
    }
   },
   "outputs": [
    {
     "data": {
      "text/html": [
       "<style>\n",
       ".list-inline {list-style: none; margin:0; padding: 0}\n",
       ".list-inline>li {display: inline-block}\n",
       ".list-inline>li:not(:last-child)::after {content: \"\\00b7\"; padding: 0 .5ex}\n",
       "</style>\n",
       "<ol class=list-inline><li>0.786407977540422</li><li>0.766383761229636</li><li>0.982662553140336</li><li>0.863512739249919</li><li>0.920259038274476</li><li>1.00267848993481</li><li>0.956557818930705</li><li>1.19685569364141</li><li>0.84439808873781</li><li>1.12605057275959</li><li>0.943292850534318</li><li>1.05966408836724</li><li>1.05567144090531</li><li>0.96345432331751</li><li>0.827733358044949</li><li>1.04222909516562</li><li>0.988601743407026</li><li>0.806210162957093</li><li>1.04735784216944</li><li>0.62933612087605</li><li>0.960977516972494</li><li>0.852723444999725</li><li>0.933281256565611</li><li>1.32352611324493</li><li>1.10198419175527</li></ol>\n"
      ],
      "text/latex": [
       "\\begin{enumerate*}\n",
       "\\item 0.786407977540422\n",
       "\\item 0.766383761229636\n",
       "\\item 0.982662553140336\n",
       "\\item 0.863512739249919\n",
       "\\item 0.920259038274476\n",
       "\\item 1.00267848993481\n",
       "\\item 0.956557818930705\n",
       "\\item 1.19685569364141\n",
       "\\item 0.84439808873781\n",
       "\\item 1.12605057275959\n",
       "\\item 0.943292850534318\n",
       "\\item 1.05966408836724\n",
       "\\item 1.05567144090531\n",
       "\\item 0.96345432331751\n",
       "\\item 0.827733358044949\n",
       "\\item 1.04222909516562\n",
       "\\item 0.988601743407026\n",
       "\\item 0.806210162957093\n",
       "\\item 1.04735784216944\n",
       "\\item 0.62933612087605\n",
       "\\item 0.960977516972494\n",
       "\\item 0.852723444999725\n",
       "\\item 0.933281256565611\n",
       "\\item 1.32352611324493\n",
       "\\item 1.10198419175527\n",
       "\\end{enumerate*}\n"
      ],
      "text/markdown": [
       "1. 0.786407977540422\n",
       "2. 0.766383761229636\n",
       "3. 0.982662553140336\n",
       "4. 0.863512739249919\n",
       "5. 0.920259038274476\n",
       "6. 1.00267848993481\n",
       "7. 0.956557818930705\n",
       "8. 1.19685569364141\n",
       "9. 0.84439808873781\n",
       "10. 1.12605057275959\n",
       "11. 0.943292850534318\n",
       "12. 1.05966408836724\n",
       "13. 1.05567144090531\n",
       "14. 0.96345432331751\n",
       "15. 0.827733358044949\n",
       "16. 1.04222909516562\n",
       "17. 0.988601743407026\n",
       "18. 0.806210162957093\n",
       "19. 1.04735784216944\n",
       "20. 0.62933612087605\n",
       "21. 0.960977516972494\n",
       "22. 0.852723444999725\n",
       "23. 0.933281256565611\n",
       "24. 1.32352611324493\n",
       "25. 1.10198419175527\n",
       "\n",
       "\n"
      ],
      "text/plain": [
       " [1] 0.7864080 0.7663838 0.9826626 0.8635127 0.9202590 1.0026785 0.9565578\n",
       " [8] 1.1968557 0.8443981 1.1260506 0.9432929 1.0596641 1.0556714 0.9634543\n",
       "[15] 0.8277334 1.0422291 0.9886017 0.8062102 1.0473578 0.6293361 0.9609775\n",
       "[22] 0.8527234 0.9332813 1.3235261 1.1019842"
      ]
     },
     "metadata": {},
     "output_type": "display_data"
    },
    {
     "data": {
      "text/html": [
       "<table class=\"dataframe\">\n",
       "<caption>A data.frame: 25 x 2</caption>\n",
       "<thead>\n",
       "\t<tr><th scope=col>자치구명</th><th scope=col>변동계수</th></tr>\n",
       "\t<tr><th scope=col>&lt;chr&gt;</th><th scope=col>&lt;dbl&gt;</th></tr>\n",
       "</thead>\n",
       "<tbody>\n",
       "\t<tr><td>강남구  </td><td>0.1125485</td></tr>\n",
       "\t<tr><td>강동구  </td><td>0.1427554</td></tr>\n",
       "\t<tr><td>강북구  </td><td>0.1356240</td></tr>\n",
       "\t<tr><td>강서구  </td><td>0.1565859</td></tr>\n",
       "\t<tr><td>관악구  </td><td>0.1903978</td></tr>\n",
       "\t<tr><td>광진구  </td><td>0.2353976</td></tr>\n",
       "\t<tr><td>구로구  </td><td>0.1408256</td></tr>\n",
       "\t<tr><td>금천구  </td><td>0.2206970</td></tr>\n",
       "\t<tr><td>노원구  </td><td>0.1283799</td></tr>\n",
       "\t<tr><td>도봉구  </td><td>0.1777896</td></tr>\n",
       "\t<tr><td>동대문구</td><td>0.1593313</td></tr>\n",
       "\t<tr><td>동작구  </td><td>0.1577050</td></tr>\n",
       "\t<tr><td>마포구  </td><td>0.1622381</td></tr>\n",
       "\t<tr><td>서대문구</td><td>0.1791661</td></tr>\n",
       "\t<tr><td>서초구  </td><td>0.1352681</td></tr>\n",
       "\t<tr><td>성동구  </td><td>0.1577153</td></tr>\n",
       "\t<tr><td>성북구  </td><td>0.1486599</td></tr>\n",
       "\t<tr><td>송파구  </td><td>0.1297795</td></tr>\n",
       "\t<tr><td>양천구  </td><td>0.1599635</td></tr>\n",
       "\t<tr><td>영등포구</td><td>0.1258837</td></tr>\n",
       "\t<tr><td>용산구  </td><td>0.1612301</td></tr>\n",
       "\t<tr><td>은평구  </td><td>0.2052181</td></tr>\n",
       "\t<tr><td>종로구  </td><td>0.1689405</td></tr>\n",
       "\t<tr><td>중구    </td><td>0.1609844</td></tr>\n",
       "\t<tr><td>중랑구  </td><td>0.1405188</td></tr>\n",
       "</tbody>\n",
       "</table>\n"
      ],
      "text/latex": [
       "A data.frame: 25 x 2\n",
       "\\begin{tabular}{ll}\n",
       " 자치구명 & 변동계수\\\\\n",
       " <chr> & <dbl>\\\\\n",
       "\\hline\n",
       "\t 강남구   & 0.1125485\\\\\n",
       "\t 강동구   & 0.1427554\\\\\n",
       "\t 강북구   & 0.1356240\\\\\n",
       "\t 강서구   & 0.1565859\\\\\n",
       "\t 관악구   & 0.1903978\\\\\n",
       "\t 광진구   & 0.2353976\\\\\n",
       "\t 구로구   & 0.1408256\\\\\n",
       "\t 금천구   & 0.2206970\\\\\n",
       "\t 노원구   & 0.1283799\\\\\n",
       "\t 도봉구   & 0.1777896\\\\\n",
       "\t 동대문구 & 0.1593313\\\\\n",
       "\t 동작구   & 0.1577050\\\\\n",
       "\t 마포구   & 0.1622381\\\\\n",
       "\t 서대문구 & 0.1791661\\\\\n",
       "\t 서초구   & 0.1352681\\\\\n",
       "\t 성동구   & 0.1577153\\\\\n",
       "\t 성북구   & 0.1486599\\\\\n",
       "\t 송파구   & 0.1297795\\\\\n",
       "\t 양천구   & 0.1599635\\\\\n",
       "\t 영등포구 & 0.1258837\\\\\n",
       "\t 용산구   & 0.1612301\\\\\n",
       "\t 은평구   & 0.2052181\\\\\n",
       "\t 종로구   & 0.1689405\\\\\n",
       "\t 중구     & 0.1609844\\\\\n",
       "\t 중랑구   & 0.1405188\\\\\n",
       "\\end{tabular}\n"
      ],
      "text/markdown": [
       "\n",
       "A data.frame: 25 x 2\n",
       "\n",
       "| 자치구명 &lt;chr&gt; | 변동계수 &lt;dbl&gt; |\n",
       "|---|---|\n",
       "| 강남구   | 0.1125485 |\n",
       "| 강동구   | 0.1427554 |\n",
       "| 강북구   | 0.1356240 |\n",
       "| 강서구   | 0.1565859 |\n",
       "| 관악구   | 0.1903978 |\n",
       "| 광진구   | 0.2353976 |\n",
       "| 구로구   | 0.1408256 |\n",
       "| 금천구   | 0.2206970 |\n",
       "| 노원구   | 0.1283799 |\n",
       "| 도봉구   | 0.1777896 |\n",
       "| 동대문구 | 0.1593313 |\n",
       "| 동작구   | 0.1577050 |\n",
       "| 마포구   | 0.1622381 |\n",
       "| 서대문구 | 0.1791661 |\n",
       "| 서초구   | 0.1352681 |\n",
       "| 성동구   | 0.1577153 |\n",
       "| 성북구   | 0.1486599 |\n",
       "| 송파구   | 0.1297795 |\n",
       "| 양천구   | 0.1599635 |\n",
       "| 영등포구 | 0.1258837 |\n",
       "| 용산구   | 0.1612301 |\n",
       "| 은평구   | 0.2052181 |\n",
       "| 종로구   | 0.1689405 |\n",
       "| 중구     | 0.1609844 |\n",
       "| 중랑구   | 0.1405188 |\n",
       "\n"
      ],
      "text/plain": [
       "   자치구명 변동계수 \n",
       "1  강남구   0.1125485\n",
       "2  강동구   0.1427554\n",
       "3  강북구   0.1356240\n",
       "4  강서구   0.1565859\n",
       "5  관악구   0.1903978\n",
       "6  광진구   0.2353976\n",
       "7  구로구   0.1408256\n",
       "8  금천구   0.2206970\n",
       "9  노원구   0.1283799\n",
       "10 도봉구   0.1777896\n",
       "11 동대문구 0.1593313\n",
       "12 동작구   0.1577050\n",
       "13 마포구   0.1622381\n",
       "14 서대문구 0.1791661\n",
       "15 서초구   0.1352681\n",
       "16 성동구   0.1577153\n",
       "17 성북구   0.1486599\n",
       "18 송파구   0.1297795\n",
       "19 양천구   0.1599635\n",
       "20 영등포구 0.1258837\n",
       "21 용산구   0.1612301\n",
       "22 은평구   0.2052181\n",
       "23 종로구   0.1689405\n",
       "24 중구     0.1609844\n",
       "25 중랑구   0.1405188"
      ]
     },
     "metadata": {},
     "output_type": "display_data"
    },
    {
     "data": {
      "text/html": [
       "<table class=\"dataframe\">\n",
       "<caption>A data.frame: 25 x 2</caption>\n",
       "<thead>\n",
       "\t<tr><th scope=col>자치구명</th><th scope=col>변동계수</th></tr>\n",
       "\t<tr><th scope=col>&lt;chr&gt;</th><th scope=col>&lt;dbl&gt;</th></tr>\n",
       "</thead>\n",
       "<tbody>\n",
       "\t<tr><td>영등포구</td><td>0.6293361</td></tr>\n",
       "\t<tr><td>강동구  </td><td>0.7663838</td></tr>\n",
       "\t<tr><td>강남구  </td><td>0.7864080</td></tr>\n",
       "\t<tr><td>송파구  </td><td>0.8062102</td></tr>\n",
       "\t<tr><td>서초구  </td><td>0.8277334</td></tr>\n",
       "\t<tr><td>노원구  </td><td>0.8443981</td></tr>\n",
       "\t<tr><td>은평구  </td><td>0.8527234</td></tr>\n",
       "\t<tr><td>강서구  </td><td>0.8635127</td></tr>\n",
       "\t<tr><td>관악구  </td><td>0.9202590</td></tr>\n",
       "\t<tr><td>종로구  </td><td>0.9332813</td></tr>\n",
       "\t<tr><td>동대문구</td><td>0.9432929</td></tr>\n",
       "\t<tr><td>구로구  </td><td>0.9565578</td></tr>\n",
       "\t<tr><td>용산구  </td><td>0.9609775</td></tr>\n",
       "\t<tr><td>서대문구</td><td>0.9634543</td></tr>\n",
       "\t<tr><td>강북구  </td><td>0.9826626</td></tr>\n",
       "\t<tr><td>성북구  </td><td>0.9886017</td></tr>\n",
       "\t<tr><td>광진구  </td><td>1.0026785</td></tr>\n",
       "\t<tr><td>성동구  </td><td>1.0422291</td></tr>\n",
       "\t<tr><td>양천구  </td><td>1.0473578</td></tr>\n",
       "\t<tr><td>마포구  </td><td>1.0556714</td></tr>\n",
       "\t<tr><td>동작구  </td><td>1.0596641</td></tr>\n",
       "\t<tr><td>중랑구  </td><td>1.1019842</td></tr>\n",
       "\t<tr><td>도봉구  </td><td>1.1260506</td></tr>\n",
       "\t<tr><td>금천구  </td><td>1.1968557</td></tr>\n",
       "\t<tr><td>중구    </td><td>1.3235261</td></tr>\n",
       "</tbody>\n",
       "</table>\n"
      ],
      "text/latex": [
       "A data.frame: 25 x 2\n",
       "\\begin{tabular}{ll}\n",
       " 자치구명 & 변동계수\\\\\n",
       " <chr> & <dbl>\\\\\n",
       "\\hline\n",
       "\t 영등포구 & 0.6293361\\\\\n",
       "\t 강동구   & 0.7663838\\\\\n",
       "\t 강남구   & 0.7864080\\\\\n",
       "\t 송파구   & 0.8062102\\\\\n",
       "\t 서초구   & 0.8277334\\\\\n",
       "\t 노원구   & 0.8443981\\\\\n",
       "\t 은평구   & 0.8527234\\\\\n",
       "\t 강서구   & 0.8635127\\\\\n",
       "\t 관악구   & 0.9202590\\\\\n",
       "\t 종로구   & 0.9332813\\\\\n",
       "\t 동대문구 & 0.9432929\\\\\n",
       "\t 구로구   & 0.9565578\\\\\n",
       "\t 용산구   & 0.9609775\\\\\n",
       "\t 서대문구 & 0.9634543\\\\\n",
       "\t 강북구   & 0.9826626\\\\\n",
       "\t 성북구   & 0.9886017\\\\\n",
       "\t 광진구   & 1.0026785\\\\\n",
       "\t 성동구   & 1.0422291\\\\\n",
       "\t 양천구   & 1.0473578\\\\\n",
       "\t 마포구   & 1.0556714\\\\\n",
       "\t 동작구   & 1.0596641\\\\\n",
       "\t 중랑구   & 1.1019842\\\\\n",
       "\t 도봉구   & 1.1260506\\\\\n",
       "\t 금천구   & 1.1968557\\\\\n",
       "\t 중구     & 1.3235261\\\\\n",
       "\\end{tabular}\n"
      ],
      "text/markdown": [
       "\n",
       "A data.frame: 25 x 2\n",
       "\n",
       "| 자치구명 &lt;chr&gt; | 변동계수 &lt;dbl&gt; |\n",
       "|---|---|\n",
       "| 영등포구 | 0.6293361 |\n",
       "| 강동구   | 0.7663838 |\n",
       "| 강남구   | 0.7864080 |\n",
       "| 송파구   | 0.8062102 |\n",
       "| 서초구   | 0.8277334 |\n",
       "| 노원구   | 0.8443981 |\n",
       "| 은평구   | 0.8527234 |\n",
       "| 강서구   | 0.8635127 |\n",
       "| 관악구   | 0.9202590 |\n",
       "| 종로구   | 0.9332813 |\n",
       "| 동대문구 | 0.9432929 |\n",
       "| 구로구   | 0.9565578 |\n",
       "| 용산구   | 0.9609775 |\n",
       "| 서대문구 | 0.9634543 |\n",
       "| 강북구   | 0.9826626 |\n",
       "| 성북구   | 0.9886017 |\n",
       "| 광진구   | 1.0026785 |\n",
       "| 성동구   | 1.0422291 |\n",
       "| 양천구   | 1.0473578 |\n",
       "| 마포구   | 1.0556714 |\n",
       "| 동작구   | 1.0596641 |\n",
       "| 중랑구   | 1.1019842 |\n",
       "| 도봉구   | 1.1260506 |\n",
       "| 금천구   | 1.1968557 |\n",
       "| 중구     | 1.3235261 |\n",
       "\n"
      ],
      "text/plain": [
       "   자치구명 변동계수 \n",
       "1  영등포구 0.6293361\n",
       "2  강동구   0.7663838\n",
       "3  강남구   0.7864080\n",
       "4  송파구   0.8062102\n",
       "5  서초구   0.8277334\n",
       "6  노원구   0.8443981\n",
       "7  은평구   0.8527234\n",
       "8  강서구   0.8635127\n",
       "9  관악구   0.9202590\n",
       "10 종로구   0.9332813\n",
       "11 동대문구 0.9432929\n",
       "12 구로구   0.9565578\n",
       "13 용산구   0.9609775\n",
       "14 서대문구 0.9634543\n",
       "15 강북구   0.9826626\n",
       "16 성북구   0.9886017\n",
       "17 광진구   1.0026785\n",
       "18 성동구   1.0422291\n",
       "19 양천구   1.0473578\n",
       "20 마포구   1.0556714\n",
       "21 동작구   1.0596641\n",
       "22 중랑구   1.1019842\n",
       "23 도봉구   1.1260506\n",
       "24 금천구   1.1968557\n",
       "25 중구     1.3235261"
      ]
     },
     "metadata": {},
     "output_type": "display_data"
    }
   ],
   "source": [
    "### 서울시 교통사고 사망자수에 대한 변동계수 구하기\n",
    "# 평균\n",
    "regionDeath.mean <- aggregate(사망자수 ~ 자치구명, seoul, mean)\n",
    "\n",
    "# 표준편차\n",
    "regionDeath.sd <- aggregate(사망자수 ~ 자치구명, seoul, sd)\n",
    "\n",
    "# 변동계수\n",
    "regionDeath.cv <- regionDeath.sd$`사망자수` / regionDeath.mean$`사망자수`\n",
    "# regionInjure.cv<- regionInjure.sd$[,2] / regionInjure.mean$[,2]\n",
    "regionDeath.cv\n",
    "\n",
    "# 데이터프레임 만들기\n",
    "regionDeath<- data.frame(\n",
    "    자치구명 = regionDeath.sd$자치구명,\n",
    "    변동계수 = regionDeath.cv\n",
    ")\n",
    "regionInjure\n",
    "\n",
    "# 정렬\n",
    "arrange(regionDeath, 변동계수)"
   ]
  }
 ],
 "metadata": {
  "kernelspec": {
   "display_name": "R",
   "language": "R",
   "name": "r"
  },
  "language_info": {
   "codemirror_mode": "r",
   "file_extension": ".r",
   "mimetype": "text/x-r-source",
   "name": "R",
   "pygments_lexer": "r",
   "version": "4.4.1"
  }
 },
 "nbformat": 4,
 "nbformat_minor": 2
}
