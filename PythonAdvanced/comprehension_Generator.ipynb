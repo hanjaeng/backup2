{
 "cells": [
  {
   "cell_type": "markdown",
   "metadata": {},
   "source": [
    "### List Comprehension & Generator\n",
    "\n",
    "List Comprehension\n",
    ": List를 간결하고 효율적으로 만드는 구문"
   ]
  },
  {
   "cell_type": "markdown",
   "metadata": {},
   "source": [
    "---\n",
    "### List의 각 요소에 1을 더하여 새로운 List를 생성"
   ]
  },
  {
   "cell_type": "code",
   "execution_count": 6,
   "metadata": {},
   "outputs": [],
   "source": [
    "# Data\n",
    "numbers = [1,2,3,4,5]"
   ]
  },
  {
   "cell_type": "code",
   "execution_count": 8,
   "metadata": {},
   "outputs": [
    {
     "name": "stdout",
     "output_type": "stream",
     "text": [
      "[2, 3, 4, 5, 6]\n"
     ]
    }
   ],
   "source": [
    "# 기존 방법\n",
    "addOneResult = []\n",
    "\n",
    "for num in numbers:\n",
    "    processReuslt = num + 1\n",
    "    addOneResult.append(processReuslt)\n",
    "\n",
    "print(addOneResult)"
   ]
  },
  {
   "cell_type": "code",
   "execution_count": 10,
   "metadata": {},
   "outputs": [
    {
     "name": "stdout",
     "output_type": "stream",
     "text": [
      "[2, 3, 4, 5, 6]\n"
     ]
    }
   ],
   "source": [
    "# 조금 더 정리\n",
    "addOneResult = []\n",
    "\n",
    "for num in numbers:\n",
    "    addOneResult.append(num + 1)\n",
    "\n",
    "print(addOneResult)"
   ]
  },
  {
   "cell_type": "code",
   "execution_count": 19,
   "metadata": {},
   "outputs": [
    {
     "name": "stdout",
     "output_type": "stream",
     "text": [
      "[2, 3, 4, 5, 6]\n"
     ]
    }
   ],
   "source": [
    "# List Comprehension(안에 포함함)\n",
    "addOneResult = [num + 1 for num in numbers]\n",
    "print(addOneResult)"
   ]
  },
  {
   "cell_type": "markdown",
   "metadata": {},
   "source": [
    "---\n",
    "### List의 각 요소에 제곱의 결과 리스트를 작성하여 출력"
   ]
  },
  {
   "cell_type": "code",
   "execution_count": 20,
   "metadata": {},
   "outputs": [],
   "source": [
    "import math"
   ]
  },
  {
   "cell_type": "code",
   "execution_count": 23,
   "metadata": {},
   "outputs": [
    {
     "name": "stdout",
     "output_type": "stream",
     "text": [
      "[1.0, 4.0, 9.0, 16.0, 25.0]\n"
     ]
    }
   ],
   "source": [
    "# 기존 방법\n",
    "squaredNumbers = []\n",
    "for num in numbers:\n",
    "    squaredNumbers.append(math.pow(num,2))\n",
    "\n",
    "print(squaredNumbers)"
   ]
  },
  {
   "cell_type": "markdown",
   "metadata": {},
   "source": [
    "---\n",
    "### 2단부터 9단까지의 구구단 결과값을 List로 생성"
   ]
  },
  {
   "cell_type": "code",
   "execution_count": 24,
   "metadata": {},
   "outputs": [
    {
     "name": "stdout",
     "output_type": "stream",
     "text": [
      "[2, 4, 6, 8, 10, 12, 14, 16, 18, 3, 6, 9, 12, 15, 18, 21, 24, 27, 4, 8, 12, 16, 20, 24, 28, 32, 36, 5, 10, 15, 20, 25, 30, 35, 40, 45, 6, 12, 18, 24, 30, 36, 42, 48, 54, 7, 14, 21, 28, 35, 42, 49, 56, 63, 8, 16, 24, 32, 40, 48, 56, 64, 72, 9, 18, 27, 36, 45, 54, 63, 72, 81]\n"
     ]
    }
   ],
   "source": [
    "guguDan = []\n",
    "\n",
    "for dan in range(2, 10):\n",
    "    for num in range(1, 10):\n",
    "        guguDan.append(dan * num)\n",
    "\n",
    "print(guguDan)"
   ]
  },
  {
   "cell_type": "code",
   "execution_count": 25,
   "metadata": {},
   "outputs": [
    {
     "data": {
      "text/plain": [
       "[1, 2, 3, 2, 4, 6]"
      ]
     },
     "execution_count": 25,
     "metadata": {},
     "output_type": "execute_result"
    }
   ],
   "source": [
    "ddd = [x * y for x in range(1, 3) for y in range(1, 4) ]\n",
    "ddd"
   ]
  },
  {
   "cell_type": "markdown",
   "metadata": {},
   "source": [
    "---\n",
    "### 구구단 결과를 List에 단별로 추가한 후 출력하기"
   ]
  },
  {
   "cell_type": "code",
   "execution_count": 28,
   "metadata": {},
   "outputs": [
    {
     "name": "stdout",
     "output_type": "stream",
     "text": [
      "[[2, 4, 6, 8, 10, 12, 14, 16, 18], [3, 6, 9, 12, 15, 18, 21, 24, 27], [4, 8, 12, 16, 20, 24, 28, 32, 36], [5, 10, 15, 20, 25, 30, 35, 40, 45], [6, 12, 18, 24, 30, 36, 42, 48, 54], [7, 14, 21, 28, 35, 42, 49, 56, 63], [8, 16, 24, 32, 40, 48, 56, 64, 72], [9, 18, 27, 36, 45, 54, 63, 72, 81]]\n",
      "2단 : [2, 4, 6, 8, 10, 12, 14, 16, 18]\n",
      "3단 : [3, 6, 9, 12, 15, 18, 21, 24, 27]\n",
      "4단 : [4, 8, 12, 16, 20, 24, 28, 32, 36]\n",
      "5단 : [5, 10, 15, 20, 25, 30, 35, 40, 45]\n",
      "6단 : [6, 12, 18, 24, 30, 36, 42, 48, 54]\n",
      "7단 : [7, 14, 21, 28, 35, 42, 49, 56, 63]\n",
      "8단 : [8, 16, 24, 32, 40, 48, 56, 64, 72]\n",
      "9단 : [9, 18, 27, 36, 45, 54, 63, 72, 81]\n"
     ]
    }
   ],
   "source": [
    "guguDan = []\n",
    "for dan in range(2,10):\n",
    "    guguDan.append([])\n",
    "    for num in range(1,10):\n",
    "        guguDan[dan-2].append(dan*num)\n",
    "\n",
    "print(guguDan)\n",
    "\n",
    "for i in range(len(guguDan)):\n",
    "    print(f\"{i+2}단 : {guguDan[i]}\")"
   ]
  },
  {
   "cell_type": "code",
   "execution_count": 30,
   "metadata": {},
   "outputs": [
    {
     "name": "stdout",
     "output_type": "stream",
     "text": [
      "[[2], [3], [4], [5], [6]]\n"
     ]
    }
   ],
   "source": [
    "#예시 ## [ [~~~~]       ~~~]\n",
    "addOneResult = [[num+1] for num in numbers]\n",
    "print(addOneResult)"
   ]
  },
  {
   "cell_type": "code",
   "execution_count": 38,
   "metadata": {},
   "outputs": [
    {
     "name": "stdout",
     "output_type": "stream",
     "text": [
      "2단 : [2, 4, 6, 8, 10, 12, 14, 16, 18]\n",
      "3단 : [3, 6, 9, 12, 15, 18, 21, 24, 27]\n",
      "4단 : [4, 8, 12, 16, 20, 24, 28, 32, 36]\n",
      "5단 : [5, 10, 15, 20, 25, 30, 35, 40, 45]\n",
      "6단 : [6, 12, 18, 24, 30, 36, 42, 48, 54]\n",
      "7단 : [7, 14, 21, 28, 35, 42, 49, 56, 63]\n",
      "8단 : [8, 16, 24, 32, 40, 48, 56, 64, 72]\n",
      "9단 : [9, 18, 27, 36, 45, 54, 63, 72, 81]\n"
     ]
    }
   ],
   "source": [
    "# List Comprehension\n",
    "guguDan = [[dan * num for num in range(1,10)] for dan in range(2, 10)]\n",
    "\n",
    "for i in range(len(guguDan)):\n",
    "    print(f\"{i+2}단 : {guguDan[i]}\")"
   ]
  },
  {
   "cell_type": "code",
   "execution_count": 32,
   "metadata": {},
   "outputs": [
    {
     "data": {
      "text/plain": [
       "[2, 4, 6, 8, 10, 12, 14, 16, 18]"
      ]
     },
     "execution_count": 32,
     "metadata": {},
     "output_type": "execute_result"
    }
   ],
   "source": [
    "[2 * num for num in range(1,10)]"
   ]
  },
  {
   "cell_type": "code",
   "execution_count": 37,
   "metadata": {},
   "outputs": [
    {
     "name": "stdout",
     "output_type": "stream",
     "text": [
      "[2, 4, 6, 8, 10, 12, 14, 16, 18, 3, 6, 9, 12, 15, 18, 21, 24, 27, 4, 8, 12, 16, 20, 24, 28, 32, 36, 5, 10, 15, 20, 25, 30, 35, 40, 45, 6, 12, 18, 24, 30, 36, 42, 48, 54, 7, 14, 21, 28, 35, 42, 49, 56, 63, 8, 16, 24, 32, 40, 48, 56, 64, 72, 9, 18, 27, 36, 45, 54, 63, 72, 81]\n"
     ]
    }
   ],
   "source": [
    "guguDan = []\n",
    "for dan in range(2,10):\n",
    "    for num in range(1,10):\n",
    "        guguDan.append(dan*num)\n",
    "\n",
    "print(guguDan)"
   ]
  },
  {
   "cell_type": "code",
   "execution_count": 41,
   "metadata": {},
   "outputs": [
    {
     "name": "stdout",
     "output_type": "stream",
     "text": [
      "[2, 4, 6, 8, 10, 12, 14, 16, 18, 3, 6, 9, 12, 15, 18, 21, 24, 27, 4, 8, 12, 16, 20, 24, 28, 32, 36, 5, 10, 15, 20, 25, 30, 35, 40, 45, 6, 12, 18, 24, 30, 36, 42, 48, 54, 7, 14, 21, 28, 35, 42, 49, 56, 63, 8, 16, 24, 32, 40, 48, 56, 64, 72, 9, 18, 27, 36, 45, 54, 63, 72, 81]\n"
     ]
    }
   ],
   "source": [
    "guguDan = [dan*num for dan in range(2,10) for num in range(1,10)]\n",
    "print(guguDan)"
   ]
  },
  {
   "cell_type": "markdown",
   "metadata": {},
   "source": [
    "---\n",
    "### 조건을 포함한 List Comprehension"
   ]
  },
  {
   "cell_type": "code",
   "execution_count": 46,
   "metadata": {},
   "outputs": [],
   "source": [
    "# Data\n",
    "numbers = [1,2,3,4,5,6,7,8,9,10]"
   ]
  },
  {
   "cell_type": "code",
   "execution_count": 47,
   "metadata": {},
   "outputs": [
    {
     "name": "stdout",
     "output_type": "stream",
     "text": [
      "[2, 4, 6, 8, 10]\n"
     ]
    }
   ],
   "source": [
    "# List에서 짝수만으로 구성된 List만들기\n",
    "evenNumbers = []\n",
    "for num in numbers:\n",
    "    if num % 2 == 0:\n",
    "        evenNumbers.append(num)\n",
    "\n",
    "print(evenNumbers)"
   ]
  },
  {
   "cell_type": "code",
   "execution_count": 48,
   "metadata": {},
   "outputs": [
    {
     "name": "stdout",
     "output_type": "stream",
     "text": [
      "[2, 4, 6, 8, 10]\n"
     ]
    }
   ],
   "source": [
    "# List Comprehension\n",
    "evenNumbers = [num for num in numbers if num % 2 == 0]\n",
    "print(evenNumbers)"
   ]
  },
  {
   "cell_type": "markdown",
   "metadata": {},
   "source": [
    "---\n",
    "### 구구단에서 결과값이 짝수인 단과 곱해지는 수를 List로 생성하기"
   ]
  },
  {
   "cell_type": "code",
   "execution_count": 49,
   "metadata": {},
   "outputs": [
    {
     "name": "stdout",
     "output_type": "stream",
     "text": [
      "[(2, 1), (2, 2), (2, 3), (2, 4), (2, 5), (2, 6), (2, 7), (2, 8), (2, 9), (3, 2), (3, 4), (3, 6), (3, 8), (4, 1), (4, 2), (4, 3), (4, 4), (4, 5), (4, 6), (4, 7), (4, 8), (4, 9), (5, 2), (5, 4), (5, 6), (5, 8), (6, 1), (6, 2), (6, 3), (6, 4), (6, 5), (6, 6), (6, 7), (6, 8), (6, 9), (7, 2), (7, 4), (7, 6), (7, 8), (8, 1), (8, 2), (8, 3), (8, 4), (8, 5), (8, 6), (8, 7), (8, 8), (8, 9), (9, 2), (9, 4), (9, 6), (9, 8)]\n"
     ]
    }
   ],
   "source": [
    "guguDan = []\n",
    "for dan in range(2,10):\n",
    "    for num in range(1,10):\n",
    "        if (dan * num) % 2 == 0:\n",
    "            guguDan.append((dan,num))\n",
    "            \n",
    "print(guguDan)"
   ]
  },
  {
   "cell_type": "code",
   "execution_count": 73,
   "metadata": {},
   "outputs": [
    {
     "name": "stdout",
     "output_type": "stream",
     "text": [
      "[(2, 1), (2, 2), (2, 3), (2, 4), (2, 5), (2, 6), (2, 7), (2, 8), (2, 9)]\n",
      "[(3, 2), (3, 4), (3, 6), (3, 8)]\n",
      "[(4, 1), (4, 2), (4, 3), (4, 4), (4, 5), (4, 6), (4, 7), (4, 8), (4, 9)]\n",
      "[(5, 2), (5, 4), (5, 6), (5, 8)]\n",
      "[(6, 1), (6, 2), (6, 3), (6, 4), (6, 5), (6, 6), (6, 7), (6, 8), (6, 9)]\n",
      "[(7, 2), (7, 4), (7, 6), (7, 8)]\n",
      "[(8, 1), (8, 2), (8, 3), (8, 4), (8, 5), (8, 6), (8, 7), (8, 8), (8, 9)]\n",
      "[(9, 2), (9, 4), (9, 6), (9, 8)]\n"
     ]
    }
   ],
   "source": [
    "# comprehension\n",
    "guguDan = [[(dan,num) for num in range(1,10) if (dan * num) % 2 == 0] for dan in range(2,10)]  \n",
    "# print(guguDan)\n",
    "\n",
    "for dans in guguDan:\n",
    "    print(dans)"
   ]
  },
  {
   "cell_type": "code",
   "execution_count": 102,
   "metadata": {},
   "outputs": [
    {
     "name": "stdout",
     "output_type": "stream",
     "text": [
      "[(2, 2), (2, 4), (2, 6), (2, 8), (4, 2), (4, 4), (4, 6), (4, 8), (6, 2), (6, 4), (6, 6), (6, 8), (8, 2), (8, 4), (8, 6), (8, 8)]\n",
      "2 X 2 = 4\n",
      "2 X 4 = 8\n",
      "2 X 6 = 12\n",
      "2 X 8 = 16\n",
      "4 X 2 = 8\n",
      "4 X 4 = 16\n",
      "4 X 6 = 24\n",
      "4 X 8 = 32\n",
      "6 X 2 = 12\n",
      "6 X 4 = 24\n",
      "6 X 6 = 36\n",
      "6 X 8 = 48\n",
      "8 X 2 = 16\n",
      "8 X 4 = 32\n",
      "8 X 6 = 48\n",
      "8 X 8 = 64\n"
     ]
    }
   ],
   "source": [
    "guguDan = []\n",
    "guguDan = [(dan,num) for dan in range(2,10) if dan % 2 == 0 for num in range(1,10) if (num) % 2 == 0] \n",
    "print(guguDan)\n",
    "\n",
    "for i in range(len(guguDan)):\n",
    "  print(f\"{guguDan[i][0]} X {guguDan[i][1]} = {guguDan[i][0]*guguDan[i][1]}\")\n"
   ]
  },
  {
   "cell_type": "markdown",
   "metadata": {},
   "source": [
    "---\n",
    "### 중첩된 리스트 컴프리핸션(2차원리스트)"
   ]
  },
  {
   "cell_type": "code",
   "execution_count": 103,
   "metadata": {},
   "outputs": [
    {
     "name": "stdout",
     "output_type": "stream",
     "text": [
      "2차원 행렬 : [[1, 2, 3], [4, 5, 6], [7, 8, 9]]\n",
      "1차원 행렬: [1, 2, 3, 4, 5, 6, 7, 8, 9]\n"
     ]
    }
   ],
   "source": [
    "matrix = [[1,2,3],[4,5,6],[7,8,9]]\n",
    "print(\"2차원 행렬 :\", matrix)\n",
    "flattened = [x for row in matrix for x in row]\n",
    "print(\"1차원 행렬:\", flattened)"
   ]
  },
  {
   "cell_type": "markdown",
   "metadata": {},
   "source": [
    "---\n",
    "### 리스트에서 중복 제거\n",
    ": 중복된 요소를 제외환 리스트를 만드는 방법"
   ]
  },
  {
   "cell_type": "code",
   "execution_count": 106,
   "metadata": {},
   "outputs": [],
   "source": [
    "# Data\n",
    "numbers = [1,2,3,4,4,5,6,6]"
   ]
  },
  {
   "cell_type": "code",
   "execution_count": 107,
   "metadata": {},
   "outputs": [
    {
     "name": "stdout",
     "output_type": "stream",
     "text": [
      "[1, 2, 3, 4, 5, 6]\n"
     ]
    }
   ],
   "source": [
    "# Method 1\n",
    "unique_numbers = []\n",
    "for num in numbers:\n",
    "    if num not in unique_numbers:   #전체 다갖고 비교\n",
    "        unique_numbers.append(num)\n",
    "\n",
    "print(unique_numbers)"
   ]
  },
  {
   "cell_type": "code",
   "execution_count": 112,
   "metadata": {},
   "outputs": [
    {
     "name": "stdout",
     "output_type": "stream",
     "text": [
      "[]\n",
      "[1]\n",
      "[1, 2]\n",
      "[1, 2, 3]\n",
      "[1, 2, 3, 4]\n",
      "[1, 2, 3, 4, 4]\n",
      "[1, 2, 3, 4, 4, 5]\n",
      "[1, 2, 3, 4, 4, 5, 6]\n",
      "---\n",
      "[1, 2, 3, 4, 5, 6]\n"
     ]
    }
   ],
   "source": [
    "# Method 2\n",
    "unique_numbers = []\n",
    "for i, x in enumerate(numbers):\n",
    "    print(numbers[:i])\n",
    "    if x not in numbers[:i]:       #정렬되어 있는 데이터로 비교\n",
    "        unique_numbers.append(x)\n",
    "print(\"---\")\n",
    "print(unique_numbers)"
   ]
  },
  {
   "cell_type": "code",
   "execution_count": 111,
   "metadata": {},
   "outputs": [
    {
     "name": "stdout",
     "output_type": "stream",
     "text": [
      "[1, 2, 3, 4, 5, 6]\n"
     ]
    }
   ],
   "source": [
    "unique_numbers = [x for i, x in enumerate(numbers) if x not in numbers[:i]]\n",
    "print(unique_numbers)"
   ]
  },
  {
   "cell_type": "code",
   "execution_count": 113,
   "metadata": {},
   "outputs": [
    {
     "name": "stdout",
     "output_type": "stream",
     "text": [
      "{1, 2, 3, 4, 5, 6}\n",
      "[1, 2, 3, 4, 5, 6]\n"
     ]
    }
   ],
   "source": [
    "# Method 3\n",
    "unique_set_numbers = {x for x in numbers}\n",
    "print(unique_set_numbers)\n",
    "\n",
    "unique_numbers = [x for x in unique_set_numbers]\n",
    "print(unique_numbers)"
   ]
  },
  {
   "cell_type": "code",
   "execution_count": 114,
   "metadata": {},
   "outputs": [
    {
     "name": "stdout",
     "output_type": "stream",
     "text": [
      "[1, 2, 3, 4, 5, 6]\n"
     ]
    }
   ],
   "source": [
    "# Method 4\n",
    "unique_numbers = [x for x in {x for x in numbers}]\n",
    "print(unique_numbers)"
   ]
  },
  {
   "cell_type": "code",
   "execution_count": 115,
   "metadata": {},
   "outputs": [
    {
     "name": "stdout",
     "output_type": "stream",
     "text": [
      "[1, 2, 3, 4, 5, 6]\n"
     ]
    }
   ],
   "source": [
    "# Method 5 (제일 많이 사용함)\n",
    "unique_numbers = [x for x in set(numbers)]\n",
    "print(unique_numbers)"
   ]
  },
  {
   "cell_type": "markdown",
   "metadata": {},
   "source": [
    "---\n",
    "# generator (제너레이터) 표현식\n",
    ": 제너레이터 표현식은 리스트 컴프리핸션과 비슷한 문법을 사용하지만, \n",
    "메모리에 모든 요소를 한꺼번에 저장하지 않고 필요한 시점에 값을 하나씩 생성하는 방식이다.\n",
    "()로 감싸서 표현하며, 대규모 데이터 처리시 효율적이다."
   ]
  },
  {
   "cell_type": "code",
   "execution_count": 116,
   "metadata": {},
   "outputs": [
    {
     "name": "stdout",
     "output_type": "stream",
     "text": [
      "[0, 1, 2, 3, 4]\n"
     ]
    }
   ],
   "source": [
    "# 0~4까지의 수를 Generator로 만들어 List로 출력하기\n",
    "numbers = (x for x in range(5))\n",
    "print(list(numbers))"
   ]
  },
  {
   "cell_type": "code",
   "execution_count": 122,
   "metadata": {},
   "outputs": [
    {
     "name": "stdout",
     "output_type": "stream",
     "text": [
      "[12, 14, 16, 18]\n"
     ]
    }
   ],
   "source": [
    "# 0~19까지의 수중 짝수 이면서 10보다 큰 수만 Generator로 생성하여 List로 출력하기\n",
    "filterd_gen = (x for x in range(20) if x % 2 == 0 and x > 10)\n",
    "print(list(filterd_gen))  ## print(set(filterd_gen))  set은 순서 상관없다. // list는 순서 있음.\n"
   ]
  },
  {
   "cell_type": "markdown",
   "metadata": {},
   "source": [
    "---\n",
    "### Tuple Comprehension"
   ]
  },
  {
   "cell_type": "code",
   "execution_count": 124,
   "metadata": {},
   "outputs": [
    {
     "name": "stdout",
     "output_type": "stream",
     "text": [
      "(0, 1, 4, 9, 16)\n"
     ]
    }
   ],
   "source": [
    "squaredNumbers = (x**2 for x in range(5))\n",
    "print(tuple(squaredNumbers))"
   ]
  },
  {
   "cell_type": "markdown",
   "metadata": {},
   "source": [
    "---\n",
    "### 빈도수"
   ]
  },
  {
   "cell_type": "code",
   "execution_count": 133,
   "metadata": {},
   "outputs": [
    {
     "name": "stdout",
     "output_type": "stream",
     "text": [
      "Counter({1: 3, 2: 2, 3: 2, 4: 1, 5: 1})\n",
      "[(1, 3), (2, 2)]\n"
     ]
    }
   ],
   "source": [
    "from collections import Counter\n",
    "my_list = [1,2,3,2,1,1,4,5,3]\n",
    "Counter(my_list)\n",
    "print(Counter(my_list)) \n",
    "print(Counter(my_list).most_common(2))"
   ]
  },
  {
   "cell_type": "code",
   "execution_count": null,
   "metadata": {},
   "outputs": [],
   "source": []
  }
 ],
 "metadata": {
  "kernelspec": {
   "display_name": "Python 3",
   "language": "python",
   "name": "python3"
  },
  "language_info": {
   "codemirror_mode": {
    "name": "ipython",
    "version": 3
   },
   "file_extension": ".py",
   "mimetype": "text/x-python",
   "name": "python",
   "nbconvert_exporter": "python",
   "pygments_lexer": "ipython3",
   "version": "3.9.6"
  }
 },
 "nbformat": 4,
 "nbformat_minor": 2
}
